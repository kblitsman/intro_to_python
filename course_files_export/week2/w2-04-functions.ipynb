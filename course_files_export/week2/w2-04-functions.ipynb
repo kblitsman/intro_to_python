{
 "cells": [
  {
   "cell_type": "markdown",
   "metadata": {},
   "source": [
    "# def\n",
    "+ used to define functions\n",
    "- is an executable statement, not a declaration\n",
    "- can appear anywhere, even inside another function definition\n",
    "- 'def name...' creates a 'function object', and makes 'name' refer to it\n",
    "- objects are passed as arguments\n",
    "- variables in function body are 'local' to the function. they\n",
    "disappear when the function terminates\n",
    "- like 'if', def defines a statement block, so there must be a \n",
    "':' at the end of the def line, and all the statements in the \n",
    "function body must be indented\n"
   ]
  },
  {
   "cell_type": "code",
   "execution_count": null,
   "metadata": {},
   "outputs": [],
   "source": [
    "# both prints are indented, forming a statement block\n",
    "\n",
    "def foo(n):\n",
    "    print(n)\n",
    "    print(n*n)\n",
    "    \n",
    "\n",
    "# var 'foo' now holds a reference to the function object defined \n",
    "# by the def\n",
    "\n",
    "foo(8)\n",
    "foo"
   ]
  },
  {
   "cell_type": "code",
   "execution_count": null,
   "metadata": {},
   "outputs": [],
   "source": [
    "# make var 'foo' refer to a new function object\n",
    "\n",
    "def foo(n):\n",
    "    print(n/2)\n",
    "    print(2*n)\n",
    "\n",
    "foo(8)"
   ]
  },
  {
   "cell_type": "code",
   "execution_count": null,
   "metadata": {},
   "outputs": [],
   "source": [
    "# another way to change foo's function definition\n",
    "\n",
    "def bar(n):\n",
    "    return n*100\n",
    "\n",
    "foo = bar\n",
    "foo(15)"
   ]
  },
  {
   "cell_type": "code",
   "execution_count": null,
   "metadata": {},
   "outputs": [],
   "source": [
    "# bad indenting \n",
    "\n",
    "def foo(n):\n",
    "  print(n)\n",
    "    print(n*n)"
   ]
  },
  {
   "cell_type": "markdown",
   "metadata": {},
   "source": [
    "# Danger!\n",
    "- Python will NOT prevent you from smashing the definition of system functions\n",
    "- Don't use 'sum' as a variable - it is a system function"
   ]
  },
  {
   "cell_type": "code",
   "execution_count": null,
   "metadata": {},
   "outputs": [],
   "source": [
    "# expected behavior\n",
    "\n",
    "list(range(5))"
   ]
  },
  {
   "cell_type": "code",
   "execution_count": null,
   "metadata": {},
   "outputs": [],
   "source": [
    "# save the normal definition of 'list'\n",
    "\n",
    "save = list\n",
    "\n",
    "# change the value of 'list' to something bogus\n",
    "\n",
    "list = [1,2,3]\n",
    "\n",
    "# the error message is pretty confusing if you\n",
    "# don't know what's going on\n",
    "\n",
    "list(range(5))\n"
   ]
  },
  {
   "cell_type": "code",
   "execution_count": null,
   "metadata": {},
   "outputs": [],
   "source": [
    "# let's fix it - reinstall the correct value of 'list'\n",
    "\n",
    "# in a notebook, could also fix things by restarting Python\n",
    "# on menubar, do Kernel/Restart\n",
    "# oddly, \n",
    "# del list\n",
    "# will also fix list\n",
    "\n",
    "list = save\n",
    "\n",
    "list(range(5))"
   ]
  },
  {
   "cell_type": "markdown",
   "metadata": {},
   "source": [
    "# How can a function communicate results to the external world?\n",
    "- return a value\n",
    "- modify mutable args\n",
    "- use 'global' statement\n",
    "- do I/O(will see this later)\n",
    "    - write a file\n",
    "    - write to the network"
   ]
  },
  {
   "cell_type": "markdown",
   "metadata": {},
   "source": [
    "# return statement\n",
    "- functions return 'None' by default\n",
    "- (which doesn't get printed)\n"
   ]
  },
  {
   "cell_type": "code",
   "execution_count": null,
   "metadata": {},
   "outputs": [],
   "source": [
    "def foo():\n",
    "    x = 3 - 6\n",
    "    \n",
    "foo()\n"
   ]
  },
  {
   "cell_type": "code",
   "execution_count": null,
   "metadata": {},
   "outputs": [],
   "source": [
    "def foo():\n",
    "    print('here')\n",
    "    # exit foo, no return val, so still returns 'None'\n",
    "    return \n",
    "    print('there')\n",
    "\n",
    "foo()"
   ]
  },
  {
   "cell_type": "code",
   "execution_count": null,
   "metadata": {},
   "outputs": [],
   "source": [
    "def foo():\n",
    "    print('here')\n",
    "    # exit, return 234\n",
    "    return 234\n",
    "    print('there')\n",
    "    \n",
    "foo()"
   ]
  },
  {
   "cell_type": "code",
   "execution_count": null,
   "metadata": {},
   "outputs": [],
   "source": [
    "# falling off the end of a function with no return statement...\n",
    "\n",
    "def foo():\n",
    "    print('here')\n",
    "    \n",
    "foo()"
   ]
  },
  {
   "cell_type": "code",
   "execution_count": null,
   "metadata": {},
   "outputs": [],
   "source": [
    "# is equivalent to \n",
    "\n",
    "def foo():\n",
    "    print('here')\n",
    "    return None\n",
    "\n",
    "foo()"
   ]
  },
  {
   "cell_type": "markdown",
   "metadata": {},
   "source": [
    "# Modify mutable args\n"
   ]
  },
  {
   "cell_type": "code",
   "execution_count": null,
   "metadata": {},
   "outputs": [],
   "source": [
    "# doesn't return anything, but may modify \n",
    "# first arg\n",
    "\n",
    "def delthing(l, thing):\n",
    "    if thing in l:\n",
    "        print('found')\n",
    "        l.remove(thing)\n",
    "\n",
    "l = [34,34,'foo',435]\n",
    "\n",
    "delthing(l, 'foo4')\n",
    "\n",
    "l"
   ]
  },
  {
   "cell_type": "code",
   "execution_count": null,
   "metadata": {},
   "outputs": [],
   "source": [
    "# won't work with a tuple\n",
    "\n",
    "t = (34,34,'foo', 425)\n",
    "\n",
    "delthing(t, 'foo')"
   ]
  },
  {
   "cell_type": "code",
   "execution_count": null,
   "metadata": {},
   "outputs": [],
   "source": [
    "# danger - time bomb!!!  \n",
    "# if no match, no error\n",
    "\n",
    "delthing(t, 'zap')"
   ]
  },
  {
   "cell_type": "markdown",
   "metadata": {},
   "source": [
    "# global statement\n",
    "- lets functions set global variables\n",
    "- usually a very bad idea, but can be\n",
    "very convenient for interactive work\n",
    "- need to understand variable scopes\n",
    "\n"
   ]
  },
  {
   "cell_type": "code",
   "execution_count": null,
   "metadata": {},
   "outputs": [],
   "source": [
    "# no gvar defined anywhere\n",
    "\n",
    "def foo():\n",
    "    print(gvar)\n",
    "    \n",
    "foo()"
   ]
  },
  {
   "cell_type": "code",
   "execution_count": null,
   "metadata": {},
   "outputs": [],
   "source": [
    "def foo():\n",
    "    gvar = [3]\n",
    "    print(gvar)\n",
    "\n",
    "foo()"
   ]
  },
  {
   "cell_type": "code",
   "execution_count": null,
   "metadata": {},
   "outputs": [],
   "source": [
    "# gvar only existed during the execution of foo\n",
    "# gvar is a 'local' variable\n",
    "\n",
    "gvar"
   ]
  },
  {
   "cell_type": "code",
   "execution_count": null,
   "metadata": {},
   "outputs": [],
   "source": [
    "# now gvar inside foo refers to global gvar\n",
    "# assignment creates variables, but no assignment to gvar,\n",
    "# so foo looks for global var\n",
    "\n",
    "gvar = [15]\n",
    "\n",
    "def foo():\n",
    "    print(gvar)\n",
    "         \n",
    "foo()"
   ]
  },
  {
   "cell_type": "code",
   "execution_count": null,
   "metadata": {},
   "outputs": [],
   "source": [
    "# the gvar = 22 statement creates a \n",
    "# local var in foo\n",
    "# the global gvar is NOT changed \n",
    "\n",
    "def foo():\n",
    "    gvar = [22]\n",
    "    print(gvar)\n",
    "\n",
    "[foo(), gvar]"
   ]
  },
  {
   "cell_type": "code",
   "execution_count": null,
   "metadata": {},
   "outputs": [],
   "source": [
    "# to change the global gvar, must\n",
    "# use the 'global' statement\n",
    "\n",
    "def foo():\n",
    "    global gvar\n",
    "    gvar = [44]\n",
    "\n",
    "[foo(), gvar]"
   ]
  },
  {
   "cell_type": "code",
   "execution_count": null,
   "metadata": {},
   "outputs": [],
   "source": [
    "# what is going on here? i just\n",
    "# said you have to use 'global' statement\n",
    "# to change global vars\n",
    "\n",
    "def foo():\n",
    "    gvar[0] = 4545\n",
    "    \n",
    "[foo(), gvar]"
   ]
  },
  {
   "cell_type": "code",
   "execution_count": null,
   "metadata": {},
   "outputs": [],
   "source": [
    "# huh???\n",
    "\n",
    "def foo():\n",
    "    print(zap)\n",
    "    zap = 1\n",
    "    \n",
    "foo()"
   ]
  },
  {
   "cell_type": "markdown",
   "metadata": {},
   "source": [
    "# args are not typed"
   ]
  },
  {
   "cell_type": "code",
   "execution_count": null,
   "metadata": {
    "collapsed": true
   },
   "outputs": [],
   "source": [
    "# since arg variables are not typed, \n",
    "# foo can take any type of args that work with '*'\n",
    "\n",
    "def foo(a,b):\n",
    "    return (a*b)\n"
   ]
  },
  {
   "cell_type": "code",
   "execution_count": null,
   "metadata": {},
   "outputs": [],
   "source": [
    "foo(2,5)"
   ]
  },
  {
   "cell_type": "code",
   "execution_count": null,
   "metadata": {},
   "outputs": [],
   "source": [
    "foo('bar', 4)"
   ]
  },
  {
   "cell_type": "code",
   "execution_count": null,
   "metadata": {},
   "outputs": [],
   "source": [
    "foo(3+5j, 10)"
   ]
  },
  {
   "cell_type": "markdown",
   "metadata": {},
   "source": [
    "# Example - palindromes\n",
    "- unchanged under reverse\n",
    "    "
   ]
  },
  {
   "cell_type": "code",
   "execution_count": null,
   "metadata": {},
   "outputs": [],
   "source": [
    "pals = ['radar', 'level', 'larry', 'step on no pets']\n",
    "\n",
    "def pal(s):\n",
    "    l = len(s)\n",
    "    # len of half, ignoring middle if odd\n",
    "    lh = l//2\n",
    "    for j in range(0, lh):\n",
    "        if s[j] != s[l-j-1]:\n",
    "            return False\n",
    "    return True\n",
    "\n",
    "for p in pals:\n",
    "    print(p, pal(p))\n"
   ]
  },
  {
   "cell_type": "markdown",
   "metadata": {},
   "source": [
    "# Python supports recursive functions"
   ]
  },
  {
   "cell_type": "code",
   "execution_count": null,
   "metadata": {},
   "outputs": [],
   "source": [
    "def fact(n):\n",
    "    if n == 0:\n",
    "        return(1)\n",
    "    else:\n",
    "        return(n * fact(n-1))\n",
    "\n",
    "fact(5)"
   ]
  },
  {
   "cell_type": "markdown",
   "metadata": {},
   "source": [
    "# Supply a docstring(and comments) to increase readibility\n",
    "- a docstring is a comment placed as the first statement in the function definition\n",
    "- can use triple quotes(''') for multiline docstrings\n",
    "- many tools(like spyder) will display the docstring automatically\n",
    "- in Jupyter notebooks, type function name, then hit shift-tab \n",
    "- docstring is available as a function attribute"
   ]
  },
  {
   "cell_type": "code",
   "execution_count": null,
   "metadata": {},
   "outputs": [],
   "source": [
    "\n",
    "# a comment as the first line of the function\n",
    "# in triple quotes can be accessed by interactive documentation tools\n",
    "\n",
    "def fact(n):\n",
    "    \"This function recursively computes factorial\"\n",
    "    # termination case\n",
    "    if n == 0:\n",
    "        return(1)\n",
    "    else:\n",
    "        # solve a simpler problem\n",
    "        return(n * fact(n-1))\n",
    "\n",
    "[fact(5), fact.__doc__]"
   ]
  },
  {
   "cell_type": "code",
   "execution_count": null,
   "metadata": {},
   "outputs": [],
   "source": [
    "fact(4)"
   ]
  },
  {
   "cell_type": "code",
   "execution_count": null,
   "metadata": {},
   "outputs": [],
   "source": [
    "# recursive version of pal\n",
    "# checks first and last chars, then works on the middle\n",
    "\n",
    "def palr(s):\n",
    "    # empty\n",
    "    if len(s) == 0:\n",
    "        return True\n",
    "    # middle when odd\n",
    "    if len(s) == 1:\n",
    "        return True\n",
    "    if s[0] == s[-1]:\n",
    "        # first and last chars are the same\n",
    "        # \n",
    "        return palr(s[1:-1])\n",
    "    else:\n",
    "        return False\n",
    "\n",
    "for p in pals:\n",
    "    print(p, palr(p))"
   ]
  },
  {
   "cell_type": "code",
   "execution_count": null,
   "metadata": {
    "collapsed": true
   },
   "outputs": [],
   "source": [
    "# easier way to do pal\n",
    "# just reverse and compare\n",
    "\n",
    "def paleasy(s):\n",
    "    return s == s[::-1]"
   ]
  },
  {
   "cell_type": "code",
   "execution_count": null,
   "metadata": {},
   "outputs": [],
   "source": [
    "# pal function also works on lists\n",
    "\n",
    "pal([1,2,5,2,1])"
   ]
  },
  {
   "cell_type": "code",
   "execution_count": null,
   "metadata": {},
   "outputs": [],
   "source": [
    "# and tuples\n",
    "\n",
    "pal((1,2,5,2,1))"
   ]
  },
  {
   "cell_type": "markdown",
   "metadata": {},
   "source": [
    "# Functions are objects\n",
    "- like everything else in python, functions are just objects\n",
    "- they have the special property that a function can be 'applied to arguments'\n",
    "- functions can be\n",
    "    - assigned to variables\n",
    "    - passed to functions as arguments\n",
    "    - returned from functions as values\n",
    "    - held in collections"
   ]
  },
  {
   "cell_type": "code",
   "execution_count": null,
   "metadata": {},
   "outputs": [],
   "source": [
    "# foo refers to same function object as fact\n",
    "\n",
    "foo = fact\n",
    "print(foo)\n",
    "print(fact)\n",
    "foo(50)"
   ]
  },
  {
   "cell_type": "code",
   "execution_count": null,
   "metadata": {},
   "outputs": [],
   "source": [
    "# takes a function as 2nd arg\n",
    "\n",
    "def outer2(n, inner):\n",
    "    return(inner(n), inner(n-1))\n",
    "\n",
    "outer2(4, fact)"
   ]
  },
  {
   "cell_type": "code",
   "execution_count": null,
   "metadata": {},
   "outputs": [],
   "source": [
    "# stick some functions in a list and run each of them\n",
    "\n",
    "def f1(n):\n",
    "    return n + 1\n",
    "\n",
    "def f2(n):\n",
    "    return n + 2\n",
    "\n",
    "def f3(n):\n",
    "    return n + 3\n",
    "\n",
    "flist = [f1,f2,f3]\n",
    "flist"
   ]
  },
  {
   "cell_type": "code",
   "execution_count": null,
   "metadata": {},
   "outputs": [],
   "source": [
    "# run the list of functions\n",
    "\n",
    "[f(10) for f in flist]"
   ]
  },
  {
   "cell_type": "markdown",
   "metadata": {},
   "source": [
    "# Can nest function definitions"
   ]
  },
  {
   "cell_type": "code",
   "execution_count": null,
   "metadata": {},
   "outputs": [],
   "source": [
    "def outer(n):\n",
    "    # nested def\n",
    "    def inner(z):\n",
    "        return(z+1)\n",
    "    # return two values and the inner function\n",
    "    return([inner(n), inner(n-1), inner])\n",
    "\n",
    "[val1, val2, inner] = outer(4)\n",
    "\n",
    "[val1, val2, inner(4)]"
   ]
  }
 ],
 "metadata": {
  "anaconda-cloud": {},
  "kernelspec": {
   "display_name": "Python 3",
   "language": "python",
   "name": "python3"
  },
  "language_info": {
   "codemirror_mode": {
    "name": "ipython",
    "version": 3
   },
   "file_extension": ".py",
   "mimetype": "text/x-python",
   "name": "python",
   "nbconvert_exporter": "python",
   "pygments_lexer": "ipython3",
   "version": "3.6.3"
  }
 },
 "nbformat": 4,
 "nbformat_minor": 1
}
