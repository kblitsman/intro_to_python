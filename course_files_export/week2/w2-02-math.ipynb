{
 "cells": [
  {
   "cell_type": "markdown",
   "metadata": {},
   "source": [
    "# Math in Python"
   ]
  },
  {
   "cell_type": "markdown",
   "metadata": {},
   "source": [
    "# math module\n",
    "- standard math functions like sin, exp, etc.\n",
    "- constants\n",
    "    - math.e\n",
    "    - math.pi\n"
   ]
  },
  {
   "cell_type": "code",
   "execution_count": null,
   "metadata": {},
   "outputs": [],
   "source": [
    "import math\n",
    "dir(math)"
   ]
  },
  {
   "cell_type": "code",
   "execution_count": null,
   "metadata": {},
   "outputs": [],
   "source": [
    "# sin, cos, etc take radians\n",
    "\n",
    "[math.radians(90), math.sin(math.radians(90)), math.sin(math.pi), math.exp(1.0)]"
   ]
  },
  {
   "cell_type": "code",
   "execution_count": null,
   "metadata": {},
   "outputs": [],
   "source": [
    "[math.sqrt(2), math.pow(2,3), math.modf(3.2), math.e, math.pi]"
   ]
  },
  {
   "cell_type": "markdown",
   "metadata": {},
   "source": [
    "# [Sympy](http://www.sympy.org/en/index.html)\n",
    "- symbolic math package\n",
    "- module that can be loaded into any Python and coexist with other code"
   ]
  },
  {
   "cell_type": "code",
   "execution_count": null,
   "metadata": {
    "collapsed": true
   },
   "outputs": [],
   "source": [
    "from sympy import *"
   ]
  },
  {
   "cell_type": "code",
   "execution_count": null,
   "metadata": {},
   "outputs": [],
   "source": [
    "# make a symbolic variable\n",
    "\n",
    "x = symbols('x')"
   ]
  },
  {
   "cell_type": "code",
   "execution_count": null,
   "metadata": {},
   "outputs": [],
   "source": [
    "# multiply polynomials\n",
    "\n",
    "expand ((5*x+3)*(1-x)*(1+6*x))"
   ]
  },
  {
   "cell_type": "code",
   "execution_count": null,
   "metadata": {},
   "outputs": [],
   "source": [
    "# find the roots of a cubic polynomial\n",
    "\n",
    "solve(-30*x**3 + 7*x**2 + 20*x + 3, x)"
   ]
  },
  {
   "cell_type": "code",
   "execution_count": null,
   "metadata": {},
   "outputs": [],
   "source": [
    "# do a complex integral\n",
    "\n",
    "integrate(1/(1+x**3),x)"
   ]
  },
  {
   "cell_type": "code",
   "execution_count": null,
   "metadata": {},
   "outputs": [],
   "source": [
    "# will solve this below\n",
    "\n",
    "expand ((x-2)*(x-3))"
   ]
  },
  {
   "cell_type": "markdown",
   "metadata": {},
   "source": [
    "# Example\n",
    "- solve quadratic equation a*x**2 + b*x + c = 0"
   ]
  },
  {
   "cell_type": "code",
   "execution_count": null,
   "metadata": {},
   "outputs": [],
   "source": [
    "def quad(a,b,c):\n",
    "    disc = math.sqrt(b*b - 4*a*c)   \n",
    "    return [(-b+disc)/(2*a),\n",
    "            (-b-disc)/(2*a)]\n",
    "\n",
    "# find the roots of poly expanded above\n",
    "\n",
    "quad(1,-5,6)"
   ]
  },
  {
   "cell_type": "code",
   "execution_count": null,
   "metadata": {},
   "outputs": [],
   "source": [
    "# this equation bombs - x**2 + 1 = 0\n",
    "# the roots are +J, -J\n",
    "# but math.sqrt doesn't work with a negative argument\n",
    "\n",
    "quad(1,0,1)"
   ]
  },
  {
   "cell_type": "markdown",
   "metadata": {},
   "source": [
    "# Complex math module\n",
    "- similar to math module, but knows about complex numbers"
   ]
  },
  {
   "cell_type": "code",
   "execution_count": null,
   "metadata": {},
   "outputs": [],
   "source": [
    "import cmath\n",
    "\n",
    "# 'j' stands for square root of -1\n",
    "\n",
    "cmath.sqrt(-1)"
   ]
  },
  {
   "cell_type": "code",
   "execution_count": null,
   "metadata": {},
   "outputs": [],
   "source": [
    "# now can handle imaginary roots\n",
    "\n",
    "def quadc(a,b,c):\n",
    "    disc = cmath.sqrt(b*b - 4*a*c)   \n",
    "    return [(-b+disc)/(2*a),\n",
    "            (-b-disc)/(2*a)]\n",
    "\n",
    "quadc(1, 0, 1)"
   ]
  },
  {
   "cell_type": "markdown",
   "metadata": {},
   "source": [
    "### Euler's famous equation \n",
    "    - the five most important numbers in mathematics in the same equation\n",
    "\n",
    "# $$e^{j*\\pi} + 1 = 0$$\n"
   ]
  },
  {
   "cell_type": "code",
   "execution_count": null,
   "metadata": {},
   "outputs": [],
   "source": [
    "cmath.exp(1j * cmath.pi) + 1"
   ]
  },
  {
   "cell_type": "code",
   "execution_count": null,
   "metadata": {},
   "outputs": [],
   "source": [
    "dir(cmath)"
   ]
  },
  {
   "cell_type": "markdown",
   "metadata": {},
   "source": [
    "# [mpmath](https://code.google.com/p/mpmath/) module\n",
    "- Python has arbitrary precision integer arithmetic built in\n",
    "- mpmath does arbitrary precision floating point\n"
   ]
  },
  {
   "cell_type": "code",
   "execution_count": null,
   "metadata": {
    "collapsed": true
   },
   "outputs": [],
   "source": [
    "import mpmath"
   ]
  },
  {
   "cell_type": "code",
   "execution_count": null,
   "metadata": {},
   "outputs": [],
   "source": [
    "for decs in range(2, 100, 20):\n",
    "    # dps is number of decimals\n",
    "    mpmath.mp.dps = decs\n",
    "    mps = str(mpmath.mpf(1.)/mpmath.mpf(19))\n",
    "    print(mps)"
   ]
  },
  {
   "cell_type": "markdown",
   "metadata": {},
   "source": [
    "# [random](https://docs.python.org/3/library/random.html)\n",
    "    - various flavors of randomness"
   ]
  },
  {
   "cell_type": "code",
   "execution_count": null,
   "metadata": {
    "collapsed": true
   },
   "outputs": [],
   "source": [
    "import random"
   ]
  },
  {
   "cell_type": "code",
   "execution_count": null,
   "metadata": {},
   "outputs": [],
   "source": [
    "[random.randint(4, 9) for j in range(25)]"
   ]
  },
  {
   "cell_type": "code",
   "execution_count": null,
   "metadata": {},
   "outputs": [],
   "source": [
    "[random.choice(['sci', 'eng', 'art', 'lit']) for j in range(20)]"
   ]
  },
  {
   "cell_type": "code",
   "execution_count": null,
   "metadata": {},
   "outputs": [],
   "source": [
    "[random.uniform(10,20) for j in range(20)]"
   ]
  },
  {
   "cell_type": "code",
   "execution_count": null,
   "metadata": {},
   "outputs": [],
   "source": [
    "[random.gauss(0, 1) for j in range(20)]"
   ]
  },
  {
   "cell_type": "code",
   "execution_count": null,
   "metadata": {},
   "outputs": [],
   "source": [
    "random.sample(range(20), 10) "
   ]
  },
  {
   "cell_type": "markdown",
   "metadata": {},
   "source": [
    "# [Sage](http://sagemath.org)\n",
    "- large application\n",
    "- integrates some [90 math packages](http://sagemath.org/links-components.html)\n",
    "- goal is to be an open source Mathematica\n",
    "- has a web notebook interface similar to Jupyter notebooks"
   ]
  },
  {
   "cell_type": "markdown",
   "metadata": {},
   "source": [
    "# SciPy\n",
    "- extensive collection of math, special functions, linear algebra, statistics,\n",
    "signal processing, numerical analysis\n",
    "\n",
    "- [SciPy doc](http://docs.scipy.org/doc/scipy-0.17.0/reference/)\n",
    "- [SciKits doc](http://scikits.appspot.com/scikits)"
   ]
  },
  {
   "cell_type": "markdown",
   "metadata": {},
   "source": [
    "# Machine Learning\n",
    "- [Scikit-Learn](http://scikit-learn.org/stable/)\n",
    "    - excellent Machine Learning package\n",
    "- [TensorFlow](https://www.tensorflow.org/get_started/)\n",
    "    - has a Python API\n",
    "    - very popular"
   ]
  }
 ],
 "metadata": {
  "anaconda-cloud": {},
  "kernelspec": {
   "display_name": "Python 3",
   "language": "python",
   "name": "python3"
  },
  "language_info": {
   "codemirror_mode": {
    "name": "ipython",
    "version": 3
   },
   "file_extension": ".py",
   "mimetype": "text/x-python",
   "name": "python",
   "nbconvert_exporter": "python",
   "pygments_lexer": "ipython3",
   "version": "3.6.3"
  }
 },
 "nbformat": 4,
 "nbformat_minor": 1
}
