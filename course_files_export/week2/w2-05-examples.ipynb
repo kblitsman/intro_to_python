{
 "cells": [
  {
   "cell_type": "markdown",
   "metadata": {},
   "source": [
    "\n",
    "# Examples"
   ]
  },
  {
   "cell_type": "code",
   "execution_count": null,
   "metadata": {
    "collapsed": true
   },
   "outputs": [],
   "source": [
    "# setup\n",
    "\n",
    "import math\n",
    "import random\n",
    "import matplotlib.pyplot as plt\n",
    "\n",
    "# make plots render in the notebook, \n",
    "# instead of in an external window,\n",
    "# which tends to be annoying\n",
    "%matplotlib inline\n"
   ]
  },
  {
   "cell_type": "code",
   "execution_count": null,
   "metadata": {},
   "outputs": [],
   "source": [
    "# want to swap the case of s[n]\n",
    "# this won't work - can't modify a string\n",
    "\n",
    "def swapone(s, n):\n",
    "    c = s[n]\n",
    "    # get the char, swap it\n",
    "    c = c.swapcase()\n",
    "    # and put back in the string\n",
    "    s[n] = c\n",
    "    return s\n",
    "\n",
    "swapone('abcd', 2)"
   ]
  },
  {
   "cell_type": "code",
   "execution_count": null,
   "metadata": {},
   "outputs": [],
   "source": [
    "# take 2\n",
    "\n",
    "def swapone2(s, n):\n",
    "    # take the string apart\n",
    "    left = s[:n]\n",
    "    right = s[n+1:]\n",
    "    swap = s[n].swapcase()\n",
    "    # and put it back together\n",
    "    return left + swap + right\n",
    "    \n",
    "swapone2('abcd', 2)"
   ]
  },
  {
   "cell_type": "code",
   "execution_count": null,
   "metadata": {},
   "outputs": [],
   "source": [
    "list('asdf')"
   ]
  },
  {
   "cell_type": "code",
   "execution_count": null,
   "metadata": {},
   "outputs": [],
   "source": [
    "# take 3\n",
    "\n",
    "def swapone3(s, n):\n",
    "    # convert to a list!!\n",
    "    sl = list(s)\n",
    "    # list can be updated\n",
    "    sl[n] = sl[n].swapcase()\n",
    "    # convert back to string\n",
    "    print(sl)\n",
    "    return ''.join(sl)\n",
    "\n",
    "swapone3('abcd', 2)"
   ]
  },
  {
   "cell_type": "markdown",
   "metadata": {},
   "source": [
    "# Structure sharing"
   ]
  },
  {
   "cell_type": "code",
   "execution_count": null,
   "metadata": {},
   "outputs": [],
   "source": [
    "# lists are zero origin\n",
    "\n",
    "x = [[1,2],[3,4],[5,6]]\n",
    "x"
   ]
  },
  {
   "cell_type": "code",
   "execution_count": null,
   "metadata": {},
   "outputs": [],
   "source": [
    "# 2nd element of outer list, then 1st element of [3,4]\n",
    "\n",
    "x[1][0]"
   ]
  },
  {
   "cell_type": "code",
   "execution_count": null,
   "metadata": {},
   "outputs": [],
   "source": [
    "x[1][0] = 55\n",
    "x"
   ]
  },
  {
   "cell_type": "code",
   "execution_count": null,
   "metadata": {},
   "outputs": [],
   "source": [
    "y = 5*[[1,2]]\n",
    "y"
   ]
  },
  {
   "cell_type": "code",
   "execution_count": null,
   "metadata": {},
   "outputs": [],
   "source": [
    "# why so many 55's? \n",
    "# because 5*[[1,2]] made a len 5 list, then\n",
    "# filled it with references to the same [1,2] list. \n",
    "# only one [1,2] was constructed, not 5\n",
    "\n",
    "y[1][0] = 55\n",
    "y"
   ]
  },
  {
   "cell_type": "code",
   "execution_count": null,
   "metadata": {},
   "outputs": [],
   "source": [
    "y[0] is y[1] is y[2]"
   ]
  },
  {
   "cell_type": "code",
   "execution_count": null,
   "metadata": {},
   "outputs": [],
   "source": [
    "# this will make 5 separate [1,2] lists\n",
    "\n",
    "z = [[1,2] for j in range(5)]\n",
    "z"
   ]
  },
  {
   "cell_type": "code",
   "execution_count": null,
   "metadata": {},
   "outputs": [],
   "source": [
    "z[0] is z[1]"
   ]
  },
  {
   "cell_type": "code",
   "execution_count": null,
   "metadata": {},
   "outputs": [],
   "source": [
    "# the other four [1,5] lists are not affected \n",
    "\n",
    "z[1][0] = 55\n",
    "z"
   ]
  },
  {
   "cell_type": "code",
   "execution_count": null,
   "metadata": {},
   "outputs": [],
   "source": [
    "# this was a typo i made\n",
    "# what is it doing?\n",
    "\n",
    "z = [[1,2] for j in range(5)]\n",
    "z[[1][0]] = 55\n",
    "z"
   ]
  },
  {
   "cell_type": "markdown",
   "metadata": {},
   "source": [
    "# define rcount\n",
    "- recursively count elements in a nested list\n",
    "- a very common pattern for recursing thru a nested list is to split the list into the first element, and the rest of the list, then recurse on each piece\n"
   ]
  },
  {
   "cell_type": "code",
   "execution_count": null,
   "metadata": {
    "collapsed": true
   },
   "outputs": [],
   "source": [
    "def rcount(x):\n",
    "    if isinstance(x, list):\n",
    "        # x is a list, get the length\n",
    "        xlen = len(x)\n",
    "        if xlen == 1:\n",
    "            return(rcount(x[0]))\n",
    "        else:\n",
    "            # use an array access and a slice\n",
    "            # to subdivide list\n",
    "            return rcount(x[0]) + rcount(x[1:])\n",
    "\n",
    "    # x is not a list, so just counts as 1\n",
    "    return(1)\n"
   ]
  },
  {
   "cell_type": "code",
   "execution_count": null,
   "metadata": {},
   "outputs": [],
   "source": [
    "rcount([1,2,[3,4,[5,6,7],8],9])"
   ]
  },
  {
   "cell_type": "markdown",
   "metadata": {},
   "source": [
    "# Histogram of Guassian samples"
   ]
  },
  {
   "cell_type": "code",
   "execution_count": null,
   "metadata": {},
   "outputs": [],
   "source": [
    "# mean = 0, stddev = 1\n",
    "\n",
    "[random.gauss(0,1) for j in range(10)]"
   ]
  },
  {
   "cell_type": "code",
   "execution_count": null,
   "metadata": {},
   "outputs": [],
   "source": [
    "# get 100,000 samples, and filter out data \n",
    "# greater than 3 SD\n",
    "# can write large integers with an '_' every \n",
    "# three digits for readability\n",
    "\n",
    "gd = [d for d in [random.gauss(0,1) for j in range(100_000)] if abs(d)<3]\n",
    "len(gd)"
   ]
  },
  {
   "cell_type": "code",
   "execution_count": null,
   "metadata": {},
   "outputs": [],
   "source": [
    "# int seems like an easy way to compute bin numbers\n",
    "# truncates the fraction\n",
    "\n",
    "[int(3.4), int(-3.2)]"
   ]
  },
  {
   "cell_type": "code",
   "execution_count": null,
   "metadata": {},
   "outputs": [],
   "source": [
    "# list of bins each data point fell into\n",
    "\n",
    "\n",
    "bins = [int((d /.2)) for d in gd]\n",
    "list(zip(bins, gd))[:20]"
   ]
  },
  {
   "cell_type": "code",
   "execution_count": null,
   "metadata": {},
   "outputs": [],
   "source": [
    "# sort the bin numbers. \n",
    "# range from -10 to 9 \n",
    "\n",
    "bins.sort()\n",
    "[bins[0],bins[-1], len(bins)]"
   ]
  },
  {
   "cell_type": "code",
   "execution_count": null,
   "metadata": {},
   "outputs": [],
   "source": [
    "# offset bins so smallest bin number = 0\n",
    "\n",
    "bins2 = [b - bins[0] for b in bins]\n",
    "[bins2[0], bins2[-1]]"
   ]
  },
  {
   "cell_type": "code",
   "execution_count": null,
   "metadata": {},
   "outputs": [],
   "source": [
    "# make a list of zeros that we can increment\n",
    "# to record the number of points in each bucket\n",
    "\n",
    "cnts = [0] * (bins2[-1]+1)\n",
    "cnts[:5]"
   ]
  },
  {
   "cell_type": "code",
   "execution_count": null,
   "metadata": {},
   "outputs": [],
   "source": [
    "for b in bins2:\n",
    "    cnts[b] += 1\n",
    "cnts"
   ]
  },
  {
   "cell_type": "code",
   "execution_count": null,
   "metadata": {},
   "outputs": [],
   "source": [
    "# hmmm...\n",
    "\n",
    "# 1st arg is the xcoords of the bars \n",
    "plt.bar(range(len(cnts)), cnts, 1)"
   ]
  },
  {
   "cell_type": "code",
   "execution_count": null,
   "metadata": {},
   "outputs": [],
   "source": [
    "# let's try to figure out what is wrong by doing some plots\n",
    "\n",
    "# to plot a function, we need to generate a list of x values...\n",
    "# but, range doesn't work with floats!\n",
    "\n",
    "range(0,1,.1)"
   ]
  },
  {
   "cell_type": "code",
   "execution_count": null,
   "metadata": {},
   "outputs": [],
   "source": [
    "# make a float version of range\n",
    "\n",
    "def frange(start, end, n):\n",
    "    inc = (end - start)/float(n)\n",
    "    return [start+j*inc for j in range(n)]\n",
    "\n",
    "frange(0,1,10)"
   ]
  },
  {
   "cell_type": "code",
   "execution_count": null,
   "metadata": {
    "collapsed": true
   },
   "outputs": [],
   "source": [
    "def plotf(func, low, high):\n",
    "    # arg is function to plot\n",
    "    # make a set of x vals\n",
    "    x = frange(low, high, 50)\n",
    "    # eval the func on the x vals\n",
    "    y = [func(xv) for xv in x]\n",
    "    plt.plot(x, y, 'r', linewidth=10)\n",
    "    plt.grid(True)"
   ]
  },
  {
   "cell_type": "code",
   "execution_count": null,
   "metadata": {},
   "outputs": [],
   "source": [
    "# test\n",
    "\n",
    "plotf(math.sin, 0, math.pi*2)"
   ]
  },
  {
   "cell_type": "code",
   "execution_count": null,
   "metadata": {},
   "outputs": [],
   "source": [
    "# plot int\n",
    "\n",
    "plotf(int,-3,3)"
   ]
  },
  {
   "cell_type": "code",
   "execution_count": null,
   "metadata": {},
   "outputs": [],
   "source": [
    "# math.floor \n",
    "\n",
    "plotf(math.floor,-3,3)"
   ]
  },
  {
   "cell_type": "markdown",
   "metadata": {},
   "source": [
    "# 7 segment display\n",
    "- cheap displays\n",
    "    - clock radios\n",
    "    - elevators\n",
    "- [wiki article](https://en.wikipedia.org/wiki/Seven-segment_display)\n"
   ]
  },
  {
   "cell_type": "code",
   "execution_count": null,
   "metadata": {},
   "outputs": [],
   "source": [
    "from IPython.display import Image\n",
    "\n",
    "Image('https://upload.wikimedia.org/wikipedia/commons/thumb/0/02/7_segment_display_labeled.svg/300px-7_segment_display_labeled.svg.png')"
   ]
  },
  {
   "cell_type": "code",
   "execution_count": null,
   "metadata": {
    "collapsed": true
   },
   "outputs": [],
   "source": [
    "# a '1' means turn on the corresponding segment\n",
    "# each tuple is (a,b,c,d,e,f,g)\n",
    "\n",
    "segs = {' ':(0,0,0,0,0,0,0),\n",
    "    '0':(1,1,1,1,1,1,0),\n",
    "    '1':(0,1,1,0,0,0,0),\n",
    "    '2':(1,1,0,1,1,0,1),\n",
    "    '3':(1,1,1,1,0,0,1),\n",
    "    '4':(0,1,1,0,0,1,1),\n",
    "    '5':(1,0,1,1,0,1,1),\n",
    "    '6':(1,0,1,1,1,1,1),\n",
    "    '7':(1,1,1,0,0,0,0),\n",
    "    '8':(1,1,1,1,1,1,1),\n",
    "    '9':(1,1,1,1,0,1,1)}"
   ]
  },
  {
   "cell_type": "code",
   "execution_count": null,
   "metadata": {
    "collapsed": true
   },
   "outputs": [],
   "source": [
    "# each segment is 1 long\n",
    "# origin is at lower left\n",
    "\n",
    "def seven(digit):\n",
    "    # n or 'n' as arg\n",
    "    a,b,c,d,e,f,g = segs[str(digit)]\n",
    "    if a:\n",
    "    # define line with two points\n",
    "        pts = [[0,2], [1,2]]\n",
    "        draw(pts)\n",
    "    if b:\n",
    "        pts = [[1,1], [1,2]]\n",
    "        draw(pts)\n",
    "    if c:\n",
    "        pts = [[1,0], [1,1]]\n",
    "        draw(pts)\n",
    "    if d:\n",
    "        pts = [[0,0], [1,0]]\n",
    "        draw(pts)\n",
    "    if e:\n",
    "        pts = [[0,0],[0,1]]\n",
    "        draw(pts)\n",
    "    if f:\n",
    "        pts = [[0,1],[0,2]]\n",
    "        draw(pts)\n",
    "    if g:\n",
    "        pts = [[0,1],[1,1]]\n",
    "        draw(pts)\n",
    "\n",
    "    # trick to fix aspect ratio\n",
    "    plt.plot([1,1], [0,1])\n",
    "    \n",
    "def draw(pts):\n",
    "    pt1,pt2 = pts\n",
    "    x = [pt1[0]*.5, pt2[0]*.5]\n",
    "    y = [pt1[1], pt2[1]]\n",
    "    plt.plot(x, y, linewidth=40, color='r')"
   ]
  },
  {
   "cell_type": "code",
   "execution_count": null,
   "metadata": {},
   "outputs": [],
   "source": [
    "seven(3)"
   ]
  },
  {
   "cell_type": "code",
   "execution_count": null,
   "metadata": {},
   "outputs": [],
   "source": [
    "# i don't like the above representation, find it very hard to read\n",
    "# so, i will convert to something i find more user friendly\n",
    "# now i can easily see which segments to turn on\n",
    "\n",
    "import string\n",
    "   \n",
    "# new dict\n",
    "alpha = {}\n",
    "\n",
    "for key in segs.keys():\n",
    "    val = segs[key]\n",
    "    seglist = [a for a,n in zip(string.ascii_lowercase, val) if n]\n",
    "    alpha[key] = seglist\n",
    "        \n",
    "# alpha is ragged\n",
    "alpha"
   ]
  },
  {
   "cell_type": "code",
   "execution_count": null,
   "metadata": {},
   "outputs": [],
   "source": [
    "segs"
   ]
  },
  {
   "cell_type": "code",
   "execution_count": null,
   "metadata": {},
   "outputs": [],
   "source": [
    "from IPython.display import Image\n",
    "\n",
    "Image('https://upload.wikimedia.org/wikipedia/commons/thumb/0/02/7_segment_display_labeled.svg/300px-7_segment_display_labeled.svg.png')"
   ]
  },
  {
   "cell_type": "code",
   "execution_count": null,
   "metadata": {
    "collapsed": true
   },
   "outputs": [],
   "source": [
    "# each segment is 1 long\n",
    "# origin is at lower left\n",
    "# a bad thing about the first version\n",
    "# and this one is alot of data is \n",
    "# encoded into the function. \n",
    "\n",
    "def seven2(digit):\n",
    "    digit = str(digit)\n",
    "    for seg in alpha[digit]:\n",
    "        # optimize if's?\n",
    "        if seg == 'a':\n",
    "            # define line with two points\n",
    "            pts = [[0,2], [1,2]]\n",
    "        if seg == 'b':\n",
    "            pts = [[1,1], [1,2]]\n",
    "        if seg == 'c':\n",
    "            pts = [[1,0], [1,1]]\n",
    "        if seg == 'd':\n",
    "            pts = [[0,0], [1,0]]\n",
    "        if seg == 'e':\n",
    "            pts = [[0,0],[0,1]]\n",
    "        if seg == 'f':\n",
    "            pts = [[0,1],[0,2]]\n",
    "        if seg == 'g':\n",
    "            pts = [[0,1],[1,1]]\n",
    "        pt1,pt2 = pts\n",
    "        x = [pt1[0]*.5, pt2[0]*.5]\n",
    "        y = [pt1[1], pt2[1]]\n",
    "        plt.plot(x, y, linewidth=40, color='r')\n",
    "    # trick to fix aspect ratio\n",
    "    plt.plot([1,1], [0,1])"
   ]
  },
  {
   "cell_type": "code",
   "execution_count": null,
   "metadata": {},
   "outputs": [],
   "source": [
    "seven2(3)"
   ]
  },
  {
   "cell_type": "code",
   "execution_count": null,
   "metadata": {
    "collapsed": true
   },
   "outputs": [],
   "source": [
    "# much better to put data in a data structure\n",
    "\n",
    "# each segment is 1 long\n",
    "# origin is at lower left\n",
    "\n",
    "ptsd = dict()\n",
    "ptsd['a'] = [[0,2], [1,2]]\n",
    "ptsd['b'] = [[1,1], [1,2]]\n",
    "ptsd['c'] = [[1,0], [1,1]]\n",
    "ptsd['d'] = [[0,0], [1,0]]\n",
    "ptsd['e'] = [[0,0],[0,1]]\n",
    "ptsd['f'] = [[0,1],[0,2]]\n",
    "ptsd['g'] = [[0,1],[1,1]]\n",
    "\n",
    "# now a simple function, with almost no data in it\n",
    "\n",
    "def seven3(digit):\n",
    "    digit = str(digit)\n",
    "    for seg in alpha[digit]:\n",
    "        pts = ptsd[seg]\n",
    "        pt1,pt2 = pts\n",
    "        x = [pt1[0]*.5, pt2[0]*.5]\n",
    "        y = [pt1[1], pt2[1]]\n",
    "        plt.plot(x, y, linewidth=40, color='r')\n",
    "    # trick to fix aspect ratio\n",
    "    plt.plot([1,1], [0,1])"
   ]
  },
  {
   "cell_type": "code",
   "execution_count": null,
   "metadata": {},
   "outputs": [],
   "source": [
    "seven3(2)"
   ]
  },
  {
   "cell_type": "code",
   "execution_count": null,
   "metadata": {},
   "outputs": [],
   "source": [
    "seven3(3)"
   ]
  },
  {
   "cell_type": "code",
   "execution_count": null,
   "metadata": {},
   "outputs": [],
   "source": [
    "seven3(5)"
   ]
  },
  {
   "cell_type": "markdown",
   "metadata": {},
   "source": [
    "# Example: Change of a dollar\n",
    "- saving state in globals is usually a very bad idea\n",
    "- but ok for small/informal programs,\n",
    "- later we will see how to make a class"
   ]
  },
  {
   "cell_type": "code",
   "execution_count": 11,
   "metadata": {},
   "outputs": [
    {
     "data": {
      "text/plain": [
       "2"
      ]
     },
     "execution_count": 11,
     "metadata": {},
     "output_type": "execute_result"
    }
   ],
   "source": [
    "# // is integer division\n",
    "\n",
    "5//2"
   ]
  },
  {
   "cell_type": "code",
   "execution_count": 10,
   "metadata": {
    "collapsed": true
   },
   "outputs": [],
   "source": [
    "\n",
    "# note coins is a tuple, since the value of each \n",
    "# coin type never changes\n",
    "# declare coinInventory as a global, so we \n",
    "# can update the global value\n",
    "\n",
    "coins = (25, 10, 5, 1)\n",
    "coinInventory = [2, 3, 10, 7]\n",
    "\n",
    "def change(price):\n",
    "    global coinInventory\n",
    "    owe = 100 - price\n",
    "    ans = [0]*len(coins)\n",
    "    for j in range(len(coins)):\n",
    "        cval = coins[j]\n",
    "        cinv = coinInventory[j]\n",
    "        cnt = owe // cval \n",
    "        cnt = min(cnt, cinv)\n",
    "        ans[j] = cnt\n",
    "        coinInventory[j] -= cnt\n",
    "        owe -= cnt * cval\n",
    "        if owe == 0:\n",
    "            break\n",
    "    # return amount still owed, if any\n",
    "    # coins returned\n",
    "    # coins left in inventory\n",
    "    return [owe,ans,coinInventory]\n",
    "  "
   ]
  },
  {
   "cell_type": "code",
   "execution_count": 18,
   "metadata": {
    "collapsed": true
   },
   "outputs": [],
   "source": [
    "# slightly nicer version\n",
    "\n",
    "coins = (25, 10, 5, 1)\n",
    "coinInventory = [2, 3, 10, 7]\n",
    "\n",
    "def change2(price):\n",
    "    global coinInventory\n",
    "    owe = 100 - price\n",
    "    ans = [0]*len(coins)\n",
    "    for j,(coin, cinv) in enumerate(zip(coins, coinInventory)):\n",
    "        cnt = owe // coin\n",
    "        cnt = min(cnt, cinv)\n",
    "        ans[j] = cnt\n",
    "        coinInventory[j] -= cnt\n",
    "        owe -= cnt * coin\n",
    "        if owe == 0:\n",
    "            break\n",
    "    # return amount still owed, if any\n",
    "    # coins returned\n",
    "    # coins left in inventory\n",
    "    return [owe,ans,coinInventory]\n",
    "    \n",
    " "
   ]
  },
  {
   "cell_type": "code",
   "execution_count": 12,
   "metadata": {},
   "outputs": [
    {
     "data": {
      "text/plain": [
       "[0, [1, 0, 0, 1], [1, 3, 10, 6]]"
      ]
     },
     "execution_count": 12,
     "metadata": {},
     "output_type": "execute_result"
    }
   ],
   "source": [
    "change(74)"
   ]
  },
  {
   "cell_type": "code",
   "execution_count": 13,
   "metadata": {},
   "outputs": [
    {
     "data": {
      "text/plain": [
       "[0, [1, 0, 0, 1], [0, 3, 10, 5]]"
      ]
     },
     "execution_count": 13,
     "metadata": {},
     "output_type": "execute_result"
    }
   ],
   "source": [
    "change(74)"
   ]
  },
  {
   "cell_type": "code",
   "execution_count": 14,
   "metadata": {},
   "outputs": [
    {
     "data": {
      "text/plain": [
       "[0, [0, 2, 1, 1], [0, 1, 9, 4]]"
      ]
     },
     "execution_count": 14,
     "metadata": {},
     "output_type": "execute_result"
    }
   ],
   "source": [
    "change(74)"
   ]
  },
  {
   "cell_type": "code",
   "execution_count": 15,
   "metadata": {},
   "outputs": [
    {
     "data": {
      "text/plain": [
       "[0, [0, 1, 3, 1], [0, 0, 6, 3]]"
      ]
     },
     "execution_count": 15,
     "metadata": {},
     "output_type": "execute_result"
    }
   ],
   "source": [
    "change(74)"
   ]
  },
  {
   "cell_type": "code",
   "execution_count": 16,
   "metadata": {},
   "outputs": [
    {
     "data": {
      "text/plain": [
       "[0, [0, 0, 5, 1], [0, 0, 1, 2]]"
      ]
     },
     "execution_count": 16,
     "metadata": {},
     "output_type": "execute_result"
    }
   ],
   "source": [
    "change(74)"
   ]
  },
  {
   "cell_type": "code",
   "execution_count": 17,
   "metadata": {},
   "outputs": [
    {
     "data": {
      "text/plain": [
       "[19, [0, 0, 1, 2], [0, 0, 0, 0]]"
      ]
     },
     "execution_count": 17,
     "metadata": {},
     "output_type": "execute_result"
    }
   ],
   "source": [
    "# ran out of coins\n",
    "\n",
    "change(74)"
   ]
  }
 ],
 "metadata": {
  "anaconda-cloud": {},
  "kernelspec": {
   "display_name": "Python 3",
   "language": "python",
   "name": "python3"
  },
  "language_info": {
   "codemirror_mode": {
    "name": "ipython",
    "version": 3
   },
   "file_extension": ".py",
   "mimetype": "text/x-python",
   "name": "python",
   "nbconvert_exporter": "python",
   "pygments_lexer": "ipython3",
   "version": "3.6.3"
  }
 },
 "nbformat": 4,
 "nbformat_minor": 1
}
