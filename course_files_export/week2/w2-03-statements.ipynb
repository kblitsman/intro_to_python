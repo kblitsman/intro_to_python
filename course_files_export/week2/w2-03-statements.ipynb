{
 "cells": [
  {
   "cell_type": "markdown",
   "metadata": {},
   "source": [
    "# Python Statements and Predicates\n",
    "\n",
    "# Assignment\n",
    "+ variables hold arbitrary object references\n",
    "+ objects have a type, variables do not\n",
    "- in languages like Java/C++, variables are 'created' by declaring them\n",
    "- in Python, variables are created by assignment\n",
    "- value(right hand side) is not printed by the read-eval-print loop"
   ]
  },
  {
   "cell_type": "code",
   "execution_count": null,
   "metadata": {
    "collapsed": true
   },
   "outputs": [],
   "source": [
    "# x gets a reference to the object generated \n",
    "# by the expression on the right hand side\n",
    "# value of x is not printed\n",
    "\n",
    "x = list(range(5))"
   ]
  },
  {
   "cell_type": "code",
   "execution_count": null,
   "metadata": {},
   "outputs": [],
   "source": [
    "# have to 'eval' x to see what object it refers to\n",
    "\n",
    "x"
   ]
  },
  {
   "cell_type": "code",
   "execution_count": null,
   "metadata": {
    "collapsed": true
   },
   "outputs": [],
   "source": [
    "# y gets a reference to the object that x refers to\n",
    "\n",
    "y = x"
   ]
  },
  {
   "cell_type": "code",
   "execution_count": null,
   "metadata": {},
   "outputs": [],
   "source": [
    "# 'x is y ' predicate - are x & y refering to the same object?\n",
    "# 'x == y'  predicate - are x & y 'equivalent'?\n",
    "\n",
    "[x, y, x is y, x == y]"
   ]
  },
  {
   "cell_type": "code",
   "execution_count": null,
   "metadata": {},
   "outputs": [],
   "source": [
    "# y gets a new list object\n",
    "\n",
    "y = list(range(5))\n",
    "y"
   ]
  },
  {
   "cell_type": "code",
   "execution_count": null,
   "metadata": {},
   "outputs": [],
   "source": [
    "# now x and y point to different objects that are equivalent\n",
    "\n",
    "[x,y, x is y, x == y]"
   ]
  },
  {
   "cell_type": "markdown",
   "metadata": {},
   "source": [
    "# Increments\n",
    "- unlike most languages, Python does not have var++, ++var, var--, --var\n",
    "- does have += -= *=, etc"
   ]
  },
  {
   "cell_type": "code",
   "execution_count": null,
   "metadata": {},
   "outputs": [],
   "source": [
    "x = 3\n",
    "x++"
   ]
  },
  {
   "cell_type": "code",
   "execution_count": null,
   "metadata": {},
   "outputs": [],
   "source": [
    "x = 3\n",
    "x += 5\n",
    "x"
   ]
  },
  {
   "cell_type": "markdown",
   "metadata": {},
   "source": [
    "# Packing/Unpacking Assignments"
   ]
  },
  {
   "cell_type": "code",
   "execution_count": null,
   "metadata": {},
   "outputs": [],
   "source": [
    "# can do several assignments in one statement\n",
    "# also known as \"destructuring\" or \"unpacking\"\n",
    "\n",
    "x, y, z = 1, 2, 3\n",
    "[x, y, z]"
   ]
  },
  {
   "cell_type": "code",
   "execution_count": null,
   "metadata": {},
   "outputs": [],
   "source": [
    "# above is shorthand for this\n",
    "\n",
    "(x,y,z) = (4,5,6)\n",
    "[x,y,z]"
   ]
  },
  {
   "cell_type": "code",
   "execution_count": null,
   "metadata": {},
   "outputs": [],
   "source": [
    "# works with lists as well\n",
    "\n",
    "[x, [y, z]] = [7,[8,9]]\n",
    "\n",
    "[x, y, z]"
   ]
  },
  {
   "cell_type": "code",
   "execution_count": null,
   "metadata": {},
   "outputs": [],
   "source": [
    "# unpacking happens 'in parallel' \n",
    "# don't need tmps to do 'swaps'\n",
    "\n",
    "y, x = x, y\n",
    "[x, y]"
   ]
  },
  {
   "cell_type": "code",
   "execution_count": null,
   "metadata": {},
   "outputs": [],
   "source": [
    "# if left and right side don't have the same structure, \n",
    "# will get an error\n",
    "\n",
    "x,y = 1,2,3"
   ]
  },
  {
   "cell_type": "code",
   "execution_count": null,
   "metadata": {},
   "outputs": [],
   "source": [
    "# *var will match an arbitrary number of elements, including zero\n",
    "\n",
    "head, *tail = [1,2,3,4]\n",
    "[head, tail]"
   ]
  },
  {
   "cell_type": "code",
   "execution_count": null,
   "metadata": {},
   "outputs": [],
   "source": [
    "head, *tail = [1]\n",
    "[head, tail]"
   ]
  },
  {
   "cell_type": "code",
   "execution_count": null,
   "metadata": {},
   "outputs": [],
   "source": [
    "x, *y, z = [1,2,3,4,5]\n",
    "[x,y,z]"
   ]
  },
  {
   "cell_type": "markdown",
   "metadata": {},
   "source": [
    "# Statement Blocks\n",
    "+ some statements, like 'if', 'for', 'while' and 'def', 'class', 'try' end with a ':' to mark a new block\n",
    "+ subsequent statements in the block must be indented\n",
    "+ the block ends when the indenting reverts to the previous level\n",
    "- in other words, python demarcates \"statement blocks\" by indentation. Java/C++ uses '{' '}'\n",
    "- indentation must be correct, or program will either be incorrect, or not run at all"
   ]
  },
  {
   "cell_type": "markdown",
   "metadata": {},
   "source": [
    "# if\n",
    "+ unlike C++/Java, Python doesn't require parens around the predicate\n",
    "- elif, else claues are optional\n",
    "- elif is used to \"chain\" if's\n",
    "- else clause is executed if all previous predicates fail\n",
    "- Python doesn't have a 'switch' statement - simulate with if like example below"
   ]
  },
  {
   "cell_type": "code",
   "execution_count": null,
   "metadata": {},
   "outputs": [],
   "source": [
    "# note \":\" at end of if, elif, else\n",
    "# note identing of print statements\n",
    "\n",
    "flag = 1\n",
    "\n",
    "if flag == 1:\n",
    "    # this clause will be executed\n",
    "    print('flag == 1')\n",
    "elif flag == 2:\n",
    "    print('flag == 2')\n",
    "elif flag == 3:\n",
    "    print('flag == 3')\n",
    "else:\n",
    "    print(\"flag didn't == 1 or 2 or 3\")\n",
    "print('end of indent ends if statement')"
   ]
  },
  {
   "cell_type": "code",
   "execution_count": null,
   "metadata": {},
   "outputs": [],
   "source": [
    "flag = 2\n",
    "\n",
    "if flag == 1:\n",
    "    print('flag == 1')\n",
    "elif flag == 2:\n",
    "    # this clause will be executed\n",
    "    print('flag == 2')\n",
    "elif flag == 3:\n",
    "    print('flag == 3')\n",
    "else:\n",
    "    print(\"flag didn't == 1 or 2 or 3\")\n",
    "print('end of indent ends if statement')"
   ]
  },
  {
   "cell_type": "code",
   "execution_count": null,
   "metadata": {},
   "outputs": [],
   "source": [
    "flag = 134\n",
    "\n",
    "if flag == 1:\n",
    "    print('flag == 1')\n",
    "elif flag == 2:\n",
    "    print('flag == 2')\n",
    "elif flag == 3:\n",
    "    print('flag == 3')\n",
    "else:\n",
    "    # this 'default clause' will be executed\n",
    "    print(\"flag didn't == 1 or 2 or 3\")\n",
    "print('end of indent ends if statement')"
   ]
  },
  {
   "cell_type": "markdown",
   "metadata": {},
   "source": [
    "# Example: decrypt\n"
   ]
  },
  {
   "cell_type": "code",
   "execution_count": null,
   "metadata": {
    "collapsed": true
   },
   "outputs": [],
   "source": [
    "# this version uses 'if' statement\n",
    "\n",
    "def decrypt(s):\n",
    "    words = []\n",
    "    for j in range(len(s)):\n",
    "        if s[j].isdigit():\n",
    "            wlen = int(s[j])\n",
    "            words.append(s[j+1:j+1+wlen])\n",
    "    return words  "
   ]
  },
  {
   "cell_type": "code",
   "execution_count": null,
   "metadata": {},
   "outputs": [],
   "source": [
    "e = '{SVIu6Python-)dKct@\\\\JK)2is:y:=;;~6reallyMZ-&Bk`*6great!NB!|Krj##'\n",
    "decrypt(e)"
   ]
  },
  {
   "cell_type": "markdown",
   "metadata": {},
   "source": [
    "# Ternary if\n",
    "- very useful\n",
    "- unlike normal if, it is an expression, not a statement, so it returns a value\n",
    "- like 'pred ? TrueVal : FalseVal' in Java/C/C++\n",
    "- peculiar syntax"
   ]
  },
  {
   "cell_type": "code",
   "execution_count": null,
   "metadata": {},
   "outputs": [],
   "source": [
    "predicate = True\n",
    "\n",
    "val = 'true val' if predicate else 'false val'\n",
    "val"
   ]
  },
  {
   "cell_type": "code",
   "execution_count": null,
   "metadata": {},
   "outputs": [],
   "source": [
    "predicate = False\n",
    "\n",
    "val = 'true val' if predicate  else 'false val'\n",
    "val"
   ]
  },
  {
   "cell_type": "markdown",
   "metadata": {},
   "source": [
    "# for\n",
    "- basic way to iterate, but not always the best\n",
    "- iterates over the elements of a list\n",
    "- later we will learn about the \"iteration protocol\"\n",
    "- note \":\" and indentation\n",
    "- for supports usual 'break' and 'continue' statements"
   ]
  },
  {
   "cell_type": "code",
   "execution_count": null,
   "metadata": {},
   "outputs": [],
   "source": [
    "for x in [3,6,7,2]:\n",
    "    # body of the for \n",
    "    print(x)\n",
    "    print(x+10)"
   ]
  },
  {
   "cell_type": "code",
   "execution_count": null,
   "metadata": {},
   "outputs": [],
   "source": [
    "# continue example\n",
    "\n",
    "for x in range(4):\n",
    "    if x == 3:\n",
    "        # rest of loop body will be skipped\n",
    "        continue\n",
    "    for y in range(10,12):\n",
    "        print(x,y)"
   ]
  },
  {
   "cell_type": "code",
   "execution_count": null,
   "metadata": {},
   "outputs": [],
   "source": [
    "# break example\n",
    "\n",
    "for x in range(4):\n",
    "    if x == 3:\n",
    "        # rest of loop body will be skipped\n",
    "        continue\n",
    "    for y in range(10,12):\n",
    "        if y == 11:\n",
    "            # this will terminate the inner y loop,\n",
    "            # but the outer x loop will continue\n",
    "            break\n",
    "        print(x,y)"
   ]
  },
  {
   "cell_type": "markdown",
   "metadata": {},
   "source": [
    "# breaking out of nested loops\n",
    "- later we will see better ways to do this using:\n",
    "    - the error system\n",
    "    - itertools module"
   ]
  },
  {
   "cell_type": "code",
   "execution_count": null,
   "metadata": {},
   "outputs": [],
   "source": [
    "# use a boolean var,\n",
    "# but can get a little complicated\n",
    "\n",
    "terminateLoop = False\n",
    "\n",
    "for x in range(4):\n",
    "    if terminateLoop:\n",
    "        break\n",
    "    print('x', x)\n",
    "        \n",
    "    for y in range(4):\n",
    "        if y == 3:\n",
    "            terminateLoop = True\n",
    "            break\n",
    "        print('y', y)\n",
    "        "
   ]
  },
  {
   "cell_type": "code",
   "execution_count": null,
   "metadata": {},
   "outputs": [],
   "source": [
    "# sometimes you can use return\n",
    "\n",
    "def foo(n):\n",
    "    for x in range(4):\n",
    "        print('x',x)\n",
    "        for y in range(4):\n",
    "            print('y', y)\n",
    "            if y == 3:\n",
    "                return\n",
    "foo(4)"
   ]
  },
  {
   "cell_type": "markdown",
   "metadata": {},
   "source": [
    "# 'for' helper functions\n",
    "- may take a little getting used to, but extremely useful\n",
    "    - 'range'\n",
    "    - 'enumerate'\n",
    "    - 'zip'"
   ]
  },
  {
   "cell_type": "code",
   "execution_count": null,
   "metadata": {},
   "outputs": [],
   "source": [
    "# range - 'for' will iterate over list specified by range\n",
    "\n",
    "total = 0\n",
    "\n",
    "for n in range(2, 7, 2):\n",
    "    print('element', n)\n",
    "    total += n\n",
    "\n",
    "print('total', total)\n"
   ]
  },
  {
   "cell_type": "code",
   "execution_count": null,
   "metadata": {},
   "outputs": [],
   "source": [
    "# if you are iterating over an arbitrary list or tuple,\n",
    "# as opposed to a range, there is no index\n",
    "# 'enumerate' adds an index \n",
    "\n",
    "x = ('mudd', 'shapiro', 'butler')\n",
    "enumerate(x)"
   ]
  },
  {
   "cell_type": "code",
   "execution_count": null,
   "metadata": {},
   "outputs": [],
   "source": [
    "# enumerate is lazy! \n",
    "# use list to force evaluation\n",
    "# get a length 3 list where each element is a length 2 tuple\n",
    "\n",
    "list(enumerate(x))"
   ]
  },
  {
   "cell_type": "code",
   "execution_count": null,
   "metadata": {},
   "outputs": [],
   "source": [
    "# for will deal with enumerate \n",
    "# emumerate elements are length 2 tuples\n",
    "\n",
    "for e in enumerate(x):\n",
    "    print(e)"
   ]
  },
  {
   "cell_type": "code",
   "execution_count": null,
   "metadata": {},
   "outputs": [],
   "source": [
    "# note 'j, b' - destructures/unpacks the length 2 tuples\n",
    "# from enumerate\n",
    "\n",
    "for j, b in enumerate(x):\n",
    "    print(j, b)"
   ]
  },
  {
   "cell_type": "code",
   "execution_count": null,
   "metadata": {
    "collapsed": true
   },
   "outputs": [],
   "source": [
    "### decrypt version from above\n",
    "\n",
    "def decrypt(s):\n",
    "    words = []\n",
    "    # explicit index into string\n",
    "    # when you see something like\n",
    "    # range(len(x)), it often should be\n",
    "    # redone as a comprehension\n",
    "    for j in range(len(s)):\n",
    "        if s[j].isdigit():\n",
    "            wlen = int(s[j])\n",
    "            words.append(s[j+1:j+1+wlen])\n",
    "    return words \n",
    "\n",
    "# slightly simpler with enumerate\n",
    "\n",
    "def decrypt2(s):\n",
    "    words = []\n",
    "    # enumerate tracks the string position\n",
    "    for j, c in enumerate(s):\n",
    "        if c.isdigit():\n",
    "            wlen = int(s[j])\n",
    "            words.append(s[j+1:j+1+wlen])\n",
    "    return words  \n",
    "\n",
    "# shrink down to one liner with list comprehension\n",
    "\n",
    "def decrypt3(s):\n",
    "    # uses 'list comprehension filter', instead of 'if statement'\n",
    "    return [s[j+1:j+1+int(s[j])] for j, c in enumerate(s) if c.isdigit()]\n"
   ]
  },
  {
   "cell_type": "code",
   "execution_count": null,
   "metadata": {},
   "outputs": [],
   "source": [
    "e = '{SVIu6Python-)dKct@\\\\JK)2is:y:=;;~6reallyMZ-&Bk`*6great!NB!|Krj##'\n",
    "[decrypt2(e), decrypt3(e)]"
   ]
  },
  {
   "cell_type": "code",
   "execution_count": null,
   "metadata": {},
   "outputs": [],
   "source": [
    "x"
   ]
  },
  {
   "cell_type": "code",
   "execution_count": null,
   "metadata": {},
   "outputs": [],
   "source": [
    "# sometimes you want to iterate thru two or more lists simultaneously\n",
    "# 'zip' - threads lists together. 'zip' is lazy\n",
    "# another list of tuples\n",
    "\n",
    "r = range(10,13)\n",
    "y = ['engineering', 'compsci', 'library']\n",
    "list(zip(r, x, y))"
   ]
  },
  {
   "cell_type": "code",
   "execution_count": null,
   "metadata": {},
   "outputs": [],
   "source": [
    "# index, name, func destructures the tuples\n",
    "\n",
    "for index, name, func in zip(r, x, y):\n",
    "    print(index, name, func)"
   ]
  },
  {
   "cell_type": "code",
   "execution_count": null,
   "metadata": {},
   "outputs": [],
   "source": [
    "# mix it up\n",
    "\n",
    "list(enumerate(zip(x, y)))"
   ]
  },
  {
   "cell_type": "code",
   "execution_count": null,
   "metadata": {},
   "outputs": [],
   "source": [
    "# 'p' is bound to the 2 element tuple from the zip\n",
    "\n",
    "for j, p in enumerate(zip(x, y)):\n",
    "    print(j, p)"
   ]
  },
  {
   "cell_type": "code",
   "execution_count": null,
   "metadata": {},
   "outputs": [],
   "source": [
    "# directly match the structure\n",
    "\n",
    "for j,[a,b] in enumerate(zip(x, y)):\n",
    "    print(j, a, b )"
   ]
  },
  {
   "cell_type": "markdown",
   "metadata": {},
   "source": [
    "# Set Comprehensions"
   ]
  },
  {
   "cell_type": "code",
   "execution_count": null,
   "metadata": {},
   "outputs": [],
   "source": [
    "# accumulate to a set\n",
    "# 'add' to a set\n",
    "# duplicates eliminated\n",
    "\n",
    "result = set()\n",
    "for x in [3,11,2,3,11,14]:\n",
    "    if x > 10:\n",
    "        result.add(x*10)\n",
    "result"
   ]
  },
  {
   "cell_type": "code",
   "execution_count": null,
   "metadata": {},
   "outputs": [],
   "source": [
    "# better - use a 'set comprehension'\n",
    "\n",
    "s = {x*10 for x in [3,11,2,3,11,14] if x>10}\n",
    "[s, type(s)]"
   ]
  },
  {
   "cell_type": "markdown",
   "metadata": {},
   "source": [
    "# Dict comprehensions"
   ]
  },
  {
   "cell_type": "code",
   "execution_count": null,
   "metadata": {},
   "outputs": [],
   "source": [
    "# no acculumation var\n",
    "\n",
    "d = {}\n",
    "\n",
    "for x in range(5):\n",
    "    d[x] = x+10\n",
    "\n",
    "d"
   ]
  },
  {
   "cell_type": "code",
   "execution_count": null,
   "metadata": {},
   "outputs": [],
   "source": [
    "# dict comprehension\n",
    "# no acculumation var\n",
    "\n",
    "{x:x+10 for x in range(5)}"
   ]
  },
  {
   "cell_type": "markdown",
   "metadata": {},
   "source": [
    "# while\n",
    "+ used for more complex loops that\n",
    "depend on arbitrary conditions for loop termination\n",
    "- 'break' and 'continue' work in while loops"
   ]
  },
  {
   "cell_type": "code",
   "execution_count": null,
   "metadata": {},
   "outputs": [],
   "source": [
    "n = 0\n",
    "while n < 7:\n",
    "    print(n)\n",
    "    n += 1"
   ]
  },
  {
   "cell_type": "code",
   "execution_count": null,
   "metadata": {},
   "outputs": [],
   "source": [
    "n = 0\n",
    "while n < 7:\n",
    "    n += 1\n",
    "    if n == 2:\n",
    "        continue\n",
    "    print(n)\n",
    "    if n > 4:\n",
    "        break"
   ]
  },
  {
   "cell_type": "markdown",
   "metadata": {},
   "source": [
    "# infinite loops\n",
    "- use when with True predicate to keep looping forever\n",
    "- servers, for example, loop forever\n",
    "- or use other methods for exiting the loop\n",
    "\n",
    "```\n",
    "while True:\n",
    "    loopbody\n",
    "```"
   ]
  },
  {
   "cell_type": "code",
   "execution_count": null,
   "metadata": {},
   "outputs": [],
   "source": [
    "import random\n",
    "\n",
    "while True:\n",
    "        r = random.randint(10,20)\n",
    "        print(r)\n",
    "        if r == 13:\n",
    "            break"
   ]
  },
  {
   "cell_type": "code",
   "execution_count": null,
   "metadata": {
    "collapsed": true
   },
   "outputs": [],
   "source": [
    "# proposed in 1937 \n",
    "# conjecture is the sequence always \n",
    "# reaches 1, but nobody has \n",
    "# been able to prove it\n",
    "\n",
    "def collatz(n):\n",
    "    seq = [n]\n",
    "    # keep looping until we get 1\n",
    "    while n != 1:\n",
    "        if n % 2 == 0:\n",
    "            n = n//2\n",
    "        else:\n",
    "            n = 3*n + 1\n",
    "        seq.append(n)\n",
    "    return seq\n"
   ]
  },
  {
   "cell_type": "code",
   "execution_count": null,
   "metadata": {},
   "outputs": [],
   "source": [
    "collatz(6)"
   ]
  },
  {
   "cell_type": "code",
   "execution_count": null,
   "metadata": {},
   "outputs": [],
   "source": [
    "collatz(19)"
   ]
  },
  {
   "cell_type": "code",
   "execution_count": null,
   "metadata": {},
   "outputs": [],
   "source": [
    "print(collatz(27))"
   ]
  },
  {
   "cell_type": "markdown",
   "metadata": {},
   "source": [
    "# del\n",
    "- used to 'delete' various things"
   ]
  },
  {
   "cell_type": "code",
   "execution_count": null,
   "metadata": {},
   "outputs": [],
   "source": [
    "# will remove a variable binding...\n",
    "\n",
    "x = 'foo'\n",
    "y = x\n",
    "x"
   ]
  },
  {
   "cell_type": "code",
   "execution_count": null,
   "metadata": {},
   "outputs": [],
   "source": [
    "del x\n",
    "\n",
    "x"
   ]
  },
  {
   "cell_type": "code",
   "execution_count": null,
   "metadata": {},
   "outputs": [],
   "source": [
    "# but 'del' does NOT remove the 'foo' string object\n",
    "# objects ONLY disappear when there are NO references\n",
    "# to them left\n",
    "\n",
    "y"
   ]
  },
  {
   "cell_type": "code",
   "execution_count": null,
   "metadata": {},
   "outputs": [],
   "source": [
    "# make a small dict\n",
    "\n",
    "d = dict()\n",
    "d[3] = 33\n",
    "d[4] = 44\n",
    "d"
   ]
  },
  {
   "cell_type": "code",
   "execution_count": null,
   "metadata": {},
   "outputs": [],
   "source": [
    "# delete a key/value pair\n",
    "\n",
    "del d[3]\n",
    "d"
   ]
  },
  {
   "cell_type": "code",
   "execution_count": null,
   "metadata": {},
   "outputs": [],
   "source": [
    "x = list(range(10))\n",
    "x"
   ]
  },
  {
   "cell_type": "code",
   "execution_count": null,
   "metadata": {},
   "outputs": [],
   "source": [
    "# delete a slice from a list\n",
    "\n",
    "del x[3:7]\n",
    "x"
   ]
  },
  {
   "cell_type": "code",
   "execution_count": null,
   "metadata": {},
   "outputs": [],
   "source": [
    "# del can undo a BOGUS redefinition of a builtin function\n",
    "\n",
    "list = 4\n",
    "list('asdf')"
   ]
  },
  {
   "cell_type": "code",
   "execution_count": null,
   "metadata": {},
   "outputs": [],
   "source": [
    "del list\n",
    "\n",
    "list('asdf')"
   ]
  },
  {
   "cell_type": "markdown",
   "metadata": {},
   "source": [
    "# pass\n",
    "- just a statement placeholder - does absolutely nothing"
   ]
  },
  {
   "cell_type": "code",
   "execution_count": null,
   "metadata": {},
   "outputs": [],
   "source": [
    "if True:\n",
    "    pass\n",
    "\n",
    "print('got here')"
   ]
  },
  {
   "cell_type": "markdown",
   "metadata": {},
   "source": [
    "# import\n",
    "- a module is a set of one or more files of python code\n",
    "- 'importing' a module loads that code into Python and makes that functionality available to your program\n",
    "- similar to the Java package system\n",
    "- several types of imports\n",
    "- executable statement - not a declaration"
   ]
  },
  {
   "cell_type": "code",
   "execution_count": null,
   "metadata": {},
   "outputs": [],
   "source": [
    "# 'choice' is a function in the 'random' module\n",
    "# but choice is not available, \n",
    "# because the random module isn't loaded\n",
    "\n",
    "random.choice"
   ]
  },
  {
   "cell_type": "code",
   "execution_count": null,
   "metadata": {},
   "outputs": [],
   "source": [
    "# this makes names in random available, but the names\n",
    "# must prefixed with 'random.'\n",
    "\n",
    "import random\n",
    "[random.choice, random.shuffle, random.sample]"
   ]
  },
  {
   "cell_type": "code",
   "execution_count": null,
   "metadata": {},
   "outputs": [],
   "source": [
    "# choice still not defined without qualification\n",
    "\n",
    "choice"
   ]
  },
  {
   "cell_type": "code",
   "execution_count": null,
   "metadata": {},
   "outputs": [],
   "source": [
    "# this makes in random available \n",
    "# using a shorter'nickname'\n",
    "\n",
    "import random as ran\n",
    "\n",
    "[ran.choice, ran.sample, ran.shuffle]"
   ]
  },
  {
   "cell_type": "code",
   "execution_count": null,
   "metadata": {},
   "outputs": [],
   "source": [
    "# choice still is not defined at top level\n",
    "\n",
    "choice"
   ]
  },
  {
   "cell_type": "markdown",
   "metadata": {},
   "source": [
    "# from \n",
    "- imports names to top level"
   ]
  },
  {
   "cell_type": "code",
   "execution_count": null,
   "metadata": {},
   "outputs": [],
   "source": [
    "# now don't need to say 'random.choice', just 'choice'\n",
    "\n",
    "from random import choice\n",
    "choice"
   ]
  },
  {
   "cell_type": "code",
   "execution_count": null,
   "metadata": {},
   "outputs": [],
   "source": [
    "# another function name in random, still not defined\n",
    "# at top level\n",
    "\n",
    "shuffle"
   ]
  },
  {
   "cell_type": "markdown",
   "metadata": {},
   "source": [
    "# from module import *\n",
    "- this can be very convenient for playing around, but is considered bad form for serious programs\n",
    "    - danger of redefining Python functions\n",
    "    - hard to tell what package the name is coming from"
   ]
  },
  {
   "cell_type": "code",
   "execution_count": null,
   "metadata": {},
   "outputs": [],
   "source": [
    "# this puts all the names in random at top level\n",
    "\n",
    "from random import *\n",
    "[shuffle, choice, sample]"
   ]
  },
  {
   "cell_type": "markdown",
   "metadata": {},
   "source": [
    "# Generalized booleans\n",
    "- it is convenient to generalize what is considered to be True and False\n",
    "- None, 0, and empty collections(strings, lists, tuples, dictionaries, sets), are equivalent to False\n",
    "- Any other object is equivalent to True"
   ]
  },
  {
   "cell_type": "code",
   "execution_count": null,
   "metadata": {},
   "outputs": [],
   "source": [
    "# list of things to try \n",
    "\n",
    "x = [0, 1, \"\", \"stuff\", {}, {3:5}, {3,5}, (), (1,2), None]\n",
    "\n",
    "for e in x:\n",
    "    # ternary if is an expression, \n",
    "    # so can be an arg to print\n",
    "    print(e, True if e else False)"
   ]
  },
  {
   "cell_type": "markdown",
   "metadata": {},
   "source": [
    "# short circuit evaluation of booleans\n",
    "- 'and' and 'or' do 'short circuit' evaluation\n",
    "- evaluation stops as soon as True/False value is known\n",
    "- note result is NOT always True or False"
   ]
  },
  {
   "cell_type": "code",
   "execution_count": null,
   "metadata": {},
   "outputs": [],
   "source": [
    "# 'or' eval stops at first True value and returns it\n",
    "\n",
    "False or 0 or [] or 6 or 7"
   ]
  },
  {
   "cell_type": "code",
   "execution_count": null,
   "metadata": {},
   "outputs": [],
   "source": [
    "# 'and' eval stops at first False value and returns it\n",
    "\n",
    "True and 5 and [3,4] and {} and 34 and 200"
   ]
  },
  {
   "cell_type": "code",
   "execution_count": null,
   "metadata": {},
   "outputs": [],
   "source": [
    "# here's a list of all the language keywords\n",
    "# we have seen most, but not all of them\n",
    "\n",
    "import keyword\n",
    "\n",
    "keyword.kwlist\n"
   ]
  },
  {
   "cell_type": "markdown",
   "metadata": {
    "collapsed": true
   },
   "source": [
    "# Example: Filtering and modifying a list\n",
    "- dir returns a list of methods for a type\n",
    "- want to get rid of methods with a '__' in the name\n",
    "- want to capitalize remaining names"
   ]
  },
  {
   "cell_type": "code",
   "execution_count": null,
   "metadata": {},
   "outputs": [],
   "source": [
    "# dir lists methods of a type. want to get rid of methods with a '__'(they are 'special')\n",
    "\n",
    "dir(list)"
   ]
  },
  {
   "cell_type": "code",
   "execution_count": null,
   "metadata": {},
   "outputs": [],
   "source": [
    "# can filter and capitalize with single list comprehension\n",
    "\n",
    "[s.capitalize() for s in dir(list) if '_' not in s]"
   ]
  }
 ],
 "metadata": {
  "anaconda-cloud": {},
  "kernelspec": {
   "display_name": "Python 3",
   "language": "python",
   "name": "python3"
  },
  "language_info": {
   "codemirror_mode": {
    "name": "ipython",
    "version": 3
   },
   "file_extension": ".py",
   "mimetype": "text/x-python",
   "name": "python",
   "nbconvert_exporter": "python",
   "pygments_lexer": "ipython3",
   "version": "3.6.3"
  }
 },
 "nbformat": 4,
 "nbformat_minor": 1
}
