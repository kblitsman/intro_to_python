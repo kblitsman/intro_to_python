{
 "cells": [
  {
   "cell_type": "markdown",
   "metadata": {},
   "source": [
    "# Introduction to Python \n",
    "# Homework #2\n",
    "- Due Thursday Feb 1 at noon\n",
    "- This homework will be graded\n",
    "- You MUST submit on CourseWorks2 before it closes\n",
    "    - Verify your submission succeeded\n",
    "    - Email submissions are not accepted \n",
    "    "
   ]
  },
  {
   "cell_type": "markdown",
   "metadata": {},
   "source": [
    "# Academic Honesty\n",
    "* The computer science department has strict polices. Check\n",
    "the department [web page](http://www.cs.columbia.edu/education/honesty) for details. \n",
    "- Do not look at anybody else's source code. Do not show anybody\n",
    "your source, or leave your source where somebody could see it.\n",
    "You MUST write your own code.\n",
    "- For this class, feel free to discuss issues with other people, but suggest waiting an hour or two after a discussion, before writing your code.\n",
    "-  Cases of non original source will be refered to the Judical Committee.\n"
   ]
  },
  {
   "cell_type": "markdown",
   "metadata": {},
   "source": [
    "# Tips\n"
   ]
  },
  {
   "cell_type": "markdown",
   "metadata": {},
   "source": [
    "# Make SURE you are running Python 3.6, and not 2.7"
   ]
  },
  {
   "cell_type": "code",
   "execution_count": 1,
   "metadata": {},
   "outputs": [
    {
     "data": {
      "text/plain": [
       "'3.6.3 |Anaconda, Inc.| (default, Oct 13 2017, 12:02:49) \\n[GCC 7.2.0]'"
      ]
     },
     "execution_count": 1,
     "metadata": {},
     "output_type": "execute_result"
    }
   ],
   "source": [
    "# the 3.6.3 is the version\n",
    "\n",
    "import sys\n",
    "sys.version"
   ]
  },
  {
   "cell_type": "markdown",
   "metadata": {},
   "source": [
    "# use string.format"
   ]
  },
  {
   "cell_type": "code",
   "execution_count": 50,
   "metadata": {},
   "outputs": [
    {
     "data": {
      "text/plain": [
       "'name is larry, count is 5, list = [1, 5, 6]'"
      ]
     },
     "execution_count": 50,
     "metadata": {},
     "output_type": "execute_result"
    }
   ],
   "source": [
    "# instead of \n",
    "\n",
    "name = 'larry'\n",
    "cnt = 5\n",
    "lst = [1,5,6]\n",
    "\n",
    "'name is ' + name + ', count is ' + str(cnt) + ', list = ' + str(lst)"
   ]
  },
  {
   "cell_type": "code",
   "execution_count": 51,
   "metadata": {},
   "outputs": [
    {
     "data": {
      "text/plain": [
       "'name is larry, count is 5, list = [1, 5, 6]'"
      ]
     },
     "execution_count": 51,
     "metadata": {},
     "output_type": "execute_result"
    }
   ],
   "source": [
    "'name is {}, count is {}, list = {}'.format(name, cnt, lst)"
   ]
  },
  {
   "cell_type": "markdown",
   "metadata": {},
   "source": [
    "# sum"
   ]
  },
  {
   "cell_type": "code",
   "execution_count": 4,
   "metadata": {},
   "outputs": [
    {
     "data": {
      "text/plain": [
       "[40.3, 6, 3]"
      ]
     },
     "execution_count": 4,
     "metadata": {},
     "output_type": "execute_result"
    }
   ],
   "source": [
    "# sum is a builtin function that will sum a list,\n",
    "# tuple, or range\n",
    "\n",
    "[sum([35.3, 3,2]), sum((1,2,3)), sum(range(3))]"
   ]
  },
  {
   "cell_type": "markdown",
   "metadata": {},
   "source": [
    "# type\n",
    "- can always find the type of an object with the 'type' function"
   ]
  },
  {
   "cell_type": "code",
   "execution_count": 53,
   "metadata": {},
   "outputs": [
    {
     "data": {
      "text/plain": [
       "[int, range, zip]"
      ]
     },
     "execution_count": 53,
     "metadata": {},
     "output_type": "execute_result"
    }
   ],
   "source": [
    "[type(234), type(range(2,44)), type(zip())]"
   ]
  },
  {
   "cell_type": "markdown",
   "metadata": {},
   "source": [
    "# isinstance"
   ]
  },
  {
   "cell_type": "code",
   "execution_count": 1,
   "metadata": {},
   "outputs": [
    {
     "data": {
      "text/plain": [
       "True"
      ]
     },
     "execution_count": 1,
     "metadata": {},
     "output_type": "execute_result"
    }
   ],
   "source": [
    "# 'isinstance' is a little more concise \n",
    "# then 'type' in some situations\n",
    "\n",
    "type(234) == int\n",
    "isinstance(234, int)"
   ]
  },
  {
   "cell_type": "code",
   "execution_count": 3,
   "metadata": {},
   "outputs": [
    {
     "data": {
      "text/plain": [
       "[True, True]"
      ]
     },
     "execution_count": 3,
     "metadata": {},
     "output_type": "execute_result"
    }
   ],
   "source": [
    "# is arg a number\n",
    "\n",
    "def nump(x):\n",
    "    t = type(x)\n",
    "    return t == int or t == float\n",
    "\n",
    "# much nicer \n",
    "\n",
    "def nump2(x):\n",
    "    return isinstance(x, (int,float))\n",
    "\n",
    "[nump(3), nump2(4.4)]"
   ]
  },
  {
   "cell_type": "markdown",
   "metadata": {},
   "source": [
    "# zip\n",
    "- zip stops after shortest list is exhausted"
   ]
  },
  {
   "cell_type": "code",
   "execution_count": 7,
   "metadata": {},
   "outputs": [
    {
     "data": {
      "text/plain": [
       "[(0, 100, 4), (1, 101, 5), (2, 102, 6)]"
      ]
     },
     "execution_count": 7,
     "metadata": {},
     "output_type": "execute_result"
    }
   ],
   "source": [
    "list(zip(range(10), range(100,500), range(4,7)))"
   ]
  },
  {
   "cell_type": "markdown",
   "metadata": {},
   "source": [
    "# Problems \n",
    "- these are all fairly short functions\n",
    "    - longest is maybe 20 lines\n",
    "- if you are doing something very complicated, think again, or get some help"
   ]
  },
  {
   "cell_type": "markdown",
   "metadata": {},
   "source": [
    "# Problem 1a\n",
    "- write function 'dot'\n",
    "- computes the standard 'dot products' \n",
    "between two lists \n",
    "- example: dot([1,2,3], [4,5,6]) = $$1 * 4 + 2 * 5 + 3 * 6 = 32$$\n",
    "- if one vector is longer than the other, the extra elements are ignored"
   ]
  },
  {
   "cell_type": "code",
   "execution_count": 41,
   "metadata": {
    "collapsed": true
   },
   "outputs": [],
   "source": [
    "# test vectors for Problem 1 a,b,c,d\n",
    "\n",
    "tv0 = [1,2,3]\n",
    "tv1 = [4,5,6,7,8,9]"
   ]
  },
  {
   "cell_type": "code",
   "execution_count": 36,
   "metadata": {},
   "outputs": [
    {
     "data": {
      "text/plain": [
       "32"
      ]
     },
     "execution_count": 36,
     "metadata": {},
     "output_type": "execute_result"
    }
   ],
   "source": [
    "# the 7,8,9 elements are ignored because zip stops when the shorter list is exhausted\n",
    "\n",
    "dot(tv0, tv1)"
   ]
  },
  {
   "cell_type": "code",
   "execution_count": 37,
   "metadata": {
    "scrolled": true
   },
   "outputs": [
    {
     "data": {
      "text/plain": [
       "32"
      ]
     },
     "execution_count": 37,
     "metadata": {},
     "output_type": "execute_result"
    }
   ],
   "source": [
    "#1a solution\n",
    "def dot(vec1, vec2):\n",
    "    prod = sum([i*j for (i, j) in zip(vec1, vec2)])\n",
    "    return prod\n",
    "\n",
    "dot(tv0, tv1)"
   ]
  },
  {
   "cell_type": "markdown",
   "metadata": {},
   "source": [
    "# Problem 1b\n",
    "- write function 'shortlong' - puts things in a 'cannonical form' \n",
    "- takes two vectors, and returns in a list the shorter vector, the short vector length, the long vector, and the long vector length"
   ]
  },
  {
   "cell_type": "code",
   "execution_count": 9,
   "metadata": {},
   "outputs": [
    {
     "data": {
      "text/plain": [
       "[[1, 2, 3], 3, [4, 5, 6, 7, 8, 9], 6]"
      ]
     },
     "execution_count": 9,
     "metadata": {},
     "output_type": "execute_result"
    }
   ],
   "source": [
    "shortlong(tv0, tv1)"
   ]
  },
  {
   "cell_type": "code",
   "execution_count": 10,
   "metadata": {},
   "outputs": [
    {
     "data": {
      "text/plain": [
       "[[1, 2, 3], 3, [4, 5, 6, 7, 8, 9], 6]"
      ]
     },
     "execution_count": 10,
     "metadata": {},
     "output_type": "execute_result"
    }
   ],
   "source": [
    "shortlong(tv1, tv0)"
   ]
  },
  {
   "cell_type": "code",
   "execution_count": 38,
   "metadata": {},
   "outputs": [
    {
     "data": {
      "text/plain": [
       "[[1, 2, 3], 3, [4, 5, 6, 7, 8, 9], 6]"
      ]
     },
     "execution_count": 38,
     "metadata": {},
     "output_type": "execute_result"
    }
   ],
   "source": [
    "def shortlong(vec1, vec2):\n",
    "    x = [vec1, vec2]\n",
    "    x.sort(key = len)\n",
    "    short = x[0]\n",
    "    long = x[1]\n",
    "    return [short, len(short), long, len(long)]\n",
    "   \n",
    "shortlong(tv1, tv0)"
   ]
  },
  {
   "cell_type": "markdown",
   "metadata": {},
   "source": [
    "# Problem 1c\n",
    "- write function 'dotmv'\n",
    "- more flexible version of 'dot'\n",
    "- 'dotmv' takes an extra 'offset' arg, which moves the shorter vector to the right\n",
    "- use 'shortlong'\n",
    "- dotmv(tv0, tv1, 2) = $$1 * 6 + 2 * 7 + 3 * 8$$"
   ]
  },
  {
   "cell_type": "code",
   "execution_count": 12,
   "metadata": {},
   "outputs": [
    {
     "data": {
      "text/plain": [
       "[32, 38, 44]"
      ]
     },
     "execution_count": 12,
     "metadata": {},
     "output_type": "execute_result"
    }
   ],
   "source": [
    "[dotmv(tv0, tv1, 0), dotmv(tv0, tv1, 1), dotmv(tv0, tv1, 2)]"
   ]
  },
  {
   "cell_type": "code",
   "execution_count": 39,
   "metadata": {},
   "outputs": [
    {
     "data": {
      "text/plain": [
       "[32, 38, 44]"
      ]
     },
     "execution_count": 39,
     "metadata": {},
     "output_type": "execute_result"
    }
   ],
   "source": [
    "def dotmv(vec1, vec2, offset):\n",
    "    x = shortlong(vec1, vec2)\n",
    "    short = x[0]\n",
    "    long = x[2]\n",
    "    longoffset = long[offset:]\n",
    "    return sum([i*j for (i, j) in zip(short, longoffset)])\n",
    "   \n",
    "[dotmv(tv0, tv1, 0), dotmv(tv0, tv1, 1), dotmv(tv0, tv1, 2)]"
   ]
  },
  {
   "cell_type": "markdown",
   "metadata": {},
   "source": [
    "# Problem 1d\n",
    "- write function 'dotpad' \n",
    "- another version of 'dot'\n",
    "- 'dotpad' takes a pad arg\n",
    "- if one vector is shorter, it is padded on the right with the pad value\n",
    "- use 'shortlong'\n",
    "- don't modify the input vectors\n",
    "- dotpad(tv0, tv1,1) = dot([1,2,3,1,1,1], [4,5,6,7,8,9])"
   ]
  },
  {
   "cell_type": "code",
   "execution_count": 14,
   "metadata": {},
   "outputs": [
    {
     "data": {
      "text/plain": [
       "[32, 56, 80]"
      ]
     },
     "execution_count": 14,
     "metadata": {},
     "output_type": "execute_result"
    }
   ],
   "source": [
    "[dotpad(tv0, tv1, 0), dotpad(tv0, tv1, 1), dotpad(tv0, tv1,2)]"
   ]
  },
  {
   "cell_type": "code",
   "execution_count": 45,
   "metadata": {},
   "outputs": [
    {
     "data": {
      "text/plain": [
       "[32, 56, 80]"
      ]
     },
     "execution_count": 45,
     "metadata": {},
     "output_type": "execute_result"
    }
   ],
   "source": [
    "def dotpad(vec1, vec2, pad):\n",
    "    x = shortlong(vec1, vec2)\n",
    "    short = x[0][:]\n",
    "    long = x[2][:]\n",
    "    lendif = len(long) - len(short)\n",
    "    for i in range(lendif):\n",
    "        short.append(pad)\n",
    "    return sum([i*j for (i, j) in zip(short, long)])\n",
    "\n",
    "[dotpad(tv0, tv1, 0), dotpad(tv0, tv1, 1), dotpad(tv0, tv1,2)]"
   ]
  },
  {
   "cell_type": "markdown",
   "metadata": {},
   "source": [
    "# Problem 2 \n",
    "- write function 'cbt'\n",
    "- 'cbt' => 'Collate By Type'\n",
    "- argument: a non-nested list of objects\n",
    "- prints: \n",
    "  - the number of each type found\n",
    "  - the sum, if any, of the ints, and floats found\n",
    "  - the strings, if any, sorted alphabetically, and concatenated\n",
    "  togther, separated by '|\n",
    "- returns: a dictionary, where there is \n",
    "a key for each type found. the value of each\n",
    "key is a list of the objects of that type found."
   ]
  },
  {
   "cell_type": "code",
   "execution_count": 2,
   "metadata": {
    "collapsed": true
   },
   "outputs": [],
   "source": [
    "stuff = [23, 2**20, 3.14,'shapiro', 2**10+7, sorted,2.34, 'science', len, 43, 'butler', 'unicode']"
   ]
  },
  {
   "cell_type": "code",
   "execution_count": 4,
   "metadata": {
    "collapsed": true
   },
   "outputs": [],
   "source": [
    "# you might want to use this helper function to\n",
    "# make the dictionary\n",
    "# try to understand how it works\n",
    "\n",
    "def buildDict(x):\n",
    "    d = dict()\n",
    "    for e in x:\n",
    "        t = type(e)\n",
    "        # this is an annoying pattern \n",
    "        # will fix it later\n",
    "        if t in d:\n",
    "            d[t].append(e)\n",
    "        else:\n",
    "            d[t] = [e]\n",
    "    return d"
   ]
  },
  {
   "cell_type": "code",
   "execution_count": 44,
   "metadata": {
    "scrolled": true
   },
   "outputs": [
    {
     "data": {
      "text/plain": [
       "{int: [23, 1048576, 1031, 43],\n",
       " float: [3.14, 2.34],\n",
       " str: ['shapiro', 'science', 'butler', 'unicode'],\n",
       " builtin_function_or_method: [<function sorted>, <function len>]}"
      ]
     },
     "execution_count": 44,
     "metadata": {},
     "output_type": "execute_result"
    }
   ],
   "source": [
    "buildDict(stuff)"
   ]
  },
  {
   "cell_type": "code",
   "execution_count": 46,
   "metadata": {
    "scrolled": true
   },
   "outputs": [
    {
     "name": "stdout",
     "output_type": "stream",
     "text": [
      "found 4 of <class 'int'>\n",
      "found 2 of <class 'float'>\n",
      "found 4 of <class 'str'>\n",
      "found 2 of <class 'builtin_function_or_method'>\n",
      "sum of <class 'int'> is 1049673\n",
      "sum of <class 'float'> is 5.48\n",
      "alpha sorted concat of strings: butler|science|shapiro|unicode\n"
     ]
    },
    {
     "data": {
      "text/plain": [
       "{int: [23, 43, 1031, 1048576],\n",
       " float: [2.34, 3.14],\n",
       " str: ['butler', 'science', 'shapiro', 'unicode'],\n",
       " builtin_function_or_method: [<function sorted>, <function len>]}"
      ]
     },
     "execution_count": 46,
     "metadata": {},
     "output_type": "execute_result"
    }
   ],
   "source": [
    "cbt(stuff)"
   ]
  },
  {
   "cell_type": "code",
   "execution_count": 12,
   "metadata": {},
   "outputs": [
    {
     "name": "stdout",
     "output_type": "stream",
     "text": [
      "found 4 of <class 'int'>\n",
      "found 2 of <class 'float'>\n",
      "found 4 of <class 'str'>\n",
      "found 2 of <class 'builtin_function_or_method'>\n",
      "sum of <class 'int'> is 1049673\n",
      "sum of <class 'float'> is 5.48\n",
      "alpha sorted concat of strings: butler|science|shapiro|unicode\n"
     ]
    },
    {
     "data": {
      "text/plain": [
       "{int: [23, 1048576, 1031, 43],\n",
       " float: [3.14, 2.34],\n",
       " str: ['shapiro', 'science', 'butler', 'unicode'],\n",
       " builtin_function_or_method: [<function sorted>, <function len>]}"
      ]
     },
     "execution_count": 12,
     "metadata": {},
     "output_type": "execute_result"
    }
   ],
   "source": [
    "def cbt(x):\n",
    "    y = buildDict(x)\n",
    "    for k in y.keys():\n",
    "        print(\"found \" + str(len(y[k])) + \" of \" + str(k))\n",
    "    for k in y.keys():\n",
    "        if k == int or k == float:\n",
    "            print(\"sum of \" + str(k) + \" is \" + str(sum(y[k])))\n",
    "        if k == str:\n",
    "            z = (y[str])\n",
    "            print( \"alpha sorted concat of strings: \" + \"|\".join(sorted(z)))\n",
    "    return y\n",
    "        \n",
    "cbt(stuff)\n",
    "            "
   ]
  },
  {
   "cell_type": "markdown",
   "metadata": {},
   "source": [
    "# Problem 3\n",
    "- write function 'partition'\n",
    "- divides a list into segments\n",
    "- first arg is the input list\n",
    "- second arg is the length of each segment. if there are not enough list elements to make a final segment of length n, they are discarded\n",
    "- third arg is how many list elements should overlap btw adjacent segments\n",
    "- remember range is range(inclusive, exclusive), range[0,2] => [0,1]\n",
    "- might want to use 'while' instead of 'for'"
   ]
  },
  {
   "cell_type": "code",
   "execution_count": 19,
   "metadata": {},
   "outputs": [
    {
     "data": {
      "text/plain": [
       "[[0, 1, 2, 3],\n",
       " [1, 2, 3, 4],\n",
       " [2, 3, 4, 5],\n",
       " [3, 4, 5, 6],\n",
       " [4, 5, 6, 7],\n",
       " [5, 6, 7, 8],\n",
       " [6, 7, 8, 9]]"
      ]
     },
     "execution_count": 19,
     "metadata": {},
     "output_type": "execute_result"
    }
   ],
   "source": [
    "def partition(inlist, length, overlap):\n",
    "    output = []\n",
    "    last = length - 1 \n",
    "    while last < len(inlist):\n",
    "        output.append(inlist[last-length+1:last+1])\n",
    "        last += length - overlap\n",
    "    return output\n",
    "    \n",
    "    \n",
    "\n",
    "partition(list(range(10)), 4, 3)"
   ]
  },
  {
   "cell_type": "code",
   "execution_count": 73,
   "metadata": {},
   "outputs": [
    {
     "data": {
      "text/plain": [
       "[[0, 1], [2, 3], [4, 5], [6, 7], [8, 9]]"
      ]
     },
     "execution_count": 73,
     "metadata": {},
     "output_type": "execute_result"
    }
   ],
   "source": [
    "partition(list(range(10)), 2, 0)"
   ]
  },
  {
   "cell_type": "code",
   "execution_count": 74,
   "metadata": {},
   "outputs": [
    {
     "data": {
      "text/plain": [
       "[[0, 1, 2], [3, 4, 5], [6, 7, 8]]"
      ]
     },
     "execution_count": 74,
     "metadata": {},
     "output_type": "execute_result"
    }
   ],
   "source": [
    "# only want length 3 partitions, so 9 was discarded\n",
    "\n",
    "partition(list(range(10)), 3, 0)"
   ]
  },
  {
   "cell_type": "code",
   "execution_count": 75,
   "metadata": {},
   "outputs": [
    {
     "data": {
      "text/plain": [
       "[[0, 1], [1, 2], [2, 3], [3, 4], [4, 5], [5, 6], [6, 7], [7, 8], [8, 9]]"
      ]
     },
     "execution_count": 75,
     "metadata": {},
     "output_type": "execute_result"
    }
   ],
   "source": [
    "partition(list(range(10)), 2, 1)"
   ]
  },
  {
   "cell_type": "code",
   "execution_count": 76,
   "metadata": {},
   "outputs": [
    {
     "data": {
      "text/plain": [
       "[[0, 1, 2, 3], [4, 5, 6, 7]]"
      ]
     },
     "execution_count": 76,
     "metadata": {},
     "output_type": "execute_result"
    }
   ],
   "source": [
    "partition(list(range(10)), 4, 0)"
   ]
  },
  {
   "cell_type": "code",
   "execution_count": 77,
   "metadata": {},
   "outputs": [
    {
     "data": {
      "text/plain": [
       "[[0, 1, 2, 3],\n",
       " [1, 2, 3, 4],\n",
       " [2, 3, 4, 5],\n",
       " [3, 4, 5, 6],\n",
       " [4, 5, 6, 7],\n",
       " [5, 6, 7, 8],\n",
       " [6, 7, 8, 9]]"
      ]
     },
     "execution_count": 77,
     "metadata": {},
     "output_type": "execute_result"
    }
   ],
   "source": [
    "partition(list(range(10)), 4, 3)"
   ]
  },
  {
   "cell_type": "markdown",
   "metadata": {},
   "source": [
    "# Problem 4a\n",
    "- write function 'expandlazy' \n",
    "- if given a 'lazy' range, zip, or enumerate, expand it into a list\n"
   ]
  },
  {
   "cell_type": "code",
   "execution_count": 24,
   "metadata": {},
   "outputs": [
    {
     "data": {
      "text/plain": [
       "[234, [0, 1, 2], 'asdf', [(0, 'a'), (1, 'b'), (2, 'c')]]"
      ]
     },
     "execution_count": 24,
     "metadata": {},
     "output_type": "execute_result"
    }
   ],
   "source": [
    "def expandlazy(thing):\n",
    "    if type(thing) == zip or type(thing) == range or type(thing) == enumerate:\n",
    "        expand = []\n",
    "        for i in thing:\n",
    "            expand.append(i)\n",
    "        return expand\n",
    "    else:\n",
    "        return thing\n",
    "[expandlazy(234), expandlazy(range(3)), expandlazy('asdf'), expandlazy(enumerate(['a','b','c']))]"
   ]
  },
  {
   "cell_type": "code",
   "execution_count": 80,
   "metadata": {},
   "outputs": [
    {
     "data": {
      "text/plain": [
       "[234, [0, 1, 2], 'asdf', [(0, 'a'), (1, 'b'), (2, 'c')]]"
      ]
     },
     "execution_count": 80,
     "metadata": {},
     "output_type": "execute_result"
    }
   ],
   "source": [
    "[expandlazy(234), expandlazy(range(3)), expandlazy('asdf'), expandlazy(enumerate(['a','b','c']))]"
   ]
  },
  {
   "cell_type": "markdown",
   "metadata": {},
   "source": [
    "# Problem 4b\n",
    "- write function 'expandlazylist' \n",
    "- expand any lazy elements of a non nested list"
   ]
  },
  {
   "cell_type": "code",
   "execution_count": 57,
   "metadata": {},
   "outputs": [
    {
     "data": {
      "text/plain": [
       "[1,\n",
       " 2,\n",
       " 3,\n",
       " [0, 1, 2, 3],\n",
       " 5,\n",
       " [(1, 4), (2, 5)],\n",
       " 'asdf',\n",
       " [(0, 'a'), (1, 'b'), (2, 'c')]]"
      ]
     },
     "execution_count": 57,
     "metadata": {},
     "output_type": "execute_result"
    }
   ],
   "source": [
    "x = [1,2,3, range(4), 5, zip([1,2,3], [4,5]), 'asdf', enumerate(['a', 'b', 'c'])]\n",
    "expandlazylist(x)"
   ]
  },
  {
   "cell_type": "markdown",
   "metadata": {},
   "source": [
    "# Problem 5\n",
    "- write function riffle\n",
    "- riffle takes an arbitrarily long list of strings\n",
    "- all the strings must be the same length\n",
    "- riffle returns a string of the strings riffled together\n",
    "- hints\n",
    "    - my version is 6 lines\n",
    "    - has nested for loops\n",
    "        - outer loop iterates over the position of chars in the strings\n",
    "        - inner loop iterates over the strings\n",
    "    - i accumulate a list of the characters in the riffled string\n",
    "    - i use range,len, append, join, string indexing\n",
    "    - there many ways to write this, try to keep it simple\n",
    "    - we will see a better way to write it later\n"
   ]
  },
  {
   "cell_type": "code",
   "execution_count": 59,
   "metadata": {},
   "outputs": [
    {
     "data": {
      "text/plain": [
       "'lsatrerayd'"
      ]
     },
     "execution_count": 59,
     "metadata": {},
     "output_type": "execute_result"
    }
   ],
   "source": [
    "riffle(['larry', 'stead'])"
   ]
  },
  {
   "cell_type": "code",
   "execution_count": 60,
   "metadata": {},
   "outputs": [
    {
     "data": {
      "text/plain": [
       "'a1x4b2y5c3z6'"
      ]
     },
     "execution_count": 60,
     "metadata": {},
     "output_type": "execute_result"
    }
   ],
   "source": [
    "riffle(['abc','123','xyz', '456'])"
   ]
  }
 ],
 "metadata": {
  "anaconda-cloud": {},
  "kernelspec": {
   "display_name": "Python 3",
   "language": "python",
   "name": "python3"
  },
  "language_info": {
   "codemirror_mode": {
    "name": "ipython",
    "version": 3
   },
   "file_extension": ".py",
   "mimetype": "text/x-python",
   "name": "python",
   "nbconvert_exporter": "python",
   "pygments_lexer": "ipython3",
   "version": "3.6.3"
  }
 },
 "nbformat": 4,
 "nbformat_minor": 1
}
