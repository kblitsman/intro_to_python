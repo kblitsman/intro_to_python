{
 "cells": [
  {
   "cell_type": "code",
   "execution_count": 58,
   "metadata": {
    "collapsed": true
   },
   "outputs": [],
   "source": [
    "# Ignore the code in this cell, but you must evaluate it\n",
    "# to make the memory diagrams below\n",
    "# you will need to install svgwrite\n",
    "# in a shell, do:\n",
    "# pip install svgwrite\n",
    "\n",
    "import svgwrite\n",
    "import collections\n",
    "\n",
    "nobinding = \"nobinding\"\n",
    "\n",
    "def binding(var):\n",
    "    try:\n",
    "        return eval(var)\n",
    "    except NameError:\n",
    "        return nobinding\n",
    "    \n",
    "class listis:\n",
    "    def __init__(self):\n",
    "        self.lis = []\n",
    "    def get(self, key):\n",
    "        for k,v in self.lis:\n",
    "            if key is k:\n",
    "                return v\n",
    "    def put(self, key, val):\n",
    "        new = True\n",
    "        for pair in self.lis:\n",
    "            if pair[0] is key:\n",
    "                pair[1].append(val)\n",
    "                new = False\n",
    "        if new:\n",
    "            self.lis.append([key, [val]])\n",
    "    def keys(self):\n",
    "        return [k for k,v in self.lis]\n",
    "\n",
    "class memgraph:\n",
    "    def __init__(self, vars):\n",
    "        self.vars = sorted(vars)\n",
    "        \n",
    "    def _repr_svg_(self):\n",
    "        d = svgwrite.Drawing(size=(800,200))\n",
    "\n",
    "        left = 100\n",
    "        right = 260\n",
    "        dy = 30\n",
    "        vv = listis()\n",
    "        ais = listis()\n",
    "        \n",
    "        for var in self.vars:\n",
    "            val = binding(var)\n",
    "            if val != nobinding:\n",
    "                vv.put(val,var)\n",
    "                ais.put(val, val)\n",
    "\n",
    "        vals = ais.keys()\n",
    "        vary = dict()\n",
    "        \n",
    "        y = dy\n",
    "        d.add(d.text(\"Variables\", insert=(left, y), text_anchor=\"end\", fill='blue'))\n",
    "        y += dy\n",
    "        \n",
    "        for var in self.vars:\n",
    "            d.add(d.text(var, insert=(left, y), text_anchor=\"end\", fill='black'))\n",
    "            vary[var] = y\n",
    "            y += dy\n",
    "\n",
    "        y = dy\n",
    "        d.add(d.text(\"Objects(in the Heap)\", insert=(right, y), fill='blue'))\n",
    "        y += dy\n",
    "        \n",
    "        for val in vals:\n",
    "            d.add(d.text(str(val), insert=(right, y), fill='black'))\n",
    "\n",
    "            for var in vv.get(val):\n",
    "                ly = vary[var]\n",
    "                d.add(d.line((left, ly ), (right, y),  stroke=svgwrite.rgb(90, 10, 16, '%')))\n",
    "            y += dy\n",
    "            \n",
    "        return d.tostring()\n",
    "\n",
    "    def svg(self):\n",
    "        return self._repr_svg_()\n",
    "\n"
   ]
  },
  {
   "cell_type": "markdown",
   "metadata": {},
   "source": [
    "# Classes\n",
    "- classes define \"templates or blueprints\" for building objects\n",
    "- once a class is defined, any number of objects can be \"constructed\", or \"instantiated\"\n",
    "- everything in Python is an 'object'\n",
    "    - not true in Java/C++\n",
    "- all python objects are stored in the 'heap'\n",
    "- each object has a fixed 'type', which can be accessed via the 'type' function\n",
    "- objects have attributes, which are \"named slots for objects\"\n",
    "- a 'method' is an attribute holding a function object, which can access and modify the object attributes\n",
    "- class methods are invoked by functions, operators, and the \".\" syntax. \n",
    "- examples below in 'List'"
   ]
  },
  {
   "cell_type": "markdown",
   "metadata": {},
   "source": [
    "# Numbers\n",
    "- int - arbitrary precision\n",
    "- float - 64 bits\n",
    "- complex\n"
   ]
  },
  {
   "cell_type": "code",
   "execution_count": 59,
   "metadata": {},
   "outputs": [
    {
     "data": {
      "text/plain": [
       "1234"
      ]
     },
     "execution_count": 59,
     "metadata": {},
     "output_type": "execute_result"
    }
   ],
   "source": [
    "# anything on a line after a '#\" is \n",
    "# a comment and ignored by Python\n",
    "# numbers evaluate to themselves\n",
    "\n",
    "1234 "
   ]
  },
  {
   "cell_type": "code",
   "execution_count": 60,
   "metadata": {},
   "outputs": [
    {
     "data": {
      "text/plain": [
       "4"
      ]
     },
     "execution_count": 60,
     "metadata": {},
     "output_type": "execute_result"
    }
   ],
   "source": [
    "# Python has the usual arithmetic operators\n",
    "\n",
    "3*4 - 2**3"
   ]
  },
  {
   "cell_type": "code",
   "execution_count": 61,
   "metadata": {},
   "outputs": [
    {
     "data": {
      "text/plain": [
       "2.810413160023719"
      ]
     },
     "execution_count": 61,
     "metadata": {},
     "output_type": "execute_result"
    }
   ],
   "source": [
    "# a float \"contaminates\" an expression and \n",
    "# makes it a float\n",
    "\n",
    "3*4 - 2**3.2"
   ]
  },
  {
   "cell_type": "code",
   "execution_count": 62,
   "metadata": {},
   "outputs": [
    {
     "data": {
      "text/plain": [
       "1809251394333065553493296640760748560207343510400633813116524750123642650624"
      ]
     },
     "execution_count": 62,
     "metadata": {},
     "output_type": "execute_result"
    }
   ],
   "source": [
    "# arbitrary precision integers\n",
    "# integer size limited only by available memory\n",
    "\n",
    "2**250"
   ]
  },
  {
   "cell_type": "code",
   "execution_count": 63,
   "metadata": {},
   "outputs": [
    {
     "data": {
      "text/plain": [
       "int"
      ]
     },
     "execution_count": 63,
     "metadata": {},
     "output_type": "execute_result"
    }
   ],
   "source": [
    "# 'type' returns the type or class name of an object\n",
    "\n",
    "type(2**100)"
   ]
  },
  {
   "cell_type": "markdown",
   "metadata": {},
   "source": [
    "### Division operators \n",
    "- slightly different from most languages\n",
    "- with integers\n",
    "\n"
   ]
  },
  {
   "cell_type": "code",
   "execution_count": 64,
   "metadata": {},
   "outputs": [
    {
     "data": {
      "text/plain": [
       "3.5"
      ]
     },
     "execution_count": 64,
     "metadata": {},
     "output_type": "execute_result"
    }
   ],
   "source": [
    "# in most languages this would be an int,\n",
    "# but in Python, it is a float\n",
    "\n",
    "7/2"
   ]
  },
  {
   "cell_type": "code",
   "execution_count": 65,
   "metadata": {},
   "outputs": [
    {
     "data": {
      "text/plain": [
       "3"
      ]
     },
     "execution_count": 65,
     "metadata": {},
     "output_type": "execute_result"
    }
   ],
   "source": [
    "# // is integer divide\n",
    "\n",
    "7//2\n"
   ]
  },
  {
   "cell_type": "code",
   "execution_count": 66,
   "metadata": {},
   "outputs": [
    {
     "data": {
      "text/plain": [
       "1"
      ]
     },
     "execution_count": 66,
     "metadata": {},
     "output_type": "execute_result"
    }
   ],
   "source": [
    "# mod or remainder\n",
    "\n",
    "7%2"
   ]
  },
  {
   "cell_type": "markdown",
   "metadata": {},
   "source": [
    "### Division operators \n",
    "- with floats\n"
   ]
  },
  {
   "cell_type": "code",
   "execution_count": 67,
   "metadata": {},
   "outputs": [
    {
     "data": {
      "text/plain": [
       "3.5"
      ]
     },
     "execution_count": 67,
     "metadata": {},
     "output_type": "execute_result"
    }
   ],
   "source": [
    "7.0 / 2.0"
   ]
  },
  {
   "cell_type": "code",
   "execution_count": 68,
   "metadata": {},
   "outputs": [
    {
     "data": {
      "text/plain": [
       "3.0"
      ]
     },
     "execution_count": 68,
     "metadata": {},
     "output_type": "execute_result"
    }
   ],
   "source": [
    "7.0 // 2.0"
   ]
  },
  {
   "cell_type": "code",
   "execution_count": 69,
   "metadata": {},
   "outputs": [
    {
     "data": {
      "text/plain": [
       "1.0"
      ]
     },
     "execution_count": 69,
     "metadata": {},
     "output_type": "execute_result"
    }
   ],
   "source": [
    "7.0 % 2.0"
   ]
  },
  {
   "cell_type": "code",
   "execution_count": 70,
   "metadata": {},
   "outputs": [
    {
     "data": {
      "text/plain": [
       "3000.0"
      ]
     },
     "execution_count": 70,
     "metadata": {},
     "output_type": "execute_result"
    }
   ],
   "source": [
    "# XeY is X*10^Y\n",
    "\n",
    "3e3"
   ]
  },
  {
   "cell_type": "code",
   "execution_count": 71,
   "metadata": {},
   "outputs": [
    {
     "data": {
      "text/plain": [
       "6899.999999999999"
      ]
     },
     "execution_count": 71,
     "metadata": {},
     "output_type": "execute_result"
    }
   ],
   "source": [
    "2.3 * 3e3"
   ]
  },
  {
   "cell_type": "markdown",
   "metadata": {},
   "source": [
    "### Complex numbers "
   ]
  },
  {
   "cell_type": "code",
   "execution_count": 72,
   "metadata": {},
   "outputs": [
    {
     "data": {
      "text/plain": [
       "[(25+0j), complex]"
      ]
     },
     "execution_count": 72,
     "metadata": {},
     "output_type": "execute_result"
    }
   ],
   "source": [
    "# a complex number times its conjagate is real \n",
    "# j is the square root of -1\n",
    "# type name is 'complex'\n",
    "\n",
    "[(3+4j)*(3-4j), type(3+4j)]"
   ]
  },
  {
   "cell_type": "code",
   "execution_count": 73,
   "metadata": {},
   "outputs": [
    {
     "data": {
      "text/plain": [
       "2345"
      ]
     },
     "execution_count": 73,
     "metadata": {},
     "output_type": "execute_result"
    }
   ],
   "source": [
    "# int function tries to convert arg to an int\n",
    "\n",
    "int('2345')"
   ]
  },
  {
   "cell_type": "code",
   "execution_count": 74,
   "metadata": {},
   "outputs": [
    {
     "data": {
      "text/plain": [
       "3"
      ]
     },
     "execution_count": 74,
     "metadata": {},
     "output_type": "execute_result"
    }
   ],
   "source": [
    "int(3.45)"
   ]
  },
  {
   "cell_type": "code",
   "execution_count": 75,
   "metadata": {},
   "outputs": [
    {
     "data": {
      "text/plain": [
       "3.45"
      ]
     },
     "execution_count": 75,
     "metadata": {},
     "output_type": "execute_result"
    }
   ],
   "source": [
    "# likewise for float\n",
    "\n",
    "float('3.45')"
   ]
  },
  {
   "cell_type": "code",
   "execution_count": 76,
   "metadata": {},
   "outputs": [
    {
     "data": {
      "text/plain": [
       "3.0"
      ]
     },
     "execution_count": 76,
     "metadata": {},
     "output_type": "execute_result"
    }
   ],
   "source": [
    "float(3)"
   ]
  },
  {
   "cell_type": "markdown",
   "metadata": {},
   "source": [
    "# Object references and variables\n",
    "- variables hold 'references' to objects. \n",
    "- variables do not have or enforce any notion of type\n",
    "- a given object can have any number of references to it\n",
    "- there are TWO notions of equality in Python\n",
    "    - the 'is' operator is true if the two references are to the same object\n",
    "    - the '==' operator is true if\n",
    "        - the two references are to the same object, or two different objects that \"print the same way\"(vague!! we will refine later)"
   ]
  },
  {
   "cell_type": "code",
   "execution_count": 77,
   "metadata": {},
   "outputs": [
    {
     "data": {
      "image/svg+xml": [
       "<svg baseProfile=\"full\" height=\"200\" version=\"1.1\" width=\"800\" xmlns=\"http://www.w3.org/2000/svg\" xmlns:ev=\"http://www.w3.org/2001/xml-events\" xmlns:xlink=\"http://www.w3.org/1999/xlink\"><defs /><text fill=\"blue\" text-anchor=\"end\" x=\"100\" y=\"30\">Variables</text><text fill=\"black\" text-anchor=\"end\" x=\"100\" y=\"60\">x</text><text fill=\"black\" text-anchor=\"end\" x=\"100\" y=\"90\">y</text><text fill=\"black\" text-anchor=\"end\" x=\"100\" y=\"120\">z</text><text fill=\"blue\" x=\"260\" y=\"30\">Objects(in the Heap)</text><text fill=\"black\" x=\"260\" y=\"60\">123456</text><line stroke=\"rgb(90%,10%,16%)\" x1=\"100\" x2=\"260\" y1=\"60\" y2=\"60\" /><text fill=\"black\" x=\"260\" y=\"90\">123456</text><line stroke=\"rgb(90%,10%,16%)\" x1=\"100\" x2=\"260\" y1=\"90\" y2=\"90\" /><line stroke=\"rgb(90%,10%,16%)\" x1=\"100\" x2=\"260\" y1=\"120\" y2=\"90\" /></svg>"
      ],
      "text/plain": [
       "<__main__.memgraph at 0x1122efa90>"
      ]
     },
     "execution_count": 77,
     "metadata": {},
     "output_type": "execute_result"
    }
   ],
   "source": [
    "x = 123456\n",
    "y = 123456\n",
    "z = y\n",
    "\n",
    "# graph memory\n",
    "\n",
    "memgraph(['x', 'y','z'])\n"
   ]
  },
  {
   "cell_type": "code",
   "execution_count": 78,
   "metadata": {},
   "outputs": [
    {
     "data": {
      "text/plain": [
       "False"
      ]
     },
     "execution_count": 78,
     "metadata": {},
     "output_type": "execute_result"
    }
   ],
   "source": [
    "# are x & y references to the same object?\n",
    "\n",
    "x is y"
   ]
  },
  {
   "cell_type": "code",
   "execution_count": 79,
   "metadata": {},
   "outputs": [
    {
     "data": {
      "text/plain": [
       "True"
      ]
     },
     "execution_count": 79,
     "metadata": {},
     "output_type": "execute_result"
    }
   ],
   "source": [
    "# are y & z references to the same object?\n",
    "\n",
    "y is z"
   ]
  },
  {
   "cell_type": "code",
   "execution_count": 80,
   "metadata": {},
   "outputs": [
    {
     "data": {
      "text/plain": [
       "True"
      ]
     },
     "execution_count": 80,
     "metadata": {},
     "output_type": "execute_result"
    }
   ],
   "source": [
    "# y is z => y == z\n",
    "\n",
    "y == z"
   ]
  },
  {
   "cell_type": "code",
   "execution_count": 81,
   "metadata": {},
   "outputs": [
    {
     "data": {
      "text/plain": [
       "True"
      ]
     },
     "execution_count": 81,
     "metadata": {},
     "output_type": "execute_result"
    }
   ],
   "source": [
    "# are x & y 'equivalent' in some sense?\n",
    "# yes - x & y are different objects, \n",
    "# but they represent the same integer\n",
    "\n",
    "x == y"
   ]
  },
  {
   "cell_type": "markdown",
   "metadata": {},
   "source": [
    "# Singletons\n",
    "- given a 'singleton object', any object that is '==' to it, is actually the same object - there is only one of 'them'\n",
    "- put another way, a singleton class always has at most a single instance"
   ]
  },
  {
   "cell_type": "code",
   "execution_count": 82,
   "metadata": {},
   "outputs": [
    {
     "data": {
      "image/svg+xml": [
       "<svg baseProfile=\"full\" height=\"200\" version=\"1.1\" width=\"800\" xmlns=\"http://www.w3.org/2000/svg\" xmlns:ev=\"http://www.w3.org/2001/xml-events\" xmlns:xlink=\"http://www.w3.org/1999/xlink\"><defs /><text fill=\"blue\" text-anchor=\"end\" x=\"100\" y=\"30\">Variables</text><text fill=\"black\" text-anchor=\"end\" x=\"100\" y=\"60\">a</text><text fill=\"black\" text-anchor=\"end\" x=\"100\" y=\"90\">b</text><text fill=\"black\" text-anchor=\"end\" x=\"100\" y=\"120\">c</text><text fill=\"black\" text-anchor=\"end\" x=\"100\" y=\"150\">d</text><text fill=\"black\" text-anchor=\"end\" x=\"100\" y=\"180\">e</text><text fill=\"blue\" x=\"260\" y=\"30\">Objects(in the Heap)</text><text fill=\"black\" x=\"260\" y=\"60\">4</text><line stroke=\"rgb(90%,10%,16%)\" x1=\"100\" x2=\"260\" y1=\"60\" y2=\"60\" /><line stroke=\"rgb(90%,10%,16%)\" x1=\"100\" x2=\"260\" y1=\"90\" y2=\"60\" /><line stroke=\"rgb(90%,10%,16%)\" x1=\"100\" x2=\"260\" y1=\"120\" y2=\"60\" /><line stroke=\"rgb(90%,10%,16%)\" x1=\"100\" x2=\"260\" y1=\"150\" y2=\"60\" /><line stroke=\"rgb(90%,10%,16%)\" x1=\"100\" x2=\"260\" y1=\"180\" y2=\"60\" /></svg>"
      ],
      "text/plain": [
       "<__main__.memgraph at 0x11230e358>"
      ]
     },
     "execution_count": 82,
     "metadata": {},
     "output_type": "execute_result"
    }
   ],
   "source": [
    "# if we try a small int, like 4, instead of 123456, \n",
    "# we get a different result!\n",
    "\n",
    "# small ints are singletons(interned) for efficiency reasons.\n",
    "# so, no matter how you compute a '4', \n",
    "# you'll get the same '4 object'\n",
    "\n",
    "a = 4\n",
    "b = 4\n",
    "c = 6 - 2\n",
    "d = 2*2\n",
    "e = 2**2\n",
    "memgraph(['a','b','c','d','e'])"
   ]
  },
  {
   "cell_type": "code",
   "execution_count": 83,
   "metadata": {},
   "outputs": [
    {
     "data": {
      "image/svg+xml": [
       "<svg baseProfile=\"full\" height=\"200\" version=\"1.1\" width=\"800\" xmlns=\"http://www.w3.org/2000/svg\" xmlns:ev=\"http://www.w3.org/2001/xml-events\" xmlns:xlink=\"http://www.w3.org/1999/xlink\"><defs /><text fill=\"blue\" text-anchor=\"end\" x=\"100\" y=\"30\">Variables</text><text fill=\"black\" text-anchor=\"end\" x=\"100\" y=\"60\">a</text><text fill=\"black\" text-anchor=\"end\" x=\"100\" y=\"90\">b</text><text fill=\"black\" text-anchor=\"end\" x=\"100\" y=\"120\">c</text><text fill=\"black\" text-anchor=\"end\" x=\"100\" y=\"150\">d</text><text fill=\"black\" text-anchor=\"end\" x=\"100\" y=\"180\">e</text><text fill=\"blue\" x=\"260\" y=\"30\">Objects(in the Heap)</text><text fill=\"black\" x=\"260\" y=\"60\">1.0</text><line stroke=\"rgb(90%,10%,16%)\" x1=\"100\" x2=\"260\" y1=\"60\" y2=\"60\" /><text fill=\"black\" x=\"260\" y=\"90\">1.0</text><line stroke=\"rgb(90%,10%,16%)\" x1=\"100\" x2=\"260\" y1=\"90\" y2=\"90\" /><text fill=\"black\" x=\"260\" y=\"120\">4.0</text><line stroke=\"rgb(90%,10%,16%)\" x1=\"100\" x2=\"260\" y1=\"120\" y2=\"120\" /><text fill=\"black\" x=\"260\" y=\"150\">4.0</text><line stroke=\"rgb(90%,10%,16%)\" x1=\"100\" x2=\"260\" y1=\"150\" y2=\"150\" /><text fill=\"black\" x=\"260\" y=\"180\">1.0</text><line stroke=\"rgb(90%,10%,16%)\" x1=\"100\" x2=\"260\" y1=\"180\" y2=\"180\" /></svg>"
      ],
      "text/plain": [
       "<__main__.memgraph at 0x11230e208>"
      ]
     },
     "execution_count": 83,
     "metadata": {},
     "output_type": "execute_result"
    }
   ],
   "source": [
    "# small floats are not singletons/interned\n",
    "\n",
    "a = 1.0\n",
    "b = 1.0\n",
    "c = 2.0 * 2.0\n",
    "d = 4.0\n",
    "e = 2.0/2.0\n",
    "memgraph(['a','b','c','d','e'])"
   ]
  },
  {
   "cell_type": "markdown",
   "metadata": {},
   "source": [
    "# Automatic memory Management\n",
    "- when an object has no references to it, it becomes eligible for 'garbage collection'. the storage it uses is recycled\n",
    "    - Python uses reference counting\n",
    "- the user does not have to manage allocating and freeing memory, like Java, unlike C++\n",
    "- very important feature - studies show even excellent programmers usually can't do memory management correctly"
   ]
  },
  {
   "cell_type": "markdown",
   "metadata": {},
   "source": [
    "# None\n",
    "- Like 'null' in other languages\n",
    "- Means failure or absence of a value\n",
    "- is a singleton(there is only one object of class None)\n",
    "- does not print at top level"
   ]
  },
  {
   "cell_type": "code",
   "execution_count": 84,
   "metadata": {
    "collapsed": true
   },
   "outputs": [],
   "source": [
    "# no output!\n",
    "\n",
    "None"
   ]
  },
  {
   "cell_type": "code",
   "execution_count": 85,
   "metadata": {},
   "outputs": [
    {
     "name": "stdout",
     "output_type": "stream",
     "text": [
      "None\n"
     ]
    }
   ],
   "source": [
    "# explicit print will show it\n",
    "\n",
    "print(None)"
   ]
  },
  {
   "cell_type": "code",
   "execution_count": 86,
   "metadata": {},
   "outputs": [
    {
     "data": {
      "image/svg+xml": [
       "<svg baseProfile=\"full\" height=\"200\" version=\"1.1\" width=\"800\" xmlns=\"http://www.w3.org/2000/svg\" xmlns:ev=\"http://www.w3.org/2001/xml-events\" xmlns:xlink=\"http://www.w3.org/1999/xlink\"><defs /><text fill=\"blue\" text-anchor=\"end\" x=\"100\" y=\"30\">Variables</text><text fill=\"black\" text-anchor=\"end\" x=\"100\" y=\"60\">x</text><text fill=\"black\" text-anchor=\"end\" x=\"100\" y=\"90\">y</text><text fill=\"blue\" x=\"260\" y=\"30\">Objects(in the Heap)</text><text fill=\"black\" x=\"260\" y=\"60\">None</text><line stroke=\"rgb(90%,10%,16%)\" x1=\"100\" x2=\"260\" y1=\"60\" y2=\"60\" /><line stroke=\"rgb(90%,10%,16%)\" x1=\"100\" x2=\"260\" y1=\"90\" y2=\"60\" /></svg>"
      ],
      "text/plain": [
       "<__main__.memgraph at 0x11230e3c8>"
      ]
     },
     "execution_count": 86,
     "metadata": {},
     "output_type": "execute_result"
    }
   ],
   "source": [
    "x = None\n",
    "y = None\n",
    "\n",
    "memgraph(['x', 'y'])"
   ]
  },
  {
   "cell_type": "markdown",
   "metadata": {},
   "source": [
    "# Booleans\n",
    "+ Objects: False, True(both singletons)\n",
    "+ Operators on Booleans: 'not', 'and', 'or'\n",
    "- Comparisons that yield Booleans:\n",
    "    - <\n",
    "    - <\n",
    "    - <=\n",
    "    - =>\n",
    "- unlike many languages, &, &&, |, ||, ~, are not boolean operators"
   ]
  },
  {
   "cell_type": "code",
   "execution_count": 87,
   "metadata": {},
   "outputs": [
    {
     "data": {
      "text/plain": [
       "False"
      ]
     },
     "execution_count": 87,
     "metadata": {},
     "output_type": "execute_result"
    }
   ],
   "source": [
    "not(True and (True or False))"
   ]
  },
  {
   "cell_type": "code",
   "execution_count": 88,
   "metadata": {},
   "outputs": [
    {
     "data": {
      "text/plain": [
       "True"
      ]
     },
     "execution_count": 88,
     "metadata": {},
     "output_type": "execute_result"
    }
   ],
   "source": [
    "1234<=1234"
   ]
  },
  {
   "cell_type": "code",
   "execution_count": 89,
   "metadata": {},
   "outputs": [
    {
     "data": {
      "text/plain": [
       "True"
      ]
     },
     "execution_count": 89,
     "metadata": {},
     "output_type": "execute_result"
    }
   ],
   "source": [
    "123<345"
   ]
  },
  {
   "cell_type": "markdown",
   "metadata": {},
   "source": [
    "# Functions\n",
    "- functions are \"first class\" objects in Python - they can be assigned as variables, passed as args, and returned from functions\n",
    "- functions are (mostly) immutable objects\n",
    "- by default, functions return 'None' - you must use the 'return' statement to return a value\n",
    "- note the ':' at the end of the first line, and the indenting of the function body. this is how you define a 'statement block' in python\n",
    "- usually indent by using tab key\n",
    "- Java/C++ uses '{...}' for statement blocks\n",
    "- much more about functions later"
   ]
  },
  {
   "cell_type": "code",
   "execution_count": 91,
   "metadata": {
    "collapsed": true
   },
   "outputs": [],
   "source": [
    "# returns 'None', so no output,\n",
    "# seems like nothing happened\n",
    "\n",
    "def add2(x):\n",
    "    x + 2\n",
    "\n",
    "add2(3)"
   ]
  },
  {
   "cell_type": "code",
   "execution_count": 92,
   "metadata": {},
   "outputs": [
    {
     "data": {
      "text/plain": [
       "5"
      ]
     },
     "execution_count": 92,
     "metadata": {},
     "output_type": "execute_result"
    }
   ],
   "source": [
    "# must use return\n",
    "\n",
    "def add2(x):\n",
    "    return x + 2\n",
    "\n",
    "add2(3)"
   ]
  },
  {
   "cell_type": "markdown",
   "metadata": {},
   "source": [
    "# Immutable vs Mutable Objects\n",
    "- Immutable objects, once created, can never be modified\n",
    "- Mutable objects can be modified at any time"
   ]
  },
  {
   "cell_type": "markdown",
   "metadata": {},
   "source": [
    "# Collection Types \n",
    "+ hold multiple objects in various configurations\n",
    "+ several kinds are built into the language\n",
    "+ can write \"collection literals\"\n",
    "- very easy to use"
   ]
  },
  {
   "cell_type": "markdown",
   "metadata": {},
   "source": [
    "# list\n",
    "- the heart of Python\n",
    "- much of the \"art\" of Python involves getting good at manipulating lists\n",
    "- a list holds a ordered sequence of objects\n",
    "- duplicates are allowed\n",
    "- list objects do not have to be the same type\n",
    "- lists are zero origin - index of first element is 0\n",
    "- lists are mutable\n",
    "- some methods, like 'index' and 'count', have no 'side effects' - they don't modify the list\n",
    "- others, like reverse, modify the list\n",
    "- methods that modify the list typically return 'None'\n",
    "- type name is 'list'"
   ]
  },
  {
   "cell_type": "code",
   "execution_count": 93,
   "metadata": {},
   "outputs": [
    {
     "data": {
      "text/plain": [
       "['foo', 'bar']"
      ]
     },
     "execution_count": 93,
     "metadata": {},
     "output_type": "execute_result"
    }
   ],
   "source": [
    "# can make a list by just typing it in\n",
    "# don't need to use an API\n",
    "\n",
    "['foo', 'bar']"
   ]
  },
  {
   "cell_type": "raw",
   "metadata": {},
   "source": [
    "java version of above might look like:\n",
    "\n",
    "ArrayList<String> list = new ArrayList<String>();\n",
    "\n",
    "list.add(\"foo\");\n",
    "\n",
    "list.add(\"bar\");\n",
    "\n",
    "java code is quite a bit more complex"
   ]
  },
  {
   "cell_type": "code",
   "execution_count": 94,
   "metadata": {},
   "outputs": [
    {
     "data": {
      "text/plain": [
       "list"
      ]
     },
     "execution_count": 94,
     "metadata": {},
     "output_type": "execute_result"
    }
   ],
   "source": [
    "type([2,3,4])"
   ]
  },
  {
   "cell_type": "markdown",
   "metadata": {},
   "source": [
    "# range \n",
    "- the 'range' form specifies a set of numbers \n",
    "- often used for iteration purposes\n",
    "- range evaluates to itself\n",
    "- range arguments are inclusive/exclusive\n",
    "- range is our first example of \"lazy evaluation\"\n",
    "    - major theme in Python 3.X"
   ]
  },
  {
   "cell_type": "code",
   "execution_count": 95,
   "metadata": {},
   "outputs": [
    {
     "data": {
      "text/plain": [
       "range(0, 10)"
      ]
     },
     "execution_count": 95,
     "metadata": {},
     "output_type": "execute_result"
    }
   ],
   "source": [
    "range(0, 10)"
   ]
  },
  {
   "cell_type": "code",
   "execution_count": 96,
   "metadata": {},
   "outputs": [
    {
     "data": {
      "text/plain": [
       "[0, 1, 2, 3, 4, 5, 6, 7, 8, 9]"
      ]
     },
     "execution_count": 96,
     "metadata": {},
     "output_type": "execute_result"
    }
   ],
   "source": [
    "# to see the corresponding list, use the list function\n",
    "# note no 10 in the list\n",
    "\n",
    "list(range(0, 10))"
   ]
  },
  {
   "cell_type": "code",
   "execution_count": 97,
   "metadata": {},
   "outputs": [
    {
     "data": {
      "text/plain": [
       "[0, 1, 2, 3, 4, 5, 6, 7, 8, 9]"
      ]
     },
     "execution_count": 97,
     "metadata": {},
     "output_type": "execute_result"
    }
   ],
   "source": [
    "# same as above, assume 0 start\n",
    "\n",
    "list(range(10))"
   ]
  },
  {
   "cell_type": "code",
   "execution_count": 98,
   "metadata": {},
   "outputs": [
    {
     "data": {
      "text/plain": [
       "[0, 2, 4, 6, 8]"
      ]
     },
     "execution_count": 98,
     "metadata": {},
     "output_type": "execute_result"
    }
   ],
   "source": [
    "# 3rd arg is increment\n",
    "\n",
    "list(range(0, 10, 2))"
   ]
  },
  {
   "cell_type": "code",
   "execution_count": 99,
   "metadata": {},
   "outputs": [
    {
     "data": {
      "text/plain": [
       "[12, 9, 6, 3]"
      ]
     },
     "execution_count": 99,
     "metadata": {},
     "output_type": "execute_result"
    }
   ],
   "source": [
    "# can go backwards too \n",
    "# note no 0 in list\n",
    "\n",
    "list(range(12, 0, -3))"
   ]
  },
  {
   "cell_type": "code",
   "execution_count": 100,
   "metadata": {},
   "outputs": [
    {
     "data": {
      "text/plain": [
       "4"
      ]
     },
     "execution_count": 100,
     "metadata": {},
     "output_type": "execute_result"
    }
   ],
   "source": [
    "# 'len' can get the number of ints \n",
    "# the range represents\n",
    "\n",
    "len(range(12, 0, -3))"
   ]
  },
  {
   "cell_type": "code",
   "execution_count": 101,
   "metadata": {},
   "outputs": [
    {
     "data": {
      "text/plain": [
       "False"
      ]
     },
     "execution_count": 101,
     "metadata": {},
     "output_type": "execute_result"
    }
   ],
   "source": [
    "# order matters for lists\n",
    "# same elements, but wrong order\n",
    "\n",
    "[1,2,3] == [2,1,3]"
   ]
  },
  {
   "cell_type": "code",
   "execution_count": 102,
   "metadata": {},
   "outputs": [
    {
     "data": {
      "text/plain": [
       "True"
      ]
     },
     "execution_count": 102,
     "metadata": {},
     "output_type": "execute_result"
    }
   ],
   "source": [
    "# same elements, same order\n",
    "\n",
    "[2,1,3] == [2,1,3]"
   ]
  },
  {
   "cell_type": "code",
   "execution_count": 103,
   "metadata": {},
   "outputs": [
    {
     "data": {
      "text/plain": [
       "False"
      ]
     },
     "execution_count": 103,
     "metadata": {},
     "output_type": "execute_result"
    }
   ],
   "source": [
    "# but not the same list\n",
    "\n",
    "[2,1,3] is [2,1,3]"
   ]
  },
  {
   "cell_type": "code",
   "execution_count": 104,
   "metadata": {},
   "outputs": [
    {
     "data": {
      "text/plain": [
       "[1, 1, 2, 3]"
      ]
     },
     "execution_count": 104,
     "metadata": {},
     "output_type": "execute_result"
    }
   ],
   "source": [
    "# duplicates are ok in a list\n",
    "\n",
    "[1,1,2,3]"
   ]
  },
  {
   "cell_type": "code",
   "execution_count": 105,
   "metadata": {},
   "outputs": [
    {
     "data": {
      "text/plain": [
       "[100, 111.111, 'zap', True, None, 10]"
      ]
     },
     "execution_count": 105,
     "metadata": {},
     "output_type": "execute_result"
    }
   ],
   "source": [
    "# the assigment statement does not print the \n",
    "# right hand side value\n",
    "\n",
    "# a list can hold different types\n",
    "\n",
    "x = [100, 111.111, \"zap\", True, None, 10]\n",
    "y = x\n",
    "x"
   ]
  },
  {
   "cell_type": "code",
   "execution_count": 106,
   "metadata": {},
   "outputs": [
    {
     "data": {
      "text/plain": [
       "[100, 111.111, 'zap', True, None, 10]"
      ]
     },
     "execution_count": 106,
     "metadata": {},
     "output_type": "execute_result"
    }
   ],
   "source": [
    "# a variable by itself prints its value\n",
    "\n",
    "x"
   ]
  },
  {
   "cell_type": "code",
   "execution_count": 107,
   "metadata": {},
   "outputs": [
    {
     "data": {
      "text/plain": [
       "6"
      ]
     },
     "execution_count": 107,
     "metadata": {},
     "output_type": "execute_result"
    }
   ],
   "source": [
    "# len returns the length of a list\n",
    "\n",
    "len(x)"
   ]
  },
  {
   "cell_type": "code",
   "execution_count": 108,
   "metadata": {},
   "outputs": [
    {
     "data": {
      "text/plain": [
       "0"
      ]
     },
     "execution_count": 108,
     "metadata": {},
     "output_type": "execute_result"
    }
   ],
   "source": [
    "# 'count' method returns a value, does not modify the list\n",
    "# count the number of '2343's\n",
    "# here the 'dot syntax' is used to \n",
    "# invoke the list 'count method' \n",
    "\n",
    "x.count(2343)"
   ]
  },
  {
   "cell_type": "code",
   "execution_count": 109,
   "metadata": {},
   "outputs": [
    {
     "data": {
      "text/plain": [
       "1"
      ]
     },
     "execution_count": 109,
     "metadata": {},
     "output_type": "execute_result"
    }
   ],
   "source": [
    "x.count(111.111)"
   ]
  },
  {
   "cell_type": "code",
   "execution_count": 110,
   "metadata": {},
   "outputs": [
    {
     "data": {
      "text/plain": [
       "[100, 111.111, 'zap', True, None, 10]"
      ]
     },
     "execution_count": 110,
     "metadata": {},
     "output_type": "execute_result"
    }
   ],
   "source": [
    "x"
   ]
  },
  {
   "cell_type": "code",
   "execution_count": 111,
   "metadata": {},
   "outputs": [
    {
     "data": {
      "text/plain": [
       "[100, 111.111, 'zap', True, None, 10]"
      ]
     },
     "execution_count": 111,
     "metadata": {},
     "output_type": "execute_result"
    }
   ],
   "source": [
    "y"
   ]
  },
  {
   "cell_type": "code",
   "execution_count": 112,
   "metadata": {},
   "outputs": [
    {
     "data": {
      "text/plain": [
       "True"
      ]
     },
     "execution_count": 112,
     "metadata": {},
     "output_type": "execute_result"
    }
   ],
   "source": [
    "# x and y reference the same object\n",
    "\n",
    "x is y"
   ]
  },
  {
   "cell_type": "code",
   "execution_count": 113,
   "metadata": {
    "collapsed": true
   },
   "outputs": [],
   "source": [
    "# reverse returns None - a hint that it modifies the list\n",
    "# the 'reverse method' on the list class is invoked\n",
    "\n",
    "x.reverse()"
   ]
  },
  {
   "cell_type": "code",
   "execution_count": 114,
   "metadata": {},
   "outputs": [
    {
     "data": {
      "text/plain": [
       "[10, None, True, 'zap', 111.111, 100]"
      ]
     },
     "execution_count": 114,
     "metadata": {},
     "output_type": "execute_result"
    }
   ],
   "source": [
    "x"
   ]
  },
  {
   "cell_type": "code",
   "execution_count": 115,
   "metadata": {},
   "outputs": [
    {
     "data": {
      "text/plain": [
       "[10, None, True, 'zap', 111.111, 100]"
      ]
     },
     "execution_count": 115,
     "metadata": {},
     "output_type": "execute_result"
    }
   ],
   "source": [
    "# what happened to y?\n",
    "# we didn't explicitly do anything to y, but\n",
    "# since y references the same object as x,\n",
    "# it 'sees' the reverse that x.reverse() did\n",
    "\n",
    "y"
   ]
  },
  {
   "cell_type": "code",
   "execution_count": 116,
   "metadata": {},
   "outputs": [
    {
     "name": "stdout",
     "output_type": "stream",
     "text": [
      "None\n"
     ]
    }
   ],
   "source": [
    "# very common mistake \n",
    "# reverse does NOT return the reversed list - \n",
    "# it just returns None!\n",
    "# so if you do this, you just lost your list!\n",
    "\n",
    "z = [1,2,3,4,5,6]\n",
    "z = z.reverse()\n",
    "print(z)"
   ]
  },
  {
   "cell_type": "code",
   "execution_count": 117,
   "metadata": {},
   "outputs": [
    {
     "data": {
      "text/plain": [
       "<function list.reverse>"
      ]
     },
     "execution_count": 117,
     "metadata": {},
     "output_type": "execute_result"
    }
   ],
   "source": [
    "# Another common mistake \n",
    "# leaving off the '()' just \n",
    "# returns the function object\n",
    "# but the reverse function does NOT run\n",
    "\n",
    "z = [1,2,3,4,5,6]\n",
    "z.reverse"
   ]
  },
  {
   "cell_type": "code",
   "execution_count": 118,
   "metadata": {},
   "outputs": [
    {
     "data": {
      "text/plain": [
       "[1, 2, 3, 4, 5, 6]"
      ]
     },
     "execution_count": 118,
     "metadata": {},
     "output_type": "execute_result"
    }
   ],
   "source": [
    "# so no change to z\n",
    "\n",
    "z"
   ]
  },
  {
   "cell_type": "markdown",
   "metadata": {},
   "source": [
    "# Indexing and Slicing"
   ]
  },
  {
   "cell_type": "code",
   "execution_count": 46,
   "metadata": {},
   "outputs": [
    {
     "data": {
      "text/plain": [
       "[100, 111.111, 'zap', True, None, 10]"
      ]
     },
     "execution_count": 46,
     "metadata": {},
     "output_type": "execute_result"
    }
   ],
   "source": [
    "x"
   ]
  },
  {
   "cell_type": "code",
   "execution_count": 119,
   "metadata": {},
   "outputs": [
    {
     "data": {
      "text/plain": [
       "10"
      ]
     },
     "execution_count": 119,
     "metadata": {},
     "output_type": "execute_result"
    }
   ],
   "source": [
    "# Python has very convenient techniques \n",
    "# for accessing and modifying list elements \n",
    "# can index into the list like an array, \n",
    "# and retrieve one element\n",
    "# arrays are \"zero origin\" - first index is 0\n",
    "\n",
    "x[0]"
   ]
  },
  {
   "cell_type": "code",
   "execution_count": 120,
   "metadata": {},
   "outputs": [
    {
     "data": {
      "text/plain": [
       "100"
      ]
     },
     "execution_count": 120,
     "metadata": {},
     "output_type": "execute_result"
    }
   ],
   "source": [
    "# negative index starts from the last list element\n",
    "\n",
    "x[-1]"
   ]
  },
  {
   "cell_type": "code",
   "execution_count": 121,
   "metadata": {},
   "outputs": [
    {
     "data": {
      "text/plain": [
       "[10, None, True, 'zap', 111.111, 100]"
      ]
     },
     "execution_count": 121,
     "metadata": {},
     "output_type": "execute_result"
    }
   ],
   "source": [
    "x"
   ]
  },
  {
   "cell_type": "code",
   "execution_count": 122,
   "metadata": {},
   "outputs": [
    {
     "data": {
      "text/plain": [
       "[10, None]"
      ]
     },
     "execution_count": 122,
     "metadata": {},
     "output_type": "execute_result"
    }
   ],
   "source": [
    "# can take a subsequences (slice) of the list\n",
    "# like range, inclusive/exclusive\n",
    "# slices always COPY the original list\n",
    "\n",
    "x[0:2]"
   ]
  },
  {
   "cell_type": "code",
   "execution_count": 123,
   "metadata": {},
   "outputs": [
    {
     "data": {
      "text/plain": [
       "['zap', 111.111, 100]"
      ]
     },
     "execution_count": 123,
     "metadata": {},
     "output_type": "execute_result"
    }
   ],
   "source": [
    "# missing second index means continue slice \n",
    "# to the end of the list\n",
    "\n",
    "x[3:]"
   ]
  },
  {
   "cell_type": "code",
   "execution_count": 124,
   "metadata": {},
   "outputs": [
    {
     "data": {
      "text/plain": [
       "[10, None]"
      ]
     },
     "execution_count": 124,
     "metadata": {},
     "output_type": "execute_result"
    }
   ],
   "source": [
    "# missing first index means start slice \n",
    "# at begining  of the list\n",
    "\n",
    "x[:2]"
   ]
  },
  {
   "cell_type": "code",
   "execution_count": 125,
   "metadata": {},
   "outputs": [
    {
     "data": {
      "text/plain": [
       "[10, True, 111.111]"
      ]
     },
     "execution_count": 125,
     "metadata": {},
     "output_type": "execute_result"
    }
   ],
   "source": [
    "# can add a index increment to a slice\n",
    "\n",
    "x[0:8:2]"
   ]
  },
  {
   "cell_type": "code",
   "execution_count": 126,
   "metadata": {},
   "outputs": [
    {
     "data": {
      "text/plain": [
       "[10, True, 111.111]"
      ]
     },
     "execution_count": 126,
     "metadata": {},
     "output_type": "execute_result"
    }
   ],
   "source": [
    "# slices can be named for readability\n",
    "# slice, like range, is lazy\n",
    "\n",
    "triple = slice(0,8,2)\n",
    "x[triple]"
   ]
  },
  {
   "cell_type": "code",
   "execution_count": 127,
   "metadata": {},
   "outputs": [
    {
     "name": "stdout",
     "output_type": "stream",
     "text": [
      "[10, None, True, 'zap', 111.111, 100]\n",
      "[10, None, True, 'zap', 111.111, 100]\n",
      "None\n",
      "[10, None, True, 'zap', 111.111, 100]\n",
      "[100, 111.111, 'zap', True, None, 10]\n"
     ]
    }
   ],
   "source": [
    "# index missing on both sides of \":\"\n",
    "# the slice is the whole list\n",
    "# common python shorthand for copying\n",
    "# an entire list\n",
    "\n",
    "x2 = x[:]\n",
    "\n",
    "# reverse modifies x2, but x will not be changed, because\n",
    "# x and x2 are referencing different objects\n",
    "# note reverse() returns 'None'\n",
    "\n",
    "print(x)\n",
    "print(x2)\n",
    "\n",
    "print(x2.reverse())\n",
    "\n",
    "print(x)\n",
    "print(x2)"
   ]
  },
  {
   "cell_type": "code",
   "execution_count": 128,
   "metadata": {},
   "outputs": [
    {
     "data": {
      "text/plain": [
       "[-1, None, True, 'zap', 111.111, 100]"
      ]
     },
     "execution_count": 128,
     "metadata": {},
     "output_type": "execute_result"
    }
   ],
   "source": [
    "# can set list elements\n",
    "\n",
    "x[0] = -1\n",
    "x"
   ]
  },
  {
   "cell_type": "code",
   "execution_count": 129,
   "metadata": {},
   "outputs": [
    {
     "data": {
      "text/plain": [
       "[-1, 256, False, 'zap', 111.111, 100]"
      ]
     },
     "execution_count": 129,
     "metadata": {},
     "output_type": "execute_result"
    }
   ],
   "source": [
    "# can set slices\n",
    "\n",
    "x[1:3] = [2**8, False]\n",
    "x"
   ]
  },
  {
   "cell_type": "code",
   "execution_count": 130,
   "metadata": {},
   "outputs": [
    {
     "data": {
      "text/plain": [
       "[True, False]"
      ]
     },
     "execution_count": 130,
     "metadata": {},
     "output_type": "execute_result"
    }
   ],
   "source": [
    "#  'in' operator - is an element in the list somewhere?\n",
    "# uses == to test\n",
    "\n",
    "['zap' in x, 55 in x]"
   ]
  },
  {
   "cell_type": "code",
   "execution_count": 131,
   "metadata": {},
   "outputs": [
    {
     "data": {
      "text/plain": [
       "3"
      ]
     },
     "execution_count": 131,
     "metadata": {},
     "output_type": "execute_result"
    }
   ],
   "source": [
    "# where is the element?\n",
    "# 'index' is a 'method' on the list class\n",
    "\n",
    "x.index('zap')"
   ]
  },
  {
   "cell_type": "code",
   "execution_count": 132,
   "metadata": {},
   "outputs": [
    {
     "ename": "ValueError",
     "evalue": "'not in x' is not in list",
     "output_type": "error",
     "traceback": [
      "\u001b[0;31m---------------------------------------------------------------------------\u001b[0m",
      "\u001b[0;31mValueError\u001b[0m                                Traceback (most recent call last)",
      "\u001b[0;32m<ipython-input-132-0d694a82f843>\u001b[0m in \u001b[0;36m<module>\u001b[0;34m()\u001b[0m\n\u001b[1;32m      2\u001b[0m \u001b[0;31m# we will learn more about errors later\u001b[0m\u001b[0;34m\u001b[0m\u001b[0;34m\u001b[0m\u001b[0m\n\u001b[1;32m      3\u001b[0m \u001b[0;34m\u001b[0m\u001b[0m\n\u001b[0;32m----> 4\u001b[0;31m \u001b[0mx\u001b[0m\u001b[0;34m.\u001b[0m\u001b[0mindex\u001b[0m\u001b[0;34m(\u001b[0m\u001b[0;34m\"not in x\"\u001b[0m\u001b[0;34m)\u001b[0m\u001b[0;34m\u001b[0m\u001b[0m\n\u001b[0m",
      "\u001b[0;31mValueError\u001b[0m: 'not in x' is not in list"
     ]
    }
   ],
   "source": [
    "# index throws an error if it doesn't find anything\n",
    "# we will learn more about errors later\n",
    "\n",
    "x.index(\"not in x\")"
   ]
  },
  {
   "cell_type": "code",
   "execution_count": 133,
   "metadata": {},
   "outputs": [
    {
     "data": {
      "text/plain": [
       "[0, 1, 2, 3, 4, 0, 1, 2, 3, 4]"
      ]
     },
     "execution_count": 133,
     "metadata": {},
     "output_type": "execute_result"
    }
   ],
   "source": [
    "# + concatenates lists\n",
    "# note: what '+' actually does depends on the type of its arguments\n",
    "\n",
    "x = list(range(5))\n",
    "x + x"
   ]
  },
  {
   "cell_type": "code",
   "execution_count": 134,
   "metadata": {},
   "outputs": [
    {
     "data": {
      "text/plain": [
       "[0, 1, 2, 3, 4]"
      ]
     },
     "execution_count": 134,
     "metadata": {},
     "output_type": "execute_result"
    }
   ],
   "source": [
    "x"
   ]
  },
  {
   "cell_type": "code",
   "execution_count": 135,
   "metadata": {},
   "outputs": [
    {
     "data": {
      "text/plain": [
       "[0, 1, 2, 3, 4, [22, 33]]"
      ]
     },
     "execution_count": 135,
     "metadata": {},
     "output_type": "execute_result"
    }
   ],
   "source": [
    "# add one element at the end\n",
    "\n",
    "x.append([22,33])\n",
    "x"
   ]
  },
  {
   "cell_type": "code",
   "execution_count": 136,
   "metadata": {},
   "outputs": [
    {
     "data": {
      "text/plain": [
       "[0, 1, 2, 3, 4, [22, 33], 22, 33]"
      ]
     },
     "execution_count": 136,
     "metadata": {},
     "output_type": "execute_result"
    }
   ],
   "source": [
    "# add N elements at the end\n",
    "\n",
    "x.extend([22,33])\n",
    "x"
   ]
  },
  {
   "cell_type": "code",
   "execution_count": 137,
   "metadata": {},
   "outputs": [
    {
     "data": {
      "text/plain": [
       "[0, 1, 5, 2, 3, 4, [22, 33], 22, 33]"
      ]
     },
     "execution_count": 137,
     "metadata": {},
     "output_type": "execute_result"
    }
   ],
   "source": [
    "# add one element anywhere\n",
    "\n",
    "x.insert(2, 5)\n",
    "x"
   ]
  },
  {
   "cell_type": "code",
   "execution_count": 138,
   "metadata": {},
   "outputs": [
    {
     "name": "stdout",
     "output_type": "stream",
     "text": [
      "33\n",
      "[0, 1, 5, 2, 3, 4, [22, 33], 22]\n"
     ]
    }
   ],
   "source": [
    "# pop method removes and returns a \n",
    "# list element, by default the last element\n",
    "\n",
    "print(x.pop())\n",
    "print(x)"
   ]
  },
  {
   "cell_type": "code",
   "execution_count": 139,
   "metadata": {},
   "outputs": [
    {
     "name": "stdout",
     "output_type": "stream",
     "text": [
      "5\n",
      "[0, 1, 2, 3, 4, [22, 33], 22]\n"
     ]
    }
   ],
   "source": [
    "# but can specify which element to pop\n",
    "\n",
    "print(x.pop(2))\n",
    "print(x)"
   ]
  },
  {
   "cell_type": "code",
   "execution_count": 140,
   "metadata": {},
   "outputs": [
    {
     "name": "stdout",
     "output_type": "stream",
     "text": [
      "[0, 1, 2, 3, [22, 33], 22]\n"
     ]
    }
   ],
   "source": [
    "# remove first 4 found\n",
    "\n",
    "x.remove(4)\n",
    "print(x)"
   ]
  },
  {
   "cell_type": "code",
   "execution_count": 141,
   "metadata": {},
   "outputs": [
    {
     "data": {
      "text/plain": [
       "[3, 5, 22, 34]"
      ]
     },
     "execution_count": 141,
     "metadata": {},
     "output_type": "execute_result"
    }
   ],
   "source": [
    "# sort modifies the list\n",
    "\n",
    "x = [34,3,5,22]\n",
    "x.sort()\n",
    "x"
   ]
  },
  {
   "cell_type": "code",
   "execution_count": 142,
   "metadata": {},
   "outputs": [
    {
     "data": {
      "text/plain": [
       "[[34, 3, 5, 22], [3, 5, 22, 34]]"
      ]
     },
     "execution_count": 142,
     "metadata": {},
     "output_type": "execute_result"
    }
   ],
   "source": [
    "# can preserve original list by using 'sorted'\n",
    "# sorted makes a copy of the input list\n",
    "\n",
    "x = [34,3,5,22]\n",
    "y = sorted(x)\n",
    "[x, y]"
   ]
  },
  {
   "cell_type": "code",
   "execution_count": 83,
   "metadata": {},
   "outputs": [
    {
     "data": {
      "text/plain": [
       "['__add__',\n",
       " '__class__',\n",
       " '__contains__',\n",
       " '__delattr__',\n",
       " '__delitem__',\n",
       " '__dir__',\n",
       " '__doc__',\n",
       " '__eq__',\n",
       " '__format__',\n",
       " '__ge__',\n",
       " '__getattribute__',\n",
       " '__getitem__',\n",
       " '__gt__',\n",
       " '__hash__',\n",
       " '__iadd__',\n",
       " '__imul__',\n",
       " '__init__',\n",
       " '__init_subclass__',\n",
       " '__iter__',\n",
       " '__le__',\n",
       " '__len__',\n",
       " '__lt__',\n",
       " '__mul__',\n",
       " '__ne__',\n",
       " '__new__',\n",
       " '__reduce__',\n",
       " '__reduce_ex__',\n",
       " '__repr__',\n",
       " '__reversed__',\n",
       " '__rmul__',\n",
       " '__setattr__',\n",
       " '__setitem__',\n",
       " '__sizeof__',\n",
       " '__str__',\n",
       " '__subclasshook__',\n",
       " 'append',\n",
       " 'clear',\n",
       " 'copy',\n",
       " 'count',\n",
       " 'extend',\n",
       " 'index',\n",
       " 'insert',\n",
       " 'pop',\n",
       " 'remove',\n",
       " 'reverse',\n",
       " 'sort']"
      ]
     },
     "execution_count": 83,
     "metadata": {},
     "output_type": "execute_result"
    }
   ],
   "source": [
    "# dir function shows the methods defined on a class\n",
    "# __XYZ__ are \"special\" methods - ignore them for now\n",
    "\n",
    "dir(list)"
   ]
  },
  {
   "cell_type": "markdown",
   "metadata": {},
   "source": [
    "# Iterating over Lists\n",
    "- Many ways to iterate, we'll look at the\n",
    "two most important here, 'for' and 'list comprehensions'\n",
    "- Python does NOT have C++/Java style loops, like:\n",
    "\n",
    "\n",
    "for(int j = 0; j<5; j++)\n",
    "{\n",
    "}"
   ]
  },
  {
   "cell_type": "markdown",
   "metadata": {},
   "source": [
    "# for loop\n",
    "- Python version of C++/Java loop above\n",
    "- Python loops are simpler\n",
    "    - no index variable declaration\n",
    "- note trailing ':', and indented print statements - defines a 'statement block'\n",
    "    - any place you could put a single statement, you can put multiple statements by using blocks\n",
    "    - Python uses identing and ':' to define blocks, unlike C/Java, which uses '{}'"
   ]
  },
  {
   "cell_type": "code",
   "execution_count": 84,
   "metadata": {},
   "outputs": [
    {
     "name": "stdout",
     "output_type": "stream",
     "text": [
      "10\n",
      "20\n",
      "11\n",
      "21\n",
      "12\n",
      "22\n",
      "13\n",
      "23\n",
      "14\n",
      "24\n",
      "loop finished\n"
     ]
    }
   ],
   "source": [
    "for j in range(10,15):\n",
    "    print(j)\n",
    "    print(j+10)\n",
    "print('loop finished')"
   ]
  },
  {
   "cell_type": "code",
   "execution_count": 85,
   "metadata": {},
   "outputs": [
    {
     "data": {
      "text/plain": [
       "10"
      ]
     },
     "execution_count": 85,
     "metadata": {},
     "output_type": "execute_result"
    }
   ],
   "source": [
    "# to sum up a list of numbers\n",
    "# use an 'accumulation variable'\n",
    "\n",
    "total = 0\n",
    "\n",
    "for j in range(5):\n",
    "    total += j\n",
    "\n",
    "total"
   ]
  },
  {
   "cell_type": "code",
   "execution_count": 86,
   "metadata": {},
   "outputs": [
    {
     "data": {
      "text/plain": [
       "[10, 11, 12, 13, 14]"
      ]
     },
     "execution_count": 86,
     "metadata": {},
     "output_type": "execute_result"
    }
   ],
   "source": [
    "# add 10 to every element of a list\n",
    "# use list acculumation variable\n",
    "\n",
    "a10 = []\n",
    "\n",
    "for j in range(5):\n",
    "    a10.append(10+j)\n",
    "\n",
    "a10"
   ]
  },
  {
   "cell_type": "code",
   "execution_count": 5,
   "metadata": {},
   "outputs": [
    {
     "name": "stdout",
     "output_type": "stream",
     "text": [
      "0 10\n",
      "0 11\n",
      "0 12\n",
      "1 10\n",
      "1 11\n",
      "1 12\n",
      "2 10\n",
      "2 11\n",
      "2 12\n"
     ]
    }
   ],
   "source": [
    "# loops can be nested\n",
    "\n",
    "for x in range(3):\n",
    "    for y in range(10,13):\n",
    "        print(x,y)"
   ]
  },
  {
   "cell_type": "markdown",
   "metadata": {},
   "source": [
    "# list comprehension\n",
    "- above loop technique are not conidered 'pythonic'(python speak for cool or elegant)\n",
    "- list comprehension syntax is a little odd at first glance, but definitely more elegant\n",
    "- no accumulation variable needed\n",
    "- can optionally do filtering"
   ]
  },
  {
   "cell_type": "code",
   "execution_count": 87,
   "metadata": {},
   "outputs": [
    {
     "data": {
      "text/plain": [
       "[10, 11, 12, 13, 14]"
      ]
     },
     "execution_count": 87,
     "metadata": {},
     "output_type": "execute_result"
    }
   ],
   "source": [
    "# add 10 again\n",
    "\n",
    "[j+10 for j in range(5)]"
   ]
  },
  {
   "cell_type": "code",
   "execution_count": 88,
   "metadata": {},
   "outputs": [
    {
     "data": {
      "text/plain": [
       "[10, 12, 14]"
      ]
     },
     "execution_count": 88,
     "metadata": {},
     "output_type": "execute_result"
    }
   ],
   "source": [
    "# filter - add 10 only to even ints\n",
    "# '%' is mod operator\n",
    "\n",
    "[j+10 for j in range(5) if j % 2 == 0]"
   ]
  },
  {
   "cell_type": "code",
   "execution_count": 7,
   "metadata": {},
   "outputs": [
    {
     "data": {
      "text/plain": [
       "[[0, 10],\n",
       " [0, 11],\n",
       " [0, 12],\n",
       " [1, 10],\n",
       " [1, 11],\n",
       " [1, 12],\n",
       " [2, 10],\n",
       " [2, 11],\n",
       " [2, 12]]"
      ]
     },
     "execution_count": 7,
     "metadata": {},
     "output_type": "execute_result"
    }
   ],
   "source": [
    "# can be nested\n",
    "\n",
    "[[x,y] for x in range(3) for y in range(10,13)]"
   ]
  },
  {
   "cell_type": "code",
   "execution_count": 8,
   "metadata": {},
   "outputs": [
    {
     "data": {
      "text/plain": [
       "[0, 1, 2, 3]"
      ]
     },
     "execution_count": 8,
     "metadata": {},
     "output_type": "execute_result"
    }
   ],
   "source": [
    "# and\n",
    "\n",
    "[x for x in [y for y in range(4)]]"
   ]
  },
  {
   "cell_type": "markdown",
   "metadata": {},
   "source": [
    "# Tuples\n",
    "- like a list\n",
    "- use '()' instead of '[]'\n",
    "- difference is tuples are immutable - can't be modified after creation\n",
    "    - however, objects that the tuple refers to can still be modified\n",
    "- useful for functional programming\n",
    "- 'tuple' is the type name"
   ]
  },
  {
   "cell_type": "code",
   "execution_count": 89,
   "metadata": {},
   "outputs": [
    {
     "data": {
      "text/plain": [
       "[(1, [5, 6], 4), 3, tuple]"
      ]
     },
     "execution_count": 89,
     "metadata": {},
     "output_type": "execute_result"
    }
   ],
   "source": [
    "# len returns length of top level elements\n",
    "\n",
    "t = (1,[5,6],4)\n",
    "[t , len(t), type(t)]"
   ]
  },
  {
   "cell_type": "code",
   "execution_count": 90,
   "metadata": {},
   "outputs": [
    {
     "data": {
      "text/plain": [
       "3"
      ]
     },
     "execution_count": 90,
     "metadata": {},
     "output_type": "execute_result"
    }
   ],
   "source": [
    "len(t)"
   ]
  },
  {
   "cell_type": "code",
   "execution_count": 91,
   "metadata": {},
   "outputs": [
    {
     "data": {
      "text/plain": [
       "1"
      ]
     },
     "execution_count": 91,
     "metadata": {},
     "output_type": "execute_result"
    }
   ],
   "source": [
    "# can retrieve\n",
    "\n",
    "t[0]"
   ]
  },
  {
   "cell_type": "code",
   "execution_count": 92,
   "metadata": {},
   "outputs": [
    {
     "ename": "TypeError",
     "evalue": "'tuple' object does not support item assignment",
     "output_type": "error",
     "traceback": [
      "\u001b[0;31m---------------------------------------------------------------------------\u001b[0m",
      "\u001b[0;31mTypeError\u001b[0m                                 Traceback (most recent call last)",
      "\u001b[0;32m<ipython-input-92-5ac5b4647ba0>\u001b[0m in \u001b[0;36m<module>\u001b[0;34m()\u001b[0m\n\u001b[1;32m      1\u001b[0m \u001b[0;31m# but can't modify\u001b[0m\u001b[0;34m\u001b[0m\u001b[0;34m\u001b[0m\u001b[0m\n\u001b[1;32m      2\u001b[0m \u001b[0;34m\u001b[0m\u001b[0m\n\u001b[0;32m----> 3\u001b[0;31m \u001b[0mt\u001b[0m\u001b[0;34m[\u001b[0m\u001b[0;36m0\u001b[0m\u001b[0;34m]\u001b[0m \u001b[0;34m=\u001b[0m \u001b[0;36m3\u001b[0m\u001b[0;34m\u001b[0m\u001b[0m\n\u001b[0m",
      "\u001b[0;31mTypeError\u001b[0m: 'tuple' object does not support item assignment"
     ]
    }
   ],
   "source": [
    "# but can't modify\n",
    "\n",
    "t[0] = 3"
   ]
  },
  {
   "cell_type": "code",
   "execution_count": 93,
   "metadata": {},
   "outputs": [
    {
     "data": {
      "text/plain": [
       "(1, [5, 6], 4)"
      ]
     },
     "execution_count": 93,
     "metadata": {},
     "output_type": "execute_result"
    }
   ],
   "source": [
    "t"
   ]
  },
  {
   "cell_type": "code",
   "execution_count": 94,
   "metadata": {},
   "outputs": [
    {
     "data": {
      "text/plain": [
       "(1, [45, 6], 4)"
      ]
     },
     "execution_count": 94,
     "metadata": {},
     "output_type": "execute_result"
    }
   ],
   "source": [
    "# but - objects the tuple refers to are NOT made immutable\n",
    "# 2nd element of tuple is a mutable list\n",
    "\n",
    "t[1][0] = 45\n",
    "t"
   ]
  },
  {
   "cell_type": "code",
   "execution_count": 95,
   "metadata": {},
   "outputs": [
    {
     "name": "stdout",
     "output_type": "stream",
     "text": [
      "1\n",
      "2\n",
      "3\n"
     ]
    }
   ],
   "source": [
    "# tuples loop like lists\n",
    "\n",
    "for x in (1,2,3):\n",
    "    print(x)"
   ]
  },
  {
   "cell_type": "code",
   "execution_count": 96,
   "metadata": {},
   "outputs": [
    {
     "data": {
      "text/plain": [
       "()"
      ]
     },
     "execution_count": 96,
     "metadata": {},
     "output_type": "execute_result"
    }
   ],
   "source": [
    "# zero length tuple\n",
    "()"
   ]
  },
  {
   "cell_type": "code",
   "execution_count": 97,
   "metadata": {},
   "outputs": [
    {
     "data": {
      "text/plain": [
       "(1,)"
      ]
     },
     "execution_count": 97,
     "metadata": {},
     "output_type": "execute_result"
    }
   ],
   "source": [
    "# one element tuple has odd syntax\n",
    "# to distingish from...\n",
    "\n",
    "t =(1,)\n",
    "t"
   ]
  },
  {
   "cell_type": "code",
   "execution_count": 98,
   "metadata": {},
   "outputs": [
    {
     "data": {
      "text/plain": [
       "1"
      ]
     },
     "execution_count": 98,
     "metadata": {},
     "output_type": "execute_result"
    }
   ],
   "source": [
    "# ...grouping parens (1)\n",
    "\n",
    "(1)"
   ]
  },
  {
   "cell_type": "code",
   "execution_count": 99,
   "metadata": {},
   "outputs": [
    {
     "data": {
      "text/plain": [
       "1"
      ]
     },
     "execution_count": 99,
     "metadata": {},
     "output_type": "execute_result"
    }
   ],
   "source": [
    "len(t)"
   ]
  },
  {
   "cell_type": "code",
   "execution_count": 100,
   "metadata": {},
   "outputs": [
    {
     "data": {
      "text/plain": [
       "[tuple, tuple, int]"
      ]
     },
     "execution_count": 100,
     "metadata": {},
     "output_type": "execute_result"
    }
   ],
   "source": [
    "[type(()), type((1,)), type((1))]"
   ]
  },
  {
   "cell_type": "markdown",
   "metadata": {},
   "source": [
    "# Iterables\n",
    "- 'iterables' are objects you can iterate over\n",
    "- lists and tuples are iterables"
   ]
  },
  {
   "cell_type": "markdown",
   "metadata": {},
   "source": [
    "# Strings\n",
    "+ immutable - once created, cannot be modified\n",
    "- in Python version 3.X, strings are unicode\n",
    "- many useful methods\n",
    "- the 're' module provides regular expression pattern matching\n",
    "- three types of string literals 'foo', \"foo\", and '''foo'''\n",
    "- triple quotes can include multiple lines\n",
    "- unlike other languages, there is no 'character' type\n",
    "- a Python 'character' is just a length 1 string\n",
    "- 'str' is the type name"
   ]
  },
  {
   "cell_type": "code",
   "execution_count": 101,
   "metadata": {},
   "outputs": [
    {
     "data": {
      "text/plain": [
       "['foobar', 'foo\"bar', str, 6]"
      ]
     },
     "execution_count": 101,
     "metadata": {},
     "output_type": "execute_result"
    }
   ],
   "source": [
    "# len returns number of characters\n",
    "\n",
    "['foobar', 'foo\"bar', type('foobar'), len('foobar')]"
   ]
  },
  {
   "cell_type": "code",
   "execution_count": 102,
   "metadata": {},
   "outputs": [
    {
     "data": {
      "text/plain": [
       "['foo\"bar', \"foo'bar\", \"foo'bar\"]"
      ]
     },
     "execution_count": 102,
     "metadata": {},
     "output_type": "execute_result"
    }
   ],
   "source": [
    "# various ways to embed quotes\n",
    "\n",
    "['foo\"bar', \"foo'bar\", 'foo\\'bar']"
   ]
  },
  {
   "cell_type": "code",
   "execution_count": 103,
   "metadata": {},
   "outputs": [
    {
     "data": {
      "text/plain": [
       "'\\nfoo\\'\\nbar\"\\n'"
      ]
     },
     "execution_count": 103,
     "metadata": {},
     "output_type": "execute_result"
    }
   ],
   "source": [
    "# use triple quotes to define multi-line strings\n",
    "\n",
    "'''\n",
    "foo'\n",
    "bar\"\n",
    "'''"
   ]
  },
  {
   "cell_type": "code",
   "execution_count": 104,
   "metadata": {},
   "outputs": [
    {
     "name": "stdout",
     "output_type": "stream",
     "text": [
      "F\n",
      "o\n",
      "o\n",
      "B\n",
      "a\n",
      "r\n"
     ]
    }
   ],
   "source": [
    "# Strings are iterables\n",
    "\n",
    "for s in 'FooBar':\n",
    "    print(s)"
   ]
  },
  {
   "cell_type": "code",
   "execution_count": 2,
   "metadata": {
    "collapsed": true
   },
   "outputs": [],
   "source": [
    "# string methods that return a string always return a NEW string. \n",
    "# the original string is NEVER modified\n",
    "\n",
    "s = 'FooBar'\n",
    "ls = [s, s.lower(), s.upper(), s.replace('o','X'), s.swapcase()]\n"
   ]
  },
  {
   "cell_type": "code",
   "execution_count": 3,
   "metadata": {},
   "outputs": [
    {
     "data": {
      "text/plain": [
       "['FooBar', 'foobar', 'FOOBAR', 'FXXBar', 'fOObAR']"
      ]
     },
     "execution_count": 3,
     "metadata": {},
     "output_type": "execute_result"
    }
   ],
   "source": [
    "# first element of list is the original 'FooBar' - has not\n",
    "# been modified by any of the methods run above\n",
    "# rest of list contains 4 NEW string objects, derived from the\n",
    "# original 'FooBar'\n",
    "\n",
    "ls"
   ]
  },
  {
   "cell_type": "code",
   "execution_count": 138,
   "metadata": {},
   "outputs": [
    {
     "data": {
      "text/plain": [
       "['FooBarfoobarFOOBARFXXBarfOObAR',\n",
       " 'FooBar,foobar,FOOBAR,FXXBar,fOObAR',\n",
       " 'FooBar|foobar|FOOBAR|FXXBar|fOObAR',\n",
       " 'FooBar---foobar---FOOBAR---FXXBar---fOObAR']"
      ]
     },
     "execution_count": 138,
     "metadata": {},
     "output_type": "execute_result"
    }
   ],
   "source": [
    "# join is a very handy method\n",
    "# it joins a list of strings into one string\n",
    "# the string on the left, like ',' is used to\n",
    "# separate the joined strings\n",
    "\n",
    "[''.join(ls),','.join(ls), '|'.join(ls), '---'.join(ls)]"
   ]
  },
  {
   "cell_type": "code",
   "execution_count": 139,
   "metadata": {},
   "outputs": [
    {
     "data": {
      "text/plain": [
       "['foo', 'bar', '34', 'zap']"
      ]
     },
     "execution_count": 139,
     "metadata": {},
     "output_type": "execute_result"
    }
   ],
   "source": [
    "# the inverse method, split, splits a string into a list of strings\n",
    "\n",
    "s = \"foo,bar,34,zap\"\n",
    "s.split(\",\")"
   ]
  },
  {
   "cell_type": "code",
   "execution_count": 143,
   "metadata": {},
   "outputs": [
    {
     "data": {
      "image/svg+xml": [
       "<svg baseProfile=\"full\" height=\"200\" version=\"1.1\" width=\"800\" xmlns=\"http://www.w3.org/2000/svg\" xmlns:ev=\"http://www.w3.org/2001/xml-events\" xmlns:xlink=\"http://www.w3.org/1999/xlink\"><defs /><text fill=\"blue\" text-anchor=\"end\" x=\"100\" y=\"30\">Variables</text><text fill=\"black\" text-anchor=\"end\" x=\"100\" y=\"60\">a</text><text fill=\"black\" text-anchor=\"end\" x=\"100\" y=\"90\">b</text><text fill=\"black\" text-anchor=\"end\" x=\"100\" y=\"120\">c</text><text fill=\"black\" text-anchor=\"end\" x=\"100\" y=\"150\">s</text><text fill=\"blue\" x=\"260\" y=\"30\">Objects(in the Heap)</text><text fill=\"black\" x=\"260\" y=\"60\">fooXbar</text><line stroke=\"rgb(90%,10%,16%)\" x1=\"100\" x2=\"260\" y1=\"60\" y2=\"60\" /><text fill=\"black\" x=\"260\" y=\"90\">fooXbarXXX</text><line stroke=\"rgb(90%,10%,16%)\" x1=\"100\" x2=\"260\" y1=\"90\" y2=\"90\" /><text fill=\"black\" x=\"260\" y=\"120\">XXfooXbar</text><line stroke=\"rgb(90%,10%,16%)\" x1=\"100\" x2=\"260\" y1=\"120\" y2=\"120\" /><text fill=\"black\" x=\"260\" y=\"150\">XXfooXbarXXX</text><line stroke=\"rgb(90%,10%,16%)\" x1=\"100\" x2=\"260\" y1=\"150\" y2=\"150\" /></svg>"
      ],
      "text/plain": [
       "<__main__.memgraph at 0x1122ff9b0>"
      ]
     },
     "execution_count": 143,
     "metadata": {},
     "output_type": "execute_result"
    }
   ],
   "source": [
    "# strip can remove chars at the begining(left) and/or end(right) of a string\n",
    "# Note middle 'X' is not removed\n",
    "# Most commonly used to remove new lines from a string\n",
    "# the original 's' string is NEVER modified\n",
    "\n",
    "s = 'XXfooXbarXXX'\n",
    "a = s.strip('X')\n",
    "b = s.lstrip('X') \n",
    "c = s.rstrip('X')\n",
    "memgraph(['s','a','b','c'])"
   ]
  },
  {
   "cell_type": "code",
   "execution_count": 144,
   "metadata": {},
   "outputs": [
    {
     "data": {
      "text/plain": [
       "'XXfooXbarXXXXXfooXbarXXX'"
      ]
     },
     "execution_count": 144,
     "metadata": {},
     "output_type": "execute_result"
    }
   ],
   "source": [
    "# '+' concatenates strings as well as lists\n",
    "# the operation '+' performs depends on the type of the arguments\n",
    "\n",
    "s + s"
   ]
  },
  {
   "cell_type": "code",
   "execution_count": 145,
   "metadata": {},
   "outputs": [
    {
     "data": {
      "text/plain": [
       "['abcabc', 'xyzxyzxyzxyz']"
      ]
     },
     "execution_count": 145,
     "metadata": {},
     "output_type": "execute_result"
    }
   ],
   "source": [
    "# can repeat strings\n",
    "\n",
    "[2*\"abc\", \"xyz\"*4]"
   ]
  },
  {
   "cell_type": "code",
   "execution_count": 146,
   "metadata": {},
   "outputs": [
    {
     "data": {
      "text/plain": [
       "[True, False, 2, 1]"
      ]
     },
     "execution_count": 146,
     "metadata": {},
     "output_type": "execute_result"
    }
   ],
   "source": [
    "# 'in' looks for substrings\n",
    "# case sensitive compares\n",
    "\n",
    "s = 'zappa'\n",
    "['pa' in s, 'Za' in s, s.count('p'), s.count('ap')]"
   ]
  },
  {
   "cell_type": "code",
   "execution_count": 147,
   "metadata": {},
   "outputs": [
    {
     "data": {
      "text/plain": [
       "[3, 3]"
      ]
     },
     "execution_count": 147,
     "metadata": {},
     "output_type": "execute_result"
    }
   ],
   "source": [
    "# search for a substring with 'find' or 'index'\n",
    "\n",
    "[s.find('pa'), s.index('pa')]"
   ]
  },
  {
   "cell_type": "code",
   "execution_count": 148,
   "metadata": {},
   "outputs": [
    {
     "data": {
      "text/plain": [
       "-1"
      ]
     },
     "execution_count": 148,
     "metadata": {},
     "output_type": "execute_result"
    }
   ],
   "source": [
    "# on a miss, 'find' returns -1\n",
    "\n",
    "s.find('32')"
   ]
  },
  {
   "cell_type": "code",
   "execution_count": 149,
   "metadata": {},
   "outputs": [
    {
     "ename": "ValueError",
     "evalue": "substring not found",
     "output_type": "error",
     "traceback": [
      "\u001b[0;31m---------------------------------------------------------------------------\u001b[0m",
      "\u001b[0;31mValueError\u001b[0m                                Traceback (most recent call last)",
      "\u001b[0;32m<ipython-input-149-ca1c8ab7d822>\u001b[0m in \u001b[0;36m<module>\u001b[0;34m()\u001b[0m\n\u001b[1;32m      1\u001b[0m \u001b[0;31m# but index throws an error\u001b[0m\u001b[0;34m\u001b[0m\u001b[0;34m\u001b[0m\u001b[0m\n\u001b[1;32m      2\u001b[0m \u001b[0;34m\u001b[0m\u001b[0m\n\u001b[0;32m----> 3\u001b[0;31m \u001b[0ms\u001b[0m\u001b[0;34m.\u001b[0m\u001b[0mindex\u001b[0m\u001b[0;34m(\u001b[0m\u001b[0;34m'32'\u001b[0m\u001b[0;34m)\u001b[0m\u001b[0;34m\u001b[0m\u001b[0m\n\u001b[0m",
      "\u001b[0;31mValueError\u001b[0m: substring not found"
     ]
    }
   ],
   "source": [
    "# but index throws an error\n",
    "\n",
    "s.index('32')"
   ]
  },
  {
   "cell_type": "code",
   "execution_count": 150,
   "metadata": {},
   "outputs": [
    {
     "data": {
      "text/plain": [
       "[65, 'A']"
      ]
     },
     "execution_count": 150,
     "metadata": {},
     "output_type": "execute_result"
    }
   ],
   "source": [
    "# 'ord' and 'chr' do character-number conversions\n",
    "\n",
    "[ord('A'), chr(65)]"
   ]
  },
  {
   "cell_type": "code",
   "execution_count": 151,
   "metadata": {},
   "outputs": [
    {
     "data": {
      "text/plain": [
       "'abcdefghijklmnopqrstuvwxyz'"
      ]
     },
     "execution_count": 151,
     "metadata": {},
     "output_type": "execute_result"
    }
   ],
   "source": [
    "# make the lower case chars, a-z\n",
    "# somewhat terse one liner - \n",
    "# in Python you can do alot with a little code, \n",
    "# but can be hard to read\n",
    "\n",
    "lc= ''.join([chr(c) for c in range(ord('a'), ord('z')+1)])\n",
    "lc"
   ]
  },
  {
   "cell_type": "code",
   "execution_count": 152,
   "metadata": {},
   "outputs": [
    {
     "data": {
      "text/plain": [
       "[97, 122]"
      ]
     },
     "execution_count": 152,
     "metadata": {},
     "output_type": "execute_result"
    }
   ],
   "source": [
    "# let's break it into separate steps:\n",
    "# get the ascii codes for 'a' and 'z'\n",
    "# can see ascii codes on mac and linux with:\n",
    "# man ascii\n",
    "\n",
    "a = ord('a')\n",
    "z = ord('z')\n",
    "[a,z]"
   ]
  },
  {
   "cell_type": "code",
   "execution_count": 118,
   "metadata": {},
   "outputs": [
    {
     "name": "stdout",
     "output_type": "stream",
     "text": [
      "[97, 98, 99, 100, 101, 102, 103, 104, 105, 106, 107, 108, 109, 110, 111, 112, 113, 114, 115, 116, 117, 118, 119, 120, 121, 122]\n"
     ]
    }
   ],
   "source": [
    "# now we have all the codes for 'a' to 'z'\n",
    "# note the z+1 - need the +1 to get the z code\n",
    "\n",
    "codes = [c for c in range(a,z+1)]\n",
    "print(codes)"
   ]
  },
  {
   "cell_type": "code",
   "execution_count": 119,
   "metadata": {},
   "outputs": [
    {
     "name": "stdout",
     "output_type": "stream",
     "text": [
      "['a', 'b', 'c', 'd', 'e', 'f', 'g', 'h', 'i', 'j', 'k', 'l', 'm', 'n', 'o', 'p', 'q', 'r', 's', 't', 'u', 'v', 'w', 'x', 'y', 'z']\n"
     ]
    }
   ],
   "source": [
    "# now we have a list of the lower case characters\n",
    "\n",
    "chars = [chr(c) for c in codes]\n",
    "print(chars)"
   ]
  },
  {
   "cell_type": "code",
   "execution_count": 121,
   "metadata": {},
   "outputs": [
    {
     "data": {
      "text/plain": [
       "'abcdefghijklmnopqrstuvwxyz'"
      ]
     },
     "execution_count": 121,
     "metadata": {},
     "output_type": "execute_result"
    }
   ],
   "source": [
    "# last step - using the 'join' method on string, \n",
    "# merge the chars into one string\n",
    "\n",
    "''.join(chars)"
   ]
  },
  {
   "cell_type": "code",
   "execution_count": 122,
   "metadata": {},
   "outputs": [
    {
     "data": {
      "text/plain": [
       "'abcdefghijklmnopqrstuvwxyz'"
      ]
     },
     "execution_count": 122,
     "metadata": {},
     "output_type": "execute_result"
    }
   ],
   "source": [
    "# now that we have suffered, there is an easier way!\n",
    "# string package has useful constants\n",
    "\n",
    "import string\n",
    "string.ascii_lowercase"
   ]
  },
  {
   "cell_type": "code",
   "execution_count": 125,
   "metadata": {},
   "outputs": [
    {
     "data": {
      "text/plain": [
       "[26, 'klmnopqrst', 'kmoqs', 'k']"
      ]
     },
     "execution_count": 125,
     "metadata": {},
     "output_type": "execute_result"
    }
   ],
   "source": [
    "# can slice strings too\n",
    "\n",
    "[len(lc), lc[10:20], lc[10:20:2], lc[10:11]]"
   ]
  },
  {
   "cell_type": "code",
   "execution_count": 126,
   "metadata": {},
   "outputs": [
    {
     "ename": "TypeError",
     "evalue": "'str' object does not support item assignment",
     "output_type": "error",
     "traceback": [
      "\u001b[0;31m---------------------------------------------------------------------------\u001b[0m",
      "\u001b[0;31mTypeError\u001b[0m                                 Traceback (most recent call last)",
      "\u001b[0;32m<ipython-input-126-28c99246d7b8>\u001b[0m in \u001b[0;36m<module>\u001b[0;34m()\u001b[0m\n\u001b[1;32m      2\u001b[0m \u001b[0;34m\u001b[0m\u001b[0m\n\u001b[1;32m      3\u001b[0m \u001b[0ms\u001b[0m \u001b[0;34m=\u001b[0m \u001b[0;34m'foobar'\u001b[0m\u001b[0;34m\u001b[0m\u001b[0m\n\u001b[0;32m----> 4\u001b[0;31m \u001b[0ms\u001b[0m\u001b[0;34m[\u001b[0m\u001b[0;36m0\u001b[0m\u001b[0;34m]\u001b[0m \u001b[0;34m=\u001b[0m \u001b[0;34m't'\u001b[0m\u001b[0;34m\u001b[0m\u001b[0m\n\u001b[0m",
      "\u001b[0;31mTypeError\u001b[0m: 'str' object does not support item assignment"
     ]
    }
   ],
   "source": [
    "# unlike a list, a string is immutable - you can't change anything\n",
    "\n",
    "s = 'foobar'\n",
    "s[0] = 't'"
   ]
  },
  {
   "cell_type": "code",
   "execution_count": 127,
   "metadata": {},
   "outputs": [
    {
     "data": {
      "text/plain": [
       "['4321', [4, 3, 2, 1]]"
      ]
     },
     "execution_count": 127,
     "metadata": {},
     "output_type": "execute_result"
    }
   ],
   "source": [
    "# unlike list objects, string objects don't \n",
    "# have a reverse method\n",
    "# but you can reverse with a slice\n",
    "# works with lists as well\n",
    "\n",
    "s = '1234'\n",
    "z = [1,2,3,4]\n",
    "[s[::-1], z[::-1]]"
   ]
  },
  {
   "cell_type": "code",
   "execution_count": 128,
   "metadata": {},
   "outputs": [
    {
     "data": {
      "text/plain": [
       "[True, True, False]"
      ]
     },
     "execution_count": 128,
     "metadata": {},
     "output_type": "execute_result"
    }
   ],
   "source": [
    "# startswith, endwith string methods are sometimes \n",
    "# convenient alternatives to more complex operations\n",
    "# like regular expressions\n",
    "\n",
    "a = \"foo.txt\"\n",
    "\n",
    "[a.startswith('foo'), a.endswith('txt'), a.endswith('txt2')]"
   ]
  },
  {
   "cell_type": "code",
   "execution_count": 129,
   "metadata": {},
   "outputs": [
    {
     "data": {
      "text/plain": [
       "['234', '3.34', '[1, 2, 3]']"
      ]
     },
     "execution_count": 129,
     "metadata": {},
     "output_type": "execute_result"
    }
   ],
   "source": [
    "# 'str' converts objects to strings\n",
    "\n",
    "[str(234), str(3.34), str([1,2,3])]"
   ]
  },
  {
   "cell_type": "code",
   "execution_count": 130,
   "metadata": {},
   "outputs": [
    {
     "data": {
      "text/plain": [
       "['f', 'o', 'o', 'b', 'a', 'r']"
      ]
     },
     "execution_count": 130,
     "metadata": {},
     "output_type": "execute_result"
    }
   ],
   "source": [
    "# 'list' converts a string into a list of \n",
    "# characters(length one strings)\n",
    "\n",
    "list('foobar')"
   ]
  },
  {
   "cell_type": "markdown",
   "metadata": {},
   "source": [
    "# print function\n",
    "- will print any number of args\n"
   ]
  },
  {
   "cell_type": "code",
   "execution_count": 1,
   "metadata": {},
   "outputs": [
    {
     "name": "stdout",
     "output_type": "stream",
     "text": [
      "4 asdf [3, 4]\n"
     ]
    }
   ],
   "source": [
    "print(4,'asdf',[3,4])"
   ]
  },
  {
   "cell_type": "markdown",
   "metadata": {},
   "source": [
    "# 'printf' style string formatting - old way\n",
    "    - still works, but deprecated"
   ]
  },
  {
   "cell_type": "code",
   "execution_count": 2,
   "metadata": {},
   "outputs": [
    {
     "data": {
      "text/plain": [
       "'int 3 float 5.500000 string printf'"
      ]
     },
     "execution_count": 2,
     "metadata": {},
     "output_type": "execute_result"
    }
   ],
   "source": [
    "'int %d float %f string %s' % (3, 5.5, 'printf')"
   ]
  },
  {
   "cell_type": "markdown",
   "metadata": {},
   "source": [
    "# 'printf' style string formatting - new way\n",
    "- preferred method\n",
    "- looks at the type of the arg, so don't have to specify type in control string\n",
    "- [details](https://docs.python.org/3.5/library/string.html#custom-string-formatting)"
   ]
  },
  {
   "cell_type": "code",
   "execution_count": 3,
   "metadata": {},
   "outputs": [
    {
     "data": {
      "text/plain": [
       "'int 3 float 5.5 string printf'"
      ]
     },
     "execution_count": 3,
     "metadata": {},
     "output_type": "execute_result"
    }
   ],
   "source": [
    "'int {} float {} string {}'.format(3, 5.5, 'printf')"
   ]
  },
  {
   "cell_type": "code",
   "execution_count": 4,
   "metadata": {},
   "outputs": [
    {
     "data": {
      "text/plain": [
       "['__add__',\n",
       " '__class__',\n",
       " '__contains__',\n",
       " '__delattr__',\n",
       " '__dir__',\n",
       " '__doc__',\n",
       " '__eq__',\n",
       " '__format__',\n",
       " '__ge__',\n",
       " '__getattribute__',\n",
       " '__getitem__',\n",
       " '__getnewargs__',\n",
       " '__gt__',\n",
       " '__hash__',\n",
       " '__init__',\n",
       " '__init_subclass__',\n",
       " '__iter__',\n",
       " '__le__',\n",
       " '__len__',\n",
       " '__lt__',\n",
       " '__mod__',\n",
       " '__mul__',\n",
       " '__ne__',\n",
       " '__new__',\n",
       " '__reduce__',\n",
       " '__reduce_ex__',\n",
       " '__repr__',\n",
       " '__rmod__',\n",
       " '__rmul__',\n",
       " '__setattr__',\n",
       " '__sizeof__',\n",
       " '__str__',\n",
       " '__subclasshook__',\n",
       " 'capitalize',\n",
       " 'casefold',\n",
       " 'center',\n",
       " 'count',\n",
       " 'encode',\n",
       " 'endswith',\n",
       " 'expandtabs',\n",
       " 'find',\n",
       " 'format',\n",
       " 'format_map',\n",
       " 'index',\n",
       " 'isalnum',\n",
       " 'isalpha',\n",
       " 'isdecimal',\n",
       " 'isdigit',\n",
       " 'isidentifier',\n",
       " 'islower',\n",
       " 'isnumeric',\n",
       " 'isprintable',\n",
       " 'isspace',\n",
       " 'istitle',\n",
       " 'isupper',\n",
       " 'join',\n",
       " 'ljust',\n",
       " 'lower',\n",
       " 'lstrip',\n",
       " 'maketrans',\n",
       " 'partition',\n",
       " 'replace',\n",
       " 'rfind',\n",
       " 'rindex',\n",
       " 'rjust',\n",
       " 'rpartition',\n",
       " 'rsplit',\n",
       " 'rstrip',\n",
       " 'split',\n",
       " 'splitlines',\n",
       " 'startswith',\n",
       " 'strip',\n",
       " 'swapcase',\n",
       " 'title',\n",
       " 'translate',\n",
       " 'upper',\n",
       " 'zfill']"
      ]
     },
     "execution_count": 4,
     "metadata": {},
     "output_type": "execute_result"
    }
   ],
   "source": [
    "# lots of methods on strings\n",
    "\n",
    "dir(str)"
   ]
  },
  {
   "cell_type": "code",
   "execution_count": null,
   "metadata": {
    "collapsed": true
   },
   "outputs": [],
   "source": []
  }
 ],
 "metadata": {
  "anaconda-cloud": {},
  "kernelspec": {
   "display_name": "Python 3",
   "language": "python",
   "name": "python3"
  },
  "language_info": {
   "codemirror_mode": {
    "name": "ipython",
    "version": 3
   },
   "file_extension": ".py",
   "mimetype": "text/x-python",
   "name": "python",
   "nbconvert_exporter": "python",
   "pygments_lexer": "ipython3",
   "version": "3.6.3"
  }
 },
 "nbformat": 4,
 "nbformat_minor": 1
}
