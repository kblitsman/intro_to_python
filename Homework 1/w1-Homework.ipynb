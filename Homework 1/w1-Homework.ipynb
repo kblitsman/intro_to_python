{
 "cells": [
  {
   "cell_type": "markdown",
   "metadata": {},
   "source": [
    "# Homework 1\n",
    "- This homework is a \"warm up\" - it is NOT graded, but you must submit it\n",
    "- Your notebook file name must be 'YourUNI.ipynb' - just rename\n",
    "the notebook you downloaded, and add cells with your work in them\n",
    "- Submit the notebook on Courseworks2 by noon Jan 25"
   ]
  },
  {
   "cell_type": "markdown",
   "metadata": {},
   "source": [
    "# Tasks\n",
    "- Answer the survey below\n",
    "- Install the [Anaconda](https://www.anaconda.com/download/) distribution on your machine\n",
    "- Try running the notebook server\n",
    "    - cd to the directory containing this notebook file\n",
    "    - start the notebook server by typing 'jupyter notebook' in a terminal/shell/command window\n",
    "    - in a browser, goto 'localhost:8888' - you should get a list of files\n",
    "    in the directory. double click on 'w1-Homework.ipynb'\n",
    "        - if you set the environment variable 'BROWSER' to 'open', a browser window should open automatically when you start the server\n",
    "    - click on Help/User Interface Tour\n",
    "    - click on Help/Keyboard Shortcuts\n",
    "    - learn how to navigate cells, enter python expressions, and evaluate them\n",
    "- Look at the problems below\n",
    "    - Try doing some or all of them in the notebook\n",
    "    - If you can't do them, do not worry\n",
    "    - I will go over the problems in class"
   ]
  },
  {
   "cell_type": "markdown",
   "metadata": {},
   "source": [
    "# Survey\n",
    "\n",
    "Are you an undergrad or grad student?\n",
    "\n",
    "\n",
    "What is your major?\n",
    "\n",
    "What is the most recent Computer Science class you have taken, if any?\n",
    "\n"
   ]
  },
  {
   "cell_type": "code",
   "execution_count": 1,
   "metadata": {},
   "outputs": [
    {
     "data": {
      "text/plain": [
       "'3.6.3 |Anaconda, Inc.| (default, Oct  6 2017, 12:04:38) \\n[GCC 4.2.1 Compatible Clang 4.0.1 (tags/RELEASE_401/final)]'"
      ]
     },
     "execution_count": 1,
     "metadata": {},
     "output_type": "execute_result"
    }
   ],
   "source": [
    "# you MUST evaluate this cell, or the code below will not work\n",
    "\n",
    "# the output of this cell should include something like:\n",
    "\n",
    "# '3.6.3 |Anaconda, Inc.| (default, Oct  6 2017, 12:04:38) \\n[GCC 4.2.1 Compatible Clang 4.0.1 (tags/RELEASE_401/final)]\n",
    "\n",
    "# if you don't see this, something went wrong with your install\n",
    "\n",
    "import math\n",
    "import random\n",
    "import sys\n",
    "import re\n",
    "\n",
    "sys.version"
   ]
  },
  {
   "cell_type": "markdown",
   "metadata": {},
   "source": [
    "# Hints for the problems\n",
    "- function definition is described in the w1-06-classes notebook"
   ]
  },
  {
   "cell_type": "code",
   "execution_count": 2,
   "metadata": {},
   "outputs": [
    {
     "data": {
      "text/plain": [
       "[False, True]"
      ]
     },
     "execution_count": 2,
     "metadata": {},
     "output_type": "execute_result"
    }
   ],
   "source": [
    "# a useful method on string is isdigit\n",
    "\n",
    "s = 'a3'\n",
    "\n",
    "[s[0].isdigit(), s[1].isdigit()]"
   ]
  },
  {
   "cell_type": "code",
   "execution_count": 3,
   "metadata": {},
   "outputs": [
    {
     "data": {
      "text/plain": [
       "[2.0, 1.0, 0.7071067811865476]"
      ]
     },
     "execution_count": 3,
     "metadata": {},
     "output_type": "execute_result"
    }
   ],
   "source": [
    "# math functions, pi constant\n",
    "\n",
    "[math.sqrt(4), math.sin(math.pi/2), math.cos(math.pi/4)]"
   ]
  },
  {
   "cell_type": "code",
   "execution_count": 4,
   "metadata": {},
   "outputs": [
    {
     "data": {
      "text/plain": [
       "[4, 4]"
      ]
     },
     "execution_count": 4,
     "metadata": {},
     "output_type": "execute_result"
    }
   ],
   "source": [
    "# abs value function\n",
    "\n",
    "[abs(4), abs(-4)]"
   ]
  },
  {
   "cell_type": "code",
   "execution_count": 5,
   "metadata": {},
   "outputs": [
    {
     "name": "stdout",
     "output_type": "stream",
     "text": [
      "5\n",
      "6\n",
      "6\n",
      "7\n",
      "0\n",
      "9\n",
      "2\n"
     ]
    }
   ],
   "source": [
    "# random.choice randomly picks an element from a list \n",
    "\n",
    "clist = range(10)\n",
    "for j in range(7):\n",
    "    print(random.choice(clist))"
   ]
  },
  {
   "cell_type": "code",
   "execution_count": 6,
   "metadata": {},
   "outputs": [
    {
     "data": {
      "text/plain": [
       "[3, 4]"
      ]
     },
     "execution_count": 6,
     "metadata": {},
     "output_type": "execute_result"
    }
   ],
   "source": [
    "# instead of \n",
    "\n",
    "pt = [3,4]\n",
    "\n",
    "xcord = pt[0]\n",
    "ycord = pt[1]\n",
    "\n",
    "# can use destructuring...\n",
    "\n",
    "xcord, ycord = pt\n",
    "\n",
    "[xcord, ycord]"
   ]
  },
  {
   "cell_type": "code",
   "execution_count": 7,
   "metadata": {},
   "outputs": [
    {
     "data": {
      "text/plain": [
       "['3', '7', '8']"
      ]
     },
     "execution_count": 7,
     "metadata": {},
     "output_type": "execute_result"
    }
   ],
   "source": [
    "# find the digits in a string with a regular expression\n",
    "\n",
    "re.findall(\"[0-9]\", \"abc3def7xy8z\")\n"
   ]
  },
  {
   "cell_type": "markdown",
   "metadata": {},
   "source": [
    "# Problems"
   ]
  },
  {
   "cell_type": "markdown",
   "metadata": {},
   "source": [
    "# circlePoints\n",
    "- represent a 2D point as a list - [x,y]\n",
    "- origin is [0,0]\n",
    "- generates n evenly spaced points on a circle centered at the origin\n",
    "- points can be viewed as the vertexes of a regular n side polygon(n-gon)\n",
    "- note that due to floating point round off errors, zero is often represented by very small numbers, like 1e-16"
   ]
  },
  {
   "cell_type": "code",
   "execution_count": 8,
   "metadata": {},
   "outputs": [
    {
     "data": {
      "text/plain": [
       "[[1.0, 0.0],\n",
       " [6.123233995736766e-17, 1.0],\n",
       " [-1.0, 1.2246467991473532e-16],\n",
       " [-1.8369701987210297e-16, -1.0]]"
      ]
     },
     "execution_count": 8,
     "metadata": {},
     "output_type": "execute_result"
    }
   ],
   "source": [
    "def circlePoints(n, radius):\n",
    "    ans = []\n",
    "    for j in range(n):\n",
    "        ang = j * 2 * math.pi / n\n",
    "        ans.append([radius * math.cos(ang), radius * math.sin(ang)])\n",
    "    return ans\n",
    "\n",
    "# pts are really [[1,0],[0,1],[-1,0],[-1,-1]]\n",
    "circlePoints(4,1)"
   ]
  },
  {
   "cell_type": "markdown",
   "metadata": {},
   "source": [
    "# Distance computations\n",
    "- write function 'euclid' that computes the straight line distance between two points\n",
    "- write function 'manhattan' that computes the 'manhattan' distance(can only move horizontally or vertically) between two points\n"
   ]
  },
  {
   "cell_type": "code",
   "execution_count": 55,
   "metadata": {},
   "outputs": [
    {
     "data": {
      "text/plain": [
       "5.0"
      ]
     },
     "execution_count": 55,
     "metadata": {},
     "output_type": "execute_result"
    }
   ],
   "source": [
    "pt1 = [0,0]\n",
    "pt2 = [3,4]\n",
    "\n",
    "euclid(pt1, pt2)"
   ]
  },
  {
   "cell_type": "code",
   "execution_count": 56,
   "metadata": {},
   "outputs": [
    {
     "data": {
      "text/plain": [
       "7"
      ]
     },
     "execution_count": 56,
     "metadata": {},
     "output_type": "execute_result"
    }
   ],
   "source": [
    "manhattan(pt1, pt2)"
   ]
  },
  {
   "cell_type": "markdown",
   "metadata": {},
   "source": [
    "# sumPoints\n",
    "- write a function that computes the x sum and the y sum of a list of points"
   ]
  },
  {
   "cell_type": "code",
   "execution_count": 58,
   "metadata": {},
   "outputs": [
    {
     "data": {
      "text/plain": [
       "[15, 27]"
      ]
     },
     "execution_count": 58,
     "metadata": {},
     "output_type": "execute_result"
    }
   ],
   "source": [
    "sumPoints([[2,3],[3,4],[10,20]])"
   ]
  },
  {
   "cell_type": "code",
   "execution_count": 59,
   "metadata": {},
   "outputs": [
    {
     "data": {
      "text/plain": [
       "[-1.8369701987210297e-16, 2.220446049250313e-16]"
      ]
     },
     "execution_count": 59,
     "metadata": {},
     "output_type": "execute_result"
    }
   ],
   "source": [
    "# try running sumPoints on some n-gons from circlePoints\n",
    "# the output is really [0,0], but remember floating point roundoff\n",
    "\n",
    "sumPoints(circlePoints(4,1))"
   ]
  },
  {
   "cell_type": "code",
   "execution_count": 60,
   "metadata": {},
   "outputs": [
    {
     "data": {
      "text/plain": [
       "[-4.440892098500626e-16, -2.220446049250313e-16]"
      ]
     },
     "execution_count": 60,
     "metadata": {},
     "output_type": "execute_result"
    }
   ],
   "source": [
    "p8 = circlePoints(8,1)\n",
    "sumPoints(p8)"
   ]
  },
  {
   "cell_type": "code",
   "execution_count": 61,
   "metadata": {},
   "outputs": [
    {
     "data": {
      "text/plain": [
       "[3.3306690738754696e-16, -3.552713678800501e-15]"
      ]
     },
     "execution_count": 61,
     "metadata": {},
     "output_type": "execute_result"
    }
   ],
   "source": [
    "# it seems like for even n, the points always sum to [0,0]\n",
    "# a simple symmetry argument proves this...\n",
    "\n",
    "p64 = circlePoints(64,1)\n",
    "sumPoints(p64)"
   ]
  },
  {
   "cell_type": "code",
   "execution_count": 68,
   "metadata": {},
   "outputs": [
    {
     "data": {
      "text/plain": [
       "[-5.10702591327572e-15, 1.5543122344752192e-15]"
      ]
     },
     "execution_count": 68,
     "metadata": {},
     "output_type": "execute_result"
    }
   ],
   "source": [
    "# it may seem surprising that odd n-gons also sum to [0,0]\n",
    "# i know a complex way to prove this\n",
    "# if you know a simple way - please tell me!!\n",
    "\n",
    "sumPoints(circlePoints(63,1))"
   ]
  },
  {
   "cell_type": "markdown",
   "metadata": {},
   "source": [
    "# Approximate the area and circumference of a circle with n-gons\n",
    "- write function perimeter, which gives the perimeter of an n-gon\n",
    "- write function area, which gives the area of n-gon\n",
    "    - can compute area by dividing n-gon into triangles\n",
    "    - can find the area of each triangle by getting the base and height\n",
    "- use euclid in both functions\n",
    "- as n increases, the n-gon becomes more like a circle\n",
    "- show that as n increases, area and perimeter values approach circle values"
   ]
  },
  {
   "cell_type": "code",
   "execution_count": 70,
   "metadata": {},
   "outputs": [
    {
     "data": {
      "text/plain": [
       "[[1.0, 0.0],\n",
       " [6.123233995736766e-17, 1.0],\n",
       " [-1.0, 1.2246467991473532e-16],\n",
       " [-1.8369701987210297e-16, -1.0]]"
      ]
     },
     "execution_count": 70,
     "metadata": {},
     "output_type": "execute_result"
    }
   ],
   "source": [
    "circlePoints(4,1)"
   ]
  },
  {
   "cell_type": "code",
   "execution_count": 71,
   "metadata": {},
   "outputs": [
    {
     "data": {
      "text/plain": [
       "2.0"
      ]
     },
     "execution_count": 71,
     "metadata": {},
     "output_type": "execute_result"
    }
   ],
   "source": [
    "area(4,1)"
   ]
  },
  {
   "cell_type": "code",
   "execution_count": 72,
   "metadata": {},
   "outputs": [
    {
     "data": {
      "text/plain": [
       "5.65685424949238"
      ]
     },
     "execution_count": 72,
     "metadata": {},
     "output_type": "execute_result"
    }
   ],
   "source": [
    "perimeter(4,1)"
   ]
  },
  {
   "cell_type": "code",
   "execution_count": 73,
   "metadata": {},
   "outputs": [
    {
     "data": {
      "text/plain": [
       "5.656854249492381"
      ]
     },
     "execution_count": 73,
     "metadata": {},
     "output_type": "execute_result"
    }
   ],
   "source": [
    "4*math.sqrt(2)"
   ]
  },
  {
   "cell_type": "code",
   "execution_count": 74,
   "metadata": {},
   "outputs": [
    {
     "data": {
      "text/plain": [
       "12.566370614359172"
      ]
     },
     "execution_count": 74,
     "metadata": {},
     "output_type": "execute_result"
    }
   ],
   "source": [
    "# area of radius 2 circle\n",
    "\n",
    "math.pi * 2**2"
   ]
  },
  {
   "cell_type": "code",
   "execution_count": 75,
   "metadata": {},
   "outputs": [
    {
     "name": "stdout",
     "output_type": "stream",
     "text": [
      "5.196152422706632\n",
      "8.0\n",
      "9.510565162951536\n",
      "11.313708498984763\n",
      "12.148744695291626\n",
      "12.360679774997898\n",
      "12.47470144906556\n",
      "12.533323356430415\n",
      "12.55810390586267\n",
      "12.566287931117719\n",
      "12.566370614345734\n"
     ]
    }
   ],
   "source": [
    "def testArea(radius):\n",
    "    # see how we do for various n-gons\n",
    "    for n in [3,4,5,8,14,20,30,50,100,1000,1000000]:\n",
    "        print(area(n, radius))\n",
    "\n",
    "testArea(2)"
   ]
  },
  {
   "cell_type": "code",
   "execution_count": 76,
   "metadata": {},
   "outputs": [
    {
     "data": {
      "text/plain": [
       "6.283185307179586"
      ]
     },
     "execution_count": 76,
     "metadata": {},
     "output_type": "execute_result"
    }
   ],
   "source": [
    "# perimeter of radius 1 circle\n",
    "\n",
    "2*math.pi"
   ]
  },
  {
   "cell_type": "code",
   "execution_count": 77,
   "metadata": {},
   "outputs": [
    {
     "name": "stdout",
     "output_type": "stream",
     "text": [
      "5.196152422706632\n",
      "5.65685424949238\n",
      "5.877852522924732\n",
      "6.122934917841436\n",
      "6.2305861507768014\n",
      "6.257378601609234\n",
      "6.27170779605921\n",
      "6.279051952931337\n",
      "6.282151815625652\n",
      "6.2831749717590775\n",
      "6.283185307177944\n"
     ]
    }
   ],
   "source": [
    "def testPerimeter(radius):\n",
    "    for n in [3,4,5,8,14,20,30,50,100,1000,1000000]:\n",
    "        print(perimeter(n, radius))\n",
    "\n",
    "testPerimeter(1)"
   ]
  },
  {
   "cell_type": "markdown",
   "metadata": {},
   "source": [
    "# random string generator\n",
    "- string module - has useful constants\n",
    "- [string doc page](https://docs.python.org/3/library/string.html)"
   ]
  },
  {
   "cell_type": "code",
   "execution_count": 78,
   "metadata": {},
   "outputs": [
    {
     "name": "stdout",
     "output_type": "stream",
     "text": [
      "Ps.!ps:kPxH!cWV#(rh@GM.$XwYb{Z\n",
      ":j_CHg)x~r\\uG#OXEy|KIQo<\\Vba?S\n",
      "Fmw*_)V+rGT)E}s#^/)S'Rl>\"u'-!s\n",
      "yvZ/+qq<&!]$QilSI*REZN$<R^DQTj\n"
     ]
    }
   ],
   "source": [
    "import string\n",
    "    \n",
    "def randomString(n):\n",
    "    # don't want digits in the string\n",
    "    chars = string.ascii_letters + string.punctuation\n",
    "    return ''.join([random.choice(chars) for j in range(n)])\n",
    "\n",
    "for j in range(4):\n",
    "    print(randomString(30))"
   ]
  },
  {
   "cell_type": "markdown",
   "metadata": {},
   "source": [
    "# define encrypt and decrypt functions\n",
    "- encrypt - not so great encryption technique. \n",
    "    - takes a list of words and encrypts them \n",
    "    - each word is prefixed by a single digit character count\n",
    "    - the digits/words are surrounded by random strings\n",
    "- decrypt by searching for single digits \n",
    "- warning: these two are a tad tricky. don't spend much\n",
    "time on them"
   ]
  },
  {
   "cell_type": "code",
   "execution_count": 80,
   "metadata": {},
   "outputs": [
    {
     "data": {
      "text/plain": [
       "'asdfzxcv'"
      ]
     },
     "execution_count": 80,
     "metadata": {},
     "output_type": "execute_result"
    }
   ],
   "source": [
    "''.join(['asdf', 'zxcv'])"
   ]
  },
  {
   "cell_type": "code",
   "execution_count": 81,
   "metadata": {},
   "outputs": [
    {
     "data": {
      "text/plain": [
       "'>j/$vw<6Python[dM>cIS2isz{QeKMr/6reallym=\\'d.HO6great!/]A:]OLL\"'"
      ]
     },
     "execution_count": 81,
     "metadata": {},
     "output_type": "execute_result"
    }
   ],
   "source": [
    "#e = encrypt(['Python', 'is', 'really', 'great!'])\n",
    "e = encrypt('Python is really great!')\n",
    "e"
   ]
  },
  {
   "cell_type": "code",
   "execution_count": 82,
   "metadata": {},
   "outputs": [
    {
     "data": {
      "text/plain": [
       "'Python is really great!'"
      ]
     },
     "execution_count": 82,
     "metadata": {},
     "output_type": "execute_result"
    }
   ],
   "source": [
    "decrypt(e)"
   ]
  }
 ],
 "metadata": {
  "anaconda-cloud": {},
  "kernelspec": {
   "display_name": "Python 3",
   "language": "python",
   "name": "python3"
  },
  "language_info": {
   "codemirror_mode": {
    "name": "ipython",
    "version": 3
   },
   "file_extension": ".py",
   "mimetype": "text/x-python",
   "name": "python",
   "nbconvert_exporter": "python",
   "pygments_lexer": "ipython3",
   "version": "3.6.3"
  }
 },
 "nbformat": 4,
 "nbformat_minor": 1
}
