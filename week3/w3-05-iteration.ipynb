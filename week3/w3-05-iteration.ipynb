{
 "cells": [
  {
   "cell_type": "markdown",
   "metadata": {},
   "source": [
    "# Iterator Protocol\n",
    "- general protocol for iterating over objects\n",
    "- use 'iter' function to get an iterator from an object\n",
    "    - not all objects support iteration - for example, int and float don't\n",
    "- the 'iterator' may be the same object, or a different one\n",
    "- some objects allow multiple iterators simultaneously\n",
    "- call 'next' function repeatedly, to get the elements of the iteration\n",
    "- when all elements have been produced, iterator will raise a 'StopIteration' error each\n",
    "time 'next' is called\n",
    "- 'StopIteration' implies the iterator is 'exhausted' - discard it.\n",
    "- for loops use iterator protocol\n",
    "- why raise an error at the end of the iteration???\n"
   ]
  },
  {
   "cell_type": "code",
   "execution_count": null,
   "metadata": {},
   "outputs": [],
   "source": [
    "x = [1,4]\n",
    "xi = iter(x)\n",
    "xi"
   ]
  },
  {
   "cell_type": "code",
   "execution_count": null,
   "metadata": {},
   "outputs": [],
   "source": [
    "# 1st value\n",
    "\n",
    "next(xi)"
   ]
  },
  {
   "cell_type": "code",
   "execution_count": null,
   "metadata": {},
   "outputs": [],
   "source": [
    "# 2nd value\n",
    "\n",
    "next(xi)"
   ]
  },
  {
   "cell_type": "code",
   "execution_count": null,
   "metadata": {},
   "outputs": [],
   "source": [
    "# done\n",
    "\n",
    "next(xi)"
   ]
  },
  {
   "cell_type": "code",
   "execution_count": null,
   "metadata": {},
   "outputs": [],
   "source": [
    "# error again - still exhausted\n",
    "# iterator now useless - throw it away \n",
    "\n",
    "next(xi)"
   ]
  },
  {
   "cell_type": "code",
   "execution_count": null,
   "metadata": {
    "collapsed": true
   },
   "outputs": [],
   "source": []
  },
  {
   "cell_type": "code",
   "execution_count": null,
   "metadata": {},
   "outputs": [],
   "source": [
    "# nothing has happend to x tho\n",
    "x"
   ]
  },
  {
   "cell_type": "code",
   "execution_count": null,
   "metadata": {},
   "outputs": [],
   "source": [
    "# each iterator is a new obj \n",
    "# can have any number of them\n",
    "\n",
    "xi = iter(x)\n",
    "xi2 = iter(x)\n",
    "\n",
    "[xi, xi2, xi is xi2]"
   ]
  },
  {
   "cell_type": "code",
   "execution_count": null,
   "metadata": {},
   "outputs": [],
   "source": [
    "next(xi)"
   ]
  },
  {
   "cell_type": "code",
   "execution_count": null,
   "metadata": {},
   "outputs": [],
   "source": [
    "# now xi is exhausted\n",
    "# but xi2 has a value left\n",
    "\n",
    "[next(xi), next(xi2)]"
   ]
  },
  {
   "cell_type": "code",
   "execution_count": null,
   "metadata": {
    "scrolled": true
   },
   "outputs": [],
   "source": [
    "# xi has nothing left, so next call fails\n",
    "\n",
    "next(xi)"
   ]
  },
  {
   "cell_type": "code",
   "execution_count": null,
   "metadata": {},
   "outputs": [],
   "source": [
    "# one val left for xi2\n",
    "\n",
    "next(xi2)"
   ]
  },
  {
   "cell_type": "code",
   "execution_count": null,
   "metadata": {},
   "outputs": [],
   "source": [
    "# now xi2 is done\n",
    "\n",
    "next(xi2)"
   ]
  },
  {
   "cell_type": "code",
   "execution_count": null,
   "metadata": {},
   "outputs": [],
   "source": [
    "# will bomb, doesn't handle StopIteration\n",
    "\n",
    "def foo(l):\n",
    "    # iter gets the iterator for a sequence\n",
    "    i = iter(l)\n",
    "    # loop forever\n",
    "    while True:\n",
    "        e = next(i)\n",
    "        print(e)\n",
    "        \n",
    "foo([1,2,3])"
   ]
  },
  {
   "cell_type": "code",
   "execution_count": null,
   "metadata": {},
   "outputs": [],
   "source": [
    "# handle StopIteration\n",
    "\n",
    "def foo(l):\n",
    "    # iter gets the iterator for a sequence\n",
    "    i = iter(l)\n",
    "    # loop forever\n",
    "    while True:\n",
    "        try:\n",
    "            e = next(i)\n",
    "            print(e)\n",
    "        except StopIteration:\n",
    "            print('caught loop end')\n",
    "            break\n",
    "        \n",
    "foo([1,2,3])"
   ]
  },
  {
   "cell_type": "code",
   "execution_count": null,
   "metadata": {
    "collapsed": true
   },
   "outputs": [],
   "source": [
    "# ReverseIterList \n",
    "# courtesy of Daniel Bauer\n",
    "\n",
    "# another example of inheritance, from 'list'\n",
    "# by implementing the iteration protocol,\n",
    "# we make a list that iterates backwards\n",
    "\n",
    "class ReverseIterList(list):\n",
    "    \n",
    "    # calling the 'iter' function on an object\n",
    "    # ultimately calls the '__iter__' method\n",
    "    # on the object\n",
    "    # in this case the object itself is \n",
    "    # the iterator \n",
    "    def __iter__(self):\n",
    "        # create an instance variable 'index', \n",
    "        # and set to the length of the list\n",
    "        self.index = len(self)\n",
    "        return(self)\n",
    "    \n",
    "    # calling the 'next' function on an object \n",
    "    # ultimately calls the '__next__' method on \n",
    "    # the object\n",
    "    def __next__(self):\n",
    "        # are we done?\n",
    "        if self.index == 0:\n",
    "            raise StopIteration\n",
    "        else:\n",
    "            # decrement index to go backwards\n",
    "            self.index -= 1\n",
    "        # return the list element that index selects\n",
    "        return(self[self.index])"
   ]
  },
  {
   "cell_type": "code",
   "execution_count": null,
   "metadata": {},
   "outputs": [],
   "source": [
    "# looks like a normal list\n",
    "\n",
    "ril = ReverseIterList(range(4))\n",
    "print(ril)\n",
    "print(ril[2])"
   ]
  },
  {
   "cell_type": "code",
   "execution_count": null,
   "metadata": {},
   "outputs": [],
   "source": [
    "# but it runs backwards!\n",
    "\n",
    "for j in ril:\n",
    "    print(j)"
   ]
  },
  {
   "cell_type": "markdown",
   "metadata": {},
   "source": [
    "# reversed - iterate in reverse order\n",
    "- comes in handy at times\n",
    "- works with many types, not just list"
   ]
  },
  {
   "cell_type": "code",
   "execution_count": null,
   "metadata": {},
   "outputs": [],
   "source": [
    "for j in reversed(range(5)):\n",
    "    print(j)"
   ]
  },
  {
   "cell_type": "code",
   "execution_count": null,
   "metadata": {},
   "outputs": [],
   "source": [
    "for j in reversed((0,1,2,3,4)):\n",
    "    print(j)"
   ]
  },
  {
   "cell_type": "code",
   "execution_count": null,
   "metadata": {
    "collapsed": true
   },
   "outputs": [],
   "source": []
  }
 ],
 "metadata": {
  "anaconda-cloud": {},
  "kernelspec": {
   "display_name": "Python 3",
   "language": "python",
   "name": "python3"
  },
  "language_info": {
   "codemirror_mode": {
    "name": "ipython",
    "version": 3
   },
   "file_extension": ".py",
   "mimetype": "text/x-python",
   "name": "python",
   "nbconvert_exporter": "python",
   "pygments_lexer": "ipython3",
   "version": "3.6.3"
  }
 },
 "nbformat": 4,
 "nbformat_minor": 1
}
