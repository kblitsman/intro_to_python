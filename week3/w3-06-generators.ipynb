{
 "cells": [
  {
   "cell_type": "markdown",
   "metadata": {},
   "source": [
    "# Generators \n",
    "- another way to define an iterable\n",
    "- a generator is defined by using a 'yield' statement inside a 'def'\n",
    "- executing the function returns the generator\n",
    "- calling 'next' on a generator will cause the generator to execute until it \n",
    "hits a 'yield' statement. the arg supplied to 'yield' will be returned by 'next'. the next time 'next' is called on the generator, the generator will resume executing on the statement following the yield. \n",
    "- all local variable values are preserved between between 'next' calls to the generator\n",
    "- falling off the end of the function, or executing a 'return' statement, will terminate the generator.\n",
    "- once a generator terminates, it is 'exhausted', and can not be used again\n",
    "- the generator signals exhaustion by raising 'StopIteration' on a 'next' call\n"
   ]
  },
  {
   "cell_type": "code",
   "execution_count": 5,
   "metadata": {},
   "outputs": [
    {
     "name": "stdout",
     "output_type": "stream",
     "text": [
      "5\n",
      "6\n"
     ]
    }
   ],
   "source": [
    "# a simple function definition\n",
    "\n",
    "def foo(n):\n",
    "    x = n+1\n",
    "    y = n+2\n",
    "    print(x)\n",
    "    print(y)\n",
    "\n",
    "# execute the function\n",
    "foo(4)"
   ]
  },
  {
   "cell_type": "code",
   "execution_count": 12,
   "metadata": {
    "collapsed": true
   },
   "outputs": [],
   "source": [
    "# if a def has a yield statement,\n",
    "# it does something very different -\n",
    "# it defines a generator\n",
    "\n",
    "def bar(n):\n",
    "    x = n+1\n",
    "    y = n+2\n",
    "    print(x)\n",
    "    yield(x)\n",
    "    print(x+y)\n",
    "    yield(x+y)\n",
    "    \n",
    "# build the generator\n",
    "\n",
    "g = bar(4)"
   ]
  },
  {
   "cell_type": "code",
   "execution_count": 13,
   "metadata": {},
   "outputs": [
    {
     "name": "stdout",
     "output_type": "stream",
     "text": [
      "5\n"
     ]
    },
    {
     "data": {
      "text/plain": [
       "5"
      ]
     },
     "execution_count": 13,
     "metadata": {},
     "output_type": "execute_result"
    }
   ],
   "source": [
    "# execute the generator by using the iterator protocol\n",
    "# the value of x, 5, was printed, then was 'yielded' as the \n",
    "# return value of the next call. \n",
    "# the generator code paused execution just after the yield(x)\n",
    "# call\n",
    "\n",
    "next(g)"
   ]
  },
  {
   "cell_type": "code",
   "execution_count": 14,
   "metadata": {},
   "outputs": [
    {
     "name": "stdout",
     "output_type": "stream",
     "text": [
      "11\n"
     ]
    },
    {
     "data": {
      "text/plain": [
       "11"
      ]
     },
     "execution_count": 14,
     "metadata": {},
     "output_type": "execute_result"
    }
   ],
   "source": [
    "# now the generator continues execution, from \n",
    "# just after the first yield(x)\n",
    "# note the values of x and y have been remembered. \n",
    "\n",
    "next(g)"
   ]
  },
  {
   "cell_type": "code",
   "execution_count": 15,
   "metadata": {},
   "outputs": [
    {
     "ename": "StopIteration",
     "evalue": "",
     "output_type": "error",
     "traceback": [
      "\u001b[0;31m---------------------------------------------------------------------------\u001b[0m",
      "\u001b[0;31mStopIteration\u001b[0m                             Traceback (most recent call last)",
      "\u001b[0;32m<ipython-input-15-5f315c5de15b>\u001b[0m in \u001b[0;36m<module>\u001b[0;34m()\u001b[0m\n\u001b[0;32m----> 1\u001b[0;31m \u001b[0mnext\u001b[0m\u001b[0;34m(\u001b[0m\u001b[0mg\u001b[0m\u001b[0;34m)\u001b[0m\u001b[0;34m\u001b[0m\u001b[0m\n\u001b[0m",
      "\u001b[0;31mStopIteration\u001b[0m: "
     ]
    }
   ],
   "source": [
    "# now there no yields left thus no more values can be returned\n",
    "# from calling next, so the generator raises a StopIteration error\n",
    "# the generator is now spent, and should be discarded\n",
    "\n",
    "next(g)"
   ]
  },
  {
   "cell_type": "code",
   "execution_count": 18,
   "metadata": {
    "collapsed": true
   },
   "outputs": [],
   "source": [
    "# zap is bar with the prints removed\n",
    "\n",
    "def zap(n):\n",
    "    x = n+1\n",
    "    y = n+2\n",
    "    yield(x)\n",
    "    yield(x+y)\n",
    "   "
   ]
  },
  {
   "cell_type": "code",
   "execution_count": 19,
   "metadata": {},
   "outputs": [
    {
     "name": "stdout",
     "output_type": "stream",
     "text": [
      "5\n",
      "11\n"
     ]
    }
   ],
   "source": [
    "# use 'for' to iterate the generator\n",
    "\n",
    "for j in zap(4):\n",
    "    print(j)"
   ]
  },
  {
   "cell_type": "code",
   "execution_count": 20,
   "metadata": {},
   "outputs": [
    {
     "data": {
      "text/plain": [
       "[5, 11]"
      ]
     },
     "execution_count": 20,
     "metadata": {},
     "output_type": "execute_result"
    }
   ],
   "source": [
    "# or make a list\n",
    "\n",
    "list(zap(4))"
   ]
  },
  {
   "cell_type": "code",
   "execution_count": 21,
   "metadata": {},
   "outputs": [
    {
     "data": {
      "text/plain": [
       "[15, 21]"
      ]
     },
     "execution_count": 21,
     "metadata": {},
     "output_type": "execute_result"
    }
   ],
   "source": [
    "# or do a list comprehension\n",
    "\n",
    "[j+10 for j in zap(4)]"
   ]
  },
  {
   "cell_type": "markdown",
   "metadata": {},
   "source": [
    "# yield from statement"
   ]
  },
  {
   "cell_type": "code",
   "execution_count": 31,
   "metadata": {},
   "outputs": [
    {
     "name": "stdout",
     "output_type": "stream",
     "text": [
      "l\n",
      "a\n",
      "r\n",
      "r\n",
      "y\n"
     ]
    }
   ],
   "source": [
    "# generator for chars in a string\n",
    "\n",
    "def chars(s):\n",
    "    for c in s:\n",
    "        yield c\n",
    "        \n",
    "cs = chars('larry')\n",
    "for c in cs:\n",
    "    print(c)\n",
    "    "
   ]
  },
  {
   "cell_type": "code",
   "execution_count": 32,
   "metadata": {},
   "outputs": [
    {
     "name": "stdout",
     "output_type": "stream",
     "text": [
      "l\n",
      "a\n",
      "r\n",
      "r\n",
      "y\n",
      "another yield\n"
     ]
    }
   ],
   "source": [
    "# 'yield from' will yield everything from its generator argument\n",
    "\n",
    "def gfrom(g):\n",
    "    # when g is exhausted, move to next statement\n",
    "    yield from g\n",
    "    yield 'another yield'\n",
    "    \n",
    "gs = gfrom(chars('larry'))\n",
    "\n",
    "for c in gs:\n",
    "    print(c)"
   ]
  },
  {
   "cell_type": "markdown",
   "metadata": {},
   "source": [
    "# generators vs classes\n",
    "- both preserve 'state' information, in different ways\n",
    "- generators\n",
    "    - save local variable bindings and program execution location\n",
    "    - automatically define an iterator\n",
    "- classes\n",
    "    - save object attribute values\n",
    "    - iterator must be defined explicitly\n",
    "\n",
    "# compare by implementing fibonacci series both ways\n",
    "\n",
    "- fibonacci series is 1,1,2,3,5,8...\n",
    "- f(0) = 1\n",
    "- f(1) = 1\n",
    "- f(n) = f(n-1) + f(n-2)\n",
    "\n",
    "# fibonaaci generator"
   ]
  },
  {
   "cell_type": "code",
   "execution_count": 34,
   "metadata": {},
   "outputs": [
    {
     "name": "stdout",
     "output_type": "stream",
     "text": [
      "1\n",
      "1\n",
      "2\n",
      "3\n",
      "5\n",
      "8\n",
      "13\n",
      "21\n",
      "34\n",
      "55\n"
     ]
    }
   ],
   "source": [
    "def fibg():\n",
    "    # easy way to handle the first two ones\n",
    "    yield(1)\n",
    "    yield(1)\n",
    "    last = 1\n",
    "    last2 = 1\n",
    "    while True:\n",
    "        sum = last + last2\n",
    "        yield(sum)\n",
    "        last2 = last\n",
    "        last = sum\n",
    "\n",
    "for g,j in zip(fibg(), range(10)):\n",
    "    print(g)\n"
   ]
  },
  {
   "cell_type": "markdown",
   "metadata": {},
   "source": [
    "# fibonacci class\n",
    "- must explicitly define iteration with ```__iter__ and __next__``` methods\n",
    "- must explicitly save state on object attributes\n"
   ]
  },
  {
   "cell_type": "code",
   "execution_count": 36,
   "metadata": {},
   "outputs": [
    {
     "name": "stdout",
     "output_type": "stream",
     "text": [
      "1\n",
      "1\n",
      "2\n",
      "3\n",
      "5\n",
      "8\n",
      "13\n",
      "21\n",
      "34\n",
      "55\n"
     ]
    }
   ],
   "source": [
    "# implement the iteration protocol, \n",
    "# using the `__iter__ and __next__' methods\n",
    "\n",
    "class fibc:\n",
    "    def __init__(self):\n",
    "        # state we will save in object attributes\n",
    "        self.old = 1\n",
    "        self.older = 1\n",
    "    \n",
    "    # return the iterator for the obj, \n",
    "    # which is the object itself\n",
    "    def __iter__(self):\n",
    "        return self\n",
    "    \n",
    "    # returns the next element in the iteration\n",
    "    # since this sequence is infinite, we never \n",
    "    # throw the StopIteration error\n",
    "    def __next__(self):\n",
    "        (self.old, self.older, rtn) = (self.old + self.older, self.old, self.older)\n",
    "        return rtn \n",
    "\n",
    "# note the generator and class can be used the same way,\n",
    "# because they both implement the iteration protocol\n",
    "\n",
    "for g,j in zip(fibc(), range(10)):\n",
    "    print(g)"
   ]
  },
  {
   "cell_type": "markdown",
   "metadata": {},
   "source": [
    "# conclusion\n",
    "- for fibonaaci, the generator approach is much simpler\n",
    "- however, classes are much more general and can be used in ways that generators do not support"
   ]
  },
  {
   "cell_type": "markdown",
   "metadata": {},
   "source": [
    "# Generator Expression\n",
    "- an expression that evaluates to a generator\n",
    "- looks like a list comprehension, but with outer '()' instead of '[]'"
   ]
  },
  {
   "cell_type": "code",
   "execution_count": 33,
   "metadata": {
    "collapsed": true
   },
   "outputs": [],
   "source": [
    "def ge(n):\n",
    "    # can't put a 'def' in a return, but\n",
    "    # an expression is ok\n",
    "    return ( j**2 for j in range(2, n) if j != 3)\n",
    "\n",
    "g = ge(8)"
   ]
  },
  {
   "cell_type": "code",
   "execution_count": 34,
   "metadata": {},
   "outputs": [
    {
     "data": {
      "text/plain": [
       "4"
      ]
     },
     "execution_count": 34,
     "metadata": {},
     "output_type": "execute_result"
    }
   ],
   "source": [
    "# pick first two manually\n",
    "\n",
    "next(g)"
   ]
  },
  {
   "cell_type": "code",
   "execution_count": 35,
   "metadata": {},
   "outputs": [
    {
     "data": {
      "text/plain": [
       "16"
      ]
     },
     "execution_count": 35,
     "metadata": {},
     "output_type": "execute_result"
    }
   ],
   "source": [
    "# skipped j == 3\n",
    "\n",
    "next(g)"
   ]
  },
  {
   "cell_type": "code",
   "execution_count": 36,
   "metadata": {},
   "outputs": [
    {
     "name": "stdout",
     "output_type": "stream",
     "text": [
      "25\n",
      "36\n",
      "49\n"
     ]
    }
   ],
   "source": [
    "# for gets the rest\n",
    "\n",
    "for j in g:\n",
    "    print(j)"
   ]
  },
  {
   "cell_type": "markdown",
   "metadata": {},
   "source": [
    "# A generator can represent an infinite sequence (sort of)\n",
    "- eager approach can't work - not possible to make a list of ALL the even integers\n",
    "- but in some sense lazy approach can represent that list with a generator, by supplying as many as are asked for"
   ]
  },
  {
   "cell_type": "code",
   "execution_count": 22,
   "metadata": {
    "collapsed": true
   },
   "outputs": [],
   "source": [
    "def infinite(start, incr):\n",
    "    e = start\n",
    "    # this generator will never terminate\n",
    "    while True:\n",
    "        yield(e)\n",
    "        e += incr"
   ]
  },
  {
   "cell_type": "code",
   "execution_count": 23,
   "metadata": {},
   "outputs": [
    {
     "data": {
      "text/plain": [
       "[2, 4, 6, 8, 10]"
      ]
     },
     "execution_count": 23,
     "metadata": {},
     "output_type": "execute_result"
    }
   ],
   "source": [
    "# eg represents the positive even numbers\n",
    "# but you can't use constructs like 'for', or list \n",
    "# comprehensions on infinite generators because \n",
    "# the loops will never terminate\n",
    "# here the range terminates the loop\n",
    "\n",
    "eg = infinite(2,2)\n",
    "[next(eg) for j in range(5)]"
   ]
  },
  {
   "cell_type": "code",
   "execution_count": 25,
   "metadata": {},
   "outputs": [
    {
     "data": {
      "text/plain": [
       "[12, 14, 16, 18, 20]"
      ]
     },
     "execution_count": 25,
     "metadata": {},
     "output_type": "execute_result"
    }
   ],
   "source": [
    "# another way to limit the iteration\n",
    "# zip will stop when the range is exhausted\n",
    "\n",
    "[g+10 for g,z in zip(infinite(2,2), range(5))]"
   ]
  },
  {
   "cell_type": "code",
   "execution_count": 24,
   "metadata": {},
   "outputs": [
    {
     "data": {
      "text/plain": [
       "[4, 16, 64, 256, 1024]"
      ]
     },
     "execution_count": 24,
     "metadata": {},
     "output_type": "execute_result"
    }
   ],
   "source": [
    "# a generator can use another generator\n",
    "\n",
    "def evenPowersOf2():\n",
    "    eg = infinite(2,2)\n",
    "    while True:\n",
    "        e = next(eg)\n",
    "        yield 2**e\n",
    "\n",
    "ep2 = evenPowersOf2()\n",
    "[next(ep2) for j in range(5)]"
   ]
  },
  {
   "cell_type": "code",
   "execution_count": 23,
   "metadata": {},
   "outputs": [
    {
     "data": {
      "text/plain": [
       "[4096, 16384, 65536, 262144, 1048576]"
      ]
     },
     "execution_count": 23,
     "metadata": {},
     "output_type": "execute_result"
    }
   ],
   "source": [
    "[next(ep2) for j in range(5)]"
   ]
  },
  {
   "cell_type": "markdown",
   "metadata": {},
   "source": [
    "# can do operations on infinite series"
   ]
  },
  {
   "cell_type": "code",
   "execution_count": 24,
   "metadata": {},
   "outputs": [
    {
     "data": {
      "text/plain": [
       "[7, 14, 21, 28, 35]"
      ]
     },
     "execution_count": 24,
     "metadata": {},
     "output_type": "execute_result"
    }
   ],
   "source": [
    "import operator\n",
    "\n",
    "# add infinite series\n",
    "\n",
    "eg = infinite(2,2)\n",
    "g5 = infinite(5,5)\n",
    "\n",
    "def opgen(op, g1, g2):\n",
    "    while True: \n",
    "        e1 = next(g1)\n",
    "        e2 = next(g2)\n",
    "        yield op(e1,e2)\n",
    "        \n",
    "og = opgen(operator.add, eg, g5)\n",
    "\n",
    "[next(og) for j in range(5)]\n"
   ]
  },
  {
   "cell_type": "code",
   "execution_count": 25,
   "metadata": {},
   "outputs": [
    {
     "data": {
      "text/plain": [
       "[-3, -6, -9, -12, -15]"
      ]
     },
     "execution_count": 25,
     "metadata": {},
     "output_type": "execute_result"
    }
   ],
   "source": [
    "# subtract infinite series\n",
    "\n",
    "eg = infinite(2,2)\n",
    "g5 = infinite(5,5)\n",
    "og = opgen(operator.sub, eg, g5)\n",
    "\n",
    "[next(og) for j in range(5)]"
   ]
  },
  {
   "cell_type": "markdown",
   "metadata": {},
   "source": [
    "# Modifying a Running Generator\n",
    "- can change generator state at any time"
   ]
  },
  {
   "cell_type": "code",
   "execution_count": 27,
   "metadata": {
    "collapsed": true
   },
   "outputs": [],
   "source": [
    "def counter(maximum):\n",
    "    cnt = 0\n",
    "    while cnt < maximum:\n",
    "        # peculiar syntax\n",
    "        val = (yield cnt)\n",
    "        # If value provided, change counter\n",
    "        if val is not None:\n",
    "            cnt = val\n",
    "        else:\n",
    "            cnt += 1\n"
   ]
  },
  {
   "cell_type": "code",
   "execution_count": 28,
   "metadata": {},
   "outputs": [
    {
     "data": {
      "text/plain": [
       "[0, 1, 2, 3, 4, 5, 6, 7, 8, 9]"
      ]
     },
     "execution_count": 28,
     "metadata": {},
     "output_type": "execute_result"
    }
   ],
   "source": [
    "c = counter(1000)\n",
    "[next(c) for j in range(10)]"
   ]
  },
  {
   "cell_type": "code",
   "execution_count": 29,
   "metadata": {},
   "outputs": [
    {
     "data": {
      "text/plain": [
       "[301, 302, 303, 304, 305, 306, 307, 308, 309, 310]"
      ]
     },
     "execution_count": 29,
     "metadata": {},
     "output_type": "execute_result"
    }
   ],
   "source": [
    "# change the 'cnt' variable that the generator saves \n",
    "# '(yield cnt)' in generator will return 300\n",
    "\n",
    "c.send(300)\n",
    "\n",
    "# generator continues from new value\n",
    "[next(c) for j in range(10)]"
   ]
  },
  {
   "cell_type": "code",
   "execution_count": 30,
   "metadata": {
    "collapsed": true
   },
   "outputs": [],
   "source": [
    "# the generator is nowhere near done, \n",
    "# but we can terminate it\n",
    "\n",
    "c.close()"
   ]
  },
  {
   "cell_type": "code",
   "execution_count": 32,
   "metadata": {},
   "outputs": [
    {
     "ename": "StopIteration",
     "evalue": "",
     "output_type": "error",
     "traceback": [
      "\u001b[0;31m---------------------------------------------------------------------------\u001b[0m",
      "\u001b[0;31mStopIteration\u001b[0m                             Traceback (most recent call last)",
      "\u001b[0;32m<ipython-input-32-00f233f05b6b>\u001b[0m in \u001b[0;36m<module>\u001b[0;34m()\u001b[0m\n\u001b[1;32m      1\u001b[0m \u001b[0;31m# the generator is exhausted now\u001b[0m\u001b[0;34m\u001b[0m\u001b[0;34m\u001b[0m\u001b[0m\n\u001b[1;32m      2\u001b[0m \u001b[0;34m\u001b[0m\u001b[0m\n\u001b[0;32m----> 3\u001b[0;31m \u001b[0mnext\u001b[0m\u001b[0;34m(\u001b[0m\u001b[0mc\u001b[0m\u001b[0;34m)\u001b[0m\u001b[0;34m\u001b[0m\u001b[0m\n\u001b[0m",
      "\u001b[0;31mStopIteration\u001b[0m: "
     ]
    }
   ],
   "source": [
    "# the generator is exhausted now\n",
    "\n",
    "next(c)"
   ]
  },
  {
   "cell_type": "markdown",
   "metadata": {},
   "source": [
    "# suppose want to sum 1,000,000 squares\n",
    "- try three different approaches"
   ]
  },
  {
   "cell_type": "code",
   "execution_count": 26,
   "metadata": {},
   "outputs": [
    {
     "data": {
      "text/plain": [
       "333332833333500000"
      ]
     },
     "execution_count": 26,
     "metadata": {},
     "output_type": "execute_result"
    }
   ],
   "source": [
    "# 1\n",
    "\n",
    "# could do\n",
    "\n",
    "mil = 1000**2\n",
    "\n",
    "sq = [x**2 for x in range(mil)]\n",
    "\n",
    "# built in function that will sum a list\n",
    "sum(sq)\n"
   ]
  },
  {
   "cell_type": "code",
   "execution_count": 27,
   "metadata": {},
   "outputs": [
    {
     "data": {
      "text/plain": [
       "333332833333500000"
      ]
     },
     "execution_count": 27,
     "metadata": {},
     "output_type": "execute_result"
    }
   ],
   "source": [
    "# 2 \n",
    "# accumulation variable and for loop\n",
    "\n",
    "total = 0 \n",
    "for x in range(mil):\n",
    "    total += x**2\n",
    "total"
   ]
  },
  {
   "cell_type": "code",
   "execution_count": 28,
   "metadata": {},
   "outputs": [
    {
     "data": {
      "text/plain": [
       "333332833333500000"
      ]
     },
     "execution_count": 28,
     "metadata": {},
     "output_type": "execute_result"
    }
   ],
   "source": [
    "# 3\n",
    "# use a generator\n",
    "\n",
    "# which way is better? worst?\n",
    "\n",
    "sum(x**2 for x in range(mil))"
   ]
  }
 ],
 "metadata": {
  "anaconda-cloud": {},
  "kernelspec": {
   "display_name": "Python 3",
   "language": "python",
   "name": "python3"
  },
  "language_info": {
   "codemirror_mode": {
    "name": "ipython",
    "version": 3
   },
   "file_extension": ".py",
   "mimetype": "text/x-python",
   "name": "python",
   "nbconvert_exporter": "python",
   "pygments_lexer": "ipython3",
   "version": "3.6.3"
  }
 },
 "nbformat": 4,
 "nbformat_minor": 1
}
