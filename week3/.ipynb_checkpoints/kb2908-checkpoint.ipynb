{
 "cells": [
  {
   "cell_type": "markdown",
   "metadata": {},
   "source": [
    "# Introduction to Python \n",
    "# Homework #3\n",
    "- Due Thursday Feb 8 at noon\n",
    "- This homework will be graded\n",
    "- You MUST submit on CourseWorks2 before it closes\n",
    "    - Verify your submission succeeded\n",
    "    - Email submissions are not accepted \n",
    "    "
   ]
  },
  {
   "cell_type": "markdown",
   "metadata": {},
   "source": [
    "# Academic Honesty\n",
    "* The computer science department has strict polices. Check\n",
    "the department [web page](http://www.cs.columbia.edu/education/honesty) for details. \n",
    "- Do not look at anybody else's source code. Do not show anybody\n",
    "your source, or leave your source where somebody could see it.\n",
    "You MUST write your own code.\n",
    "- For this class, feel free to discuss issues with other people, but suggest waiting an hour or two after a discussion, before writing your code.\n",
    "-  Cases of non original source will be refered to the Judical Committee.\n"
   ]
  },
  {
   "cell_type": "markdown",
   "metadata": {},
   "source": [
    "# Problem 1&2 - RandomPoint\n",
    "- define a RandomPoint class by inheriting from Point,\n",
    "and redefining the ```__init__``` method\n",
    "- also redefine the 'name' method, so RandomPoint prints correctly\n",
    "- unlike Point, the RandomPoint constructor doesn't take x y args. rather, the  ```__init__``` method will call random.guass(0,1) twice to get x,y values\n",
    "- we only want points inside a unit box centered on the origin s.t. -.5 < x,y < .5\n",
    "    - define an exception class OutOfBounds\n",
    "    - if the randomly choosen x,y point is outside the unit box, raise the OutOfBounds error in the ```__init__``` method\n",
    "- remember 'self'\n",
    "    - first arg to object methods must be 'self'\n",
    "    - refer to object attributes with 'self.' prefix\n",
    "- may be easiest to add the 'raise OutOfBounds' after everything else is happy"
   ]
  },
  {
   "cell_type": "code",
   "execution_count": 1,
   "metadata": {},
   "outputs": [
    {
     "data": {
      "text/plain": [
       "Point(3,4)"
      ]
     },
     "execution_count": 1,
     "metadata": {},
     "output_type": "execute_result"
    }
   ],
   "source": [
    "class Point:\n",
    "    def __init__(self, x, y):\n",
    "        self.x = x\n",
    "        self.y = y\n",
    "        \n",
    "    def __str__(self):\n",
    "        return '{}({},{})'.format(self.name(),self.x,self.y)\n",
    "\n",
    "    def __repr__(self):\n",
    "        return self.__str__()\n",
    "    \n",
    "    def name(self):\n",
    "        return 'Point'\n",
    "    \n",
    "Point(3,4)"
   ]
  },
  {
   "cell_type": "code",
   "execution_count": 27,
   "metadata": {},
   "outputs": [
    {
     "ename": "OutOfBounds",
     "evalue": "",
     "output_type": "error",
     "traceback": [
      "\u001b[0;31m---------------------------------------------------------------------------\u001b[0m",
      "\u001b[0;31mOutOfBounds\u001b[0m                               Traceback (most recent call last)",
      "\u001b[0;32m<ipython-input-27-ab50f7fc2fbb>\u001b[0m in \u001b[0;36m<module>\u001b[0;34m()\u001b[0m\n\u001b[1;32m     14\u001b[0m \u001b[0;34m\u001b[0m\u001b[0m\n\u001b[1;32m     15\u001b[0m \u001b[0;34m\u001b[0m\u001b[0m\n\u001b[0;32m---> 16\u001b[0;31m \u001b[0mRandomPoint\u001b[0m\u001b[0;34m(\u001b[0m\u001b[0;34m)\u001b[0m\u001b[0;34m\u001b[0m\u001b[0m\n\u001b[0m",
      "\u001b[0;32m<ipython-input-27-ab50f7fc2fbb>\u001b[0m in \u001b[0;36m__init__\u001b[0;34m(self)\u001b[0m\n\u001b[1;32m      4\u001b[0m         \u001b[0mself\u001b[0m\u001b[0;34m.\u001b[0m\u001b[0mx\u001b[0m \u001b[0;34m=\u001b[0m \u001b[0mrandom\u001b[0m\u001b[0;34m.\u001b[0m\u001b[0mgauss\u001b[0m\u001b[0;34m(\u001b[0m\u001b[0;36m0\u001b[0m\u001b[0;34m,\u001b[0m\u001b[0;36m1\u001b[0m\u001b[0;34m)\u001b[0m\u001b[0;34m\u001b[0m\u001b[0m\n\u001b[1;32m      5\u001b[0m         \u001b[0mself\u001b[0m\u001b[0;34m.\u001b[0m\u001b[0my\u001b[0m \u001b[0;34m=\u001b[0m \u001b[0mrandom\u001b[0m\u001b[0;34m.\u001b[0m\u001b[0mgauss\u001b[0m\u001b[0;34m(\u001b[0m\u001b[0;36m0\u001b[0m\u001b[0;34m,\u001b[0m\u001b[0;36m1\u001b[0m\u001b[0;34m)\u001b[0m\u001b[0;34m\u001b[0m\u001b[0m\n\u001b[0;32m----> 6\u001b[0;31m         \u001b[0;32mif\u001b[0m \u001b[0mabs\u001b[0m\u001b[0;34m(\u001b[0m\u001b[0mself\u001b[0m\u001b[0;34m.\u001b[0m\u001b[0mx\u001b[0m\u001b[0;34m)\u001b[0m \u001b[0;34m>=\u001b[0m \u001b[0;36m0.5\u001b[0m \u001b[0;32mor\u001b[0m \u001b[0mabs\u001b[0m\u001b[0;34m(\u001b[0m\u001b[0mself\u001b[0m\u001b[0;34m.\u001b[0m\u001b[0my\u001b[0m\u001b[0;34m)\u001b[0m \u001b[0;34m>=\u001b[0m \u001b[0;36m0.5\u001b[0m\u001b[0;34m:\u001b[0m \u001b[0;32mraise\u001b[0m \u001b[0mOutOfBounds\u001b[0m\u001b[0;34m(\u001b[0m\u001b[0;34m)\u001b[0m\u001b[0;34m\u001b[0m\u001b[0m\n\u001b[0m\u001b[1;32m      7\u001b[0m \u001b[0;34m\u001b[0m\u001b[0m\n\u001b[1;32m      8\u001b[0m     \u001b[0;32mdef\u001b[0m \u001b[0mname\u001b[0m\u001b[0;34m(\u001b[0m\u001b[0mself\u001b[0m\u001b[0;34m)\u001b[0m\u001b[0;34m:\u001b[0m\u001b[0;34m\u001b[0m\u001b[0m\n",
      "\u001b[0;31mOutOfBounds\u001b[0m: "
     ]
    }
   ],
   "source": [
    "#RandomPoint Solution\n",
    "\n",
    "class RandomPoint(Point):\n",
    "    def __init__(self):\n",
    "        self.x = random.gauss(0,1)\n",
    "        self.y = random.gauss(0,1)\n",
    "        if abs(self.x) >= 0.5 or abs(self.y) >= 0.5: raise OutOfBounds()\n",
    "        \n",
    "    def name(self):\n",
    "        return 'RandomPoint'\n",
    "    \n",
    "\n",
    "class OutOfBounds(Exception):\n",
    "    pass\n",
    "    \n",
    "    \n",
    "RandomPoint()"
   ]
  },
  {
   "cell_type": "code",
   "execution_count": 2,
   "metadata": {
    "scrolled": true
   },
   "outputs": [
    {
     "data": {
      "text/plain": [
       "-0.9524556012801622"
      ]
     },
     "execution_count": 2,
     "metadata": {},
     "output_type": "execute_result"
    }
   ],
   "source": [
    "import random\n",
    "\n",
    "random.gauss(0,1)"
   ]
  },
  {
   "cell_type": "code",
   "execution_count": 10,
   "metadata": {},
   "outputs": [
    {
     "data": {
      "text/plain": [
       "[4, 2.3]"
      ]
     },
     "execution_count": 10,
     "metadata": {},
     "output_type": "execute_result"
    }
   ],
   "source": [
    "# top level function abs is useful\n",
    "\n",
    "[abs(4), abs(-2.3)]"
   ]
  },
  {
   "cell_type": "code",
   "execution_count": 16,
   "metadata": {},
   "outputs": [
    {
     "data": {
      "text/plain": [
       "RandomPoint(0.4833231061256623,0.44885937962605543)"
      ]
     },
     "execution_count": 16,
     "metadata": {},
     "output_type": "execute_result"
    }
   ],
   "source": [
    "# this time constructor made a valid point\n",
    "\n",
    "RandomPoint()"
   ]
  },
  {
   "cell_type": "code",
   "execution_count": 10,
   "metadata": {},
   "outputs": [
    {
     "ename": "OutOfBounds",
     "evalue": "",
     "output_type": "error",
     "traceback": [
      "\u001b[0;31m---------------------------------------------------------------------------\u001b[0m",
      "\u001b[0;31mOutOfBounds\u001b[0m                               Traceback (most recent call last)",
      "\u001b[0;32m<ipython-input-10-4933a9698de3>\u001b[0m in \u001b[0;36m<module>\u001b[0;34m()\u001b[0m\n\u001b[1;32m      1\u001b[0m \u001b[0;31m# bad point\u001b[0m\u001b[0;34m\u001b[0m\u001b[0;34m\u001b[0m\u001b[0m\n\u001b[1;32m      2\u001b[0m \u001b[0;34m\u001b[0m\u001b[0m\n\u001b[0;32m----> 3\u001b[0;31m \u001b[0mRandomPoint\u001b[0m\u001b[0;34m(\u001b[0m\u001b[0;34m)\u001b[0m\u001b[0;34m\u001b[0m\u001b[0m\n\u001b[0m",
      "\u001b[0;32m<ipython-input-9-89bac4f7327f>\u001b[0m in \u001b[0;36m__init__\u001b[0;34m(self)\u001b[0m\n\u001b[1;32m      8\u001b[0m         \u001b[0my\u001b[0m \u001b[0;34m=\u001b[0m \u001b[0mrandom\u001b[0m\u001b[0;34m.\u001b[0m\u001b[0mgauss\u001b[0m\u001b[0;34m(\u001b[0m\u001b[0;36m0\u001b[0m\u001b[0;34m,\u001b[0m\u001b[0;36m1\u001b[0m\u001b[0;34m)\u001b[0m\u001b[0;34m\u001b[0m\u001b[0m\n\u001b[1;32m      9\u001b[0m         \u001b[0;32mif\u001b[0m \u001b[0mabs\u001b[0m\u001b[0;34m(\u001b[0m\u001b[0mx\u001b[0m\u001b[0;34m)\u001b[0m\u001b[0;34m>\u001b[0m\u001b[0;36m.5\u001b[0m \u001b[0;32mor\u001b[0m \u001b[0mabs\u001b[0m\u001b[0;34m(\u001b[0m\u001b[0my\u001b[0m\u001b[0;34m)\u001b[0m\u001b[0;34m>\u001b[0m\u001b[0;36m.5\u001b[0m\u001b[0;34m:\u001b[0m\u001b[0;34m\u001b[0m\u001b[0m\n\u001b[0;32m---> 10\u001b[0;31m             \u001b[0;32mraise\u001b[0m \u001b[0mOutOfBounds\u001b[0m\u001b[0;34m\u001b[0m\u001b[0m\n\u001b[0m\u001b[1;32m     11\u001b[0m         \u001b[0mself\u001b[0m\u001b[0;34m.\u001b[0m\u001b[0mx\u001b[0m \u001b[0;34m=\u001b[0m \u001b[0mx\u001b[0m\u001b[0;34m\u001b[0m\u001b[0m\n\u001b[1;32m     12\u001b[0m         \u001b[0mself\u001b[0m\u001b[0;34m.\u001b[0m\u001b[0my\u001b[0m \u001b[0;34m=\u001b[0m \u001b[0my\u001b[0m\u001b[0;34m\u001b[0m\u001b[0m\n",
      "\u001b[0;31mOutOfBounds\u001b[0m: "
     ]
    }
   ],
   "source": [
    "# this time constructor made a bad point, and raised OutOfBounds error\n",
    "\n",
    "RandomPoint()"
   ]
  },
  {
   "cell_type": "markdown",
   "metadata": {},
   "source": [
    "# write generator randomPoints\n",
    "- RandomPoint is hard to deal with directly, because you never know\n",
    "when you will get an error\n",
    "- define a generator that produces valid RandomPoints\n",
    "- calling 'next' on the generator should return a list of a valid RandomPoint, and how many tries it took to make it\n",
    "- the generator should never raise an error\n",
    "- the generator should never terminate"
   ]
  },
  {
   "cell_type": "code",
   "execution_count": 51,
   "metadata": {},
   "outputs": [
    {
     "data": {
      "text/plain": [
       "[RandomPoint(-0.27830854297223057,0.2105328056402614), 30]"
      ]
     },
     "execution_count": 51,
     "metadata": {},
     "output_type": "execute_result"
    }
   ],
   "source": [
    "#randomPoints solution\n",
    "\n",
    "def randomPoints():\n",
    "    x = None\n",
    "    Count = 1\n",
    "    while True:\n",
    "        try:\n",
    "            x = RandomPoint()\n",
    "            yield [x, Count]\n",
    "        except OutOfBounds:\n",
    "            Count += 1\n"
   ]
  },
  {
   "cell_type": "code",
   "execution_count": 52,
   "metadata": {},
   "outputs": [
    {
     "data": {
      "text/plain": [
       "<generator object randomPoints at 0x7fc7c43ee468>"
      ]
     },
     "execution_count": 52,
     "metadata": {},
     "output_type": "execute_result"
    }
   ],
   "source": [
    "# make generator\n",
    "\n",
    "rp = randomPoints()\n",
    "rp"
   ]
  },
  {
   "cell_type": "code",
   "execution_count": 53,
   "metadata": {},
   "outputs": [
    {
     "data": {
      "text/plain": [
       "[RandomPoint(0.4791826135015222,0.27651248388839456), 3]"
      ]
     },
     "execution_count": 53,
     "metadata": {},
     "output_type": "execute_result"
    }
   ],
   "source": [
    "# took 15 tries to make this RandomPoint!\n",
    "\n",
    "next(rp)"
   ]
  },
  {
   "cell_type": "code",
   "execution_count": 54,
   "metadata": {},
   "outputs": [
    {
     "name": "stdout",
     "output_type": "stream",
     "text": [
      "[RandomPoint(-0.2995533789350195,0.4430450192416758), 4]\n",
      "[RandomPoint(0.102396690701448,-0.4754421868250517), 5]\n",
      "[RandomPoint(-0.18131801227152608,-0.12474783685906128), 5]\n",
      "[RandomPoint(-0.2104687006713944,0.19485685838043906), 8]\n",
      "[RandomPoint(-0.19480324200441174,0.0826596430691034), 45]\n",
      "[RandomPoint(0.21484848128547376,-0.04424857878052038), 51]\n",
      "[RandomPoint(-0.020660094400849555,0.4301806405527244), 53]\n",
      "[RandomPoint(0.14119185490006503,0.4454462384492675), 57]\n",
      "[RandomPoint(0.12445344702871403,0.42565045725421674), 66]\n",
      "[RandomPoint(-0.019077348296784778,-0.04355151468691202), 72]\n"
     ]
    }
   ],
   "source": [
    "# call generator 10 times\n",
    "\n",
    "for j, g in zip(range(10), rp):\n",
    "    print(g)"
   ]
  },
  {
   "cell_type": "markdown",
   "metadata": {},
   "source": [
    "# Problem 3 - write flatten\n",
    "\n",
    "- 'flatten' turns a nested list into a linear one\n",
    "- use recursion technique like 'rcount' in w2-05-examples notebook\n",
    "    - flatten the head and tail of the list, then put them together\n"
   ]
  },
  {
   "cell_type": "code",
   "execution_count": 113,
   "metadata": {},
   "outputs": [
    {
     "data": {
      "text/plain": [
       "[1, 2, 3, 4, 56, 44, 55, 7, 8]"
      ]
     },
     "execution_count": 113,
     "metadata": {},
     "output_type": "execute_result"
    }
   ],
   "source": [
    "#flatten solution\n",
    "\n",
    "def flatten(x):\n",
    "    if isinstance(x, list):\n",
    "        xlen = len(x)\n",
    "        if xlen == 1:\n",
    "            return flatten(x[0])\n",
    "        else:\n",
    "            return flatten(x[0]) + flatten(x[1:])\n",
    "    return [x]\n",
    "\n",
    "flatten([1,2,3,[4,56],[44,55],7,8])"
   ]
  },
  {
   "cell_type": "code",
   "execution_count": 29,
   "metadata": {},
   "outputs": [
    {
     "data": {
      "text/plain": [
       "[1, 2, 3, 4]"
      ]
     },
     "execution_count": 29,
     "metadata": {},
     "output_type": "execute_result"
    }
   ],
   "source": [
    "flatten([1,2,3,4])"
   ]
  },
  {
   "cell_type": "code",
   "execution_count": 28,
   "metadata": {},
   "outputs": [
    {
     "data": {
      "text/plain": [
       "[1, 2, 3, 4]"
      ]
     },
     "execution_count": 28,
     "metadata": {},
     "output_type": "execute_result"
    }
   ],
   "source": [
    "flatten([1, [2,3],4])"
   ]
  },
  {
   "cell_type": "code",
   "execution_count": 26,
   "metadata": {},
   "outputs": [
    {
     "data": {
      "text/plain": [
       "[1, 2, 3, 4, 5, 6, 7, 8, 9, 10, 11]"
      ]
     },
     "execution_count": 26,
     "metadata": {},
     "output_type": "execute_result"
    }
   ],
   "source": [
    "flatten( [1,[2,3,4,[5,6,[7,8],9],10,11]])"
   ]
  },
  {
   "cell_type": "code",
   "execution_count": 27,
   "metadata": {},
   "outputs": [
    {
     "data": {
      "text/plain": [
       "[1, 2, 3, 4, 56, 44, 55, 7, 8]"
      ]
     },
     "execution_count": 27,
     "metadata": {},
     "output_type": "execute_result"
    }
   ],
   "source": [
    "flatten([1,2,3,[4,56],[44,55],7,8])"
   ]
  },
  {
   "cell_type": "markdown",
   "metadata": {},
   "source": [
    "# Problem 4 & 5 - vending machine\n",
    "- use objects to simulate a vending machine\n",
    "- money is in units of cents\n",
    "- remember\n",
    "    - 'self' must be the first arg to every object method\n",
    "    - use the 'self.' prefix to refer to object attributes or other methods inside a method "
   ]
  },
  {
   "cell_type": "markdown",
   "metadata": {},
   "source": [
    "# class venditem represents a type of item for sale\n",
    "- has three object attributes\n",
    "    - name, price, quantity\n",
    "- define four methods\n",
    "    - `method __init__` loads data into the object attributes\n",
    "        - def `__init__`(self, name, price, quantity):\n",
    "    - `method __str__`(self)\n",
    "        - controls how venditem prints\n",
    "        - use string format method\n",
    "            - '{} {}'.format(arg, arg2)\n",
    "        - see examples below\n",
    "    - `method __repr__`(self)\n",
    "        - just call `__str__` for string to return\n",
    "    - method sale(self)\n",
    "        - decrement the quantity(number of items left in the machine to sell)"
   ]
  },
  {
   "cell_type": "code",
   "execution_count": 179,
   "metadata": {},
   "outputs": [
    {
     "data": {
      "text/plain": [
       "[venditem(name='coke', price=95, quantity=3),\n",
       " venditem(name='pepsi', price=110, quantity=1)]"
      ]
     },
     "execution_count": 179,
     "metadata": {},
     "output_type": "execute_result"
    }
   ],
   "source": [
    "# venditem solution \n",
    "\n",
    "class venditem:\n",
    "    \n",
    "    def __init__(self, name, price, quantity):\n",
    "        self.name = name\n",
    "        self.price = price\n",
    "        self.quantity = quantity\n",
    "           \n",
    "    def __str__(self):\n",
    "        return \"{}(name='{}', price={}, quantity={})\".format(self.__class__.__name__, self.name,self.price,self.quantity)\n",
    "\n",
    "    def __repr__(self):\n",
    "        return self.__str__()\n",
    "    \n",
    "    def sale(self):\n",
    "        if self.quantity < 1:\n",
    "            raise ValueError\n",
    "        else:\n",
    "            self.quantity -= 1\n",
    "        \n",
    "    \n",
    "vi = venditem('coke', 95, 3)\n",
    "vi2 = venditem('pepsi', 110, 1)\n",
    "\n",
    "[vi, vi2]"
   ]
  },
  {
   "cell_type": "code",
   "execution_count": 89,
   "metadata": {},
   "outputs": [
    {
     "data": {
      "text/plain": [
       "[venditem(name='coke', price=95, quantity=3),\n",
       " venditem(name='pepsi', price=110, quantity=1)]"
      ]
     },
     "execution_count": 89,
     "metadata": {},
     "output_type": "execute_result"
    }
   ],
   "source": [
    "# make some items\n",
    "\n",
    "vi = venditem('coke', 95, 3)\n",
    "vi2 = venditem('pepsi', 110, 1)\n",
    "\n",
    "[vi, vi2]"
   ]
  },
  {
   "cell_type": "code",
   "execution_count": 90,
   "metadata": {},
   "outputs": [
    {
     "data": {
      "text/plain": [
       "venditem(name='coke', price=95, quantity=2)"
      ]
     },
     "execution_count": 90,
     "metadata": {},
     "output_type": "execute_result"
    }
   ],
   "source": [
    "# sale method decrements quantity \n",
    "# instance variable\n",
    "\n",
    "vi.sale()\n",
    "vi"
   ]
  },
  {
   "cell_type": "code",
   "execution_count": 91,
   "metadata": {},
   "outputs": [
    {
     "data": {
      "text/plain": [
       "['coke', 'pepsi', 95, 2, 1]"
      ]
     },
     "execution_count": 91,
     "metadata": {},
     "output_type": "execute_result"
    }
   ],
   "source": [
    "# note you can access instance variables directly:\n",
    "\n",
    "[vi.name, vi2.name, vi.price, vi.quantity, vi2.quantity]"
   ]
  },
  {
   "cell_type": "code",
   "execution_count": 92,
   "metadata": {},
   "outputs": [
    {
     "data": {
      "text/plain": [
       "2"
      ]
     },
     "execution_count": 92,
     "metadata": {},
     "output_type": "execute_result"
    }
   ],
   "source": [
    "# can set same way\n",
    "\n",
    "vi.quantity = 2\n",
    "vi.quantity"
   ]
  },
  {
   "cell_type": "markdown",
   "metadata": {},
   "source": [
    "# class vendmachine \n",
    "- vendmachine has two object attributes\n",
    "    - 'cash' - the amount of money the machine has collected from item sales\n",
    "    - 'items' - a dictionary, where the keys are item names, and the values are the venditem object\n",
    "- define three methods\n",
    "    - `__init__`(self, stock)\n",
    "        - stock arg is a list of venditems, which represents what is loaded in the machine\n",
    "        - items dictionary should be constructed from stock arg\n",
    "        - cash should be initialized to 0\n",
    "    - buy(self, name, money) \n",
    "        - 'name' is 'coke', 'pepsi', etc\n",
    "        - money is how much money the customer deposited for the purchase\n",
    "        - four cases\n",
    "            - customer asks for an item not carried\n",
    "            - customer asks for an item whose quantity is 0 - out of stock\n",
    "            - customer doesn't put in enough money for the item\n",
    "            - everything ok, sell the item, decrement item quantity\n",
    "        - 'buy' return value should refund any money owed the customer \n",
    "            - money not applied to an item sale\n",
    "            - excess money deposited for an item sale\n",
    "            - NOT asking you to do this, but note the previously developed  'Changer' class could be used in the vending machine\n",
    "        - log each buy case, using 'log' function below\n",
    "        - see examples below\n",
    "    - status(self)\n",
    "        - prints the amount of cash collected, and each of the items in stock\n",
    "    "
   ]
  },
  {
   "cell_type": "code",
   "execution_count": 253,
   "metadata": {},
   "outputs": [],
   "source": [
    "# vendmachine solution\n",
    "\n",
    "import time\n",
    "\n",
    "class vendmachine:\n",
    "    \n",
    "    def __init__(self, stock):\n",
    "        self.cash = 0\n",
    "        self.items = dict()\n",
    "        for item in stock:\n",
    "            name = item.name\n",
    "            self.items[name] = item\n",
    "    \n",
    "    def log(msg, name):\n",
    "        t = time.strftime('%X %x %Z - ')\n",
    "        msg = t + msg + ': ' + name\n",
    "        print(msg)\n",
    "        \n",
    "    def buy(self, name, money):\n",
    "        if name not in self.items:\n",
    "            log(\"don't carry it\", name)\n",
    "            return money\n",
    "        elif self.items[name].quantity == 0:\n",
    "            log(\"out of stock\", name)\n",
    "            return money\n",
    "        elif money < self.items[name].price:\n",
    "            log(\"insufficient funds for\", name)\n",
    "            return money\n",
    "        else:\n",
    "            self.items[name].sale()\n",
    "            self.cash += self.items[name].price\n",
    "            log(\"sold\", name)\n",
    "            return money - self.items[name].price\n",
    "    \n",
    "    def status(self):\n",
    "        print(\"cash collected: \" + str(self.cash))\n",
    "        for name in self.items:\n",
    "            print(self.items[name])\n"
   ]
  },
  {
   "cell_type": "code",
   "execution_count": 203,
   "metadata": {
    "collapsed": true
   },
   "outputs": [],
   "source": [
    "# could log to a file by doing file append\n",
    "# with open(logpath, 'a') as fd\n",
    "#    write(msg + '\\n')\n",
    "\n",
    "import time\n",
    "    \n",
    "def log(msg, name):\n",
    "    t = time.strftime('%X %x %Z - ')\n",
    "    msg = t + msg + ': ' + name\n",
    "    print(msg)\n"
   ]
  },
  {
   "cell_type": "code",
   "execution_count": 30,
   "metadata": {},
   "outputs": [
    {
     "name": "stdout",
     "output_type": "stream",
     "text": [
      "cash collected: 0\n",
      "venditem(name='peanut M&Ms', price=100, quantity=2)\n",
      "venditem(name='coke', price=95, quantity=3)\n",
      "venditem(name='pepsi', price=110, quantity=1)\n"
     ]
    }
   ],
   "source": [
    "# make stock for sale and load vendmachine\n",
    "\n",
    "vi = venditem('coke', 95, 3)\n",
    "vi2 = venditem('pepsi', 110, 1)\n",
    "vi3 = venditem('peanut M&Ms', 100, 2)\n",
    "stock = [vi, vi2, vi3]\n",
    "\n",
    "vm = vendmachine(stock)\n",
    "vm.status()"
   ]
  },
  {
   "cell_type": "code",
   "execution_count": 255,
   "metadata": {},
   "outputs": [
    {
     "name": "stdout",
     "output_type": "stream",
     "text": [
      "23:20:39 02/04/18 EST - insufficient funds for: coke\n"
     ]
    },
    {
     "data": {
      "text/plain": [
       "45"
      ]
     },
     "execution_count": 255,
     "metadata": {},
     "output_type": "execute_result"
    }
   ],
   "source": [
    "# no sale, refund money\n",
    "\n",
    "vm.buy('coke', 45)"
   ]
  },
  {
   "cell_type": "code",
   "execution_count": 256,
   "metadata": {},
   "outputs": [
    {
     "name": "stdout",
     "output_type": "stream",
     "text": [
      "23:20:48 02/04/18 EST - sold: pepsi\n"
     ]
    },
    {
     "data": {
      "text/plain": [
       "90"
      ]
     },
     "execution_count": 256,
     "metadata": {},
     "output_type": "execute_result"
    }
   ],
   "source": [
    "# made sale, return change\n",
    "\n",
    "vm.buy('pepsi', 200)"
   ]
  },
  {
   "cell_type": "code",
   "execution_count": 257,
   "metadata": {},
   "outputs": [
    {
     "name": "stdout",
     "output_type": "stream",
     "text": [
      "cash collected: 110\n",
      "venditem(name='coke', price=95, quantity=3)\n",
      "venditem(name='pepsi', price=110, quantity=0)\n",
      "venditem(name='peanut M&Ms', price=100, quantity=2)\n"
     ]
    }
   ],
   "source": [
    "vm.status()"
   ]
  },
  {
   "cell_type": "code",
   "execution_count": 258,
   "metadata": {},
   "outputs": [
    {
     "name": "stdout",
     "output_type": "stream",
     "text": [
      "23:21:09 02/04/18 EST - out of stock: pepsi\n"
     ]
    },
    {
     "data": {
      "text/plain": [
       "200"
      ]
     },
     "execution_count": 258,
     "metadata": {},
     "output_type": "execute_result"
    }
   ],
   "source": [
    "# out of stock, refund money\n",
    "\n",
    "vm.buy('pepsi', 200)"
   ]
  },
  {
   "cell_type": "code",
   "execution_count": 259,
   "metadata": {},
   "outputs": [
    {
     "name": "stdout",
     "output_type": "stream",
     "text": [
      "23:21:12 02/04/18 EST - don't carry it: mtndew\n"
     ]
    },
    {
     "data": {
      "text/plain": [
       "200"
      ]
     },
     "execution_count": 259,
     "metadata": {},
     "output_type": "execute_result"
    }
   ],
   "source": [
    "# don't carry it, refund money\n",
    "\n",
    "vm.buy('mtndew', 200)"
   ]
  },
  {
   "cell_type": "code",
   "execution_count": 260,
   "metadata": {},
   "outputs": [
    {
     "name": "stdout",
     "output_type": "stream",
     "text": [
      "23:21:16 02/04/18 EST - sold: coke\n"
     ]
    },
    {
     "data": {
      "text/plain": [
       "5"
      ]
     },
     "execution_count": 260,
     "metadata": {},
     "output_type": "execute_result"
    }
   ],
   "source": [
    "# sale, return change\n",
    "\n",
    "vm.buy('coke', 100)"
   ]
  },
  {
   "cell_type": "code",
   "execution_count": 261,
   "metadata": {},
   "outputs": [
    {
     "name": "stdout",
     "output_type": "stream",
     "text": [
      "cash collected: 205\n",
      "venditem(name='coke', price=95, quantity=2)\n",
      "venditem(name='pepsi', price=110, quantity=0)\n",
      "venditem(name='peanut M&Ms', price=100, quantity=2)\n"
     ]
    }
   ],
   "source": [
    "# sold 1 coke and 1 pepsi\n",
    "\n",
    "vm.status()"
   ]
  }
 ],
 "metadata": {
  "anaconda-cloud": {},
  "kernelspec": {
   "display_name": "Python 3",
   "language": "python",
   "name": "python3"
  },
  "language_info": {
   "codemirror_mode": {
    "name": "ipython",
    "version": 3
   },
   "file_extension": ".py",
   "mimetype": "text/x-python",
   "name": "python",
   "nbconvert_exporter": "python",
   "pygments_lexer": "ipython3",
   "version": "3.6.3"
  },
  "name": "_merged"
 },
 "nbformat": 4,
 "nbformat_minor": 1
}
