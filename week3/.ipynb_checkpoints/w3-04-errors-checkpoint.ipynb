{
 "cells": [
  {
   "cell_type": "markdown",
   "metadata": {},
   "source": [
    "# Object oriented error handling\n",
    "- Error are defined by classes\n",
    "- an error object is instantiated at error time\n",
    "    - the class used tells you something about the problem\n",
    "    - the error object may include specific information about the problem, like a file path that doesn't exist\n",
    "- Java - compilier DEMANDS you handle all kinds of potential errors\n",
    "- Python - hey whatever...\n",
    "- but, if you get an error, and there's no handler, you CRASH\n",
    "- [List of builtin errors]\n",
    "(https://docs.python.org/3/library/exceptions.html#exception-hierarchy)\n",
    "- error types form a hierarchy(formed by using single inheritance)\n"
   ]
  },
  {
   "cell_type": "markdown",
   "metadata": {},
   "source": [
    "# can explicitly 'raise'(or throw) an error "
   ]
  },
  {
   "cell_type": "code",
   "execution_count": 1,
   "metadata": {},
   "outputs": [
    {
     "data": {
      "text/plain": [
       "2"
      ]
     },
     "execution_count": 1,
     "metadata": {},
     "output_type": "execute_result"
    }
   ],
   "source": [
    "def oops(n):\n",
    "    if n == 3:\n",
    "        raise ValueError(\"oops is unhappy!\",\n",
    "                         'bad value n=', \n",
    "                         3)\n",
    "    return n+1\n",
    "\n",
    "oops(1)"
   ]
  },
  {
   "cell_type": "code",
   "execution_count": 2,
   "metadata": {},
   "outputs": [
    {
     "ename": "ValueError",
     "evalue": "('oops is unhappy!', 'bad value n=', 3)",
     "output_type": "error",
     "traceback": [
      "\u001b[0;31m---------------------------------------------------------------------------\u001b[0m",
      "\u001b[0;31mValueError\u001b[0m                                Traceback (most recent call last)",
      "\u001b[0;32m<ipython-input-2-e845f5fea312>\u001b[0m in \u001b[0;36m<module>\u001b[0;34m()\u001b[0m\n\u001b[0;32m----> 1\u001b[0;31m \u001b[0moops\u001b[0m\u001b[0;34m(\u001b[0m\u001b[0;36m3\u001b[0m\u001b[0;34m)\u001b[0m\u001b[0;34m\u001b[0m\u001b[0m\n\u001b[0m",
      "\u001b[0;32m<ipython-input-1-2abc4fd6922a>\u001b[0m in \u001b[0;36moops\u001b[0;34m(n)\u001b[0m\n\u001b[1;32m      3\u001b[0m         raise ValueError(\"oops is unhappy!\",\n\u001b[1;32m      4\u001b[0m                          \u001b[0;34m'bad value n='\u001b[0m\u001b[0;34m,\u001b[0m\u001b[0;34m\u001b[0m\u001b[0m\n\u001b[0;32m----> 5\u001b[0;31m                          3)\n\u001b[0m\u001b[1;32m      6\u001b[0m     \u001b[0;32mreturn\u001b[0m \u001b[0mn\u001b[0m\u001b[0;34m+\u001b[0m\u001b[0;36m1\u001b[0m\u001b[0;34m\u001b[0m\u001b[0m\n\u001b[1;32m      7\u001b[0m \u001b[0;34m\u001b[0m\u001b[0m\n",
      "\u001b[0;31mValueError\u001b[0m: ('oops is unhappy!', 'bad value n=', 3)"
     ]
    }
   ],
   "source": [
    "oops(3)"
   ]
  },
  {
   "cell_type": "markdown",
   "metadata": {},
   "source": [
    "# catch errors with try/except"
   ]
  },
  {
   "cell_type": "code",
   "execution_count": 3,
   "metadata": {},
   "outputs": [
    {
     "name": "stdout",
     "output_type": "stream",
     "text": [
      "('oops is unhappy!', 'bad value n=', 3) ('oops is unhappy!', 'bad value n=', 3)\n"
     ]
    },
    {
     "data": {
      "text/plain": [
       "'now we are here'"
      ]
     },
     "execution_count": 3,
     "metadata": {},
     "output_type": "execute_result"
    }
   ],
   "source": [
    "try:\n",
    "    oops(3)\n",
    "except Exception as e:\n",
    "    print(e, e.args)\n",
    "\n",
    "'now we are here' "
   ]
  },
  {
   "cell_type": "markdown",
   "metadata": {},
   "source": [
    "# 'finally' clause is always executed, with or without error\n",
    "- gives you a chance to do something before\n",
    "you lose control"
   ]
  },
  {
   "cell_type": "code",
   "execution_count": 4,
   "metadata": {},
   "outputs": [
    {
     "name": "stdout",
     "output_type": "stream",
     "text": [
      "finally\n"
     ]
    },
    {
     "data": {
      "text/plain": [
       "'now we are here'"
      ]
     },
     "execution_count": 4,
     "metadata": {},
     "output_type": "execute_result"
    }
   ],
   "source": [
    "try:\n",
    "    oops(1)\n",
    "except Exception:\n",
    "    print('got error')\n",
    "finally:\n",
    "    print('finally')\n",
    "'now we are here'"
   ]
  },
  {
   "cell_type": "code",
   "execution_count": 5,
   "metadata": {},
   "outputs": [
    {
     "name": "stdout",
     "output_type": "stream",
     "text": [
      "got error\n",
      "finally\n"
     ]
    },
    {
     "data": {
      "text/plain": [
       "'now we are here'"
      ]
     },
     "execution_count": 5,
     "metadata": {},
     "output_type": "execute_result"
    }
   ],
   "source": [
    "try:\n",
    "    oops(3)\n",
    "except Exception:\n",
    "    print('got error')\n",
    "finally:\n",
    "    print('finally')\n",
    "'now we are here'"
   ]
  },
  {
   "cell_type": "markdown",
   "metadata": {},
   "source": [
    "# call stack frames display\n",
    "- if no error handler is found, the top\n",
    "level will display a 'stack trace', and your entire computation is terminated\n",
    "- shows context of error\n",
    "- very useful for debugging\n",
    "- note: the most recent call frame is printed last"
   ]
  },
  {
   "cell_type": "code",
   "execution_count": null,
   "metadata": {
    "collapsed": true
   },
   "outputs": [],
   "source": [
    "def A(n):\n",
    "    B(1)\n",
    "\n",
    "def B(n):\n",
    "    C(2)\n",
    "\n",
    "def C(n):\n",
    "    D(3)\n",
    "    \n",
    "def D(n):\n",
    "    raise Exception(\"stack frames will be displayed\")\n",
    "\n",
    "A(10)"
   ]
  },
  {
   "cell_type": "markdown",
   "metadata": {},
   "source": [
    "# can define a custom error class\n",
    "- usually inherit from 'Exception'"
   ]
  },
  {
   "cell_type": "markdown",
   "metadata": {},
   "source": [
    "# breaking out of nested loops                    "
   ]
  },
  {
   "cell_type": "code",
   "execution_count": null,
   "metadata": {
    "collapsed": true
   },
   "outputs": [],
   "source": [
    "# note use of 'pass'\n",
    "\n",
    "class breakNested(Exception):\n",
    "    pass\n",
    "\n",
    "def bn(bval):\n",
    "    try:\n",
    "        for x in range(3):\n",
    "            print('x',x)\n",
    "            for y in range(3):\n",
    "                print('y',y)\n",
    "                if y == bval:\n",
    "                    raise breakNested\n",
    "    except breakNested:\n",
    "        pass"
   ]
  },
  {
   "cell_type": "code",
   "execution_count": null,
   "metadata": {
    "collapsed": true
   },
   "outputs": [],
   "source": [
    "bn(9)"
   ]
  },
  {
   "cell_type": "code",
   "execution_count": null,
   "metadata": {
    "collapsed": true
   },
   "outputs": [],
   "source": [
    "bn(2)"
   ]
  },
  {
   "cell_type": "code",
   "execution_count": null,
   "metadata": {
    "collapsed": true
   },
   "outputs": [],
   "source": [
    "class missedSecret(Exception):\n",
    "    def __init__(self, secret, guess):\n",
    "        self.secret = secret\n",
    "        self.guess = guess\n",
    "    \n",
    "def guessSecret(guess):\n",
    "    secret = 1234\n",
    "    if guess != secret:\n",
    "        raise missedSecret(secret, guess)\n",
    "    return 'guess is correct'\n",
    "    \n",
    "guessSecret(1234)"
   ]
  },
  {
   "cell_type": "code",
   "execution_count": null,
   "metadata": {
    "collapsed": true,
    "scrolled": true
   },
   "outputs": [],
   "source": [
    "guessSecret(34)"
   ]
  },
  {
   "cell_type": "markdown",
   "metadata": {},
   "source": [
    "# can get error object and examine it\n",
    "- info in error object might help decide how to handle the error"
   ]
  },
  {
   "cell_type": "code",
   "execution_count": null,
   "metadata": {
    "collapsed": true
   },
   "outputs": [],
   "source": [
    "try:\n",
    "    guessSecret(12)\n",
    "except missedSecret as ms:\n",
    "    # ms will be bound to the error object\n",
    "    print('secret={} guess={}'.format(ms.secret, ms.guess))"
   ]
  },
  {
   "cell_type": "markdown",
   "metadata": {},
   "source": [
    "# when an error is raised, Python will search the call stack for an error handler\n",
    "- Python checks the current stack frame for a handler, then checks each\n",
    "older frame in turn\n",
    "- if no handler is found, the error is printed by the top level(and your program dies)"
   ]
  },
  {
   "cell_type": "code",
   "execution_count": null,
   "metadata": {
    "collapsed": true
   },
   "outputs": [],
   "source": [
    "# no error handler in 'bar', so look in caller, 'foo',\n",
    "# which does have one.\n",
    "\n",
    "def foo():\n",
    "    try:\n",
    "        bar()\n",
    "    except Exception as e:\n",
    "        print('caught in foo:', e)\n",
    "    \n",
    "def bar():\n",
    "    a,b = 0,1\n",
    "    # division by zero error raised here\n",
    "    b/a\n",
    "\n",
    "foo()"
   ]
  },
  {
   "cell_type": "code",
   "execution_count": null,
   "metadata": {
    "collapsed": true
   },
   "outputs": [],
   "source": [
    "# 'bar' has a handler, \n",
    "# so error is caught there\n",
    "\n",
    "def foo():\n",
    "    try:\n",
    "        bar()\n",
    "    except Exception as e:\n",
    "        print('caught in foo:', e)\n",
    "    \n",
    "def bar():\n",
    "    a,b = 0,1\n",
    "    try:\n",
    "        b/a\n",
    "    except Exception as e:\n",
    "        print('caught in bar:', e)\n",
    "\n",
    "foo()"
   ]
  },
  {
   "cell_type": "code",
   "execution_count": null,
   "metadata": {
    "collapsed": true
   },
   "outputs": [],
   "source": [
    "# both 'foo' and 'bar' have handlers, but\n",
    "# neither is the right type, so the error\n",
    "# is NOT caught\n",
    "\n",
    "def foo():\n",
    "    try:\n",
    "        bar()\n",
    "    except FileNotFoundError as e:\n",
    "        print('caught in foo:', e)\n",
    "    \n",
    "def bar():\n",
    "    a,b = 0,1\n",
    "    try:\n",
    "        b/a\n",
    "    except ValueError as e:\n",
    "        print('caught in bar', e)\n",
    "\n",
    "foo()"
   ]
  },
  {
   "cell_type": "markdown",
   "metadata": {},
   "source": [
    "# Complex error example\n",
    "- you can ignore this if you wish"
   ]
  },
  {
   "cell_type": "code",
   "execution_count": null,
   "metadata": {
    "collapsed": true
   },
   "outputs": [],
   "source": [
    "def tc(b, f):\n",
    "    if b:\n",
    "        try:\n",
    "            return tc2(f)\n",
    "        # usually a good idea to catch\n",
    "        # Exception at top level\n",
    "        except Exception as e:\n",
    "            print('tc: caught {}'.format(e))\n",
    "    else:\n",
    "        try:\n",
    "            return tc2(f)\n",
    "        except OSError as os:\n",
    "            print('tc: caught {}'.format(os))  \n",
    "\n",
    "def tc2(f):\n",
    "    try:\n",
    "        return tc3(f)\n",
    "    # can catch any number of error types\n",
    "    # in a single try\n",
    "    except FileNotFoundError as fe:\n",
    "        print('tc2: caught {}'.format(fe))\n",
    "    except MemoryError as me:\n",
    "        print('tc2: caught {}'.format(me))\n",
    "    \n",
    "def tc3(f):\n",
    "    try:\n",
    "        return f()\n",
    "    except ArithmeticError as ae:\n",
    "        print('tc3: caught {}'.format(ae))  \n",
    "    \n",
    "def noproblem():\n",
    "    a = 5/4\n",
    "    return a\n",
    "    \n",
    "def dbz2():\n",
    "    try: \n",
    "        c = 1/0\n",
    "        return c\n",
    "    except ZeroDivisionError as z:\n",
    "        print('dbz: caught {}'.format(z))\n",
    "        \n",
    "def dbz3():\n",
    "    a = 1/0\n",
    "    return a\n",
    "    \n",
    "def si():\n",
    "    raise StopIteration\n",
    "    \n",
    "def fnf():\n",
    "    # can put useful information about \n",
    "    # the error into the error object\n",
    "    raise FileNotFoundError('/tmp/foo')\n",
    "\n",
    "def me():\n",
    "    raise MemoryError"
   ]
  },
  {
   "cell_type": "code",
   "execution_count": null,
   "metadata": {
    "collapsed": true
   },
   "outputs": [],
   "source": [
    "# should run fine, and not generate an error\n",
    "\n",
    "tc(1, noproblem)"
   ]
  },
  {
   "cell_type": "code",
   "execution_count": null,
   "metadata": {
    "collapsed": true
   },
   "outputs": [],
   "source": [
    "#  caught the error it generated, inside dbz2\n",
    "\n",
    "tc(1, dbz2)"
   ]
  },
  {
   "cell_type": "code",
   "execution_count": null,
   "metadata": {
    "collapsed": true
   },
   "outputs": [],
   "source": [
    "# no handler in dbz3\n",
    "# caught by handler in tc3\n",
    "\n",
    "tc(1, dbz3)"
   ]
  },
  {
   "cell_type": "code",
   "execution_count": null,
   "metadata": {
    "collapsed": true
   },
   "outputs": [],
   "source": [
    "# caught in 'tc' Exception handler\n",
    "\n",
    "tc(1, si)"
   ]
  },
  {
   "cell_type": "code",
   "execution_count": null,
   "metadata": {
    "collapsed": true
   },
   "outputs": [],
   "source": [
    "# no handler on the call stack\n",
    "# top level prints stack trace, \n",
    "# and your program crashes\n",
    "\n",
    "tc(0, si)"
   ]
  }
 ],
 "metadata": {
  "anaconda-cloud": {},
  "kernelspec": {
   "display_name": "Python 3",
   "language": "python",
   "name": "python3"
  },
  "language_info": {
   "codemirror_mode": {
    "name": "ipython",
    "version": 3
   },
   "file_extension": ".py",
   "mimetype": "text/x-python",
   "name": "python",
   "nbconvert_exporter": "python",
   "pygments_lexer": "ipython3",
   "version": "3.6.3"
  }
 },
 "nbformat": 4,
 "nbformat_minor": 1
}
