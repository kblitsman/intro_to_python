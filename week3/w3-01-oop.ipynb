{
 "cells": [
  {
   "cell_type": "markdown",
   "metadata": {},
   "source": [
    "# Object Oriented Programming\n",
    "\n",
    "# class\n",
    "- 'class' is an executable statement, like 'def', that defines a Python class\n",
    "- most, but not all, classes are 'instantiated' as objects\n",
    "- a class definition specifies two types of \n",
    "'attributes'\n",
    "    - 'class attributes' are defined on the class itself. all objects have access to class attributes, but class attributes are independent of object instantiations. \n",
    "    - 'object attributes' are 'local' to \n",
    "each instantiated object. object attributes\n",
    "are often called 'object or instance variables'\n",
    "\n",
    "\n",
    "- attributes can hold any Python object, including function objects\n",
    "\n",
    "- an attribute referencing a function object is often called a 'method'. they are defined by using 'def' inside the class block\n",
    "\n",
    "- methods can access and modify attributes\n",
    "\n",
    "\n",
    "\n",
    "- a class method is defined by def\n",
    "\n",
    "```\n",
    "class foo:\n",
    "   def bar(x,y):\n",
    "       pass\n",
    "```\n",
    "\n",
    "- an object method is also defined with def, but 'self' must ALWAYS be the first arg to an object method\n",
    "\n",
    "    - if you forget the 'self' arg, nothing will work - common mistake\n",
    "    - 'self' is how the method knows what object to access and modify\n",
    "    - within an object method, object attributes of the object, must be accessed thru the self variable\n",
    "\n",
    "```\n",
    "class foo:\n",
    "    def bar(self, x, y):\n",
    "        # instance variable created\n",
    "        # by assignment\n",
    "        self.sumxy = x + y\n",
    "```\n",
    "\n",
    "- the name of the class is the type, and is also a 'constructor' function that instantiates an object based on the class definition\n",
    "\n",
    "- the ```__init__```  method is called when the class is initantiated, with the args supplied to the constructor. this is an opportunity to setup your object up\n",
    "\n",
    "- methods with ```__``` in the name usually have special meaning to Python\n",
    "\n",
    "- class attributes are sometimes referred to as \"statics\"\n"
   ]
  },
  {
   "cell_type": "markdown",
   "metadata": {},
   "source": [
    "# Object oriented design\n",
    "- encapsulation\n",
    "    - define an external interface to the class\n",
    "    - do not expose the inner workings of the class\n",
    "    - enforce modularity\n",
    "- polymorphism\n",
    "    - define how operators and methods act on a class\n",
    "- inheritance\n",
    "    - designing classes that are based on existing classes\n",
    "    - often an existing class 'almost' does what you want, so you 'reuse' that functionality by inheriting from it\n",
    "\n",
    "\n",
    "# OOP is a natural fit for many applications\n",
    " - window systems and GUI's\n",
    " - networking\n",
    " - operating systems\n",
    " - modeling a 'slice' of reality\n",
    " - simulation"
   ]
  },
  {
   "cell_type": "markdown",
   "metadata": {},
   "source": [
    "# Example - class C\n",
    "- 'state information' that is managed by class  'C'\n",
    "    - 'cvar' is a 'class attribute'. there is only one cvar, and all class and object methods can reference it\n",
    "    - 'ovar' is an 'object attribute'. each instance of C has its own 'ovar'\n",
    "- 'incrCvar' is a 'class method'. it is not associated with any particular object\n",
    "- 'readCV', 'setCV', 'readOV', 'setOV', and 'noEffect' are 'object methods' defined on 'C'\n",
    "    - the first argument to a object method must always be 'self', which refers to the instance itself (like 'this' in Java)\n"
   ]
  },
  {
   "cell_type": "code",
   "execution_count": 33,
   "metadata": {
    "collapsed": true
   },
   "outputs": [],
   "source": [
    "# note the ':' - starts a statement block\n",
    "\n",
    "class C:\n",
    "    '''silly class that illustrates \n",
    "    class and object attributes'''\n",
    "    # initialize class attribute ca\n",
    "    ca = 0\n",
    "    \n",
    "    # class methods - no self arg\n",
    "    # do not need a C object to reference ca\n",
    "        \n",
    "    def incrCA():\n",
    "        C.ca += 1\n",
    "        return C.ca\n",
    "        \n",
    "    # all methods below are 'instance methods'\n",
    "    # first arg is always 'self'\n",
    "    \n",
    "    # called with create function args\n",
    "    # objects gets 'setup' here\n",
    "    def __init__(self, n):\n",
    "        # create instance variable 'oa'\n",
    "        # by assignment\n",
    "        self.oa = n\n",
    "        self.serial = C.incrCA()\n",
    "\n",
    "    # reads the class attribute ca\n",
    "    # self not used\n",
    "    def readCA(self):\n",
    "        return(C.ca)\n",
    "    \n",
    "    # write the class attribute ca\n",
    "    # self not used\n",
    "    def setCA(self, n):\n",
    "        C.ca = n\n",
    "        \n",
    "    # reads object attribute - self is used\n",
    "    def readOA(self):\n",
    "        return(self.oa)\n",
    "\n",
    "    # writes object attribute - self is used\n",
    "    def setOA(self, n):\n",
    "        self.oa = n\n",
    "\n",
    "    # can call methods inside a method\n",
    "    def incr(self, n):\n",
    "        # use self to refer to method on this object\n",
    "        val = self.readOA()\n",
    "        val += n\n",
    "        self.setOA(val)\n",
    "    \n",
    "    # this method has no effect on the object\n",
    "    def noEffect(self, c, i):\n",
    "        # because C. and self. are not used\n",
    "        # below just defines two variables 'ca' and 'oa,\n",
    "        # local to method 'noEffect'\n",
    "        # they will be forgotten when noEffect exits\n",
    "        ca = c\n",
    "        oa = i\n"
   ]
  },
  {
   "cell_type": "code",
   "execution_count": 34,
   "metadata": {},
   "outputs": [
    {
     "data": {
      "text/plain": [
       "0"
      ]
     },
     "execution_count": 34,
     "metadata": {},
     "output_type": "execute_result"
    }
   ],
   "source": [
    "# 1 is the value that the class definition\n",
    "# initialized cvar to\n",
    "C.ca"
   ]
  },
  {
   "cell_type": "code",
   "execution_count": 35,
   "metadata": {},
   "outputs": [
    {
     "data": {
      "text/plain": [
       "1"
      ]
     },
     "execution_count": 35,
     "metadata": {},
     "output_type": "execute_result"
    }
   ],
   "source": [
    "# calling class method - there are no\n",
    "# C objects yet\n",
    "\n",
    "C.incrCA()\n",
    "C.ca"
   ]
  },
  {
   "cell_type": "code",
   "execution_count": 36,
   "metadata": {},
   "outputs": [
    {
     "data": {
      "text/plain": [
       "2"
      ]
     },
     "execution_count": 36,
     "metadata": {},
     "output_type": "execute_result"
    }
   ],
   "source": [
    "# instantiate C - make a C object\n",
    "# __init__ method will increment ca\n",
    "\n",
    "C(0)\n",
    "C.ca"
   ]
  },
  {
   "cell_type": "code",
   "execution_count": null,
   "metadata": {
    "collapsed": true
   },
   "outputs": [],
   "source": []
  },
  {
   "cell_type": "code",
   "execution_count": 37,
   "metadata": {},
   "outputs": [
    {
     "data": {
      "text/plain": [
       "[True, 3, 4]"
      ]
     },
     "execution_count": 37,
     "metadata": {},
     "output_type": "execute_result"
    }
   ],
   "source": [
    "# make two instances \n",
    "# each instantiation will increment C.ca\n",
    "\n",
    "c1 = C(111)\n",
    "c2 = C(222)\n",
    "[isinstance(c1, C), c1.serial, c2.serial]"
   ]
  },
  {
   "cell_type": "code",
   "execution_count": 38,
   "metadata": {},
   "outputs": [
    {
     "data": {
      "text/plain": [
       "4"
      ]
     },
     "execution_count": 38,
     "metadata": {},
     "output_type": "execute_result"
    }
   ],
   "source": [
    "C.ca"
   ]
  },
  {
   "cell_type": "code",
   "execution_count": 39,
   "metadata": {},
   "outputs": [
    {
     "data": {
      "text/plain": [
       "[4, 4, 4]"
      ]
     },
     "execution_count": 39,
     "metadata": {},
     "output_type": "execute_result"
    }
   ],
   "source": [
    "# both instances see the same \n",
    "# value for the class var\n",
    "\n",
    "[C.ca, c1.readCA(), c2.readCA()]"
   ]
  },
  {
   "cell_type": "code",
   "execution_count": 40,
   "metadata": {
    "collapsed": true
   },
   "outputs": [],
   "source": [
    "# set 'cvar' via c1\n",
    "\n",
    "c1.setCA(10)"
   ]
  },
  {
   "cell_type": "code",
   "execution_count": 41,
   "metadata": {},
   "outputs": [
    {
     "data": {
      "text/plain": [
       "[10, 10]"
      ]
     },
     "execution_count": 41,
     "metadata": {},
     "output_type": "execute_result"
    }
   ],
   "source": [
    "# both instances still see the same value\n",
    "\n",
    "[c1.readCA(), c2.readCA()]"
   ]
  },
  {
   "cell_type": "code",
   "execution_count": 42,
   "metadata": {},
   "outputs": [
    {
     "data": {
      "text/plain": [
       "[111, 222]"
      ]
     },
     "execution_count": 42,
     "metadata": {},
     "output_type": "execute_result"
    }
   ],
   "source": [
    "# instances have different 'ivar' values \n",
    "# from their __init__ methods\n",
    "\n",
    "[c1.readOA(), c2.readOA()]"
   ]
  },
  {
   "cell_type": "code",
   "execution_count": 43,
   "metadata": {},
   "outputs": [
    {
     "data": {
      "text/plain": [
       "[100, 200]"
      ]
     },
     "execution_count": 43,
     "metadata": {},
     "output_type": "execute_result"
    }
   ],
   "source": [
    "# still independent\n",
    "\n",
    "c1.setOA(100)\n",
    "c2.setOA(200)\n",
    "\n",
    "[c1.readOA(), c2.readOA()]"
   ]
  },
  {
   "cell_type": "code",
   "execution_count": 44,
   "metadata": {},
   "outputs": [
    {
     "name": "stdout",
     "output_type": "stream",
     "text": [
      "[10, 10]\n"
     ]
    },
    {
     "data": {
      "text/plain": [
       "[100, 200]"
      ]
     },
     "execution_count": 44,
     "metadata": {},
     "output_type": "execute_result"
    }
   ],
   "source": [
    "# noEffect method has no effect on the \n",
    "# instance or class variables\n",
    "\n",
    "c1.noEffect(1,2)\n",
    "c2.noEffect(3,4)\n",
    "\n",
    "print([c1.readCA(), c2.readCA()])\n",
    "[c1.readOA(), c2.readOA()]"
   ]
  },
  {
   "cell_type": "code",
   "execution_count": 45,
   "metadata": {},
   "outputs": [
    {
     "data": {
      "text/plain": [
       "[10, 100, 200]"
      ]
     },
     "execution_count": 45,
     "metadata": {},
     "output_type": "execute_result"
    }
   ],
   "source": [
    "# style above uses 'accessor functions'\n",
    "# can also refer to objects variables directly\n",
    "# '.' operator\n",
    "\n",
    "C.var = 2\n",
    "c1.ivar = 25\n",
    "c2.ivar = 30\n",
    "\n",
    "[C.ca, c1.oa, c2.oa]"
   ]
  },
  {
   "cell_type": "code",
   "execution_count": 47,
   "metadata": {},
   "outputs": [
    {
     "data": {
      "text/plain": [
       "300"
      ]
     },
     "execution_count": 47,
     "metadata": {},
     "output_type": "execute_result"
    }
   ],
   "source": [
    "c1.incr(100)\n",
    "c1.oa"
   ]
  },
  {
   "cell_type": "markdown",
   "metadata": {},
   "source": [
    "# Example: change\n",
    "- rewrite previous change example\n",
    "- coins will be a class attribute\n",
    "- inventory will be an object attribute"
   ]
  },
  {
   "cell_type": "code",
   "execution_count": 82,
   "metadata": {
    "collapsed": true
   },
   "outputs": [],
   "source": [
    "class Changer:\n",
    "    # all objects will use this list, so\n",
    "    # make it a class attribute\n",
    "    coins = (25, 10, 5, 1)\n",
    "    \n",
    "    def __init__(self, inventory):\n",
    "        # you will see this pattern often\n",
    "        # the value of the arg 'inventory'\n",
    "        # is being set to a object attribute\n",
    "        # named 'inventory'\n",
    "        self.inventory = inventory\n",
    "\n",
    "    def change(self, price):\n",
    "        owe = 100 - price\n",
    "        ans = [0]*len(Changer.coins)\n",
    "        for j,(coin, cinv) in enumerate(zip(Changer.coins, self.inventory)):\n",
    "            cnt = owe // coin\n",
    "            cnt = min(cnt, cinv)\n",
    "            ans[j] = cnt\n",
    "            self.inventory[j] -= cnt\n",
    "            owe -= cnt * coin\n",
    "            if owe == 0:\n",
    "                break\n",
    "        # return amount still owed, if any\n",
    "        # coins returned\n",
    "        # coins left in inventory\n",
    "        return [owe, ans, self.inventory]\n"
   ]
  },
  {
   "cell_type": "code",
   "execution_count": 83,
   "metadata": {},
   "outputs": [
    {
     "data": {
      "text/plain": [
       "[<__main__.Changer at 0x10cfa60b8>, <__main__.Changer at 0x10cfa6128>]"
      ]
     },
     "execution_count": 83,
     "metadata": {},
     "output_type": "execute_result"
    }
   ],
   "source": [
    "c1 = Changer([2, 3, 10, 7])\n",
    "c2 = Changer([2, 3, 10, 7])\n",
    "[c1,c2]"
   ]
  },
  {
   "cell_type": "code",
   "execution_count": 84,
   "metadata": {},
   "outputs": [
    {
     "data": {
      "text/plain": [
       "[0, [1, 0, 0, 1], [1, 3, 10, 6]]"
      ]
     },
     "execution_count": 84,
     "metadata": {},
     "output_type": "execute_result"
    }
   ],
   "source": [
    "c1.change(74)"
   ]
  },
  {
   "cell_type": "code",
   "execution_count": 85,
   "metadata": {},
   "outputs": [
    {
     "data": {
      "text/plain": [
       "[0, [1, 0, 0, 1], [0, 3, 10, 5]]"
      ]
     },
     "execution_count": 85,
     "metadata": {},
     "output_type": "execute_result"
    }
   ],
   "source": [
    "c1.change(74)"
   ]
  },
  {
   "cell_type": "code",
   "execution_count": 86,
   "metadata": {},
   "outputs": [
    {
     "data": {
      "text/plain": [
       "[0, [1, 0, 0, 1], [1, 3, 10, 6]]"
      ]
     },
     "execution_count": 86,
     "metadata": {},
     "output_type": "execute_result"
    }
   ],
   "source": [
    "c2.change(74)"
   ]
  },
  {
   "cell_type": "code",
   "execution_count": 87,
   "metadata": {
    "collapsed": true
   },
   "outputs": [],
   "source": [
    "# add methods to control how Changer prints\n",
    "\n",
    "class Changer:\n",
    "    # all objects will use this list, so\n",
    "    # make a class attribute\n",
    "    coins = (25, 10, 5, 1)\n",
    "    \n",
    "    # called by constructor\n",
    "    def __init__(self, inventory):\n",
    "        # you will see this pattern often\n",
    "        # the value of the arg 'inventory'\n",
    "        # is being set to a object attribute\n",
    "        # named 'inventory'\n",
    "        self.inventory = inventory\n",
    "\n",
    "    def change(self, price):\n",
    "        owe = 100 - price\n",
    "        ans = [0]*len(Changer.coins)\n",
    "        for j,(coin, cinv) in enumerate(zip(Changer.coins, self.inventory)):\n",
    "            cnt = owe // coin\n",
    "            cnt = min(cnt, cinv)\n",
    "            ans[j] = cnt\n",
    "            self.inventory[j] -= cnt\n",
    "            owe -= cnt * coin\n",
    "            if owe == 0:\n",
    "                break\n",
    "        # return amount still owed, if any\n",
    "        # coins returned\n",
    "        # coins left in inventory\n",
    "        return [owe, ans, self.inventory]\n",
    "    \n",
    "    # str and repr control how the object is printed\n",
    "    # they get called in different\n",
    "    # contexts, but we will just have repr call str\n",
    "    def __str__(self):\n",
    "        return 'Changer(q={} d={} n={} p={})'.format(*self.inventory)\n",
    "    def __repr__(self):\n",
    "        return self.__str__()\n"
   ]
  },
  {
   "cell_type": "code",
   "execution_count": 88,
   "metadata": {},
   "outputs": [
    {
     "data": {
      "text/plain": [
       "[Changer(q=2 d=3 n=10 p=7), Changer(q=1 d=2 n=0 p=3)]"
      ]
     },
     "execution_count": 88,
     "metadata": {},
     "output_type": "execute_result"
    }
   ],
   "source": [
    "# now easy to see inventory \n",
    "c1 = Changer([2, 3, 10, 7])\n",
    "c2 = Changer([1, 2, 0, 3])\n",
    "[c1,c2]"
   ]
  },
  {
   "cell_type": "markdown",
   "metadata": {},
   "source": [
    "# Example - class Point\n",
    "- represent 2D points"
   ]
  },
  {
   "cell_type": "code",
   "execution_count": 89,
   "metadata": {
    "collapsed": true
   },
   "outputs": [],
   "source": [
    "import math\n",
    "\n",
    "# this class does not use class attributes\n",
    "\n",
    "class Point:\n",
    "    \"Class that represents 2D Points\"\n",
    "    def __init__(self, x, y):\n",
    "        # x,y - object attributes \n",
    "        # created by assignment\n",
    "        self.x = x\n",
    "        self.y = y\n",
    "    # str and repr get called in different\n",
    "    # contexts, but we will just have repr \n",
    "    # call str\n",
    "    def __str__(self):\n",
    "        return 'Point({}, {})'.format(self.x, self.y)\n",
    "    def __repr__(self):\n",
    "        return self.__str__()\n",
    "    \n",
    "    def add(self, p):\n",
    "        '''add self and arg, creating a new Point\n",
    "        (self is NOT modified)'''\n",
    "        return Point(self.x + p.x, self.y + p.y)\n",
    "    \n",
    "    def copy(self):\n",
    "        '''copy this point'''\n",
    "        return Point(self.x, self.y)\n",
    "    \n",
    "    def addTo(self, p):\n",
    "        \"add arg to self(self is modified)\"\n",
    "        self.x += p.x\n",
    "        self.y += p.y\n",
    "        self.foo = 35\n",
    "        # return none, like list.sort, etc\n",
    "        return None\n",
    "    \n",
    "    def distanceFrom(self, p):\n",
    "        '''distance between self and arg\n",
    "        (self is not modified)'''\n",
    "        return math.sqrt( (self.x - p.x)**2 + \n",
    "                         (self.y - p.y)**2)\n"
   ]
  },
  {
   "cell_type": "code",
   "execution_count": 91,
   "metadata": {},
   "outputs": [
    {
     "data": {
      "text/plain": [
       "Point(3, 4)"
      ]
     },
     "execution_count": 91,
     "metadata": {},
     "output_type": "execute_result"
    }
   ],
   "source": [
    "origin = Point(0, 0)\n",
    "p1010 = Point(10, 10)\n",
    "p34 = Point(3,4)\n",
    "p34"
   ]
  },
  {
   "cell_type": "code",
   "execution_count": 92,
   "metadata": {},
   "outputs": [
    {
     "data": {
      "text/plain": [
       "5.0"
      ]
     },
     "execution_count": 92,
     "metadata": {},
     "output_type": "execute_result"
    }
   ],
   "source": [
    "origin.distanceFrom(p34)"
   ]
  },
  {
   "cell_type": "code",
   "execution_count": 76,
   "metadata": {},
   "outputs": [
    {
     "data": {
      "text/plain": [
       "<bound method Point.distanceFrom of Point(0, 0)>"
      ]
     },
     "execution_count": 76,
     "metadata": {},
     "output_type": "execute_result"
    }
   ],
   "source": [
    "# do shift-tab to see docstring\n",
    "\n",
    "origin.distanceFrom\n"
   ]
  },
  {
   "cell_type": "code",
   "execution_count": 93,
   "metadata": {},
   "outputs": [
    {
     "data": {
      "text/plain": [
       "[Point(0, 0), Point(10, 10), Point(3, 4)]"
      ]
     },
     "execution_count": 93,
     "metadata": {},
     "output_type": "execute_result"
    }
   ],
   "source": [
    "[origin, p1010, p34]"
   ]
  },
  {
   "cell_type": "code",
   "execution_count": 94,
   "metadata": {},
   "outputs": [
    {
     "data": {
      "text/plain": [
       "[Point(13, 14), Point(10, 10), False, False]"
      ]
     },
     "execution_count": 94,
     "metadata": {},
     "output_type": "execute_result"
    }
   ],
   "source": [
    "# a is a new Point\n",
    "# p1010 is unchanged\n",
    "\n",
    "a = p1010.add(p34)\n",
    "\n",
    "[a, p1010, a is p1010, a is p34]"
   ]
  },
  {
   "cell_type": "code",
   "execution_count": 95,
   "metadata": {},
   "outputs": [
    {
     "data": {
      "text/plain": [
       "Point(13, 14)"
      ]
     },
     "execution_count": 95,
     "metadata": {},
     "output_type": "execute_result"
    }
   ],
   "source": [
    "# p1010 is modified\n",
    "# returns none\n",
    "\n",
    "p1010.addTo(p34)\n",
    "p1010"
   ]
  },
  {
   "cell_type": "code",
   "execution_count": 96,
   "metadata": {},
   "outputs": [
    {
     "data": {
      "text/plain": [
       "'Point(13, 14)'"
      ]
     },
     "execution_count": 96,
     "metadata": {},
     "output_type": "execute_result"
    }
   ],
   "source": [
    "# for CS majors...\n",
    "\n",
    "# some objects print in a way s.t.\n",
    "# evaluating the string recreates the \n",
    "# object\n",
    "\n",
    "str(p1010)"
   ]
  },
  {
   "cell_type": "code",
   "execution_count": 97,
   "metadata": {},
   "outputs": [
    {
     "data": {
      "text/plain": [
       "Point(13, 14)"
      ]
     },
     "execution_count": 97,
     "metadata": {},
     "output_type": "execute_result"
    }
   ],
   "source": [
    "eval(str(p1010))"
   ]
  },
  {
   "cell_type": "code",
   "execution_count": 99,
   "metadata": {},
   "outputs": [
    {
     "data": {
      "text/plain": [
       "Polygon<4 points>"
      ]
     },
     "execution_count": 99,
     "metadata": {},
     "output_type": "execute_result"
    }
   ],
   "source": [
    "# this class does not use class attributes\n",
    "class Polygon:\n",
    "    def __init__(self, pts):\n",
    "        # represent vertexes of polygon\n",
    "        # good idea to copy the pts?\n",
    "        # note: 'pts' is arg value, \n",
    "        # 'self.pts' is instance variable\n",
    "        self.pts = [pt.copy() for pt in pts]\n",
    "        \n",
    "    def __str__(self):\n",
    "        return '{}<{} points>'.format(self.printname(), len(self.pts))\n",
    "    \n",
    "    def __repr__(self):\n",
    "        return str(self)\n",
    "    \n",
    "    def printname(self):\n",
    "        return 'Polygon'\n",
    "    \n",
    "    def sides(self):\n",
    "        return len(self.pts)\n",
    "    \n",
    "    def addTo(self, a):\n",
    "        for p in self.pts:\n",
    "            p.addTo(a)\n",
    "    \n",
    "    def printVerts(self):\n",
    "        for j, p in enumerate(self.pts):\n",
    "            print(j, p)\n",
    "\n",
    "origin = Point(0,0)\n",
    "p1010 = Point(10, 10)\n",
    "p34 = Point(3,4)\n",
    "p78 = Point(7,8)\n",
    "\n",
    "pg = Polygon([origin, p1010, p34, p78])\n",
    "pg"
   ]
  },
  {
   "cell_type": "code",
   "execution_count": 100,
   "metadata": {},
   "outputs": [
    {
     "name": "stdout",
     "output_type": "stream",
     "text": [
      "0 Point(0, 0)\n",
      "1 Point(10, 10)\n",
      "2 Point(3, 4)\n",
      "3 Point(7, 8)\n"
     ]
    }
   ],
   "source": [
    "pg.printVerts()"
   ]
  },
  {
   "cell_type": "code",
   "execution_count": 101,
   "metadata": {},
   "outputs": [
    {
     "data": {
      "text/plain": [
       "4"
      ]
     },
     "execution_count": 101,
     "metadata": {},
     "output_type": "execute_result"
    }
   ],
   "source": [
    "# roughly speaking, the p.sides() call \n",
    "# gets converted into sides(p)\n",
    "\n",
    "pg.sides()"
   ]
  },
  {
   "cell_type": "code",
   "execution_count": 102,
   "metadata": {},
   "outputs": [
    {
     "name": "stdout",
     "output_type": "stream",
     "text": [
      "0 Point(10, 20)\n",
      "1 Point(20, 30)\n",
      "2 Point(13, 24)\n",
      "3 Point(17, 28)\n"
     ]
    }
   ],
   "source": [
    "# Modify the polygon\n",
    "# p.addTo(at) => addTo(p, at)\n",
    "\n",
    "at = Point(10, 20)\n",
    "pg.addTo(at)\n",
    "pg.printVerts()"
   ]
  },
  {
   "cell_type": "markdown",
   "metadata": {},
   "source": [
    "# classes that are not instantiated\n",
    "- sometimes a class is not intended to ever be instantiated\n",
    "- in this case, only class attributes are specified\n",
    "- usually such classes are 'object factories'\n",
    "    - consists of class methods that instantiate objects in various ways\n"
   ]
  }
 ],
 "metadata": {
  "anaconda-cloud": {},
  "kernelspec": {
   "display_name": "Python 3",
   "language": "python",
   "name": "python3"
  },
  "language_info": {
   "codemirror_mode": {
    "name": "ipython",
    "version": 3
   },
   "file_extension": ".py",
   "mimetype": "text/x-python",
   "name": "python",
   "nbconvert_exporter": "python",
   "pygments_lexer": "ipython3",
   "version": "3.6.3"
  }
 },
 "nbformat": 4,
 "nbformat_minor": 1
}
