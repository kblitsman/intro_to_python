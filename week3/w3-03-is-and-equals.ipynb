{
 "cells": [
  {
   "cell_type": "markdown",
   "metadata": {},
   "source": [
    "# 'is' and 'equals' operators"
   ]
  },
  {
   "cell_type": "markdown",
   "metadata": {},
   "source": [
    "# 'a is b'\n",
    "- returns true if a and b refer to the SAME object in the heap\n",
    "- behavior can not be changed by defining methods"
   ]
  },
  {
   "cell_type": "code",
   "execution_count": null,
   "metadata": {
    "collapsed": true
   },
   "outputs": [],
   "source": [
    "# a's reference is copied to b, \n",
    "# so a and b refer to the same object\n",
    "\n",
    "a = [1,2,3]\n",
    "b = a\n",
    "a is b"
   ]
  },
  {
   "cell_type": "code",
   "execution_count": null,
   "metadata": {
    "collapsed": true
   },
   "outputs": [],
   "source": [
    "# an int and a list can't be the same object\n",
    "\n",
    "b = 5\n",
    "a is b"
   ]
  },
  {
   "cell_type": "code",
   "execution_count": null,
   "metadata": {
    "collapsed": true
   },
   "outputs": [],
   "source": [
    "# there are TWO different list [1,2,3] objects in the heap\n",
    "\n",
    "a = [1,2,3]\n",
    "b = [1,2,3]\n",
    "\n",
    "a is b"
   ]
  },
  {
   "cell_type": "markdown",
   "metadata": {},
   "source": [
    "# 'a == b'\n",
    "- returns true if a 'equals' b\n",
    "- determined by calling the ```__eq__``` method"
   ]
  },
  {
   "cell_type": "code",
   "execution_count": null,
   "metadata": {},
   "outputs": [],
   "source": [
    "# a and b have 'same structure' but \n",
    "# are different objects in the heap\n",
    "\n",
    "a = [1, 2, [3, 4]]\n",
    "b = [1, 2, [3, 4]]\n",
    "\n",
    "a is b"
   ]
  },
  {
   "cell_type": "code",
   "execution_count": null,
   "metadata": {},
   "outputs": [],
   "source": [
    "# roughly how value of 'a == b' is computed\n",
    "\n",
    "'''\n",
    "a == b\n",
    "runs a's list __eq__ method \n",
    "the two lists will be compared recursively.  \n",
    "\n",
    "'a == b' here means \n",
    " \n",
    "a & b are both the same type, 'list', \n",
    "they have the same length, and\n",
    " \n",
    "a[0] == b[0] because 1 == 1\n",
    "a[1] == b[1] because 2 == 2\n",
    "a[2] == b[2] because [3,4 ] == [3, 4] because 3 == 3, 4 == 4\n",
    "'''\n",
    "\n",
    "a == b"
   ]
  },
  {
   "cell_type": "code",
   "execution_count": null,
   "metadata": {
    "collapsed": true
   },
   "outputs": [],
   "source": [
    "class numclass:\n",
    "    def __init__(self, n):\n",
    "        self.n = n\n",
    "        \n",
    "    def __eq__(self, x):\n",
    "        # normally 'eq' will start with a type check\n",
    "        # if arg is not the same type as self, give up\n",
    "        \n",
    "        # why do isinstance?\n",
    "        return isinstance(x, numclass) and \\\n",
    "        self.n == x.n\n"
   ]
  },
  {
   "cell_type": "code",
   "execution_count": null,
   "metadata": {},
   "outputs": [],
   "source": [
    "a = numclass(3)\n",
    "b = numclass(3)\n",
    "a is b"
   ]
  },
  {
   "cell_type": "code",
   "execution_count": null,
   "metadata": {},
   "outputs": [],
   "source": [
    "# not the same type\n",
    "\n",
    "a == 3"
   ]
  },
  {
   "cell_type": "code",
   "execution_count": null,
   "metadata": {},
   "outputs": [],
   "source": [
    "# a & b both 'represent' 3\n",
    "\n",
    "a == b"
   ]
  },
  {
   "cell_type": "code",
   "execution_count": null,
   "metadata": {
    "collapsed": true
   },
   "outputs": [],
   "source": [
    "# inherit from 'list'\n",
    "# only overriding one method\n",
    "# weird '__eq__' method only checks the\n",
    "# first two elements of the lists\n",
    "\n",
    "class list2(list):\n",
    "    def __eq__(self, x):\n",
    "        if not isinstance(x, list):\n",
    "            return False\n",
    "        lens = len(self)\n",
    "        lenx = len(x)\n",
    "        # only check first two elements at most\n",
    "        check = min(2, lens, lenx)\n",
    "        for j in range(check):\n",
    "            if not self[j] == x[j]:\n",
    "                return False\n",
    "        return True\n",
    "\n",
    "a = list2('zap')\n",
    "b = list2('zat')\n",
    "c = list2('foo')\n",
    "\n",
    "[a, b, c, a == b, a == c]"
   ]
  },
  {
   "cell_type": "markdown",
   "metadata": {},
   "source": [
    "# interning objects\n",
    "- if a new object is desired that would be == to an existing one, reuse the existing one instead of making a new one\n",
    "- sometimes done solely for efficiency\n",
    "- sometimes to make singletons"
   ]
  },
  {
   "cell_type": "code",
   "execution_count": null,
   "metadata": {
    "collapsed": true
   },
   "outputs": [],
   "source": [
    "# small integers are interned, large ones are not\n",
    "a = 1\n",
    "b = 1\n",
    "c = 123456\n",
    "d = 123456\n",
    "\n",
    "[a is b, c is d]"
   ]
  },
  {
   "cell_type": "code",
   "execution_count": null,
   "metadata": {
    "collapsed": true
   },
   "outputs": [],
   "source": [
    "# there are TWO different list [1,2,3] objects in the heap,\n",
    "# but the interned ints are the same\n",
    "\n",
    "a = [1,2,3]\n",
    "b = [1,2,3]\n",
    "\n",
    "[a is b, a==b, a[0] is b[0], a[1] is b[1], a[2] is b[2]]"
   ]
  },
  {
   "cell_type": "code",
   "execution_count": null,
   "metadata": {},
   "outputs": [],
   "source": [
    "# trick for finding largest interned integer\n",
    "# how does it work?\n",
    "\n",
    "for j in range(1000):\n",
    "    s = str(j)\n",
    "    if not int(s) is int(s):\n",
    "        print(j)\n",
    "        break"
   ]
  },
  {
   "cell_type": "code",
   "execution_count": null,
   "metadata": {},
   "outputs": [],
   "source": [
    "# reference counts for some interned small ints\n",
    "\n",
    "import sys\n",
    "\n",
    "[[j, sys.getrefcount(j)] for j in range(-4,4)]"
   ]
  },
  {
   "cell_type": "code",
   "execution_count": null,
   "metadata": {},
   "outputs": [],
   "source": [
    "# all strings are interned\n",
    "a = \"foobarzap\"\n",
    "b = \"foobarzap\"\n",
    "\n",
    "a is b"
   ]
  },
  {
   "cell_type": "markdown",
   "metadata": {},
   "source": [
    "# make interned version of foo\n",
    "- use static 'factory' method do make instances, instead of calling constructor\n",
    "- 'factory pattern' is extremely common in OOP\n",
    "- use class variable to hold existing instances"
   ]
  },
  {
   "cell_type": "code",
   "execution_count": null,
   "metadata": {
    "collapsed": true
   },
   "outputs": [],
   "source": [
    "class foo:\n",
    "    # class var\n",
    "    existing = dict()\n",
    "       \n",
    "    def factory(n):\n",
    "        ''' \n",
    "        static/class method\n",
    "        no 'self' argument\n",
    "        '''\n",
    "        if n in foo.existing:\n",
    "            # use previously built foo\n",
    "            return foo.existing[n]\n",
    "        # nothing in stock - make a new foo\n",
    "        f = foo(n)\n",
    "        # save it for next time\n",
    "        foo.existing[n] = f\n",
    "        return f\n",
    "    \n",
    "    def __init__(self, n):\n",
    "        '''saves arg'''\n",
    "        self.n = n\n",
    "    \n",
    "    def __eq__(self, x):\n",
    "        ''' self == x'''\n",
    "        return isinstance(x, foo) and \\\n",
    "            self.n == x.n\n"
   ]
  },
  {
   "cell_type": "code",
   "execution_count": null,
   "metadata": {
    "collapsed": true
   },
   "outputs": [],
   "source": [
    "f3 = foo.factory(3)\n",
    "f4 = foo.factory(4)\n",
    "f33 = foo.factory(3)\n",
    "[f3 is f4, f3 == f4, f3 is f33, f3 == f33]"
   ]
  },
  {
   "cell_type": "markdown",
   "metadata": {},
   "source": [
    "# shallow vs deep copies"
   ]
  },
  {
   "cell_type": "code",
   "execution_count": null,
   "metadata": {
    "collapsed": true
   },
   "outputs": [],
   "source": [
    "d = dict()\n",
    "d['foo'] = 5\n",
    "d['bar'] = 8\n",
    "\n",
    "x = [[1,2], d]\n",
    "x"
   ]
  },
  {
   "cell_type": "markdown",
   "metadata": {},
   "source": [
    "- a list 'slice' always copies the list"
   ]
  },
  {
   "cell_type": "code",
   "execution_count": null,
   "metadata": {
    "collapsed": true
   },
   "outputs": [],
   "source": [
    "x2 = x[:]\n",
    "[x2, x is x2, x == x2]"
   ]
  },
  {
   "cell_type": "markdown",
   "metadata": {},
   "source": [
    "- x and x2 are different lists, but look at the list elements - the sublist and dict are the same objects\n",
    "- this is a 'shallow', or 'top level' copy. "
   ]
  },
  {
   "cell_type": "code",
   "execution_count": null,
   "metadata": {
    "collapsed": true
   },
   "outputs": [],
   "source": [
    "[x[0] is x2[0], x[1] is x2[1]]"
   ]
  },
  {
   "cell_type": "markdown",
   "metadata": {},
   "source": [
    "# 'deep' copy\n",
    "- a deep copy copies the original objects, using new object copies wherever possible.\n",
    "- [doc](https://docs.python.org/3.5/library/copy.html)"
   ]
  },
  {
   "cell_type": "code",
   "execution_count": null,
   "metadata": {
    "collapsed": true
   },
   "outputs": [],
   "source": [
    "import copy\n",
    "\n",
    "x3 = copy.deepcopy(x)"
   ]
  },
  {
   "cell_type": "code",
   "execution_count": null,
   "metadata": {
    "collapsed": true
   },
   "outputs": [],
   "source": [
    "[x3, x is x3, x == x3]"
   ]
  },
  {
   "cell_type": "markdown",
   "metadata": {},
   "source": [
    "- now the sublist and dict in x3 are different - a 'deep copy'"
   ]
  },
  {
   "cell_type": "code",
   "execution_count": null,
   "metadata": {
    "collapsed": true
   },
   "outputs": [],
   "source": [
    "[x[0] is x3[0], x[1] is x3[1]]"
   ]
  }
 ],
 "metadata": {
  "anaconda-cloud": {},
  "kernelspec": {
   "display_name": "Python 3",
   "language": "python",
   "name": "python3"
  },
  "language_info": {
   "codemirror_mode": {
    "name": "ipython",
    "version": 3
   },
   "file_extension": ".py",
   "mimetype": "text/x-python",
   "name": "python",
   "nbconvert_exporter": "python",
   "pygments_lexer": "ipython3",
   "version": "3.6.3"
  }
 },
 "nbformat": 4,
 "nbformat_minor": 1
}
