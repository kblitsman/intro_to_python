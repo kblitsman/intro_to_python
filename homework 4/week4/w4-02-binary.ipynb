{
 "cells": [
  {
   "cell_type": "markdown",
   "metadata": {},
   "source": [
    "# Character representation scheme\n",
    "- a representation is a mapping between integers and characters"
   ]
  },
  {
   "cell_type": "markdown",
   "metadata": {},
   "source": [
    "# Ascii \n",
    "- each character represented by seven bits in a eight bit byte\n",
    "- consists of english characters and control characters(NL, CR, TAB...)\n",
    "- to see ascii encoding on mac or linux, in a shell window do:\n",
    "  - man ascii \n",
    "\n",
    "```\n",
    "       0 nul    1 soh    2 stx    3 etx    4 eot    5 enq    6 ack    7 bel\n",
    "       8 bs     9 ht    10 nl    11 vt    12 np    13 cr    14 so    15 si\n",
    "      16 dle   17 dc1   18 dc2   19 dc3   20 dc4   21 nak   22 syn   23 etb\n",
    "      24 can   25 em    26 sub   27 esc   28 fs    29 gs    30 rs    31 us\n",
    "      32 sp    33  !    34  \"    35  #    36  $    37  %    38  &    39  '\n",
    "      40  (    41  )    42  *    43  +    44  ,    45  -    46  .    47  /\n",
    "      48  0    49  1    50  2    51  3    52  4    53  5    54  6    55  7\n",
    "      56  8    57  9    58  :    59  ;    60  <    61  =    62  >    63  ?\n",
    "      64  @    65  A    66  B    67  C    68  D    69  E    70  F    71  G\n",
    "      72  H    73  I    74  J    75  K    76  L    77  M    78  N    79  O\n",
    "      80  P    81  Q    82  R    83  S    84  T    85  U    86  V    87  W\n",
    "      88  X    89  Y    90  Z    91  [    92  \\    93  ]    94  ^    95  _\n",
    "      96  `    97  a    98  b    99  c   100  d   101  e   102  f   103  g\n",
    "     104  h   105  i   106  j   107  k   108  l   109  m   110  n   111  o\n",
    "     112  p   113  q   114  r   115  s   116  t   117  u   118  v   119  w\n",
    "     120  x   121  y   122  z   123  {   124  |   125  }   126  ~   127 del\n",
    "```"
   ]
  },
  {
   "cell_type": "markdown",
   "metadata": {},
   "source": [
    "# type 'bytes' \n",
    "- stores a sequence of 8 bit bytes, NOT characters\n",
    "- the print representation of a bytes object is derived by mapping its bytes into characters using the Ascii map\n",
    "- can enter bytes with hex escape\n",
    "- bytes are immutable, like strings\n",
    "- arbitrary data from a file or the network is\n",
    "a sequence of bytes\n",
    "    - jpeg image\n",
    "    - mp3 audio\n",
    "- sometimes called a \"byte array\", or \"byte sequence\"\n",
    "- why not use lists??\n"
   ]
  },
  {
   "cell_type": "code",
   "execution_count": 1,
   "metadata": {},
   "outputs": [
    {
     "data": {
      "text/plain": [
       "[[0, '0x0'],\n",
       " [1, '0x1'],\n",
       " [2, '0x2'],\n",
       " [3, '0x3'],\n",
       " [4, '0x4'],\n",
       " [5, '0x5'],\n",
       " [6, '0x6'],\n",
       " [7, '0x7'],\n",
       " [8, '0x8'],\n",
       " [9, '0x9'],\n",
       " [10, '0xa'],\n",
       " [11, '0xb'],\n",
       " [12, '0xc'],\n",
       " [13, '0xd'],\n",
       " [14, '0xe'],\n",
       " [15, '0xf'],\n",
       " [16, '0x10'],\n",
       " [17, '0x11'],\n",
       " [18, '0x12'],\n",
       " [19, '0x13']]"
      ]
     },
     "execution_count": 1,
     "metadata": {},
     "output_type": "execute_result"
    }
   ],
   "source": [
    "# hex is base 16 - a hex digit \n",
    "# represents 4 bits\n",
    "# 2 hex represent 8 bits, 1 byte\n",
    "\n",
    "[ [j, hex(j)] for j in range(20)]"
   ]
  },
  {
   "cell_type": "code",
   "execution_count": 2,
   "metadata": {},
   "outputs": [
    {
     "data": {
      "text/plain": [
       "[78, 90]"
      ]
     },
     "execution_count": 2,
     "metadata": {},
     "output_type": "execute_result"
    }
   ],
   "source": [
    "# int will take hex strings\n",
    "\n",
    "[int('4e', 16), int('5a', 16)]"
   ]
  },
  {
   "cell_type": "code",
   "execution_count": 3,
   "metadata": {},
   "outputs": [
    {
     "data": {
      "text/plain": [
       "[b'foobarNZ', 8, 98, 90, bytes, int]"
      ]
     },
     "execution_count": 3,
     "metadata": {},
     "output_type": "execute_result"
    }
   ],
   "source": [
    "# input like a string but \n",
    "# leading b' means bytes\n",
    "\n",
    "# last two characters are written using 'hex' escapes\n",
    "# a hex digit is 4 bits, so need 2 hex digits \n",
    "# to represent a byte\n",
    "\n",
    "b = b'foobar\\x4e\\x5a'\n",
    "\n",
    "[b, len(b), b[3], b[-1], type(b), type(b[0])]"
   ]
  },
  {
   "cell_type": "code",
   "execution_count": null,
   "metadata": {
    "collapsed": true
   },
   "outputs": [],
   "source": [
    "# bytes objects holds 8 bit bytes, NOT characters\n",
    "\n",
    "[list(b), b[3], b[-1]]"
   ]
  },
  {
   "cell_type": "code",
   "execution_count": null,
   "metadata": {
    "collapsed": true
   },
   "outputs": [],
   "source": [
    "# 'bytes' are not mutable\n",
    "\n",
    "b[3] = 33"
   ]
  },
  {
   "cell_type": "code",
   "execution_count": null,
   "metadata": {
    "collapsed": true
   },
   "outputs": [],
   "source": [
    "# similar functionality to the 'str' type we have been using\n",
    "\n",
    "[a for a in dir(bytes) if not a.startswith('__')]"
   ]
  },
  {
   "cell_type": "markdown",
   "metadata": {},
   "source": [
    "# type 'bytearray'\n",
    "- mutable version of 'bytes'"
   ]
  },
  {
   "cell_type": "code",
   "execution_count": 4,
   "metadata": {},
   "outputs": [
    {
     "ename": "ValueError",
     "evalue": "byte must be in range(0, 256)",
     "output_type": "error",
     "traceback": [
      "\u001b[0;31m---------------------------------------------------------------------------\u001b[0m",
      "\u001b[0;31mValueError\u001b[0m                                Traceback (most recent call last)",
      "\u001b[0;32m<ipython-input-4-6ac21f46d67d>\u001b[0m in \u001b[0;36m<module>\u001b[0;34m()\u001b[0m\n\u001b[1;32m      2\u001b[0m \u001b[0;31m# but this won't work, 256 is too big\u001b[0m\u001b[0;34m\u001b[0m\u001b[0;34m\u001b[0m\u001b[0m\n\u001b[1;32m      3\u001b[0m \u001b[0;34m\u001b[0m\u001b[0m\n\u001b[0;32m----> 4\u001b[0;31m \u001b[0mbytearray\u001b[0m\u001b[0;34m(\u001b[0m\u001b[0;34m[\u001b[0m\u001b[0mj\u001b[0m \u001b[0;32mfor\u001b[0m \u001b[0mj\u001b[0m \u001b[0;32min\u001b[0m \u001b[0mrange\u001b[0m\u001b[0;34m(\u001b[0m\u001b[0;36m257\u001b[0m\u001b[0;34m)\u001b[0m\u001b[0;34m]\u001b[0m\u001b[0;34m)\u001b[0m\u001b[0;34m\u001b[0m\u001b[0m\n\u001b[0m",
      "\u001b[0;31mValueError\u001b[0m: byte must be in range(0, 256)"
     ]
    }
   ],
   "source": [
    "# can give it a list of ints,\n",
    "# but this won't work, 256 is too big\n",
    "\n",
    "bytearray([j for j in range(257)])"
   ]
  },
  {
   "cell_type": "code",
   "execution_count": 5,
   "metadata": {},
   "outputs": [
    {
     "data": {
      "text/plain": [
       "bytearray(b'\\x00\\x01\\x02\\x03\\x04\\x05\\x06\\x07\\x08\\t\\n\\x0b\\x0c\\r\\x0e\\x0f\\x10\\x11\\x12\\x13\\x14\\x15\\x16\\x17\\x18\\x19\\x1a\\x1b\\x1c\\x1d\\x1e\\x1f !\"#$%&\\'()*+,-./0123456789:;<=>?@ABCDEFGHIJKLMNOPQRSTUVWXYZ[\\\\]^_`abcdefghijklmnopqrstuvwxyz{|}~\\x7f\\x80\\x81\\x82\\x83\\x84\\x85\\x86\\x87\\x88\\x89\\x8a\\x8b\\x8c\\x8d\\x8e\\x8f\\x90\\x91\\x92\\x93\\x94\\x95\\x96\\x97\\x98\\x99\\x9a\\x9b\\x9c\\x9d\\x9e\\x9f\\xa0\\xa1\\xa2\\xa3\\xa4\\xa5\\xa6\\xa7\\xa8\\xa9\\xaa\\xab\\xac\\xad\\xae\\xaf\\xb0\\xb1\\xb2\\xb3\\xb4\\xb5\\xb6\\xb7\\xb8\\xb9\\xba\\xbb\\xbc\\xbd\\xbe\\xbf\\xc0\\xc1\\xc2\\xc3\\xc4\\xc5\\xc6\\xc7\\xc8\\xc9\\xca\\xcb\\xcc\\xcd\\xce\\xcf\\xd0\\xd1\\xd2\\xd3\\xd4\\xd5\\xd6\\xd7\\xd8\\xd9\\xda\\xdb\\xdc\\xdd\\xde\\xdf\\xe0\\xe1\\xe2\\xe3\\xe4\\xe5\\xe6\\xe7\\xe8\\xe9\\xea\\xeb\\xec\\xed\\xee\\xef\\xf0\\xf1\\xf2\\xf3\\xf4\\xf5\\xf6\\xf7\\xf8\\xf9\\xfa\\xfb\\xfc\\xfd\\xfe\\xff')"
      ]
     },
     "execution_count": 5,
     "metadata": {},
     "output_type": "execute_result"
    }
   ],
   "source": [
    "# 0-255 is all the possibilities\n",
    "\n",
    "bytearray([j for j in range(256)])"
   ]
  },
  {
   "cell_type": "code",
   "execution_count": null,
   "metadata": {
    "collapsed": true
   },
   "outputs": [],
   "source": [
    "ba = bytearray(b)\n",
    "[ba, len(ba), ba[-1], type(ba), type(ba[0])]"
   ]
  },
  {
   "cell_type": "code",
   "execution_count": null,
   "metadata": {
    "collapsed": true
   },
   "outputs": [],
   "source": [
    "# mutable\n",
    "\n",
    "ba[0] = ord('F')\n",
    "ba"
   ]
  },
  {
   "cell_type": "code",
   "execution_count": null,
   "metadata": {
    "collapsed": true
   },
   "outputs": [],
   "source": [
    "# like bytes, stores ints, NOT characters\n",
    "\n",
    "[ba[0], type(ba[0])]"
   ]
  },
  {
   "cell_type": "code",
   "execution_count": null,
   "metadata": {
    "collapsed": true
   },
   "outputs": [],
   "source": [
    "[a for a in dir(bytearray) if not a.startswith('__')]"
   ]
  }
 ],
 "metadata": {
  "anaconda-cloud": {},
  "kernelspec": {
   "display_name": "Python 3",
   "language": "python",
   "name": "python3"
  },
  "language_info": {
   "codemirror_mode": {
    "name": "ipython",
    "version": 3
   },
   "file_extension": ".py",
   "mimetype": "text/x-python",
   "name": "python",
   "nbconvert_exporter": "python",
   "pygments_lexer": "ipython3",
   "version": "3.6.3"
  }
 },
 "nbformat": 4,
 "nbformat_minor": 1
}
