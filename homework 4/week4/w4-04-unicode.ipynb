{
 "cells": [
  {
   "cell_type": "markdown",
   "metadata": {},
   "source": [
    "# Character representation schemes\n",
    "- a representation is a mapping between integers and character"
   ]
  },
  {
   "cell_type": "markdown",
   "metadata": {},
   "source": [
    "# Limitations of Ascii\n",
    "- 1 bit was not used, leaving some room for extensions, but one byte is not enough to represent all the characters in the world\n",
    "\n",
    "\n",
    "\n",
    "# Unicode\n",
    "- \"universal character set\"\n",
    "- represents over a million different characters\n",
    "- every language on earth\n",
    "    - somebody tried to add Klingon, but it was rejected\n",
    "- each character represented by a unique integer\n",
    "- [code charts](http://www.unicode.org/charts/)\n",
    "\n",
    "# Python 'str' type \n",
    "- stores Unicode characters, not ascii\n",
    "\n",
    "# encodings\n",
    "- 'encoding' is converting a unicode string into a byte array or stream (in some encoding)\n",
    "- 'decoding' is converting a byte stream(in some encoding) into a unicode string\n",
    "- there are several different encoding/decoding schemes\n",
    "- java uses UTF-16\n",
    "- W3C recommends web pages use UTF-8\n",
    "- the UTF-8 encoding has the special property that if the unicode string is just ascii characters, the UTF-8 encoding\n",
    "is the same as the ascii encoding\n",
    "- when you WRITE a unicode string from  python(saving a file, writing to the network), you must ENCODE it into a sequence of bytes\n",
    "- when you read a unicode string INTO of python, you must DECODE it from a sequence of bytes\n"
   ]
  },
  {
   "cell_type": "code",
   "execution_count": null,
   "metadata": {
    "collapsed": true
   },
   "outputs": [],
   "source": [
    "# 'Python' spelled in characters from different \n",
    "# unicode character sets. len is 6, \n",
    "# which is the numbers of characters, \n",
    "# not the number bytes it takes to represent them\n",
    "# \\uabcd is 32 bits written in hex\n",
    "# \\Uabcdefgh is 64 bits written in hex\n",
    "\n",
    "uni = '\\U00002119\\u01b4\\u2602\\u210c\\xf8\\u1f24'\n",
    "[type(uni), uni, len(uni)]"
   ]
  },
  {
   "cell_type": "code",
   "execution_count": null,
   "metadata": {
    "collapsed": true
   },
   "outputs": [],
   "source": [
    "# python knows how to render lots of characters!\n",
    "\n",
    "''.join([chr(j) for j in range(17600, 18999)])"
   ]
  },
  {
   "cell_type": "markdown",
   "metadata": {},
   "source": [
    "# 'ord' maps a char into its unicode integer\n",
    "# 'chr' maps a unicode integer into a char"
   ]
  },
  {
   "cell_type": "code",
   "execution_count": null,
   "metadata": {
    "collapsed": true
   },
   "outputs": [],
   "source": [
    "# 3rd char is from 'dingbats'\n",
    "\n",
    "[ ord('A'), chr(65), chr(0x2702)]"
   ]
  },
  {
   "cell_type": "code",
   "execution_count": null,
   "metadata": {
    "collapsed": true
   },
   "outputs": [],
   "source": [
    "uni"
   ]
  },
  {
   "cell_type": "code",
   "execution_count": null,
   "metadata": {
    "collapsed": true
   },
   "outputs": [],
   "source": [
    "# three different encodings of unicode \n",
    "\n",
    "utf8, utf16, utf32 = [uni.encode(et) \\\n",
    "                      for et in \\\n",
    "                      ['utf-8', 'utf-16', 'utf-32']]"
   ]
  },
  {
   "cell_type": "code",
   "execution_count": null,
   "metadata": {
    "collapsed": true
   },
   "outputs": [],
   "source": [
    "# length of unicode encoding varies \n",
    "# with different encodings\n",
    "\n",
    "[[len(u), type(u)] for u in [utf8, utf16, utf32]]"
   ]
  },
  {
   "cell_type": "code",
   "execution_count": null,
   "metadata": {
    "collapsed": true
   },
   "outputs": [],
   "source": [
    "# utf8, utf16, utf32 are type 'bytes', not str. \n",
    "# note b' prefix\n",
    "\n",
    "[type(uni), type(utf8), utf8, utf16, utf32]"
   ]
  },
  {
   "cell_type": "code",
   "execution_count": null,
   "metadata": {
    "collapsed": true
   },
   "outputs": [],
   "source": [
    "# decode converts bytes into unicode string\n",
    "\n",
    "utf32.decode('utf-32')"
   ]
  },
  {
   "cell_type": "code",
   "execution_count": null,
   "metadata": {
    "collapsed": true
   },
   "outputs": [],
   "source": [
    "utf8.decode('utf-8')"
   ]
  },
  {
   "cell_type": "code",
   "execution_count": null,
   "metadata": {
    "collapsed": true
   },
   "outputs": [],
   "source": [
    "# to decode, must know the encoding type(key)\n",
    "# selecting the wrong decoder doesn't \n",
    "# always generate an error\n",
    "# sometimes you will just get a bogus string\n",
    "\n",
    "utf32.decode('utf-8')"
   ]
  },
  {
   "cell_type": "markdown",
   "metadata": {},
   "source": [
    "# ascii vs unicode\n",
    "- ascii is easy, because storage media and networks handle bytes, and ascii is just bytes\n",
    "- no byte order issues(big/little endian)\n",
    "- unicode is harder, because\n",
    "    - writing to the network or storage from Python, the unicode string must be ENCODED into a byte stream, in some format like utf-8, utf-16, etc\n",
    "    - reading from the network or storage into Python, the byte stream must be DECODED into a unicode stream. somehow the encoding used must be provided\n",
    "- given Python uses 'str' unicode, you are always\n",
    "    - encoding as strings leave your program\n",
    "    - decoding as strings enter your program\n",
    "- if all you are using are ascii characters, then everything just works, without any special effort\n",
    "- [standard text encoders](https://docs.python.org/3/library/codecs.html#standard-encodings)"
   ]
  }
 ],
 "metadata": {
  "anaconda-cloud": {},
  "kernelspec": {
   "display_name": "Python 3",
   "language": "python",
   "name": "python3"
  },
  "language_info": {
   "codemirror_mode": {
    "name": "ipython",
    "version": 3
   },
   "file_extension": ".py",
   "mimetype": "text/x-python",
   "name": "python",
   "nbconvert_exporter": "python",
   "pygments_lexer": "ipython3",
   "version": "3.6.3"
  }
 },
 "nbformat": 4,
 "nbformat_minor": 1
}
