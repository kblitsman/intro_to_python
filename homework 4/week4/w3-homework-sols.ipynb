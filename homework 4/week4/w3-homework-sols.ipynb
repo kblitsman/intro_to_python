{
 "cells": [
  {
   "cell_type": "markdown",
   "metadata": {},
   "source": [
    "# Introduction to Python \n",
    "# Homework #3\n",
    "- Due Thursday Feb 8 at noon\n",
    "- This homework will be graded\n",
    "- You MUST submit on CourseWorks2 before it closes\n",
    "    - Verify your submission succeeded\n",
    "    - Email submissions are not accepted \n",
    "    "
   ]
  },
  {
   "cell_type": "markdown",
   "metadata": {},
   "source": [
    "# Academic Honesty\n",
    "* The computer science department has strict polices. Check\n",
    "the department [web page](http://www.cs.columbia.edu/education/honesty) for details. \n",
    "- Do not look at anybody else's source code. Do not show anybody\n",
    "your source, or leave your source where somebody could see it.\n",
    "You MUST write your own code.\n",
    "- For this class, feel free to discuss issues with other people, but suggest waiting an hour or two after a discussion, before writing your code.\n",
    "-  Cases of non original source will be refered to the Judical Committee.\n"
   ]
  },
  {
   "cell_type": "markdown",
   "metadata": {},
   "source": [
    "# Problem 1&2 - RandomPoint\n",
    "- define a RandomPoint class by inheriting from Point,\n",
    "and redefining the ```__init__``` method\n",
    "- also redefine the 'name' method, so RandomPoint prints correctly\n",
    "- unlike Point, the RandomPoint constructor doesn't take x y args. rather, the  ```__init__``` method will call random.guass(0,1) twice to get x,y values\n",
    "- we only want points inside a unit box centered on the origin - -.5 < x,y < .5\n",
    "    - define an exception class OutOfBounds\n",
    "    - if the randomly choosen x,y point is outside the unit box, raise the OutOfBounds error in the ```__init__``` method\n",
    "- remember 'self'\n",
    "    - first arg to object methods must be 'self'\n",
    "    - refer to object attributes with 'self.' prefix\n",
    "- may be easiest to add the 'raise OutOfBounds' after everything else is happy"
   ]
  },
  {
   "cell_type": "code",
   "execution_count": null,
   "metadata": {},
   "outputs": [],
   "source": [
    "class Point:\n",
    "    def __init__(self, x, y):\n",
    "        self.x = x\n",
    "        self.y = y\n",
    "        \n",
    "    def __str__(self):\n",
    "        return '{}({},{})'.format(self.name(),self.x,self.y)\n",
    "\n",
    "    def __repr__(self):\n",
    "        return self.__str__()\n",
    "    \n",
    "    def name(self):\n",
    "        return 'Point'\n",
    "    \n",
    "Point(3,4)"
   ]
  },
  {
   "cell_type": "code",
   "execution_count": null,
   "metadata": {
    "scrolled": true
   },
   "outputs": [],
   "source": [
    "import random\n",
    "\n",
    "random.gauss(0,1)"
   ]
  },
  {
   "cell_type": "code",
   "execution_count": null,
   "metadata": {},
   "outputs": [],
   "source": [
    "# top level function abs is useful\n",
    "\n",
    "[abs(4), abs(-2.3)]"
   ]
  },
  {
   "cell_type": "code",
   "execution_count": null,
   "metadata": {
    "collapsed": true
   },
   "outputs": [],
   "source": [
    "class OutOfBounds(Exception):\n",
    "    pass\n",
    "\n",
    "class RandomPoint(Point):\n",
    "    def __init__(self):\n",
    "        x = random.gauss(0,1)\n",
    "        y = random.gauss(0,1)\n",
    "        if abs(x)>.5 or abs(y)>.5:\n",
    "            raise OutOfBounds\n",
    "        self.x = x\n",
    "        self.y = y\n",
    "\n",
    "    def name(self):\n",
    "        return 'RandomPoint'"
   ]
  },
  {
   "cell_type": "code",
   "execution_count": null,
   "metadata": {},
   "outputs": [],
   "source": [
    "# constructor made a valid point\n",
    "\n",
    "RandomPoint()"
   ]
  },
  {
   "cell_type": "code",
   "execution_count": null,
   "metadata": {},
   "outputs": [],
   "source": [
    "# constructor made a bad point, and raised OutOfBounds error\n",
    "\n",
    "RandomPoint()"
   ]
  },
  {
   "cell_type": "markdown",
   "metadata": {},
   "source": [
    "# write generator randomPoints\n",
    "- RandomPoint is hard to deal with directly, because you never know\n",
    "when you will get an error\n",
    "- define a generator that produces valid RandomPoints\n",
    "- calling 'next' on the generator should return a list of a valid RandomPoint, and how many tries it took to make it\n",
    "- the generator should never raise an error\n",
    "- the generator should never terminate"
   ]
  },
  {
   "cell_type": "code",
   "execution_count": null,
   "metadata": {
    "collapsed": true
   },
   "outputs": [],
   "source": [
    "def randomPoints():\n",
    "    cnt = 1\n",
    "    while True:\n",
    "        try:\n",
    "            pt = RandomPoint()\n",
    "            yield [pt, cnt]\n",
    "            cnt = 1\n",
    "        except OutOfBounds:\n",
    "            cnt += 1\n",
    "           "
   ]
  },
  {
   "cell_type": "code",
   "execution_count": null,
   "metadata": {},
   "outputs": [],
   "source": [
    "# make generator\n",
    "\n",
    "rp = randomPoints()\n",
    "rp"
   ]
  },
  {
   "cell_type": "code",
   "execution_count": null,
   "metadata": {},
   "outputs": [],
   "source": [
    "# took 15 tries to make this RandomPoint!\n",
    "\n",
    "next(rp)"
   ]
  },
  {
   "cell_type": "code",
   "execution_count": null,
   "metadata": {},
   "outputs": [],
   "source": [
    "# call generator 10 times\n",
    "\n",
    "for j, g in zip(range(10), rp):\n",
    "    print(g)"
   ]
  },
  {
   "cell_type": "markdown",
   "metadata": {},
   "source": [
    "# Problem 3 - write flatten\n",
    "\n",
    "- 'flatten' turns a nested list into a linear one\n",
    "- use recursion technique like 'rcount' in w2-05-examples notebook\n",
    "    - flatten the head and tail of the list, then put them together\n"
   ]
  },
  {
   "cell_type": "code",
   "execution_count": null,
   "metadata": {
    "collapsed": true
   },
   "outputs": [],
   "source": [
    "def flatten(x):\n",
    "    if isinstance(x, list):\n",
    "        if (x == []):\n",
    "            return x\n",
    "        else:\n",
    "            lft = flatten(x[0])\n",
    "            rht = flatten(x[1:])\n",
    "            return lft + rht\n",
    "    else:\n",
    "        return [x]\n"
   ]
  },
  {
   "cell_type": "code",
   "execution_count": null,
   "metadata": {},
   "outputs": [],
   "source": [
    "flatten([1,2,3,4])"
   ]
  },
  {
   "cell_type": "code",
   "execution_count": null,
   "metadata": {},
   "outputs": [],
   "source": [
    "flatten([1, [2,3],4])"
   ]
  },
  {
   "cell_type": "code",
   "execution_count": null,
   "metadata": {},
   "outputs": [],
   "source": [
    "flatten( [1,[2,3,4,[5,6,[7,8],9],10,11]])"
   ]
  },
  {
   "cell_type": "code",
   "execution_count": null,
   "metadata": {},
   "outputs": [],
   "source": [
    "flatten([1,2,3,[4,56],[44,55],7,8])"
   ]
  },
  {
   "cell_type": "markdown",
   "metadata": {},
   "source": [
    "# Problem 4 & 5 - vending machine\n",
    "- use objects to simulate a vending machine\n",
    "- money is in units of cents\n",
    "- remember\n",
    "    - 'self' must be the first arg to every object method\n",
    "    - use the 'self.' prefix to refer to object attributes or other methods inside a method "
   ]
  },
  {
   "cell_type": "markdown",
   "metadata": {},
   "source": [
    "# class venditem represents a type of item for sale\n",
    "- has three object attributes\n",
    "    - name, price, quantity\n",
    "- define four methods\n",
    "    - `method __init__` loads data into the object attributes\n",
    "        - def `__init__`(self, name, price, quantity):\n",
    "    - `method __str__`(self)\n",
    "        - controls how venditem prints\n",
    "        - use string format method\n",
    "            - '{} {}'.format(arg, arg2)\n",
    "        - see examples below\n",
    "    - `method __repr__`(self)\n",
    "        - just call `__str__` for string to return\n",
    "    - method sale(self)\n",
    "        - decrement the quantity(number of items left in the machine to sell)"
   ]
  },
  {
   "cell_type": "code",
   "execution_count": null,
   "metadata": {
    "collapsed": true
   },
   "outputs": [],
   "source": [
    "class venditem:\n",
    "    def __init__(self, name, price, quantity):\n",
    "        self.name = name\n",
    "        # price in cents\n",
    "        self.price = price\n",
    "        # number of these items in the machine\n",
    "        # must be decremented when an item is sold\n",
    "        self.quantity = quantity\n",
    "    \n",
    "    def __str__(self):\n",
    "        # note: '\\' continues the line\n",
    "        return \"venditem(name='{}', price={}, quantity={})\" \\\n",
    "        .format(self.name, self.price, self.quantity)\n",
    "    \n",
    "    def __repr__(self):\n",
    "        return self.__repr__()\n",
    "    \n",
    "    def sale(self):\n",
    "        self.quantity += -1\n",
    "        return self.quantity\n",
    "    "
   ]
  },
  {
   "cell_type": "code",
   "execution_count": null,
   "metadata": {},
   "outputs": [],
   "source": [
    "# make some items\n",
    "\n",
    "vi = venditem('coke', 95, 3)\n",
    "vi2 = venditem('pepsi', 110, 1)\n",
    "\n",
    "[vi, vi2]"
   ]
  },
  {
   "cell_type": "code",
   "execution_count": null,
   "metadata": {},
   "outputs": [],
   "source": [
    "# sale method decrements quantity \n",
    "# instance variable\n",
    "\n",
    "vi.sale()\n",
    "vi"
   ]
  },
  {
   "cell_type": "code",
   "execution_count": null,
   "metadata": {},
   "outputs": [],
   "source": [
    "# note you can access instance variables directly:\n",
    "\n",
    "[vi.name, vi2.name, vi.price, vi.quantity, vi2.quantity]"
   ]
  },
  {
   "cell_type": "code",
   "execution_count": null,
   "metadata": {},
   "outputs": [],
   "source": [
    "# can set same way\n",
    "\n",
    "vi.quantity = 2\n",
    "vi.quantity"
   ]
  },
  {
   "cell_type": "markdown",
   "metadata": {},
   "source": [
    "# class vendmachine \n",
    "- vendmachine has two object attributes\n",
    "    - 'cash' - the amount of money the machine has collected from item sales\n",
    "    - 'items' - a dictionary, where the keys are item names, and the values are the venditem object\n",
    "- define three methods\n",
    "    - `__init__`(self, stock)\n",
    "        - stock arg is a list of venditems, which represents what is loaded in the machine\n",
    "        - items dictionary should be constructed from stock arg\n",
    "        - cash should be initialized to 0\n",
    "    - buy(self, name, money) \n",
    "        - 'name' is 'coke', 'pepsi', etc\n",
    "        - money is how much money the customer deposited for the purchase\n",
    "        - four cases\n",
    "            - customer asks for an item not carried\n",
    "            - customer asks for an item whose quantity is 0 - out of stock\n",
    "            - customer doesn't put in enough money for the item\n",
    "            - everything ok, sell the item, decrement item quantity\n",
    "        - 'buy' return value should refund any money owed the customer \n",
    "            - money not applied to an item sale\n",
    "            - excess money deposited for an item sale\n",
    "            - NOT asking you to do this, but note the previously developed  'Changer' class could be used in the vending machine\n",
    "        - log each buy case, using 'log' function below\n",
    "        - see examples below\n",
    "    - status(self)\n",
    "        - prints the amount of cash collected, and each of the items in stock\n",
    "    "
   ]
  },
  {
   "cell_type": "code",
   "execution_count": null,
   "metadata": {
    "collapsed": true
   },
   "outputs": [],
   "source": [
    "# could log to a file by doing file append\n",
    "# with open(logpath, 'a') as fd\n",
    "#    write(msg + '\\n')\n",
    "\n",
    "import time\n",
    "    \n",
    "def log(msg, name):\n",
    "    t = time.strftime('%X %x %Z - ')\n",
    "    msg = t + msg + ': ' + name\n",
    "    print(msg)\n"
   ]
  },
  {
   "cell_type": "code",
   "execution_count": null,
   "metadata": {
    "collapsed": true
   },
   "outputs": [],
   "source": [
    "\n",
    "class vendmachine:\n",
    "    \n",
    "    def __init__(self, stock):\n",
    "        self.cash = 0\n",
    "        # make a dict\n",
    "        self.items = dict()\n",
    "        for i in stock:\n",
    "            self.items[i.name] = i\n",
    "\n",
    "    def buy(self, name, money):        \n",
    "        if not name in self.items:\n",
    "            log('dont carry it', name)\n",
    "            return money\n",
    "        \n",
    "        item = self.items[name]\n",
    "        if item.quantity == 0:\n",
    "            log('out of stock', name)\n",
    "            return money\n",
    "        \n",
    "        if money < item.price:\n",
    "            log('insufficient funds for', name)\n",
    "            return money\n",
    "\n",
    "        log('sold ', item.name)\n",
    "        item.sale()\n",
    "        self.cash += item.price\n",
    "        return money - item.price\n",
    "    \n",
    "    def status(self):\n",
    "        print('cash collected: {}'.format(self.cash))\n",
    "        for k in self.items:\n",
    "            print(self.items[k])"
   ]
  },
  {
   "cell_type": "code",
   "execution_count": null,
   "metadata": {
    "collapsed": true
   },
   "outputs": [],
   "source": [
    "# alternate version with log as a method\n",
    "\n",
    "import time\n",
    "\n",
    "class vendmachine:\n",
    "    \n",
    "    def __init__(self, stock):\n",
    "        self.cash = 0\n",
    "        # make a dict\n",
    "        self.items = dict()\n",
    "        # this is a very common pattern\n",
    "        # using some kind of name or id for objects,\n",
    "        # make a dict with the ids as keys, objects as values\n",
    "        for i in stock:\n",
    "            self.items[i.name] = i\n",
    "\n",
    "    def log(self, msg, name):\n",
    "        t = time.strftime('%X %x %Z - ')\n",
    "        msg = t + msg + ': ' + name\n",
    "        print(msg)\n",
    "    \n",
    "    def buy(self, name, money):        \n",
    "        if not name in self.items:\n",
    "            self.log('dont carry it', name)\n",
    "            return money\n",
    "        item = self.items[name]\n",
    "        if item.quantity == 0:\n",
    "            self.log('out of stock', name)\n",
    "            return money\n",
    "        if money < item.price:\n",
    "            self.log('insufficient funds for', name)\n",
    "            return money\n",
    "\n",
    "        self.log('sold ', item.name)\n",
    "        item.quantity -= 1\n",
    "        self.cash += item.price\n",
    "        return money - item.price\n",
    "    \n",
    "    def status(self):\n",
    "        print('cash collected: {}'.format(self.cash))\n",
    "        for k in self.items:\n",
    "            print(self.items[k])"
   ]
  },
  {
   "cell_type": "code",
   "execution_count": null,
   "metadata": {},
   "outputs": [],
   "source": [
    "# make stock for sale and load vendmachine\n",
    "\n",
    "vi = venditem('coke', 95, 3)\n",
    "vi2 = venditem('pepsi', 110, 1)\n",
    "vi3 = venditem('peanut M&Ms', 100, 2)\n",
    "stock = [vi, vi2, vi3]\n",
    "\n",
    "vm = vendmachine(stock)\n",
    "vm.status()"
   ]
  },
  {
   "cell_type": "code",
   "execution_count": null,
   "metadata": {},
   "outputs": [],
   "source": [
    "# no sale, refund money\n",
    "\n",
    "vm.buy('coke', 45)"
   ]
  },
  {
   "cell_type": "code",
   "execution_count": null,
   "metadata": {},
   "outputs": [],
   "source": [
    "# made sale, return change\n",
    "\n",
    "vm.buy('pepsi', 200)"
   ]
  },
  {
   "cell_type": "code",
   "execution_count": null,
   "metadata": {},
   "outputs": [],
   "source": [
    "vm.status()"
   ]
  },
  {
   "cell_type": "code",
   "execution_count": null,
   "metadata": {},
   "outputs": [],
   "source": [
    "# out of stock, refund money\n",
    "\n",
    "vm.buy('pepsi', 200)"
   ]
  },
  {
   "cell_type": "code",
   "execution_count": null,
   "metadata": {},
   "outputs": [],
   "source": [
    "# don't carry it, refund money\n",
    "\n",
    "vm.buy('mtndew', 200)"
   ]
  },
  {
   "cell_type": "code",
   "execution_count": null,
   "metadata": {},
   "outputs": [],
   "source": [
    "# sale, return change\n",
    "\n",
    "vm.buy('coke', 100)"
   ]
  },
  {
   "cell_type": "code",
   "execution_count": null,
   "metadata": {},
   "outputs": [],
   "source": [
    "# sold 1 coke and 1 pepsi\n",
    "\n",
    "vm.status()"
   ]
  }
 ],
 "metadata": {
  "anaconda-cloud": {},
  "kernelspec": {
   "display_name": "Python 3",
   "language": "python",
   "name": "python3"
  },
  "language_info": {
   "codemirror_mode": {
    "name": "ipython",
    "version": 3
   },
   "file_extension": ".py",
   "mimetype": "text/x-python",
   "name": "python",
   "nbconvert_exporter": "python",
   "pygments_lexer": "ipython3",
   "version": "3.6.3"
  },
  "name": "_merged"
 },
 "nbformat": 4,
 "nbformat_minor": 1
}
