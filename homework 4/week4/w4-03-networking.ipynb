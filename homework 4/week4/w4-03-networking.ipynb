{
 "cells": [
  {
   "cell_type": "markdown",
   "metadata": {},
   "source": [
    "# Networking\n",
    "- 'socket' module has low level networking\n",
    "  - unpleasant to use\n",
    "  - you will probably never need it, as almost everything is HTTP\n",
    "- 'urllib' will snarf HTTP content\n",
    "- 'urllib.urlopen' will return an object similar to a file, with a few extra methods, so can iterate over the lines, or grab entire page as one string\n",
    "- [doc](https://docs.python.org/3.5/library/urllib.request.html#module-urllib.request)"
   ]
  },
  {
   "cell_type": "code",
   "execution_count": null,
   "metadata": {
    "collapsed": true
   },
   "outputs": [],
   "source": [
    "import urllib.request\n",
    "\n",
    "bad = 'http://columbaxy123.edu'\n",
    "\n",
    "cur = urllib.request.urlopen(bad)\n",
    "cur.headers.items()"
   ]
  },
  {
   "cell_type": "code",
   "execution_count": null,
   "metadata": {
    "collapsed": true
   },
   "outputs": [],
   "source": [
    "cu = 'http://columbia.edu'\n",
    "\n",
    "# returns object that represents the network connection\n",
    "cur = urllib.request.urlopen(cu)\n",
    "cur"
   ]
  },
  {
   "cell_type": "code",
   "execution_count": null,
   "metadata": {
    "collapsed": true
   },
   "outputs": [],
   "source": [
    "# headers from the server\n",
    "\n",
    "cur.headers.items()"
   ]
  },
  {
   "cell_type": "code",
   "execution_count": null,
   "metadata": {
    "collapsed": true
   },
   "outputs": [],
   "source": [
    "# headers is a dictionary\n",
    "\n",
    "cur.headers['Server']"
   ]
  },
  {
   "cell_type": "code",
   "execution_count": null,
   "metadata": {
    "collapsed": true
   },
   "outputs": [],
   "source": [
    "# the network connection is an iterable and iterator\n",
    "\n",
    "cur is iter(cur)"
   ]
  },
  {
   "cell_type": "code",
   "execution_count": null,
   "metadata": {
    "collapsed": true
   },
   "outputs": [],
   "source": [
    "# usual iteration protocol reads one line at a time\n",
    "# note the lines comming back are byte arrays(b'), \n",
    "# not strings.  urllib doesn't know or try to \n",
    "# guess what encoding is being used by the server\n",
    "\n",
    "[next(cur), next(cur)]"
   ]
  },
  {
   "cell_type": "code",
   "execution_count": null,
   "metadata": {
    "collapsed": true
   },
   "outputs": [],
   "source": [
    "# grab the rest of the lines with 'list'\n",
    "# note 'charset=utf-8'\n",
    "\n",
    "lines = list(cur)\n",
    "lines[:7]"
   ]
  },
  {
   "cell_type": "code",
   "execution_count": null,
   "metadata": {
    "collapsed": true
   },
   "outputs": [],
   "source": [
    "# or read lines with a for loop\n",
    "\n",
    "cur = urllib.request.urlopen(cu)\n",
    "\n",
    "for line in cur:\n",
    "    # line is a 'bytes' object, not a 'str' object\n",
    "    print(line)\n"
   ]
  },
  {
   "cell_type": "markdown",
   "metadata": {},
   "source": [
    "# A simple web server"
   ]
  },
  {
   "cell_type": "code",
   "execution_count": null,
   "metadata": {},
   "outputs": [],
   "source": [
    "# will serve files in the current directory\n",
    "# at localhost:port\n",
    "\n",
    "import http.server\n",
    "import socketserver\n",
    "\n",
    "port = 8002\n",
    "\n",
    "Handler = http.server.SimpleHTTPRequestHandler\n",
    "\n",
    "httpd = socketserver.TCPServer((\"\", port), Handler)\n",
    "\n",
    "print(\"serving at port\", port)\n",
    "httpd.serve_forever()"
   ]
  },
  {
   "cell_type": "markdown",
   "metadata": {},
   "source": [
    "# 'Real' python web servers\n",
    "- two main ones are Django and Flask\n",
    "- Django [doc](https://www.djangoproject.com)\n",
    "- Flask [doc](http://flask.pocoo.org)"
   ]
  },
  {
   "cell_type": "markdown",
   "metadata": {},
   "source": [
    "# W3C recommends utf-8 for web sites\n",
    "- [doc](https://www.w3.org/International/questions/qa-html-encoding-declarations)"
   ]
  }
 ],
 "metadata": {
  "anaconda-cloud": {},
  "kernelspec": {
   "display_name": "Python 3",
   "language": "python",
   "name": "python3"
  },
  "language_info": {
   "codemirror_mode": {
    "name": "ipython",
    "version": 3
   },
   "file_extension": ".py",
   "mimetype": "text/x-python",
   "name": "python",
   "nbconvert_exporter": "python",
   "pygments_lexer": "ipython3",
   "version": "3.6.3"
  }
 },
 "nbformat": 4,
 "nbformat_minor": 1
}
