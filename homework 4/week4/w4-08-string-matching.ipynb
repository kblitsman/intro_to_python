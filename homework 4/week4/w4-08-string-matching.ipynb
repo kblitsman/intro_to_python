{
 "cells": [
  {
   "cell_type": "markdown",
   "metadata": {},
   "source": [
    "# Simple string searching\n",
    "- methods on string class\n",
    "- useful but limited functionality"
   ]
  },
  {
   "cell_type": "code",
   "execution_count": null,
   "metadata": {},
   "outputs": [],
   "source": [
    "s = \"foozapbar\"\n",
    "s.index('zap')"
   ]
  },
  {
   "cell_type": "code",
   "execution_count": null,
   "metadata": {},
   "outputs": [],
   "source": [
    "# substring \n",
    "\n",
    "'zap' in s"
   ]
  },
  {
   "cell_type": "code",
   "execution_count": null,
   "metadata": {},
   "outputs": [],
   "source": [
    "s.startswith('foo')"
   ]
  },
  {
   "cell_type": "code",
   "execution_count": null,
   "metadata": {
    "collapsed": true
   },
   "outputs": [],
   "source": [
    "s.endswith('bar')"
   ]
  },
  {
   "cell_type": "markdown",
   "metadata": {},
   "source": [
    "# Regular Expressions\n",
    "- very powerful, widely used\n",
    "- syntax a tad cryptic at first glance\n",
    "- Python has a fairly standard implementation, similar to what other languages provide\n",
    "- module is 're'\n",
    "- [doc](https://docs.python.org/3.5/library/re.html)\n",
    "- [more readable doc](https://docs.python.org/3.5/howto/regex.html#regex-howto)"
   ]
  },
  {
   "cell_type": "code",
   "execution_count": null,
   "metadata": {
    "collapsed": true
   },
   "outputs": [],
   "source": [
    "# this pattern will find substrings \n",
    "# that start with 'x', end with 'y'\n",
    "# and has one or more digits in the middle\n",
    "# '[0-9]' is a character set - stands for \n",
    "# any digit char\n",
    "# '+' means one or more of the previous regex\n",
    "# 'x' and 'y' stand for themselves\n",
    "\n",
    "import re\n",
    "\n",
    "pat = 'x[0-9]+y'\n",
    "s = 'zxcvx9784843845ysdfx234yzX333Ycv234'"
   ]
  },
  {
   "cell_type": "code",
   "execution_count": null,
   "metadata": {},
   "outputs": [],
   "source": [
    "# find all substrings that match the pattern\n",
    "# note match is case sensistive\n",
    "\n",
    "re.findall(pat, s)"
   ]
  },
  {
   "cell_type": "code",
   "execution_count": null,
   "metadata": {},
   "outputs": [],
   "source": [
    "# case insensitive search w/o compiling pattern\n",
    "\n",
    "re.findall(pat, s, re.IGNORECASE)"
   ]
  },
  {
   "cell_type": "code",
   "execution_count": null,
   "metadata": {},
   "outputs": [],
   "source": [
    "s"
   ]
  },
  {
   "cell_type": "code",
   "execution_count": null,
   "metadata": {},
   "outputs": [],
   "source": [
    "# replace the pattern with a string\n",
    "\n",
    "re.sub(pat, 'FOOBAR', s)"
   ]
  },
  {
   "cell_type": "code",
   "execution_count": null,
   "metadata": {},
   "outputs": [],
   "source": [
    "# split on the pattern\n",
    "\n",
    "re.split(pat, s)"
   ]
  },
  {
   "cell_type": "markdown",
   "metadata": {},
   "source": [
    "# decrypt with RE"
   ]
  },
  {
   "cell_type": "code",
   "execution_count": null,
   "metadata": {
    "collapsed": true
   },
   "outputs": [],
   "source": [
    "e = '{SVIu6Python-)dKct@\\\\JK)2is:y:=;;~6reallyMZ-&Bk`*6great!NB!|Krj##'"
   ]
  },
  {
   "cell_type": "code",
   "execution_count": null,
   "metadata": {},
   "outputs": [],
   "source": [
    "# '[^0-9] means any char EXCEPT the digits\n",
    "\n",
    "words = re.findall('[0-9][^0-9]+', e)\n",
    "words"
   ]
  },
  {
   "cell_type": "code",
   "execution_count": null,
   "metadata": {},
   "outputs": [],
   "source": [
    "for word in words:\n",
    "    ln = int(word[0])\n",
    "    decode = word[1:ln+1]\n",
    "    print(decode)"
   ]
  },
  {
   "cell_type": "markdown",
   "metadata": {},
   "source": [
    "# RE groups\n",
    "- groups are enclosed by ()\n",
    "- great for fishing out what matched"
   ]
  },
  {
   "cell_type": "code",
   "execution_count": null,
   "metadata": {},
   "outputs": [],
   "source": [
    "s='''\n",
    "<img src=\"/icons/unknown.gif\" alt=\"[   ]\"> <a href=\"Problems_chap2.nb\">Problems_chap2.nb</a>       2009-04-22 15:16  171K  \n",
    "<img src=\"/icons/layout.gif\" alt=\"[   ]\"> <a href=\"Problems_chap2.pdf\">Problems_chap2.pdf</a>      2009-10-12 13:15  252K  \n",
    "<img src=\"/icons/unknown.gif\" alt=\"[   ]\"> <a href=\"Style07.nb\">Style07.nb</a>              2009-04-22 15:16   12K  \n",
    "'''\n",
    "urls = re.split('\\\\n', s)[1:-1]\n",
    "urls"
   ]
  },
  {
   "cell_type": "code",
   "execution_count": null,
   "metadata": {
    "collapsed": true
   },
   "outputs": [],
   "source": [
    "# [BKMG] - file length will have a bytes/kilo/mega/giga suffix\n",
    "\n",
    "for u in urls:\n",
    "    m = \\\n",
    "    re.match('.+src=\"(.+)\" .+href=\"(.+)\".+ ([0-9]+[BKMG])', u)\n",
    "    print(m.groups())"
   ]
  }
 ],
 "metadata": {
  "anaconda-cloud": {},
  "kernelspec": {
   "display_name": "Python 3",
   "language": "python",
   "name": "python3"
  },
  "language_info": {
   "codemirror_mode": {
    "name": "ipython",
    "version": 3
   },
   "file_extension": ".py",
   "mimetype": "text/x-python",
   "name": "python",
   "nbconvert_exporter": "python",
   "pygments_lexer": "ipython3",
   "version": "3.6.3"
  }
 },
 "nbformat": 4,
 "nbformat_minor": 1
}
