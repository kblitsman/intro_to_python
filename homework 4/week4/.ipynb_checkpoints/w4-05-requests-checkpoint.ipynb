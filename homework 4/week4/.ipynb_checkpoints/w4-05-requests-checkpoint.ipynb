{
 "cells": [
  {
   "cell_type": "markdown",
   "metadata": {},
   "source": [
    "# requests\n",
    "- alternative to urllib\n",
    "- may be easier for complex tasks\n",
    "- automatic unicode decoding\n",
    "- [doc](http://docs.python-requests.org/en/master/user/quickstart/#response-content)"
   ]
  },
  {
   "cell_type": "code",
   "execution_count": 1,
   "metadata": {},
   "outputs": [
    {
     "name": "stdout",
     "output_type": "stream",
     "text": [
      "200\n",
      "{'Date': 'Sun, 11 Feb 2018 19:46:47 GMT', 'Server': 'Apache', 'Cache-Control': 'max-age=300, public', 'Content-language': 'en', 'X-XSS-Protection': '1; mode=block', 'X-Frame-Options': 'SAMEORIGIN', 'X-Content-Type-Options': 'nosniff', 'Expires': 'Sun, 19 Nov 1978 05:00:00 GMT', 'Last-Modified': 'Sun, 11 Feb 2018 19:46:47 GMT', 'ETag': '\"1518378407\"', 'Content-Type': 'text/html; charset=UTF-8', 'Age': '267', 'X-Varnish-Cache': 'HIT', 'Content-Length': '107025', 'Connection': 'keep-alive', 'Accept-Ranges': 'bytes'}\n"
     ]
    }
   ],
   "source": [
    "import requests\n",
    "\n",
    "cu = 'http://columbia.edu'\n",
    "\n",
    "r = requests.get(cu)\n",
    "print(r.status_code)\n",
    "print(r.headers)"
   ]
  },
  {
   "cell_type": "code",
   "execution_count": null,
   "metadata": {
    "collapsed": true
   },
   "outputs": [],
   "source": [
    "# r.content is a bytes array - has b' prefix\n",
    "\n",
    "con = r.content\n",
    "print(type(con))\n",
    "con[:100]"
   ]
  },
  {
   "cell_type": "code",
   "execution_count": null,
   "metadata": {
    "collapsed": true
   },
   "outputs": [],
   "source": [
    "# split it into lines \n",
    "# note split pattern must be type bytes\n",
    "\n",
    "lsb=con.split(b'\\n')\n",
    "lsb[15:20]"
   ]
  },
  {
   "cell_type": "code",
   "execution_count": null,
   "metadata": {
    "collapsed": true
   },
   "outputs": [],
   "source": [
    "# for r.text, requests tries to guess\n",
    "# the encoding and decodes to unicode\n",
    "# you can set the encoding yourself if you prefer\n",
    "\n",
    "r.encoding"
   ]
  },
  {
   "cell_type": "code",
   "execution_count": null,
   "metadata": {
    "collapsed": true
   },
   "outputs": [],
   "source": [
    "# str type\n",
    "\n",
    "r.text[:100]"
   ]
  },
  {
   "cell_type": "code",
   "execution_count": null,
   "metadata": {
    "collapsed": true
   },
   "outputs": [],
   "source": [
    "# split it into lines \n",
    "# note split pattern must be type str\n",
    "\n",
    "lsu=r.text.split('\\n')\n",
    "lsu[15:20]"
   ]
  },
  {
   "cell_type": "code",
   "execution_count": null,
   "metadata": {
    "collapsed": true
   },
   "outputs": [],
   "source": [
    "# also built in json decoding\n",
    "\n",
    "r = requests.get('https://api.github.com/events')\n",
    "r.content[:100]"
   ]
  },
  {
   "cell_type": "code",
   "execution_count": null,
   "metadata": {
    "collapsed": true
   },
   "outputs": [],
   "source": [
    "r.json()[0]['actor']"
   ]
  }
 ],
 "metadata": {
  "anaconda-cloud": {},
  "kernelspec": {
   "display_name": "Python 3",
   "language": "python",
   "name": "python3"
  },
  "language_info": {
   "codemirror_mode": {
    "name": "ipython",
    "version": 3
   },
   "file_extension": ".py",
   "mimetype": "text/x-python",
   "name": "python",
   "nbconvert_exporter": "python",
   "pygments_lexer": "ipython3",
   "version": "3.6.3"
  }
 },
 "nbformat": 4,
 "nbformat_minor": 1
}
