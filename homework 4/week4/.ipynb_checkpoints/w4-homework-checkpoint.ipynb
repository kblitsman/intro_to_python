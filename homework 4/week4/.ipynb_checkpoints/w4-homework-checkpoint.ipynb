{
 "cells": [
  {
   "cell_type": "markdown",
   "metadata": {},
   "source": [
    "# Introduction to Python \n",
    "# Homework #4\n",
    "- Due Thursday Feb 15 at noon\n",
    "- This homework will be graded\n",
    "- You MUST submit on CourseWorks2 before it closes\n",
    "    - Verify your submission succeeded\n",
    "    - Email submissions are not accepted \n",
    "    "
   ]
  },
  {
   "cell_type": "markdown",
   "metadata": {},
   "source": [
    "# Academic Honesty\n",
    "* The computer science department has strict polices. Check\n",
    "the department [web page](http://www.cs.columbia.edu/education/honesty) for details. \n",
    "- Do not look at anybody else's source code. Do not show anybody\n",
    "your source, or leave your source where somebody could see it.\n",
    "You MUST write your own code.\n",
    "- For this class, feel free to discuss issues with other people, but suggest waiting an hour or two after a discussion, before writing your code.\n",
    "-  Cases of non original source will be refered to the Judical Committee.\n"
   ]
  },
  {
   "cell_type": "markdown",
   "metadata": {},
   "source": [
    "# Problem 1\n",
    "- write a simple printf function\n",
    "- first arg is the control string, rest of args are\n",
    "values to insert into the control string, and some keyword args\n",
    "- several conversion directives:\n",
    "    - '{}' - call 'str' to get print string for the object\n",
    "    - '{b}' - convert an int into binary\n",
    "    - '{h}' - convert an int into hex\n",
    "    - '{o}' - convert an int into octal\n",
    "- keyword args:\n",
    "    - case='lower' - lower case the computed string\n",
    "    - case='upper' - upper case the computed string\n",
    "    - reverse=True - reverse the characters in the computed string\n",
    "- raise a ValueError if the number conversion directives in the \n",
    "control string don't match the number of supplied args\n",
    "- you can't use the 'format' method!\n",
    "\n",
    "# Tips"
   ]
  },
  {
   "cell_type": "code",
   "execution_count": 122,
   "metadata": {},
   "outputs": [
    {
     "data": {
      "text/plain": [
       "'dx0 ereht 1011b0 ih 51o0'"
      ]
     },
     "execution_count": 122,
     "metadata": {},
     "output_type": "execute_result"
    }
   ],
   "source": [
    "#printf solution\n",
    "\n",
    "def printf(controlstring, *vals, **kw):\n",
    "    split = re.split('({[bho]*})', controlstring)\n",
    "    final = []\n",
    "    num_replacements_made = 0\n",
    "    for item in split:\n",
    "        num_values_given = len(vals)\n",
    "        if item == '{}':\n",
    "            if num_values_given <= num_replacements_made: raise ValueError()\n",
    "            final += [str(vals[num_replacements_made])]\n",
    "            num_replacements_made += 1\n",
    "        elif item == '{b}':\n",
    "            if num_values_given <= num_replacements_made: raise ValueError()\n",
    "            final += [bin(vals[num_replacements_made])]\n",
    "            num_replacements_made += 1\n",
    "        elif item == '{h}':\n",
    "            if num_values_given <= num_replacements_made: raise ValueError()\n",
    "            final += [hex(vals[num_replacements_made])]\n",
    "            num_replacements_made += 1\n",
    "        elif item == '{o}':\n",
    "            if num_values_given <= num_replacements_made: raise ValueError()\n",
    "            final += [oct(vals[num_replacements_made])]\n",
    "            num_replacements_made += 1\n",
    "        else:\n",
    "            final += [item]\n",
    "    final = ''.join(final)\n",
    "    if 'case' in kw:\n",
    "        if kw['case'] == 'lower':\n",
    "            final = final.lower()\n",
    "        elif kw['case'] == 'upper':\n",
    "            final = final.upper()\n",
    "    if 'reverse' in kw:\n",
    "        if kw['reverse'] == True:\n",
    "            final = final[::-1]\n",
    "    return final\n",
    "        \n",
    "    \n",
    "printf('{o} Hi {b} There {h}', 13, 13, 13, case='lower', reverse=True)"
   ]
  },
  {
   "cell_type": "code",
   "execution_count": 34,
   "metadata": {},
   "outputs": [],
   "source": [
    "# this version of riffle could be helpful\n",
    "\n",
    "def riffle(*strings):\n",
    "    riff = ()\n",
    "    for s in zip(*strings):\n",
    "        riff += s\n",
    "    return ''.join(riff)"
   ]
  },
  {
   "cell_type": "code",
   "execution_count": 5,
   "metadata": {},
   "outputs": [
    {
     "data": {
      "text/plain": [
       "'{[bho]*}'"
      ]
     },
     "execution_count": 5,
     "metadata": {},
     "output_type": "execute_result"
    }
   ],
   "source": [
    "# re.split could be helpful\n",
    "\n",
    "import re\n",
    "\n",
    "# this regular expression could be helpful\n",
    "# [bho]* means zero or more instances of 'b' 'h' or 'o' will match\n",
    "\n",
    "'{[bho]*}'"
   ]
  },
  {
   "cell_type": "code",
   "execution_count": 48,
   "metadata": {},
   "outputs": [
    {
     "data": {
      "text/plain": [
       "'0xd'"
      ]
     },
     "execution_count": 48,
     "metadata": {},
     "output_type": "execute_result"
    }
   ],
   "source": [
    "# returns the hexadecmial(base 16) representation of an int \n",
    "# in a string\n",
    "\n",
    "hex(13)"
   ]
  },
  {
   "cell_type": "code",
   "execution_count": 47,
   "metadata": {},
   "outputs": [
    {
     "data": {
      "text/plain": [
       "'0b1101'"
      ]
     },
     "execution_count": 47,
     "metadata": {},
     "output_type": "execute_result"
    }
   ],
   "source": [
    "# returns binary(base 2) of an int\n",
    "\n",
    "bin(13)"
   ]
  },
  {
   "cell_type": "code",
   "execution_count": 46,
   "metadata": {},
   "outputs": [
    {
     "data": {
      "text/plain": [
       "'0o15'"
      ]
     },
     "execution_count": 46,
     "metadata": {},
     "output_type": "execute_result"
    }
   ],
   "source": [
    "# returns octal(base 8) of an int\n",
    "\n",
    "oct(13)"
   ]
  },
  {
   "cell_type": "code",
   "execution_count": 66,
   "metadata": {},
   "outputs": [
    {
     "ename": "ValueError",
     "evalue": "Number of {}'s does not equal number of args",
     "output_type": "error",
     "traceback": [
      "\u001b[0;31m---------------------------------------------------------------------------\u001b[0m",
      "\u001b[0;31mValueError\u001b[0m                                Traceback (most recent call last)",
      "\u001b[0;32m<ipython-input-66-2484f70c8054>\u001b[0m in \u001b[0;36m<module>\u001b[0;34m()\u001b[0m\n\u001b[1;32m      1\u001b[0m \u001b[0;31m# not enough values for the control string\u001b[0m\u001b[0;34m\u001b[0m\u001b[0;34m\u001b[0m\u001b[0m\n\u001b[1;32m      2\u001b[0m \u001b[0;34m\u001b[0m\u001b[0m\n\u001b[0;32m----> 3\u001b[0;31m \u001b[0mprintf\u001b[0m\u001b[0;34m(\u001b[0m\u001b[0;34m'need two values: 1={}  2={}'\u001b[0m\u001b[0;34m,\u001b[0m \u001b[0;36m3\u001b[0m\u001b[0;34m)\u001b[0m\u001b[0;34m\u001b[0m\u001b[0m\n\u001b[0m",
      "\u001b[0;32m<ipython-input-58-e1bc2aee9c4e>\u001b[0m in \u001b[0;36mprintf\u001b[0;34m(cntl, case, reverse, *pos)\u001b[0m\n\u001b[1;32m      4\u001b[0m \u001b[0;34m\u001b[0m\u001b[0m\n\u001b[1;32m      5\u001b[0m     \u001b[0;32mif\u001b[0m \u001b[0;34m(\u001b[0m\u001b[0mlen\u001b[0m\u001b[0;34m(\u001b[0m\u001b[0mpos\u001b[0m\u001b[0;34m)\u001b[0m \u001b[0;34m!=\u001b[0m \u001b[0mlen\u001b[0m\u001b[0;34m(\u001b[0m\u001b[0mdirs\u001b[0m\u001b[0;34m)\u001b[0m\u001b[0;34m)\u001b[0m\u001b[0;34m:\u001b[0m\u001b[0;34m\u001b[0m\u001b[0m\n\u001b[0;32m----> 6\u001b[0;31m         \u001b[0;32mraise\u001b[0m \u001b[0mValueError\u001b[0m\u001b[0;34m(\u001b[0m\u001b[0;34m\"Number of {}'s does not equal number of args\"\u001b[0m\u001b[0;34m)\u001b[0m\u001b[0;34m\u001b[0m\u001b[0m\n\u001b[0m\u001b[1;32m      7\u001b[0m \u001b[0;34m\u001b[0m\u001b[0m\n\u001b[1;32m      8\u001b[0m     \u001b[0mcl\u001b[0m \u001b[0;34m=\u001b[0m \u001b[0mre\u001b[0m\u001b[0;34m.\u001b[0m\u001b[0msplit\u001b[0m\u001b[0;34m(\u001b[0m\u001b[0mpat\u001b[0m\u001b[0;34m,\u001b[0m \u001b[0mcntl\u001b[0m\u001b[0;34m)\u001b[0m\u001b[0;34m\u001b[0m\u001b[0m\n",
      "\u001b[0;31mValueError\u001b[0m: Number of {}'s does not equal number of args"
     ]
    }
   ],
   "source": [
    "# not enough values for the control string\n",
    "\n",
    "printf('need two values: 1={}  2={}', 3)"
   ]
  },
  {
   "cell_type": "code",
   "execution_count": 70,
   "metadata": {},
   "outputs": [
    {
     "data": {
      "text/plain": [
       "'need two values: 1=3  2=<built-in function sorted>'"
      ]
     },
     "execution_count": 70,
     "metadata": {},
     "output_type": "execute_result"
    }
   ],
   "source": [
    "# need two args, got two\n",
    "\n",
    "printf('need two values: 1={}  2={}', 3, sorted)"
   ]
  },
  {
   "cell_type": "code",
   "execution_count": 68,
   "metadata": {},
   "outputs": [
    {
     "data": {
      "text/plain": [
       "'0O15 HI 0B1101 THERE 0XD'"
      ]
     },
     "execution_count": 68,
     "metadata": {},
     "output_type": "execute_result"
    }
   ],
   "source": [
    "printf('{o} Hi {b} There {h}', 13, 13, 13, case='upper')    "
   ]
  },
  {
   "cell_type": "code",
   "execution_count": 118,
   "metadata": {},
   "outputs": [
    {
     "data": {
      "text/plain": [
       "'0o15 hi 0b1101 there 0xd'"
      ]
     },
     "execution_count": 118,
     "metadata": {},
     "output_type": "execute_result"
    }
   ],
   "source": [
    "printf('{o} Hi {b} There {h}', 13, 13, 13, case='lower', reverse=True)"
   ]
  },
  {
   "cell_type": "markdown",
   "metadata": {},
   "source": [
    "# Problem 2 \n",
    "# write generalized dot product(dotn)\n",
    "- take the dot product of any number of lists, tuples and finite generators\n",
    "    - assume all inputs have the same length\n",
    "- hints\n",
    "    - use the variable number of arguments format for 'dotn'\n",
    "    - you don't have to use it, but [zip](https://docs.python.org/3/library/functions.html#zip) is your friend\n"
   ]
  },
  {
   "cell_type": "code",
   "execution_count": 31,
   "metadata": {},
   "outputs": [
    {
     "data": {
      "text/plain": [
       "686"
      ]
     },
     "execution_count": 31,
     "metadata": {},
     "output_type": "execute_result"
    }
   ],
   "source": [
    "#dotn solution\n",
    "\n",
    "import operator\n",
    "def dotn(*vals):\n",
    "    final = 0\n",
    "    zipped = zip(*vals)\n",
    "    for item in zipped:\n",
    "        mult = 1\n",
    "        for number in item:\n",
    "            mult *= number\n",
    "        final += mult\n",
    "    return final\n",
    "        \n",
    "\n",
    "dotn( (1,2,3), [4,5,6], gen(20,23))"
   ]
  },
  {
   "cell_type": "code",
   "execution_count": 29,
   "metadata": {},
   "outputs": [
    {
     "data": {
      "text/plain": [
       "83"
      ]
     },
     "execution_count": 29,
     "metadata": {},
     "output_type": "execute_result"
    }
   ],
   "source": [
    "# test generator\n",
    "\n",
    "def gen(s, e):\n",
    "    for j in range(s, e):\n",
    "        yield j\n",
    "\n",
    "dotn(gen(10,12),[5,3,9])"
   ]
  },
  {
   "cell_type": "code",
   "execution_count": 9,
   "metadata": {},
   "outputs": [
    {
     "data": {
      "text/plain": [
       "True"
      ]
     },
     "execution_count": 9,
     "metadata": {},
     "output_type": "execute_result"
    }
   ],
   "source": [
    "# if you want to detect that something is a generator, you have to do this:\n",
    "\n",
    "import types\n",
    "\n",
    "isinstance(gen(4,5), types.GeneratorType)"
   ]
  },
  {
   "cell_type": "code",
   "execution_count": 114,
   "metadata": {},
   "outputs": [
    {
     "data": {
      "text/plain": [
       "191"
      ]
     },
     "execution_count": 114,
     "metadata": {},
     "output_type": "execute_result"
    }
   ],
   "source": [
    "dotn([5,3,9], gen(10,13))"
   ]
  },
  {
   "cell_type": "code",
   "execution_count": 115,
   "metadata": {},
   "outputs": [
    {
     "data": {
      "text/plain": [
       "191"
      ]
     },
     "execution_count": 115,
     "metadata": {},
     "output_type": "execute_result"
    }
   ],
   "source": [
    "# above is\n",
    "\n",
    "5 * 10 + 3 * 11 + 9 * 12"
   ]
  },
  {
   "cell_type": "code",
   "execution_count": 116,
   "metadata": {},
   "outputs": [
    {
     "name": "stdout",
     "output_type": "stream",
     "text": [
      "83\n"
     ]
    },
    {
     "data": {
      "text/plain": [
       "83"
      ]
     },
     "execution_count": 116,
     "metadata": {},
     "output_type": "execute_result"
    }
   ],
   "source": [
    "dotn(gen(10,12),[5,3,9])"
   ]
  },
  {
   "cell_type": "code",
   "execution_count": 1,
   "metadata": {},
   "outputs": [
    {
     "data": {
      "text/plain": [
       "83"
      ]
     },
     "execution_count": 1,
     "metadata": {},
     "output_type": "execute_result"
    }
   ],
   "source": [
    "# above is\n",
    "\n",
    "5 * 10 + 3 * 11 "
   ]
  },
  {
   "cell_type": "code",
   "execution_count": 117,
   "metadata": {},
   "outputs": [
    {
     "data": {
      "text/plain": [
       "686"
      ]
     },
     "execution_count": 117,
     "metadata": {},
     "output_type": "execute_result"
    }
   ],
   "source": [
    "dotn( (1,2,3), [4,5,6], gen(20,23))"
   ]
  },
  {
   "cell_type": "code",
   "execution_count": 90,
   "metadata": {},
   "outputs": [
    {
     "data": {
      "text/plain": [
       "686"
      ]
     },
     "execution_count": 90,
     "metadata": {},
     "output_type": "execute_result"
    }
   ],
   "source": [
    "# above is\n",
    "\n",
    "1*4*20 + 2*5*21 + 3*6*22"
   ]
  },
  {
   "cell_type": "markdown",
   "metadata": {},
   "source": [
    "# Problem 3 - Hamlet\n",
    "- Python is very popular in 'Digital Humanities'\n",
    "- MIT has the complete works of Shakespeare in a simple [html](http://shakespeare.mit.edu) format\n",
    "- You will do a analysis of Hamlet by reading the html file, one line at \n",
    "a time(usual iteration scheme) and doing pattern matching\n",
    "- The goal is to return a list of the linecnt, total number of 'speeches'(look at the file format), \n",
    "and a dict showing the number of 'speeches' each character gives\n",
    "\n",
    "- there are at least 3 ways to do this - your choice\n",
    "    - use string methods like 'find'\n",
    "    - use regular expressions\n",
    "    - use beautiful soup(probably not obvious. if you use bs, don't worry about the line count)\n",
    "- here's a short sample of the file\n",
    "\n",
    "```\n",
    "\n",
    "<A NAME=speech25><b>HORATIO</b></a>\n",
    "<blockquote>\n",
    "<A NAME=1.1.37>Tush, tush, 'twill not appear.</A><br>\n",
    "</blockquote>\n",
    "\n",
    "<A NAME=speech26><b>BERNARDO</b></a>\n",
    "<blockquote>\n",
    "<A NAME=1.1.38>Sit down awhile;</A><br>\n",
    "<A NAME=1.1.39>And let us once again assail your ears,</A><br>\n",
    "<A NAME=1.1.40>That are so fortified against our story</A><br>\n",
    "<A NAME=1.1.41>What we have two nights seen.</A><br>\n",
    "</blockquote>\n",
    "\n",
    "<A NAME=speech27><b>HORATIO</b></a>\n",
    "<blockquote>\n",
    "<A NAME=1.1.42>Well, sit we down,</A><br>\n",
    "<A NAME=1.1.43>And let us hear Bernardo speak of this.</A><br>\n",
    "</blockquote>\n",
    "\n",
    "<A NAME=speech28><b>BERNARDO</b></a>\n",
    "<blockquote>\n",
    "<A NAME=1.1.44>Last night of all,</A><br>\n",
    "<A NAME=1.1.45>When yond same star that's westward from the pole</A><br>\n",
    "<A NAME=1.1.46>Had made his course to illume that part of heaven</A><br>\n",
    "<A NAME=1.1.47>Where now it burns, Marcellus and myself,</A><br>\n",
    "<A NAME=1.1.48>The bell then beating one,--</A><br>\n",
    "<p><i>Enter Ghost</i></p>\n",
    "</blockquote>\n",
    "\n",
    "<A NAME=speech29><b>MARCELLUS</b></a>\n",
    "<blockquote>\n",
    "<A NAME=1.1.49>Peace, break thee off; look, where it comes again!</A><br>\n",
    "</blockquote>\n",
    "\n",
    "<A NAME=speech30><b>BERNARDO</b></a>\n",
    "<blockquote>\n",
    "<A NAME=1.1.50>In the same figure, like the king that's dead.</A><br>\n",
    "</blockquote>\n",
    "```\n",
    "\n"
   ]
  },
  {
   "cell_type": "code",
   "execution_count": 123,
   "metadata": {
    "collapsed": true
   },
   "outputs": [],
   "source": [
    "# must eval this cell\n",
    "\n",
    "import urllib.request\n",
    "import collections\n",
    "import re\n",
    "\n",
    "url = 'https://courseworks.columbia.edu/access/content/group/'\n",
    "url += 'COMSW3101_002_2015_3/data/hamlet.html'\n",
    "\n",
    "# use this function to get a list of the lines in Hamlet\n",
    "# note utf-8 decode\n",
    "\n",
    "def readHamlet():\n",
    "    with urllib.request.urlopen(url) as ef:\n",
    "        return [l.decode('utf-8') for l in ef]"
   ]
  },
  {
   "cell_type": "code",
   "execution_count": 124,
   "metadata": {},
   "outputs": [
    {
     "data": {
      "text/plain": [
       "['<A NAME=speech15><b>FRANCISCO</b></a>\\n',\n",
       " '<blockquote>\\n',\n",
       " '<A NAME=1.1.18>Give you good night.</A><br>\\n',\n",
       " '</blockquote>\\n',\n",
       " '\\n',\n",
       " '<A NAME=speech16><b>MARCELLUS</b></a>\\n',\n",
       " '<blockquote>\\n',\n",
       " '<A NAME=1.1.19>O, farewell, honest soldier:</A><br>\\n',\n",
       " '<A NAME=1.1.20>Who hath relieved you?</A><br>\\n',\n",
       " '</blockquote>\\n',\n",
       " '\\n',\n",
       " '<A NAME=speech17><b>FRANCISCO</b></a>\\n',\n",
       " '<blockquote>\\n',\n",
       " '<A NAME=1.1.21>Bernardo has my place.</A><br>\\n',\n",
       " '<A NAME=1.1.22>Give you good night.</A><br>\\n',\n",
       " '<p><i>Exit</i></p>\\n',\n",
       " '</blockquote>\\n',\n",
       " '\\n',\n",
       " '<A NAME=speech18><b>MARCELLUS</b></a>\\n',\n",
       " '<blockquote>\\n']"
      ]
     },
     "execution_count": 124,
     "metadata": {},
     "output_type": "execute_result"
    }
   ],
   "source": [
    "readHamlet()[100:120]"
   ]
  },
  {
   "cell_type": "code",
   "execution_count": 153,
   "metadata": {},
   "outputs": [
    {
     "data": {
      "text/plain": [
       "[8881,\n",
       " 1150,\n",
       " {'All': 4,\n",
       "  'BERNARDO': 23,\n",
       "  'CORNELIUS': 1,\n",
       "  'Captain': 7,\n",
       "  'Danes': 3,\n",
       "  'FRANCISCO': 8,\n",
       "  'First Ambassador': 1,\n",
       "  'First Clown': 33,\n",
       "  'First Player': 8,\n",
       "  'First Priest': 2,\n",
       "  'First Sailor': 2,\n",
       "  'GUILDENSTERN': 33,\n",
       "  'Gentleman': 3,\n",
       "  'Ghost': 14,\n",
       "  'HAMLET': 359,\n",
       "  'HORATIO': 112,\n",
       "  'KING CLAUDIUS': 102,\n",
       "  'LAERTES': 62,\n",
       "  'LORD POLONIUS': 86,\n",
       "  'LUCIANUS': 1,\n",
       "  'Lord': 3,\n",
       "  'MARCELLUS': 36,\n",
       "  'Messenger': 2,\n",
       "  'OPHELIA': 58,\n",
       "  'OSRIC': 25,\n",
       "  'PRINCE FORTINBRAS': 6,\n",
       "  'Player King': 4,\n",
       "  'Player Queen': 5,\n",
       "  'Prologue': 1,\n",
       "  'QUEEN GERTRUDE': 69,\n",
       "  'REYNALDO': 13,\n",
       "  'ROSENCRANTZ': 49,\n",
       "  'Second Clown': 12,\n",
       "  'Servant': 1,\n",
       "  'VOLTIMAND': 2}]"
      ]
     },
     "execution_count": 153,
     "metadata": {},
     "output_type": "execute_result"
    }
   ],
   "source": [
    "#hamlet solution\n",
    "\n",
    "def hamlet():\n",
    "    hamlet = readHamlet()\n",
    "    pattern = '<A NAME=.+<b>(.+)</b></a>\\n'\n",
    "    total_lines = 0\n",
    "    speeches = []\n",
    "    speech_dict = dict()\n",
    "    for line in hamlet:\n",
    "        total_lines += 1\n",
    "        speeches += re.findall(pattern, line)\n",
    "    for character in speeches:\n",
    "        if character in speech_dict:\n",
    "            speech_dict[character] += 1\n",
    "        else:\n",
    "            speech_dict[character] = 1\n",
    "    return [total_lines, len(speeches), speech_dict]\n",
    "    \n",
    "\n",
    "hamlet()"
   ]
  },
  {
   "cell_type": "code",
   "execution_count": 99,
   "metadata": {},
   "outputs": [
    {
     "data": {
      "text/plain": [
       "[8881,\n",
       " 1150,\n",
       " defaultdict(int,\n",
       "             {'All': 4,\n",
       "              'BERNARDO': 23,\n",
       "              'CORNELIUS': 1,\n",
       "              'Captain': 7,\n",
       "              'Danes': 3,\n",
       "              'FRANCISCO': 8,\n",
       "              'First Ambassador': 1,\n",
       "              'First Clown': 33,\n",
       "              'First Player': 8,\n",
       "              'First Priest': 2,\n",
       "              'First Sailor': 2,\n",
       "              'GUILDENSTERN': 33,\n",
       "              'Gentleman': 3,\n",
       "              'Ghost': 14,\n",
       "              'HAMLET': 359,\n",
       "              'HORATIO': 112,\n",
       "              'KING CLAUDIUS': 102,\n",
       "              'LAERTES': 62,\n",
       "              'LORD POLONIUS': 86,\n",
       "              'LUCIANUS': 1,\n",
       "              'Lord': 3,\n",
       "              'MARCELLUS': 36,\n",
       "              'Messenger': 2,\n",
       "              'OPHELIA': 58,\n",
       "              'OSRIC': 25,\n",
       "              'PRINCE FORTINBRAS': 6,\n",
       "              'Player King': 4,\n",
       "              'Player Queen': 5,\n",
       "              'Prologue': 1,\n",
       "              'QUEEN GERTRUDE': 69,\n",
       "              'REYNALDO': 13,\n",
       "              'ROSENCRANTZ': 49,\n",
       "              'Second Clown': 12,\n",
       "              'Servant': 1,\n",
       "              'VOLTIMAND': 2})]"
      ]
     },
     "execution_count": 99,
     "metadata": {},
     "output_type": "execute_result"
    }
   ],
   "source": [
    "hamlet()\n",
    "  "
   ]
  },
  {
   "cell_type": "markdown",
   "metadata": {},
   "source": [
    "# Problems 4&5\n",
    "# fun with files\n",
    "- use 'tp' value as file name for I/O\n",
    "- all file I/O must be done using 'with' statement\n",
    "- use variable 'fd' for the file descriptor object\n",
    "- keep track of newline characters\n",
    "- 'tobe' is 1489 characters\n",
    "- all the read/write functions below should return 1489\n",
    "\n"
   ]
  },
  {
   "cell_type": "code",
   "execution_count": 154,
   "metadata": {},
   "outputs": [
    {
     "data": {
      "text/plain": [
       "1489"
      ]
     },
     "execution_count": 154,
     "metadata": {},
     "output_type": "execute_result"
    }
   ],
   "source": [
    "# get a tmp file\n",
    "\n",
    "import os\n",
    "import tempfile\n",
    "\n",
    "# does not create the file, just makes a pathname\n",
    "tp = tempfile.NamedTemporaryFile().name\n",
    "\n",
    "\n",
    "tobe='''To be, or not to be: that is the question:\n",
    "Whether 'tis nobler in the mind to suffer\n",
    "The slings and arrows of outrageous fortune,\n",
    "Or to take arms against a sea of troubles,\n",
    "And by opposing end them? To die: to sleep;\n",
    "No more; and by a sleep to say we end\n",
    "The heart-ache and the thousand natural shocks\n",
    "That flesh is heir to, 'tis a consummation\n",
    "Devoutly to be wish'd. To die, to sleep;\n",
    "To sleep: perchance to dream: ay, there's the rub;\n",
    "For in that sleep of death what dreams may come\n",
    "When we have shuffled off this mortal coil,\n",
    "Must give us pause: there's the respect\n",
    "That makes calamity of so long life;\n",
    "For who would bear the whips and scorns of time,\n",
    "The oppressor's wrong, the proud man's contumely,\n",
    "The pangs of despised love, the law's delay,\n",
    "The insolence of office and the spurns\n",
    "That patient merit of the unworthy takes,\n",
    "When he himself might his quietus make\n",
    "With a bare bodkin? who would fardels bear,\n",
    "To grunt and sweat under a weary life,\n",
    "But that the dread of something after death,\n",
    "The undiscover'd country from whose bourn\n",
    "No traveller returns, puzzles the will\n",
    "And makes us rather bear those ills we have\n",
    "Than fly to others that we know not of?\n",
    "Thus conscience does make cowards of us all;\n",
    "And thus the native hue of resolution\n",
    "Is sicklied o'er with the pale cast of thought,\n",
    "And enterprises of great pith and moment\n",
    "With this regard their currents turn awry,\n",
    "And lose the name of action.--Soft you now!\n",
    "The fair Ophelia! Nymph, in thy orisons\n",
    "Be all my sins remember'd.\n",
    "'''\n",
    "len(tobe)"
   ]
  },
  {
   "cell_type": "code",
   "execution_count": 155,
   "metadata": {},
   "outputs": [
    {
     "data": {
      "text/plain": [
       "['To be, or not to be: that is the question:',\n",
       " \"Whether 'tis nobler in the mind to suffer\",\n",
       " 'The slings and arrows of outrageous fortune,',\n",
       " 'Or to take arms against a sea of troubles,',\n",
       " 'And by opposing end them? To die: to sleep;',\n",
       " 'No more; and by a sleep to say we end',\n",
       " 'The heart-ache and the thousand natural shocks',\n",
       " \"That flesh is heir to, 'tis a consummation\",\n",
       " \"Devoutly to be wish'd. To die, to sleep;\",\n",
       " \"To sleep: perchance to dream: ay, there's the rub;\",\n",
       " 'For in that sleep of death what dreams may come',\n",
       " 'When we have shuffled off this mortal coil,',\n",
       " \"Must give us pause: there's the respect\",\n",
       " 'That makes calamity of so long life;',\n",
       " 'For who would bear the whips and scorns of time,',\n",
       " \"The oppressor's wrong, the proud man's contumely,\",\n",
       " \"The pangs of despised love, the law's delay,\",\n",
       " 'The insolence of office and the spurns',\n",
       " 'That patient merit of the unworthy takes,',\n",
       " 'When he himself might his quietus make',\n",
       " 'With a bare bodkin? who would fardels bear,',\n",
       " 'To grunt and sweat under a weary life,',\n",
       " 'But that the dread of something after death,',\n",
       " \"The undiscover'd country from whose bourn\",\n",
       " 'No traveller returns, puzzles the will',\n",
       " 'And makes us rather bear those ills we have',\n",
       " 'Than fly to others that we know not of?',\n",
       " 'Thus conscience does make cowards of us all;',\n",
       " 'And thus the native hue of resolution',\n",
       " \"Is sicklied o'er with the pale cast of thought,\",\n",
       " 'And enterprises of great pith and moment',\n",
       " 'With this regard their currents turn awry,',\n",
       " 'And lose the name of action.--Soft you now!',\n",
       " 'The fair Ophelia! Nymph, in thy orisons',\n",
       " \"Be all my sins remember'd.\"]"
      ]
     },
     "execution_count": 155,
     "metadata": {},
     "output_type": "execute_result"
    }
   ],
   "source": [
    "tobeLines = tobe.splitlines()\n",
    "tobeLines"
   ]
  },
  {
   "cell_type": "markdown",
   "metadata": {},
   "source": [
    "# define wrLines() and wr1() functions\n",
    "- both functions should first remove the file named by tp, to get a fresh start.\n",
    "- os.remove will throw an error if the file doesn't exist,\n",
    "so either catch it or verify the file exists before trying to delete it\n",
    "    - wrLines writes the contents of 'tobeLines' to a file, using the fd.writelines() method\n",
    "    - wr1 writes the contents of 'tobe', one character at a time, using fd.write() method\n",
    "- after the file write is complete, both functions should get the file byte size,\n",
    "using os.stat, and return it."
   ]
  },
  {
   "cell_type": "code",
   "execution_count": 168,
   "metadata": {},
   "outputs": [
    {
     "data": {
      "text/plain": [
       "1489"
      ]
     },
     "execution_count": 168,
     "metadata": {},
     "output_type": "execute_result"
    }
   ],
   "source": [
    "# wrLines solution\n",
    "\n",
    "def wrLines():\n",
    "    if os.path.exists(tp):\n",
    "        os.remove(tp)\n",
    "    towrite = []\n",
    "    for line in tobeLines:\n",
    "        towrite.append(line + '\\n')\n",
    "    with open(tp, 'w') as fd:\n",
    "        fd.writelines(towrite)\n",
    "    return os.stat(tp).st_size\n",
    "\n",
    "wrLines()"
   ]
  },
  {
   "cell_type": "code",
   "execution_count": 169,
   "metadata": {},
   "outputs": [
    {
     "data": {
      "text/plain": [
       "1489"
      ]
     },
     "execution_count": 169,
     "metadata": {},
     "output_type": "execute_result"
    }
   ],
   "source": [
    "#wr1 solution\n",
    "\n",
    "def wr1():\n",
    "    if os.path.exists(tp):\n",
    "        os.remove(tp)\n",
    "    with open(tp, 'w') as fd:\n",
    "        for character in tobeLines:\n",
    "            fd.write(character + '\\n')\n",
    "    return os.stat(tp).st_size\n",
    "        \n",
    "wr1()"
   ]
  },
  {
   "cell_type": "markdown",
   "metadata": {},
   "source": [
    "# define rdAll() function\n",
    "- read the tp file in one fd.read() call\n",
    "- return the number of characters read"
   ]
  },
  {
   "cell_type": "code",
   "execution_count": 15,
   "metadata": {},
   "outputs": [
    {
     "data": {
      "text/plain": [
       "1489"
      ]
     },
     "execution_count": 15,
     "metadata": {},
     "output_type": "execute_result"
    }
   ],
   "source": [
    "rdAll()"
   ]
  },
  {
   "cell_type": "markdown",
   "metadata": {},
   "source": [
    "# define rdLines() function\n",
    "- read the tp file by using fd.readlines()\n",
    "- return the number of characters read"
   ]
  },
  {
   "cell_type": "code",
   "execution_count": 19,
   "metadata": {},
   "outputs": [
    {
     "data": {
      "text/plain": [
       "1489"
      ]
     },
     "execution_count": 19,
     "metadata": {},
     "output_type": "execute_result"
    }
   ],
   "source": [
    "rdLines()"
   ]
  },
  {
   "cell_type": "markdown",
   "metadata": {},
   "source": [
    "# define rd1() function\n",
    "- read the tp file one character at a time using fd.read(1), which will return an empty string when the file is finished\n",
    "- return the number of characters read"
   ]
  },
  {
   "cell_type": "code",
   "execution_count": 29,
   "metadata": {},
   "outputs": [
    {
     "data": {
      "text/plain": [
       "1489"
      ]
     },
     "execution_count": 29,
     "metadata": {},
     "output_type": "execute_result"
    }
   ],
   "source": [
    "rd1()"
   ]
  },
  {
   "cell_type": "markdown",
   "metadata": {},
   "source": [
    "# define rdLazy() function\n",
    "- read the tp file one line at a time, by iterating over 'fd'"
   ]
  },
  {
   "cell_type": "code",
   "execution_count": 103,
   "metadata": {},
   "outputs": [
    {
     "data": {
      "text/plain": [
       "1489"
      ]
     },
     "execution_count": 103,
     "metadata": {},
     "output_type": "execute_result"
    }
   ],
   "source": [
    "rdLazy()"
   ]
  }
 ],
 "metadata": {
  "kernelspec": {
   "display_name": "Python 3",
   "language": "python",
   "name": "python3"
  },
  "language_info": {
   "codemirror_mode": {
    "name": "ipython",
    "version": 3
   },
   "file_extension": ".py",
   "mimetype": "text/x-python",
   "name": "python",
   "nbconvert_exporter": "python",
   "pygments_lexer": "ipython3",
   "version": "3.6.3"
  }
 },
 "nbformat": 4,
 "nbformat_minor": 2
}
