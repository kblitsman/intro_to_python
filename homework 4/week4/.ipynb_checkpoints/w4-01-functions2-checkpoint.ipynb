{
 "cells": [
  {
   "cell_type": "markdown",
   "metadata": {},
   "source": [
    "# Args are \"passed by object\", and an object may be returned\n",
    "- args are bound to object references\n",
    "- mutable objects can be changed\n",
    "- new objects can be created returned, including\n",
    "function objects\n",
    "- a single object can be returned\n",
    "    - multiple values can be returned in a list, dict, set, etc"
   ]
  },
  {
   "cell_type": "code",
   "execution_count": 1,
   "metadata": {},
   "outputs": [
    {
     "data": {
      "text/plain": [
       "True"
      ]
     },
     "execution_count": 1,
     "metadata": {},
     "output_type": "execute_result"
    }
   ],
   "source": [
    "# the local arg 'x' refers to the same object the function\n",
    "# was called with. there is no 'copying' of args\n",
    "\n",
    "n = 123456\n",
    "\n",
    "def passthru(x):\n",
    "    return x\n",
    "\n",
    "n is passthru(n)"
   ]
  },
  {
   "cell_type": "code",
   "execution_count": 1,
   "metadata": {},
   "outputs": [
    {
     "data": {
      "text/plain": [
       "[<function __main__.foo.<locals>.bar>, 15]"
      ]
     },
     "execution_count": 1,
     "metadata": {},
     "output_type": "execute_result"
    }
   ],
   "source": [
    "# here's a function that returns a function\n",
    "\n",
    "def foo():\n",
    "    def bar(x):\n",
    "        return x + 5\n",
    "    return bar\n",
    "\n",
    "b = foo()\n",
    "[b, b(10)]"
   ]
  },
  {
   "cell_type": "code",
   "execution_count": null,
   "metadata": {
    "collapsed": true
   },
   "outputs": [],
   "source": [
    "# note that bar is not defined at top level - \n",
    "# it doesn't have a name outside the body of foo\n",
    "\n",
    "bar"
   ]
  },
  {
   "cell_type": "markdown",
   "metadata": {},
   "source": [
    "# lambda\n",
    "- the 'lambda' expression directly defines anonymous functions(the function doesn't get a name)\n",
    "- 'def' is a statement, 'lambda' is an expression, so lambda can go places def can't\n",
    "- the lambda's body is a single expression, so it can not be as complex as a def's body\n",
    "- mainly intended for simple things\n",
    "- type name is 'function'"
   ]
  },
  {
   "cell_type": "code",
   "execution_count": 2,
   "metadata": {},
   "outputs": [
    {
     "data": {
      "text/plain": [
       "[<function __main__.foo.<locals>.<lambda>>, 20]"
      ]
     },
     "execution_count": 2,
     "metadata": {},
     "output_type": "execute_result"
    }
   ],
   "source": [
    "def foo():\n",
    "    # never gets a name\n",
    "    return lambda x : x + 5\n",
    "\n",
    "b = foo()\n",
    "[b, b(15)]"
   ]
  },
  {
   "cell_type": "code",
   "execution_count": 3,
   "metadata": {},
   "outputs": [
    {
     "data": {
      "text/plain": [
       "[20, function]"
      ]
     },
     "execution_count": 3,
     "metadata": {},
     "output_type": "execute_result"
    }
   ],
   "source": [
    "# more directly...\n",
    "# z holds a reference to the lambda object \n",
    "# defined on the right\n",
    "\n",
    "z = lambda x : x + 5\n",
    "[z(15), type(z)]"
   ]
  },
  {
   "cell_type": "markdown",
   "metadata": {},
   "source": [
    "# closures\n",
    "- somewhat advanced topic, but you may run into it\n",
    "- a function or lambda can 'capture' surrounding state\n"
   ]
  },
  {
   "cell_type": "code",
   "execution_count": null,
   "metadata": {
    "collapsed": true
   },
   "outputs": [],
   "source": [
    "def outer(n):\n",
    "    # nested def\n",
    "    def inner(z):\n",
    "        # inner will 'capture' the value of n\n",
    "        return(z+n+1)\n",
    "    return inner\n",
    "\n",
    "inner4 = outer(4)\n",
    "print(inner4(10))\n",
    "\n",
    "inner8 = outer(8)\n",
    "print(inner8(10))"
   ]
  },
  {
   "cell_type": "code",
   "execution_count": null,
   "metadata": {
    "collapsed": true
   },
   "outputs": [],
   "source": [
    "# inner lambda will 'capture' value of 'j'\n",
    "# value of closure is inner lambda object\n",
    "\n",
    "closure = lambda j: lambda x : x + j\n",
    "closures = [closure(m) for m in range(5)]\n",
    "closures"
   ]
  },
  {
   "cell_type": "code",
   "execution_count": null,
   "metadata": {
    "collapsed": true
   },
   "outputs": [],
   "source": [
    "[c(33) for c in closures]"
   ]
  },
  {
   "cell_type": "code",
   "execution_count": null,
   "metadata": {
    "collapsed": true
   },
   "outputs": [],
   "source": [
    "# 'map' takes a function and a list as args\n",
    "# the function is applied to each element of the list,\n",
    "# and the values returned by the function are collected \n",
    "# into a new list\n",
    "# map is lazy\n",
    "\n",
    "def add2(n):\n",
    "    return n + 2\n",
    "\n",
    "list(map(add2, [1,4,3,7]))"
   ]
  },
  {
   "cell_type": "code",
   "execution_count": null,
   "metadata": {
    "collapsed": true
   },
   "outputs": [],
   "source": [
    "# with a lambda, can directly pass function as an arg\n",
    "# without first setting a name with def - \n",
    "# less clutter\n",
    "\n",
    "list(map(lambda x : x + 2, [1,4,3,7]))\n"
   ]
  },
  {
   "cell_type": "code",
   "execution_count": null,
   "metadata": {
    "collapsed": true
   },
   "outputs": [],
   "source": [
    "# in many languages, map is a popular tool, but in python,\n",
    "# list comprehension is often preferred\n",
    "\n",
    "[x+2 for x in [1,4,3,7]]"
   ]
  },
  {
   "cell_type": "markdown",
   "metadata": {},
   "source": [
    "# Example: circlePoints\n"
   ]
  },
  {
   "cell_type": "code",
   "execution_count": null,
   "metadata": {
    "collapsed": true
   },
   "outputs": [],
   "source": [
    "# first attempt used for loop with accumulation var\n",
    "\n",
    "import math\n",
    "\n",
    "def circlePoints(n, radius):\n",
    "    ans = []\n",
    "    for j in range(n):\n",
    "        ang = j * 2 * math.pi / n\n",
    "        ans.append([radius * math.cos(ang), radius * math.sin(ang)])\n",
    "    return ans"
   ]
  },
  {
   "cell_type": "code",
   "execution_count": null,
   "metadata": {
    "collapsed": true
   },
   "outputs": [],
   "source": [
    "circlePoints(4,1)"
   ]
  },
  {
   "cell_type": "code",
   "execution_count": 60,
   "metadata": {
    "collapsed": true
   },
   "outputs": [],
   "source": [
    "# with two maps - a little silly\n",
    "\n",
    "def circlePoints2(n, radius):\n",
    "    lam = lambda ang: [radius * math.cos(ang), radius * math.sin(ang)]\n",
    "    lam2 = lambda j: j*2*math.pi/n\n",
    "    return list(map(lam, map(lam2, range(n))))"
   ]
  },
  {
   "cell_type": "code",
   "execution_count": 61,
   "metadata": {},
   "outputs": [
    {
     "data": {
      "text/plain": [
       "[[1.0, 0.0],\n",
       " [6.123233995736766e-17, 1.0],\n",
       " [-1.0, 1.2246467991473532e-16],\n",
       " [-1.8369701987210297e-16, -1.0]]"
      ]
     },
     "execution_count": 61,
     "metadata": {},
     "output_type": "execute_result"
    }
   ],
   "source": [
    "circlePoints2(4,1)"
   ]
  },
  {
   "cell_type": "code",
   "execution_count": null,
   "metadata": {
    "collapsed": true
   },
   "outputs": [],
   "source": [
    "# use a comprehension and a lambda\n",
    "\n",
    "def circlePoints3(n, radius):\n",
    "    lam = lambda ang: [radius * math.cos(ang), \\\n",
    "                       radius * math.sin(ang)]\n",
    "    return [lam(j*2*math.pi/n) for j in range(n)]"
   ]
  },
  {
   "cell_type": "code",
   "execution_count": null,
   "metadata": {
    "collapsed": true
   },
   "outputs": [],
   "source": [
    "circlePoints3(4,1)"
   ]
  },
  {
   "cell_type": "code",
   "execution_count": null,
   "metadata": {
    "collapsed": true
   },
   "outputs": [],
   "source": [
    "# shorter - lambda definition is followed by arg\n",
    "\n",
    "def circlePoints3(n, radius):\n",
    "    return [(lambda ang: [radius * math.cos(ang), \\\n",
    "                          radius * math.sin(ang)])(j*2*math.pi/n) \\\n",
    "            for j in range(n)]"
   ]
  },
  {
   "cell_type": "code",
   "execution_count": null,
   "metadata": {
    "collapsed": true
   },
   "outputs": [],
   "source": [
    "circlePoints3(4,1)"
   ]
  },
  {
   "cell_type": "markdown",
   "metadata": {},
   "source": [
    "# Multiple value return\n",
    "- strictly speaking, a function returns at most one object\n",
    "- but, can return easily return multiple values by returning a 'collection' object, like a list\n",
    "- unpacking can be convenient\n"
   ]
  },
  {
   "cell_type": "code",
   "execution_count": null,
   "metadata": {
    "collapsed": true
   },
   "outputs": [],
   "source": [
    "# return one tuple with two elements\n",
    "\n",
    "def makePoint(x, y):\n",
    "    return (x,y)\n",
    "\n",
    "makePoint(5,8)"
   ]
  },
  {
   "cell_type": "code",
   "execution_count": null,
   "metadata": {
    "collapsed": true
   },
   "outputs": [],
   "source": [
    "# unpack\n",
    "\n",
    "x , y = makePoint(3,4)\n",
    "\n",
    "[x, y]"
   ]
  },
  {
   "cell_type": "markdown",
   "metadata": {},
   "source": [
    "# Mutable args can be modified\n",
    "- vals can be returned w/o return statement"
   ]
  },
  {
   "cell_type": "code",
   "execution_count": null,
   "metadata": {
    "collapsed": true
   },
   "outputs": [],
   "source": [
    "l = [1,2,3]\n",
    "\n",
    "def foo(l):\n",
    "    l[1] = 55\n",
    "    \n",
    "foo(l)\n",
    "l"
   ]
  },
  {
   "cell_type": "markdown",
   "metadata": {},
   "source": [
    "# Function overloading\n",
    "- Python does not have 'overloaded' functions, like C/C++/Java\n",
    "- in those languages, can do\n",
    "\n",
    "void foo(float f) {  // do float thing }\n",
    "\n",
    "void foo(string s) ( // do string thing }\n",
    "\n",
    "- no argument types in Python, can't tell the two foo's apart, so no overloading in python\n",
    "- but, can do something similiar with run time typing"
   ]
  },
  {
   "cell_type": "code",
   "execution_count": null,
   "metadata": {
    "collapsed": true
   },
   "outputs": [],
   "source": [
    "def foo(arg): \n",
    "    if isinstance(arg, (int, float)): \n",
    "        print('do number thing')\n",
    "    elif isinstance(arg, str):\n",
    "        print('do string thing')\n",
    "    else:\n",
    "        raise ValueError(\"Arg {} was not number or string.\".format(arg))\n",
    "\n",
    "\n",
    "foo(34.4)\n",
    "foo(234)\n",
    "foo('')\n",
    "foo(dict())"
   ]
  },
  {
   "cell_type": "markdown",
   "metadata": {},
   "source": [
    "# Function definitions can specify complex argument processing\n",
    "- Sort of a pattern matching scheme - many possibilities\n",
    "- Downside - makes function calls more expensive\n",
    "- Two arg types\n",
    "    - positional\n",
    "    - keyword\n",
    "- Args can be matched or collected"
   ]
  },
  {
   "cell_type": "code",
   "execution_count": null,
   "metadata": {
    "collapsed": true
   },
   "outputs": [],
   "source": [
    "# three required positional args\n",
    "\n",
    "def a3(a,b,c):\n",
    "    return(a,b,c)\n",
    "\n",
    "a3(1,2,3)"
   ]
  },
  {
   "cell_type": "code",
   "execution_count": null,
   "metadata": {
    "collapsed": true
   },
   "outputs": [],
   "source": [
    "# only two args is an error\n",
    "# all three must be matched\n",
    "\n",
    "a3(1,2)"
   ]
  },
  {
   "cell_type": "code",
   "execution_count": null,
   "metadata": {
    "collapsed": true
   },
   "outputs": [],
   "source": [
    "# by using 'keyword args' (a=2), \n",
    "# can supply the args in arbitrary order\n",
    "\n",
    "[a3(1,2,3), a3(1, c=2, b=3), a3(c=5, a=2, b=8)]"
   ]
  },
  {
   "cell_type": "code",
   "execution_count": null,
   "metadata": {
    "collapsed": true
   },
   "outputs": [],
   "source": [
    "# can give args default values\n",
    "\n",
    "def a3(a, b, c=22):\n",
    "    return([a,b,c])\n",
    "\n",
    "[a3(2,3,4), a3(2,3), a3(b=3,a=2), a3(b=3,c=9,a=2)]"
   ]
  },
  {
   "cell_type": "code",
   "execution_count": null,
   "metadata": {
    "collapsed": true
   },
   "outputs": [],
   "source": [
    "# b must get a value\n",
    "\n",
    "a3(c=5, a=3)"
   ]
  },
  {
   "cell_type": "code",
   "execution_count": null,
   "metadata": {
    "collapsed": true
   },
   "outputs": [],
   "source": [
    "# can pick up any number of 'unclaimed' \n",
    "# positional and keyword args\n",
    "# *pos is a tuple\n",
    "# **kws is a dictionary\n",
    "# all positional args must come before \n",
    "# any keyword args\n",
    "\n",
    "def pk(a, b, c=5, *pos, **kws):\n",
    "    return([a, b, c, pos, kws])\n",
    "\n",
    "pk(1,2,3,4,5,6, foo=5, bar=9)"
   ]
  },
  {
   "cell_type": "markdown",
   "metadata": {},
   "source": [
    "# For clarity, can force args to be specified with keywords\n",
    "- args following a '*' must be keywords"
   ]
  },
  {
   "cell_type": "code",
   "execution_count": null,
   "metadata": {
    "collapsed": true
   },
   "outputs": [],
   "source": [
    "def foo(a,*, b, c):\n",
    "    return 2*a + 3*b + 4 * c\n",
    "\n",
    "foo(3,5)"
   ]
  },
  {
   "cell_type": "code",
   "execution_count": null,
   "metadata": {
    "collapsed": true
   },
   "outputs": [],
   "source": [
    "foo(5, b=4, c=8)"
   ]
  },
  {
   "cell_type": "markdown",
   "metadata": {},
   "source": [
    "# Example: print function has keyword args"
   ]
  },
  {
   "cell_type": "code",
   "execution_count": null,
   "metadata": {
    "collapsed": true
   },
   "outputs": [],
   "source": [
    "print(1,2,3,4)"
   ]
  },
  {
   "cell_type": "code",
   "execution_count": null,
   "metadata": {
    "collapsed": true
   },
   "outputs": [],
   "source": [
    "print(1,2,3,4, sep='--')"
   ]
  },
  {
   "cell_type": "code",
   "execution_count": null,
   "metadata": {
    "collapsed": true
   },
   "outputs": [],
   "source": [
    "# finish print with EOF\n",
    "\n",
    "print(1,2,3,4,end='\\nEOF\\n')"
   ]
  },
  {
   "cell_type": "markdown",
   "metadata": {},
   "source": [
    "# Example: discriminate on number of args\n",
    "- in C++/Java\n",
    "\n",
    "void foo(float f) { // do one arg thing }\n",
    "\n",
    "void foo(float f, float f2) ( // do two arg thing }\n"
   ]
  },
  {
   "cell_type": "code",
   "execution_count": null,
   "metadata": {
    "collapsed": true
   },
   "outputs": [],
   "source": [
    "def onetwo(*pos):\n",
    "    if 1 == len(pos):\n",
    "        a = pos[0]\n",
    "        print('one arg',a)\n",
    "    else:\n",
    "        [a,b] = pos\n",
    "        print('two args', a, b)\n"
   ]
  },
  {
   "cell_type": "code",
   "execution_count": null,
   "metadata": {
    "collapsed": true
   },
   "outputs": [],
   "source": [
    "onetwo(1)"
   ]
  },
  {
   "cell_type": "code",
   "execution_count": null,
   "metadata": {
    "collapsed": true
   },
   "outputs": [],
   "source": [
    "onetwo(1,2)"
   ]
  },
  {
   "cell_type": "markdown",
   "metadata": {},
   "source": [
    "# Function caller can manipulate how arguments are passed"
   ]
  },
  {
   "cell_type": "code",
   "execution_count": null,
   "metadata": {
    "collapsed": true
   },
   "outputs": [],
   "source": [
    "# use each element of lst as an arg to foo\n",
    "\n",
    "def foo(a,b,c):\n",
    "    return([a,b,c])\n",
    "\n",
    "lst = [1,2,3]\n",
    "\n",
    "foo(lst[0],lst[1],lst[2])\n",
    "\n"
   ]
  },
  {
   "cell_type": "code",
   "execution_count": null,
   "metadata": {
    "collapsed": true
   },
   "outputs": [],
   "source": [
    "# '*' 'spreads' a list over the positional args\n",
    "# much nicer than above\n",
    "\n",
    "foo(*lst)"
   ]
  },
  {
   "cell_type": "code",
   "execution_count": null,
   "metadata": {
    "collapsed": true
   },
   "outputs": [],
   "source": [
    "# spread a list in, and get a list \n",
    "\n",
    "def bar(*l):\n",
    "    return l\n",
    "\n",
    "bar(lst)"
   ]
  },
  {
   "cell_type": "code",
   "execution_count": null,
   "metadata": {
    "collapsed": true
   },
   "outputs": [],
   "source": [
    "# can use a dictionary  to supply keyword args\n",
    "\n",
    "d = {'foo':5, 'bar':10}\n",
    "\n",
    "def zap(foo, bar):\n",
    "    return [foo,bar]\n",
    "\n",
    "zap(**d)"
   ]
  },
  {
   "cell_type": "code",
   "execution_count": null,
   "metadata": {
    "collapsed": true
   },
   "outputs": [],
   "source": [
    "# can gather keywords too\n",
    "# '*pos' gets the positional args\n",
    "# '**kw' get the keyword args in a dictionary\n",
    "\n",
    "def bar(*pos, **kw):\n",
    "    return(pos, kw)\n",
    "\n",
    "d = {'mudd':'compsci', 'butler':'library'}\n",
    "bar(*range(5), **d)"
   ]
  },
  {
   "cell_type": "markdown",
   "metadata": {},
   "source": [
    "# Example: 'printf' style args"
   ]
  },
  {
   "cell_type": "code",
   "execution_count": null,
   "metadata": {
    "collapsed": true
   },
   "outputs": [],
   "source": [
    "def printf(controlString, *vals):\n",
    "    print(controlString)\n",
    "    print(vals)\n",
    "    return controlString.format(*vals)\n",
    "\n",
    "printf('an int: {} a float: {} a string: {}', 234, 3.34, 'foo')"
   ]
  },
  {
   "cell_type": "markdown",
   "metadata": {},
   "source": [
    "# Top level builtin functions\n",
    "- [doc for all the builtins](https://docs.python.org/3.5/library/functions.html)"
   ]
  },
  {
   "cell_type": "markdown",
   "metadata": {},
   "source": [
    "# All builtins\n",
    "- functions\n",
    "- classes\n",
    "- a few other random things\n",
    "- do NOT redefine any of them"
   ]
  },
  {
   "cell_type": "code",
   "execution_count": null,
   "metadata": {
    "collapsed": true
   },
   "outputs": [],
   "source": [
    "import builtins\n",
    "\n",
    "[f for f in dir(builtins) ]"
   ]
  },
  {
   "cell_type": "markdown",
   "metadata": {},
   "source": [
    "# operator module\n",
    "- consists of functions that implement Python operators\n",
    "- useful for functional programming\n",
    "- [doc](https://docs.python.org/3/library/operator.html#mapping-operators-to-functions)"
   ]
  },
  {
   "cell_type": "code",
   "execution_count": null,
   "metadata": {
    "collapsed": true
   },
   "outputs": [],
   "source": [
    "# functions for + (numeric) % + (string concat) + (list concat)\n",
    "\n",
    "import operator\n",
    "\n",
    "[operator.add(2,3), operator.mod(5,2), \\\n",
    " operator.concat('foo', 'bar'), operator.concat([1,2,3],[4,5,6])]"
   ]
  },
  {
   "cell_type": "markdown",
   "metadata": {},
   "source": [
    "# Function objects are mutable!!\n",
    "- seems odd, but can be useful"
   ]
  },
  {
   "cell_type": "code",
   "execution_count": null,
   "metadata": {
    "collapsed": true
   },
   "outputs": [],
   "source": [
    "def foo(n):\n",
    "    return n+3\n",
    "\n",
    "foo.zap = 34\n",
    "[foo.zap, foo(5)]"
   ]
  },
  {
   "cell_type": "markdown",
   "metadata": {},
   "source": [
    "# Horrible!! What is going on??"
   ]
  },
  {
   "cell_type": "code",
   "execution_count": null,
   "metadata": {
    "collapsed": true
   },
   "outputs": [],
   "source": [
    "def foo(x=[]):\n",
    "    x.append(1)\n",
    "    return(x)"
   ]
  },
  {
   "cell_type": "code",
   "execution_count": null,
   "metadata": {
    "collapsed": true
   },
   "outputs": [],
   "source": [
    "foo([2,3])"
   ]
  },
  {
   "cell_type": "code",
   "execution_count": null,
   "metadata": {
    "collapsed": true
   },
   "outputs": [],
   "source": [
    "foo([])"
   ]
  },
  {
   "cell_type": "code",
   "execution_count": null,
   "metadata": {
    "collapsed": true
   },
   "outputs": [],
   "source": [
    "foo()"
   ]
  },
  {
   "cell_type": "code",
   "execution_count": null,
   "metadata": {
    "collapsed": true
   },
   "outputs": [],
   "source": [
    "foo()"
   ]
  },
  {
   "cell_type": "code",
   "execution_count": null,
   "metadata": {
    "collapsed": true
   },
   "outputs": [],
   "source": [
    "foo()"
   ]
  },
  {
   "cell_type": "code",
   "execution_count": null,
   "metadata": {
    "collapsed": true
   },
   "outputs": [],
   "source": [
    "foo()"
   ]
  },
  {
   "cell_type": "code",
   "execution_count": null,
   "metadata": {
    "collapsed": true
   },
   "outputs": [],
   "source": [
    "# the x=[] happens at function definition time, \n",
    "# not at invocation time\n",
    "# so a redefinition will 'reset' \n",
    "\n",
    "def foo(x=list()):\n",
    "    x.append(1)\n",
    "    return(x)\n",
    "\n",
    "foo()"
   ]
  },
  {
   "cell_type": "code",
   "execution_count": null,
   "metadata": {
    "collapsed": true
   },
   "outputs": [],
   "source": [
    "foo()"
   ]
  },
  {
   "cell_type": "code",
   "execution_count": null,
   "metadata": {
    "collapsed": true
   },
   "outputs": [],
   "source": [
    "foo()"
   ]
  }
 ],
 "metadata": {
  "anaconda-cloud": {},
  "kernelspec": {
   "display_name": "Python 3",
   "language": "python",
   "name": "python3"
  },
  "language_info": {
   "codemirror_mode": {
    "name": "ipython",
    "version": 3
   },
   "file_extension": ".py",
   "mimetype": "text/x-python",
   "name": "python",
   "nbconvert_exporter": "python",
   "pygments_lexer": "ipython3",
   "version": "3.6.3"
  }
 },
 "nbformat": 4,
 "nbformat_minor": 1
}
