{
 "cells": [
  {
   "cell_type": "markdown",
   "metadata": {},
   "source": [
    "# Files\n",
    "\n",
    "# tempfile module\n",
    "- will create a valid unique temporary pathname on any OS"
   ]
  },
  {
   "cell_type": "code",
   "execution_count": 1,
   "metadata": {},
   "outputs": [
    {
     "data": {
      "text/plain": [
       "['/tmp/tmp71ioo2aj', '/tmp/tmptk765sql', False, False]"
      ]
     },
     "execution_count": 1,
     "metadata": {},
     "output_type": "execute_result"
    }
   ],
   "source": [
    "import os\n",
    "\n",
    "# module for making temp files\n",
    "import tempfile\n",
    "\n",
    "# does not create the file, just makes a pathname\n",
    "tp = tempfile.NamedTemporaryFile().name\n",
    "tp2 = tempfile.NamedTemporaryFile().name\n",
    "\n",
    "# os.path.exists(path) - True if file path exists\n",
    "\n",
    "[tp, tp2, os.path.exists(tp), os.path.exists(tp2)]"
   ]
  },
  {
   "cell_type": "markdown",
   "metadata": {},
   "source": [
    "# Getting file status"
   ]
  },
  {
   "cell_type": "code",
   "execution_count": null,
   "metadata": {
    "collapsed": true
   },
   "outputs": [],
   "source": [
    "# os.path.exists and os.access reports \n",
    "# file status without throwning errors\n",
    "# os.stat throws an error if the path doesn't exist. \n",
    "\n",
    "# this is similar to linux 'touch' command \n",
    "# make an empty file\n",
    "\n",
    "open(tp, 'w').close()\n",
    "\n",
    "def ac(p):\n",
    "    # can check exists, readable, writeable, executable\n",
    "    return([ os.access(p, m) \\\n",
    "    for m in [os.F_OK, os.R_OK, os.W_OK, os.X_OK] ])\n",
    "\n",
    "ac(tp)\n"
   ]
  },
  {
   "cell_type": "code",
   "execution_count": null,
   "metadata": {
    "collapsed": true
   },
   "outputs": [],
   "source": [
    "# last accessed time, last modified time\n",
    "\n",
    "[os.path.getatime(tp), os.path.getmtime(tp)]"
   ]
  },
  {
   "cell_type": "code",
   "execution_count": null,
   "metadata": {
    "collapsed": true
   },
   "outputs": [],
   "source": [
    "# does a path refer to a file or a directory?\n",
    "\n",
    "[os.path.isfile(tp), os.path.isdir(tp)]"
   ]
  },
  {
   "cell_type": "code",
   "execution_count": null,
   "metadata": {
    "collapsed": true
   },
   "outputs": [],
   "source": [
    "# gets several pieces of info in one call\n",
    "\n",
    "sr = os.stat(tp)\n",
    "sr"
   ]
  },
  {
   "cell_type": "code",
   "execution_count": null,
   "metadata": {
    "collapsed": true
   },
   "outputs": [],
   "source": [
    "# get attributes\n",
    "\n",
    "[sr.st_mode, sr.st_atime]"
   ]
  },
  {
   "cell_type": "code",
   "execution_count": null,
   "metadata": {
    "collapsed": true
   },
   "outputs": [],
   "source": [
    "# removes a file, but raises error if it doesn't exist\n",
    "\n",
    "os.remove(tp)\n",
    "ac(tp)"
   ]
  },
  {
   "cell_type": "code",
   "execution_count": null,
   "metadata": {
    "collapsed": true
   },
   "outputs": [],
   "source": [
    "# file is gone\n",
    "\n",
    "os.path.exists(tp)"
   ]
  },
  {
   "cell_type": "code",
   "execution_count": null,
   "metadata": {
    "collapsed": true
   },
   "outputs": [],
   "source": [
    "# stat gets upset and throws an error if the file doesn't exist\n",
    "\n",
    "os.stat(tp)"
   ]
  },
  {
   "cell_type": "code",
   "execution_count": null,
   "metadata": {
    "collapsed": true
   },
   "outputs": [],
   "source": [
    "# Returns list of files and dirs in a directory\n",
    "# can use isfile and isdir to figure out \n",
    "# which is which\n",
    "\n",
    "fds = os.listdir(os.path.expanduser('~/anaconda3'))\n",
    "fds"
   ]
  },
  {
   "cell_type": "markdown",
   "metadata": {},
   "source": [
    "# 'walk' - gets all the files and dirs under a start dir\n",
    "- very easy to use"
   ]
  },
  {
   "cell_type": "code",
   "execution_count": null,
   "metadata": {
    "collapsed": true
   },
   "outputs": [],
   "source": [
    "# returns a generator...\n",
    "\n",
    "e = os.path.expanduser('~/anaconda3/ssl')\n",
    "print(e)\n",
    "g = os.walk(e)\n",
    "g"
   ]
  },
  {
   "cell_type": "code",
   "execution_count": null,
   "metadata": {
    "collapsed": true
   },
   "outputs": [],
   "source": [
    "# each element from the walk generator \n",
    "# is a tuple (dirpath, dirs in dirpath, files in dir)\n",
    "\n",
    "[tup for tup in g]"
   ]
  },
  {
   "cell_type": "markdown",
   "metadata": {},
   "source": [
    "# open function\n",
    "- used to open files for reading and writing"
   ]
  },
  {
   "cell_type": "markdown",
   "metadata": {},
   "source": [
    "# Writing files \n",
    "- no automatic newlines"
   ]
  },
  {
   "cell_type": "code",
   "execution_count": null,
   "metadata": {
    "collapsed": true
   },
   "outputs": [],
   "source": [
    "# open file, write to file descriptor, close file descriptor\n",
    "# can be error prone - easy to forget to close. also, if there\n",
    "# is an error, the close call could be skipped\n",
    "# not closing file descriptors can cause a server to crash\n",
    "# 'w' is the 'open mode' - tells 'open' to \n",
    "# open the file for writing\n",
    "\n",
    "fd = open(tp, 'w')\n",
    "for e in ['one', 'two', 'three', 'four']:\n",
    "    fd.write(e + '\\n')\n",
    "fd.close()"
   ]
  },
  {
   "cell_type": "markdown",
   "metadata": {},
   "source": [
    "# with \n",
    "- 'with' is a 'context manager'\n",
    "- binds return value from open to 'fd'\n",
    "- note ':' and indenting defines a statement block over which 'fd' will be bound\n",
    "- 'with' will automatically close the file when the 'with' block is exited, even if by error"
   ]
  },
  {
   "cell_type": "code",
   "execution_count": null,
   "metadata": {
    "collapsed": true
   },
   "outputs": [],
   "source": [
    "with open(tp, 'w') as fd:\n",
    "    for e in ['one', 'two', 'three', 'four']:\n",
    "        fd.write(e + '\\n')"
   ]
  },
  {
   "cell_type": "code",
   "execution_count": null,
   "metadata": {
    "collapsed": true
   },
   "outputs": [],
   "source": [
    "# could do one write with join\n",
    "\n",
    "with open(tp, 'w') as fd:\n",
    "    fd.write('\\n'.join(['one', 'two', 'three', 'four']))"
   ]
  },
  {
   "cell_type": "code",
   "execution_count": null,
   "metadata": {
    "collapsed": true
   },
   "outputs": [],
   "source": [
    "# or write out the string with newlines\n",
    "\n",
    "with open(tp, 'w') as fd:\n",
    "    fd.write(\"one\\ntwo\\nthree\\nfour\\n\")"
   ]
  },
  {
   "cell_type": "code",
   "execution_count": null,
   "metadata": {
    "collapsed": true
   },
   "outputs": [],
   "source": [
    "# before append\n",
    "\n",
    "os.stat(tp)"
   ]
  },
  {
   "cell_type": "code",
   "execution_count": null,
   "metadata": {
    "collapsed": true
   },
   "outputs": [],
   "source": [
    "# can append(open mode 'a') to an existing file\n",
    "\n",
    "with open(tp, 'a') as f:\n",
    "    for l in ['five', 'six']:\n",
    "        f.write(l + '\\n')"
   ]
  },
  {
   "cell_type": "code",
   "execution_count": null,
   "metadata": {
    "collapsed": true
   },
   "outputs": [],
   "source": [
    "# file is longer now\n",
    "\n",
    "os.stat(tp)"
   ]
  },
  {
   "cell_type": "markdown",
   "metadata": {},
   "source": [
    "# print function output can goto a file"
   ]
  },
  {
   "cell_type": "code",
   "execution_count": null,
   "metadata": {
    "collapsed": true
   },
   "outputs": [],
   "source": [
    "\n",
    "with open(tp2, \"w\") as f:\n",
    "    print(1,2,3,4, sep='\\n', file=f)\n",
    "\n",
    "with open(tp2, 'r') as f:\n",
    "    print(f.read())"
   ]
  },
  {
   "cell_type": "markdown",
   "metadata": {},
   "source": [
    "# Reading files - eager\n",
    "- read the entire file immediately"
   ]
  },
  {
   "cell_type": "code",
   "execution_count": null,
   "metadata": {
    "collapsed": true
   },
   "outputs": [],
   "source": [
    "# eager read - read the entire file into one string\n",
    "# 'r' tells 'open' to open the file for reading\n",
    "\n",
    "with open(tp, 'r') as fd:    \n",
    "    print(fd.read())"
   ]
  },
  {
   "cell_type": "code",
   "execution_count": 2,
   "metadata": {},
   "outputs": [
    {
     "ename": "FileNotFoundError",
     "evalue": "[Errno 2] No such file or directory: '/tmp/tmp71ioo2aj'",
     "output_type": "error",
     "traceback": [
      "\u001b[0;31m---------------------------------------------------------------------------\u001b[0m",
      "\u001b[0;31mFileNotFoundError\u001b[0m                         Traceback (most recent call last)",
      "\u001b[0;32m<ipython-input-2-63a86ed416ae>\u001b[0m in \u001b[0;36m<module>\u001b[0;34m()\u001b[0m\n\u001b[1;32m      1\u001b[0m \u001b[0;31m# eager read - get a list of all the lines\u001b[0m\u001b[0;34m\u001b[0m\u001b[0;34m\u001b[0m\u001b[0m\n\u001b[1;32m      2\u001b[0m \u001b[0;34m\u001b[0m\u001b[0m\n\u001b[0;32m----> 3\u001b[0;31m \u001b[0;32mwith\u001b[0m \u001b[0mopen\u001b[0m\u001b[0;34m(\u001b[0m\u001b[0mtp\u001b[0m\u001b[0;34m,\u001b[0m\u001b[0;34m'r'\u001b[0m\u001b[0;34m)\u001b[0m \u001b[0;32mas\u001b[0m \u001b[0mfd\u001b[0m\u001b[0;34m:\u001b[0m\u001b[0;34m\u001b[0m\u001b[0m\n\u001b[0m\u001b[1;32m      4\u001b[0m     \u001b[0mprint\u001b[0m\u001b[0;34m(\u001b[0m\u001b[0mfd\u001b[0m\u001b[0;34m.\u001b[0m\u001b[0mreadlines\u001b[0m\u001b[0;34m(\u001b[0m\u001b[0;34m)\u001b[0m\u001b[0;34m)\u001b[0m\u001b[0;34m\u001b[0m\u001b[0m\n",
      "\u001b[0;31mFileNotFoundError\u001b[0m: [Errno 2] No such file or directory: '/tmp/tmp71ioo2aj'"
     ]
    }
   ],
   "source": [
    "# eager read - get a list of all the lines \n",
    "\n",
    "with open(tp,'r') as fd:\n",
    "    print(fd.readlines())"
   ]
  },
  {
   "cell_type": "markdown",
   "metadata": {},
   "source": [
    "# Reading files - lazy\n",
    "- suppose you are looking for a substring in a huge unsorted file of text lines\n",
    "    - lazy read probably wins\n",
    "    - don't have to read in entire file before you can start searching\n",
    "    - don't have to allocate memory to hold the whole file\n",
    "    - once you find the substring, you don't have to read the rest of the file"
   ]
  },
  {
   "cell_type": "code",
   "execution_count": null,
   "metadata": {
    "collapsed": true
   },
   "outputs": [],
   "source": [
    "# read one line at a time \n",
    "\n",
    "with open(tp, 'r') as fd:\n",
    "    while True:\n",
    "        x = fd.readline()\n",
    "        # returns empty string when finished\n",
    "        if x == '':\n",
    "            break;\n",
    "        print(x)"
   ]
  },
  {
   "cell_type": "code",
   "execution_count": null,
   "metadata": {
    "collapsed": true
   },
   "outputs": [],
   "source": [
    "# note double spacing\n",
    "# each line in the file has a newline,  \n",
    "# plus print is adding one\n",
    "# can turn off the print newline \n",
    "# with keyword arg 'end'\n",
    "\n",
    "with open(tp, 'r') as fd:\n",
    "    while True:\n",
    "        x = fd.readline()\n",
    "        # returns empty string when finished\n",
    "        if x == '':\n",
    "            break;\n",
    "        print(x, end='')"
   ]
  },
  {
   "cell_type": "code",
   "execution_count": null,
   "metadata": {
    "collapsed": true
   },
   "outputs": [],
   "source": [
    "fd = open(tp, 'r')\n",
    "fd"
   ]
  },
  {
   "cell_type": "code",
   "execution_count": null,
   "metadata": {
    "collapsed": true
   },
   "outputs": [],
   "source": [
    "# a file descriptor is an iterator \n",
    "# over the file lines\n",
    "\n",
    "[fd, iter(fd), fd is iter(fd)]"
   ]
  },
  {
   "cell_type": "code",
   "execution_count": null,
   "metadata": {
    "collapsed": true
   },
   "outputs": [],
   "source": [
    "next(fd)"
   ]
  },
  {
   "cell_type": "code",
   "execution_count": null,
   "metadata": {
    "collapsed": true
   },
   "outputs": [],
   "source": [
    "# don't have to finish iterator...\n",
    "\n",
    "next(fd)"
   ]
  },
  {
   "cell_type": "code",
   "execution_count": null,
   "metadata": {
    "collapsed": true
   },
   "outputs": [],
   "source": [
    "# note with readline and readlines \n",
    "# each line has a trailing '\\n', \n",
    "# which you usually don't want\n",
    "# use strip() to remove\n",
    "# can this cause a problem?\n",
    "\n",
    "'one\\n'.strip()"
   ]
  },
  {
   "cell_type": "code",
   "execution_count": null,
   "metadata": {
    "collapsed": true
   },
   "outputs": [],
   "source": [
    "# read N chars at a time\n",
    "\n",
    "with open(tp, 'r')  as f:\n",
    "    while True:\n",
    "        s = f.read(3)\n",
    "        if s == '':\n",
    "            break;\n",
    "        print(s)\n",
    "        "
   ]
  },
  {
   "cell_type": "code",
   "execution_count": null,
   "metadata": {
    "collapsed": true
   },
   "outputs": [],
   "source": [
    "# ... or can finish iterator later on\n",
    "\n",
    "[next(fd), next(fd), next(fd), next(fd)]"
   ]
  },
  {
   "cell_type": "markdown",
   "metadata": {},
   "source": [
    "# Can do I/O in unicode or binary\n",
    "- 'open' defaults to 'str' (unicode)\n",
    "- pass 'b' flag to 'open' for 'bytes'(binary)\n"
   ]
  },
  {
   "cell_type": "code",
   "execution_count": null,
   "metadata": {
    "collapsed": true
   },
   "outputs": [],
   "source": [
    "uni = '\\U00002119\\u01b4\\u2602\\u210c\\xf8\\u1f24'\n",
    "\n",
    "utf8, utf16, utf32 = [uni.encode(et) \\\n",
    "                      for et in \\\n",
    "                      ['utf-8', 'utf-16', 'utf-32']]\n",
    "\n",
    "[uni, utf8, utf16, utf32]"
   ]
  },
  {
   "cell_type": "code",
   "execution_count": null,
   "metadata": {
    "collapsed": true
   },
   "outputs": [],
   "source": [
    "# won't work - file stream expects a\n",
    "# 'str' by default, but utf32 is type 'bytes'\n",
    "\n",
    "import tempfile\n",
    "\n",
    "path = tempfile.NamedTemporaryFile().name\n",
    "\n",
    "with open(path, \"w\") as f:\n",
    "    f.write(utf32)"
   ]
  },
  {
   "cell_type": "code",
   "execution_count": null,
   "metadata": {
    "collapsed": true
   },
   "outputs": [],
   "source": [
    "# make a binary stream by adding 'b' flag to 'open'\n",
    "\n",
    "with open(path, 'bw') as f:\n",
    "    f.write(utf32)"
   ]
  },
  {
   "cell_type": "code",
   "execution_count": null,
   "metadata": {
    "collapsed": true
   },
   "outputs": [],
   "source": [
    "#  reading in 'str' mode defaults to utf-8, \n",
    "# but the file we wrote is utf-32\n",
    "# so, this read fails\n",
    "\n",
    "# but, somethimes if you give open the \n",
    "# wrong encoding, it will read\n",
    "# w/o error and give you garbage!\n",
    "\n",
    "with open(path, \"r\") as f:\n",
    "    print(f.read())"
   ]
  },
  {
   "cell_type": "code",
   "execution_count": null,
   "metadata": {
    "collapsed": true
   },
   "outputs": [],
   "source": [
    "# tell 'open' the right unicode encoding\n",
    "\n",
    "with open(path, \"r\" , encoding='utf-32') as f:\n",
    "    print(f.read())"
   ]
  },
  {
   "cell_type": "code",
   "execution_count": null,
   "metadata": {
    "collapsed": true
   },
   "outputs": [],
   "source": [
    "# can read file bytes\n",
    "\n",
    "with open(path, \"rb\") as f:\n",
    "    b = f.read()\n",
    "b"
   ]
  },
  {
   "cell_type": "code",
   "execution_count": null,
   "metadata": {
    "collapsed": true
   },
   "outputs": [],
   "source": [
    "utf32"
   ]
  },
  {
   "cell_type": "markdown",
   "metadata": {},
   "source": [
    "# In memory \"files\"\n",
    "- very useful \n",
    "- [doc](https://docs.python.org/3.5/library/io.html#io.StringIO)"
   ]
  },
  {
   "cell_type": "code",
   "execution_count": null,
   "metadata": {
    "collapsed": true
   },
   "outputs": [],
   "source": [
    "import io\n",
    "\n",
    "ios = io.StringIO()\n",
    "\n",
    "print('one', file=ios)\n",
    "ios.write('two')\n",
    "\n",
    "ios.getvalue()"
   ]
  },
  {
   "cell_type": "code",
   "execution_count": null,
   "metadata": {
    "collapsed": true
   },
   "outputs": [],
   "source": [
    "ios = io.StringIO('asdfasdf')\n",
    "\n",
    "ios.read()"
   ]
  },
  {
   "cell_type": "markdown",
   "metadata": {},
   "source": [
    "\n",
    "# shutil module \n",
    "- move, copy, delete file trees\n",
    "- [doc](https://docs.python.org/3.5/library/shutil.html)\n",
    "\n",
    "# glob - linux style filename matching\n",
    "- [doc](https://docs.python.org/3.5/library/glob.html)\n",
    "\n",
    "# modules that R/W archive formats, like zip and tar\n",
    "- [doc](https://docs.python.org/3.5/library/archiving.html)\n"
   ]
  },
  {
   "cell_type": "code",
   "execution_count": null,
   "metadata": {
    "collapsed": true
   },
   "outputs": [],
   "source": []
  }
 ],
 "metadata": {
  "anaconda-cloud": {},
  "kernelspec": {
   "display_name": "Python 3",
   "language": "python",
   "name": "python3"
  },
  "language_info": {
   "codemirror_mode": {
    "name": "ipython",
    "version": 3
   },
   "file_extension": ".py",
   "mimetype": "text/x-python",
   "name": "python",
   "nbconvert_exporter": "python",
   "pygments_lexer": "ipython3",
   "version": "3.6.3"
  }
 },
 "nbformat": 4,
 "nbformat_minor": 1
}
