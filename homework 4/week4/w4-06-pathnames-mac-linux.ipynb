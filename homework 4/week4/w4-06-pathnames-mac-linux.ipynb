{
 "cells": [
  {
   "cell_type": "markdown",
   "metadata": {},
   "source": [
    "# Pathname manipulation\n",
    "- This notebook was authored on a Mac\n",
    "    - Linux should work the same way\n",
    "    - There is a separate notebook for Windows\n",
    "- os.path module has useful functions\n",
    "- [doc](https://docs.python.org/3.5/library/os.path.html)"
   ]
  },
  {
   "cell_type": "code",
   "execution_count": null,
   "metadata": {},
   "outputs": [],
   "source": [
    "# module with helpful pathname functions\n",
    "\n",
    "import os\n",
    "\n",
    "# string that separates components of a pathname\n",
    "# different on windows\n",
    "\n",
    "os.sep"
   ]
  },
  {
   "cell_type": "code",
   "execution_count": null,
   "metadata": {},
   "outputs": [],
   "source": [
    "# Most pathname functions will NOT expand '~'\n",
    "# use os.path.expanduser\n",
    "\n",
    "import os\n",
    "\n",
    "ep = os.path.expanduser('~/foo/bar/zap.txt')\n",
    "ep"
   ]
  },
  {
   "cell_type": "code",
   "execution_count": null,
   "metadata": {},
   "outputs": [],
   "source": [
    "# get pieces of paths\n",
    "\n",
    "[os.path.split(ep), os.path.splitext(ep)]"
   ]
  },
  {
   "cell_type": "code",
   "execution_count": null,
   "metadata": {},
   "outputs": [],
   "source": [
    "# put paths together\n",
    "\n",
    "os.path.join('/Users', 'lstead', 'foo/', 'bar', 'zap.txt')"
   ]
  },
  {
   "cell_type": "code",
   "execution_count": null,
   "metadata": {},
   "outputs": [],
   "source": [
    "# leading /  on foo eliminates components on the left\n",
    "\n",
    "os.path.join('/Users', 'lstead', '/foo', 'bar', 'zap.txt')"
   ]
  }
 ],
 "metadata": {
  "anaconda-cloud": {},
  "kernelspec": {
   "display_name": "Python 3",
   "language": "python",
   "name": "python3"
  },
  "language_info": {
   "codemirror_mode": {
    "name": "ipython",
    "version": 3
   },
   "file_extension": ".py",
   "mimetype": "text/x-python",
   "name": "python",
   "nbconvert_exporter": "python",
   "pygments_lexer": "ipython3",
   "version": "3.6.3"
  }
 },
 "nbformat": 4,
 "nbformat_minor": 1
}
