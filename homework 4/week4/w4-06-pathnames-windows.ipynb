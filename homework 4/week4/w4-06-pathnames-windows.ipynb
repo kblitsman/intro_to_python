{
 "cells": [
  {
   "cell_type": "markdown",
   "metadata": {},
   "source": [
    "# Pathname manipulation\n",
    "- This notebook was authored on Windows\n",
    "- os.path module has useful functions\n",
    "- [doc](https://docs.python.org/3.5/library/os.path.html)"
   ]
  },
  {
   "cell_type": "code",
   "execution_count": 1,
   "metadata": {
    "collapsed": true
   },
   "outputs": [],
   "source": [
    "import tempfile as tf\n",
    "import os"
   ]
  },
  {
   "cell_type": "code",
   "execution_count": 23,
   "metadata": {},
   "outputs": [
    {
     "data": {
      "text/plain": [
       "'\\\\'"
      ]
     },
     "execution_count": 23,
     "metadata": {},
     "output_type": "execute_result"
    }
   ],
   "source": [
    "# module with helpful pathname functions\n",
    "\n",
    "import os\n",
    "\n",
    "# string that separates components of a pathname\n",
    "# different on mac/linux\n",
    "\n",
    "# since '\\' is an escape char in a Python string,\n",
    "# need '\\\\' to represent a single '\\', which\n",
    "# makes windows paths a little clunky\n",
    "\n",
    "os.sep"
   ]
  },
  {
   "cell_type": "code",
   "execution_count": 25,
   "metadata": {},
   "outputs": [
    {
     "data": {
      "text/plain": [
       "'C:\\\\Users\\\\lss2168/foo/bar/zap.txt'"
      ]
     },
     "execution_count": 25,
     "metadata": {},
     "output_type": "execute_result"
    }
   ],
   "source": [
    "# Most pathname functions will NOT expand '~'\n",
    "# use os.path.expanduser\n",
    "\n",
    "import os\n",
    "\n",
    "ep = os.path.expanduser('~/foo/bar/zap.txt')\n",
    "ep"
   ]
  },
  {
   "cell_type": "code",
   "execution_count": 26,
   "metadata": {},
   "outputs": [
    {
     "data": {
      "text/plain": [
       "'C:\\\\Users\\\\lss2168\\\\foo\\\\bar\\\\zap.txt'"
      ]
     },
     "execution_count": 26,
     "metadata": {},
     "output_type": "execute_result"
    }
   ],
   "source": [
    "# will make path consistent\n",
    "\n",
    "os.path.normpath(ep)"
   ]
  },
  {
   "cell_type": "code",
   "execution_count": 27,
   "metadata": {},
   "outputs": [
    {
     "data": {
      "text/plain": [
       "'C:\\\\Users\\\\lss2168\\\\AppData\\\\Local\\\\Temp\\\\2\\\\tmplofwt2sp'"
      ]
     },
     "execution_count": 27,
     "metadata": {},
     "output_type": "execute_result"
    }
   ],
   "source": [
    "# will make a temp file in a system appropriate place\n",
    "\n",
    "tmp = tf.NamedTemporaryFile().name\n",
    "tmp"
   ]
  },
  {
   "cell_type": "code",
   "execution_count": 29,
   "metadata": {},
   "outputs": [
    {
     "data": {
      "text/plain": [
       "('C:\\\\Users\\\\lss2168\\\\AppData\\\\Local\\\\Temp\\\\2', 'tmplofwt2sp')"
      ]
     },
     "execution_count": 29,
     "metadata": {},
     "output_type": "execute_result"
    }
   ],
   "source": [
    "os.path.split(tmp)"
   ]
  },
  {
   "cell_type": "code",
   "execution_count": 30,
   "metadata": {},
   "outputs": [
    {
     "data": {
      "text/plain": [
       "True"
      ]
     },
     "execution_count": 30,
     "metadata": {},
     "output_type": "execute_result"
    }
   ],
   "source": [
    "os.path.isdir('c:/Users/lss2168')"
   ]
  },
  {
   "cell_type": "code",
   "execution_count": 31,
   "metadata": {},
   "outputs": [
    {
     "data": {
      "text/plain": [
       "'c:\\\\Users\\\\lss2168'"
      ]
     },
     "execution_count": 31,
     "metadata": {},
     "output_type": "execute_result"
    }
   ],
   "source": [
    "os.path.normpath('c:/Users/lss2168')"
   ]
  },
  {
   "cell_type": "code",
   "execution_count": 37,
   "metadata": {},
   "outputs": [],
   "source": [
    "# can use forward '/' paths...\n",
    "\n",
    "with open('/Users/lss2168/foo', 'w') as fd:\n",
    "    fd.write('asdf\\n')"
   ]
  },
  {
   "cell_type": "code",
   "execution_count": 38,
   "metadata": {},
   "outputs": [
    {
     "name": "stdout",
     "output_type": "stream",
     "text": [
      "asdf\n",
      "\n"
     ]
    }
   ],
   "source": [
    "# or windows '\\' paths...\n",
    "\n",
    "with open('\\\\Users\\\\lss2168\\\\foo', 'r') as fd:\n",
    "    print(fd.read())"
   ]
  },
  {
   "cell_type": "code",
   "execution_count": 39,
   "metadata": {},
   "outputs": [
    {
     "name": "stdout",
     "output_type": "stream",
     "text": [
      "asdf\n",
      "\n"
     ]
    }
   ],
   "source": [
    "# add 'c:'\n",
    "\n",
    "with open('c:/Users/lss2168/foo', 'r') as fd:\n",
    "    print(fd.read())"
   ]
  }
 ],
 "metadata": {
  "anaconda-cloud": {},
  "kernelspec": {
   "display_name": "Python 3",
   "language": "python",
   "name": "python3"
  },
  "language_info": {
   "codemirror_mode": {
    "name": "ipython",
    "version": 3
   },
   "file_extension": ".py",
   "mimetype": "text/x-python",
   "name": "python",
   "nbconvert_exporter": "python",
   "pygments_lexer": "ipython3",
   "version": "3.6.3"
  }
 },
 "nbformat": 4,
 "nbformat_minor": 1
}
